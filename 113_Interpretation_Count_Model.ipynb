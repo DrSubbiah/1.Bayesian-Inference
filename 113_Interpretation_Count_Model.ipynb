{
  "nbformat": 4,
  "nbformat_minor": 0,
  "metadata": {
    "colab": {
      "provenance": [],
      "include_colab_link": true
    },
    "kernelspec": {
      "name": "python3",
      "display_name": "Python 3"
    },
    "language_info": {
      "name": "python"
    }
  },
  "cells": [
    {
      "cell_type": "markdown",
      "metadata": {
        "id": "view-in-github",
        "colab_type": "text"
      },
      "source": [
        "<a href=\"https://colab.research.google.com/github/DrSubbiah/1.Bayesian-Inference/blob/master/113_Interpretation_Count_Model.ipynb\" target=\"_parent\"><img src=\"https://colab.research.google.com/assets/colab-badge.svg\" alt=\"Open In Colab\"/></a>"
      ]
    },
    {
      "cell_type": "markdown",
      "source": [
        "# <font color=\"darkblue\">Binary Data Model"
      ],
      "metadata": {
        "id": "XlUc5i8MuNiz"
      }
    },
    {
      "cell_type": "code",
      "metadata": {
        "id": "UDzJwyIZdo5d"
      },
      "source": [
        "import numpy as np\n",
        "import pandas as pd\n",
        "import statistics as stat\n",
        "import scipy\n",
        "import pystan"
      ],
      "execution_count": null,
      "outputs": []
    },
    {
      "cell_type": "code",
      "source": [
        "#For plots\n",
        "import arviz as az\n",
        "import matplotlib.pyplot as plt"
      ],
      "metadata": {
        "id": "GZVS5yLEzsho"
      },
      "execution_count": null,
      "outputs": []
    },
    {
      "cell_type": "markdown",
      "source": [
        "#<font color=\"darkblue\"> Loading Data"
      ],
      "metadata": {
        "id": "oTAaS7BCvrOK"
      }
    },
    {
      "cell_type": "code",
      "source": [
        "from google.colab import drive\n",
        "drive.mount('/content/drive')"
      ],
      "metadata": {
        "id": "r2OBfEcUrmIf",
        "colab": {
          "base_uri": "https://localhost:8080/"
        },
        "outputId": "61f59414-536a-4c70-a6aa-8436ea43dc68"
      },
      "execution_count": null,
      "outputs": [
        {
          "output_type": "stream",
          "name": "stdout",
          "text": [
            "Mounted at /content/drive\n"
          ]
        }
      ]
    },
    {
      "cell_type": "code",
      "source": [
        "path = \"/content/drive/MyDrive/Data Sets/Churn.csv\"\n",
        "custcarecal_da = pd.read_csv(path)"
      ],
      "metadata": {
        "id": "aAMvPAg5osYd"
      },
      "execution_count": null,
      "outputs": []
    },
    {
      "cell_type": "code",
      "source": [
        "custcarecal_da"
      ],
      "metadata": {
        "id": "xHioRCj_qRic"
      },
      "execution_count": null,
      "outputs": []
    },
    {
      "cell_type": "code",
      "source": [
        "custcarecal_da.columns"
      ],
      "metadata": {
        "colab": {
          "base_uri": "https://localhost:8080/"
        },
        "id": "G2uxwdvKI3Ot",
        "outputId": "0abbc651-34d8-42a7-f2aa-96bb16397d0a"
      },
      "execution_count": null,
      "outputs": [
        {
          "output_type": "execute_result",
          "data": {
            "text/plain": [
              "Index(['State', 'AccountLength', 'AreaCode', 'Phone', 'IntlPlan', 'VMailPlan',\n",
              "       'VMailMessage', 'DayMins', 'DayCalls', 'DayCharge', 'EveMins',\n",
              "       'EveCalls', 'EveCharge', 'NightMins', 'NightCalls', 'NightCharge',\n",
              "       'IntlMins', 'IntlCalls', 'IntlCharge', 'CustServCalls', 'Churn',\n",
              "       'Unnamed: 21', 'Unnamed: 22'],\n",
              "      dtype='object')"
            ]
          },
          "metadata": {},
          "execution_count": 6
        }
      ]
    },
    {
      "cell_type": "markdown",
      "source": [
        "# <font color=\"darkblue\"> Quantity of Interest QoI\n",
        "\n",
        "- In this data set, QoI is *CustServCalls*, number of calls made by a customer\n",
        "\n",
        "- A count variable whose range may be $[0,\\infty)$\n",
        "\n",
        "- Interest is to **estimate** the mean number of calls made by the customer population from the **sample** data\n",
        "\n",
        "- This may be done without any predictors as a step to summarize the behaviour of QoI\n",
        "\n",
        "- However, an explantory model may validate any question / uncertainty about the QoI and associations (if any) with predictors\n",
        "\n",
        "- As usual, it is better to know the nature of the variable to make appropriate summary measures and modeling procedures"
      ],
      "metadata": {
        "id": "B9Xnw6nIdagx"
      }
    },
    {
      "cell_type": "code",
      "source": [
        "val_QoI=custcarecal_da.CustServCalls.unique()\n",
        "val_QoI.sort()\n",
        "print(val_QoI)"
      ],
      "metadata": {
        "colab": {
          "base_uri": "https://localhost:8080/"
        },
        "id": "40g8tD_rOysP",
        "outputId": "877b92cc-c3e8-4754-ed42-ba620388eef5"
      },
      "execution_count": null,
      "outputs": [
        {
          "output_type": "stream",
          "name": "stdout",
          "text": [
            "[0 1 2 3 4 5 6 7 8 9]\n"
          ]
        }
      ]
    },
    {
      "cell_type": "code",
      "source": [
        "custcarecal_da.CustServCalls.value_counts()"
      ],
      "metadata": {
        "colab": {
          "base_uri": "https://localhost:8080/"
        },
        "id": "olBRehv3WiAL",
        "outputId": "7ec95af3-74db-4022-f8c4-94db14ba3dd2"
      },
      "execution_count": null,
      "outputs": [
        {
          "output_type": "execute_result",
          "data": {
            "text/plain": [
              "1    1181\n",
              "2     759\n",
              "0     697\n",
              "3     429\n",
              "4     166\n",
              "5      66\n",
              "6      22\n",
              "7       9\n",
              "9       2\n",
              "8       2\n",
              "Name: CustServCalls, dtype: int64"
            ]
          },
          "metadata": {},
          "execution_count": 47
        }
      ]
    },
    {
      "cell_type": "markdown",
      "source": [
        "# <font color=\"darkblue\"> Bayesian Model\n",
        "\n",
        "$$Y \\sim \\mathrm{Poisson}(\\theta)$$\n",
        "\n",
        "$$\\theta \\sim \\mathrm{Gamma}(a,b)$$\n",
        "\n",
        "## <font color=\"darkred\">**About STAN convention**\n",
        "\n",
        "PDF of Gamma distribution is (Relating $\\theta$)\n",
        "\n",
        "$$p(\\theta)=\\frac{b^a}{\\Gamma(a)}\\theta^{a-1}e^{-b\\theta}$$ where $\\theta>0$ and $a,b>0$\n",
        "\n",
        "- Mean $=\\frac{a}{b}$\n",
        "\n",
        "- Variance $=\\frac{a}{b^2}$\n",
        "\n",
        "## <font color=\"darkgreen\"> About Prior Parameters\n",
        "\n",
        "If we want to assign a uniform distribution on $\\theta$ then $a=1,b\\rightarrow 0$. This leads to an **Improper Prior**; parameter is Uniform in an unbounded interval\n",
        "\n",
        "Informally, $$\\theta \\sim \\mathrm{Uniform}(0,\\infty)$$\n",
        "\n",
        "Recall, PDF of Continuous Uniform distribution is\n",
        "\n",
        "$$f(x)=\\frac{1}{H-L}$$ where $L<x<H$\n",
        "\n",
        "## <font color=\"darkred\">**About scipy.gamma convention**\n",
        "\n",
        "To generate few Gamma distributions to visually understand the shape of prior choices\n",
        "\n",
        "[Gamma_Scipy](https://docs.scipy.org/doc/scipy/reference/generated/scipy.stats.gamma.html)\n",
        "\n",
        "$$p(\\theta)=\\frac{1}{\\Gamma(a)s^a}\\theta^{a-1}e^{-\\frac{\\theta}{s}}$$ where $\\theta>0$ and $a,s=\\frac{1}{\\beta}>0$\n",
        "\n",
        "- gamma.pdf(x, a, loc, scale)\n",
        "\n",
        "- scale $(s)=\\frac{1}{\\beta}$\n",
        "\n",
        "- Mean $=a*\\mathrm{scale}$\n",
        "\n",
        "- Variance $=a*\\mathrm{scale}^2$\n",
        "\n",
        "## <font color=\"darkgreen\"> Prior Parameters - Using Informed Guess\n",
        "\n",
        "We assume a prior mean as 2 with variance 10 then using the above formula it is possible to find values for a and b\n",
        "\n",
        "**STAN convention**\n",
        "\n",
        "$$\\frac{a}{b}=2$$\n",
        "\n",
        "$$\\frac{a}{b^2}=10$$\n",
        "\n",
        "Second relation yields\n",
        "\n",
        "$$\\frac{a}{b}\\frac{1}{b}=10$$\n",
        "\n",
        "$$\\implies 2\\frac{1}{b}=10$$\n",
        "\n",
        "$$\\implies b=0.2$$ and hence, from the first relation\n",
        "\n",
        "$$a=0.4$$\n",
        "\n",
        "\n",
        "**Scipy convention**\n",
        "\n",
        "$$a=0.4, s=5$$\n"
      ],
      "metadata": {
        "id": "uRCsTxSwe5N0"
      }
    },
    {
      "cell_type": "code",
      "source": [
        "from scipy.stats import gamma\n",
        "G1=gamma.rvs(a=0.4, loc=0, scale=5,size=1000)\n",
        "np.mean(G1)"
      ],
      "metadata": {
        "colab": {
          "base_uri": "https://localhost:8080/"
        },
        "id": "u_WFxkR6i9WU",
        "outputId": "b4896c8a-e9cb-41b2-9be6-c9597afc5e9f"
      },
      "execution_count": null,
      "outputs": [
        {
          "output_type": "execute_result",
          "data": {
            "text/plain": [
              "1.9873089091434017"
            ]
          },
          "metadata": {},
          "execution_count": 102
        }
      ]
    },
    {
      "cell_type": "code",
      "source": [
        "fig,ax = plt.subplots(1,1)\n",
        "ax.hist(G1)\n",
        "plt.show()"
      ],
      "metadata": {
        "id": "NZ1TYqsBlaak"
      },
      "execution_count": null,
      "outputs": []
    },
    {
      "cell_type": "code",
      "metadata": {
        "id": "7biE-f55jhxB",
        "colab": {
          "base_uri": "https://localhost:8080/"
        },
        "outputId": "f7b5f22d-cb36-4fcb-f5f1-8b728d3f93ab"
      },
      "source": [
        "custcarecal_code1 = \"\"\"\n",
        "data {\n",
        "    real<lower=0> a;\n",
        "    real<lower=0> b;\n",
        "    int<lower=0> k;\n",
        "    int y[k];\n",
        "}\n",
        "\n",
        "parameters {\n",
        "    real<lower=0> theta;\n",
        "}\n",
        "\n",
        "\n",
        "model {\n",
        "      y ~ poisson(theta);\n",
        "      theta ~ gamma(a, b);\n",
        "}\n",
        "\"\"\"\n",
        "# posterior\n",
        "posterior1 = pystan.StanModel(model_code=custcarecal_code1)"
      ],
      "execution_count": null,
      "outputs": [
        {
          "output_type": "stream",
          "name": "stderr",
          "text": [
            "INFO:pystan:COMPILING THE C++ CODE FOR MODEL anon_model_2e8ffcea51cbb9b36bdb27ee8788cd9d NOW.\n"
          ]
        }
      ]
    },
    {
      "cell_type": "code",
      "metadata": {
        "id": "M1pt1pa2hzfB"
      },
      "source": [
        "n=len(custcarecal_da)\n",
        "custcarecal_data = {\n",
        "             'k':n,\n",
        "             'y':custcarecal_da['CustServCalls'],\n",
        "             'a':0.4,\n",
        "             'b':0.2,\n",
        "            }\n",
        "print(custcarecal_data)"
      ],
      "execution_count": null,
      "outputs": []
    },
    {
      "cell_type": "code",
      "source": [
        "fit_model1= posterior1.sampling(data=custcarecal_data,\n",
        "                  iter=10000,\n",
        "                  chains=4,\n",
        "                  seed=1,\n",
        "                  warmup=3000,\n",
        "                  thin=1,\n",
        "                  control={\"max_treedepth\":15,\"adapt_delta\" : 0.9999})"
      ],
      "metadata": {
        "id": "o17TSGH8HjJ3"
      },
      "execution_count": null,
      "outputs": []
    },
    {
      "cell_type": "markdown",
      "source": [
        "#<font color=\"darkorange\"> MCMC convergence Diagnostics - Plots"
      ],
      "metadata": {
        "id": "l10XnuELznht"
      }
    },
    {
      "cell_type": "code",
      "metadata": {
        "id": "lbiFtqGB692X"
      },
      "source": [
        "az.plot_trace(fit_model1, compact=False,legend=True)\n",
        "plt.show()"
      ],
      "execution_count": null,
      "outputs": []
    },
    {
      "cell_type": "markdown",
      "source": [
        "# <font color=\"darkorange\"> Condensed Summary Report"
      ],
      "metadata": {
        "id": "u8DMIhzs8cvT"
      }
    },
    {
      "cell_type": "code",
      "metadata": {
        "id": "XIvXtZPer6e-"
      },
      "source": [
        "summ_mod1=az.summary(fit_model1,round_to=3,hdi_prob=0.95)\n",
        "summ_mod1"
      ],
      "execution_count": null,
      "outputs": []
    },
    {
      "cell_type": "markdown",
      "source": [
        "# <font color=\"darkblue\"> Model 2: Uniform prior on $\\theta$"
      ],
      "metadata": {
        "id": "McxKJexZWoPl"
      }
    },
    {
      "cell_type": "code",
      "metadata": {
        "colab": {
          "base_uri": "https://localhost:8080/"
        },
        "outputId": "debf25ee-8545-4a38-f8b0-9a662dadf157",
        "id": "FtYYmYJ5VO3m"
      },
      "source": [
        "custcarecal_code2 = \"\"\"\n",
        "data {\n",
        "    real<lower=0> L;\n",
        "    real<lower=0> H;\n",
        "    int<lower=0> k;\n",
        "    int y[k];\n",
        "}\n",
        "\n",
        "parameters {\n",
        "    real<lower=0> theta;\n",
        "}\n",
        "\n",
        "\n",
        "model {\n",
        "      y ~ poisson(theta);\n",
        "      theta ~ uniform(L, H);\n",
        "}\n",
        "\"\"\"\n",
        "# posterior\n",
        "posterior2 = pystan.StanModel(model_code=custcarecal_code2)"
      ],
      "execution_count": null,
      "outputs": [
        {
          "output_type": "stream",
          "name": "stderr",
          "text": [
            "INFO:pystan:COMPILING THE C++ CODE FOR MODEL anon_model_364b05bee5bb28c63778bd5f63d59780 NOW.\n"
          ]
        }
      ]
    },
    {
      "cell_type": "code",
      "metadata": {
        "id": "yGCIgMXOW_Nf"
      },
      "source": [
        "n=len(custcarecal_da)\n",
        "custcarecal_data2 = {\n",
        "             'k':n,\n",
        "             'y':custcarecal_da['CustServCalls'],\n",
        "             'L':1,\n",
        "             'H':10,\n",
        "            }\n",
        "print(custcarecal_data2)"
      ],
      "execution_count": null,
      "outputs": []
    },
    {
      "cell_type": "code",
      "source": [
        "fit_model2= posterior2.sampling(data=custcarecal_data2,\n",
        "                  iter=10000,\n",
        "                  chains=4,\n",
        "                  seed=1,\n",
        "                  warmup=3000,\n",
        "                  thin=1,\n",
        "                  control={\"max_treedepth\":15,\"adapt_delta\" : 0.9999})"
      ],
      "metadata": {
        "id": "TMTgdx3eW_Ng"
      },
      "execution_count": null,
      "outputs": []
    },
    {
      "cell_type": "markdown",
      "source": [
        "#<font color=\"darkorange\"> MCMC convergence Diagnostics - Plots"
      ],
      "metadata": {
        "id": "H2I_MWXaW_Ng"
      }
    },
    {
      "cell_type": "code",
      "metadata": {
        "id": "eWy779YfW_Nh"
      },
      "source": [
        "az.plot_trace(fit_model2, compact=False,legend=True)\n",
        "plt.show()"
      ],
      "execution_count": null,
      "outputs": []
    },
    {
      "cell_type": "markdown",
      "source": [
        "# <font color=\"darkorange\"> Condensed Summary Report"
      ],
      "metadata": {
        "id": "GSHH-bDGW_Nh"
      }
    },
    {
      "cell_type": "code",
      "metadata": {
        "id": "RJpinBi5W_Nh"
      },
      "source": [
        "summ_mod2=az.summary(fit_model2,round_to=3,hdi_prob=0.95)\n",
        "summ_mod2"
      ],
      "execution_count": null,
      "outputs": []
    },
    {
      "cell_type": "markdown",
      "source": [
        "#<font color=\"darkblue\"> Poisson GLM with One Binary Predictor\n",
        "\n",
        "*IntlPlan* is a binary variable - whether the customer has opted for Internationla plan - Binary levels - *yes or no*\n",
        "\n",
        "Let us prepare the data for the model"
      ],
      "metadata": {
        "id": "Pm2O_gLhlSMa"
      }
    },
    {
      "cell_type": "code",
      "source": [
        "custcarecal_da=custcarecal_da.assign(IntlPlan_c=lambda x:x['IntlPlan'].apply(lambda y: 1 if y==\"yes\" else 0))\n",
        "custcarecal_da['IntlPlan_c'] = custcarecal_da['IntlPlan_c'].astype('category')"
      ],
      "metadata": {
        "id": "-OrxLr4zaPJX"
      },
      "execution_count": null,
      "outputs": []
    },
    {
      "cell_type": "code",
      "source": [
        "print(custcarecal_da)"
      ],
      "metadata": {
        "id": "2zt3fON9ntB-",
        "colab": {
          "base_uri": "https://localhost:8080/",
          "height": 165
        },
        "outputId": "7f2fa23a-0cba-4e9a-b592-dcf52bb9d127"
      },
      "execution_count": null,
      "outputs": [
        {
          "output_type": "error",
          "ename": "NameError",
          "evalue": "ignored",
          "traceback": [
            "\u001b[0;31m---------------------------------------------------------------------------\u001b[0m",
            "\u001b[0;31mNameError\u001b[0m                                 Traceback (most recent call last)",
            "\u001b[0;32m<ipython-input-3-5a5be17942f6>\u001b[0m in \u001b[0;36m<module>\u001b[0;34m()\u001b[0m\n\u001b[0;32m----> 1\u001b[0;31m \u001b[0mprint\u001b[0m\u001b[0;34m(\u001b[0m\u001b[0mcustcarecal_da\u001b[0m\u001b[0;34m)\u001b[0m\u001b[0;34m\u001b[0m\u001b[0;34m\u001b[0m\u001b[0m\n\u001b[0m",
            "\u001b[0;31mNameError\u001b[0m: name 'custcarecal_da' is not defined"
          ]
        }
      ]
    },
    {
      "cell_type": "code",
      "source": [
        "custcarecal_fit_code1 = \"\"\"\n",
        "data {\n",
        "int<lower=0> N;\n",
        "int<lower=0> y[N];\n",
        "vector[N] x;\n",
        "}\n",
        "\n",
        "parameters {\n",
        "real b0;\n",
        "real b1;\n",
        "}\n",
        "model {\n",
        "y ~ poisson_log(b0 + b1 * x);\n",
        "\n",
        "b0 ~ normal(0,100);\n",
        "b1 ~ normal(0,100);\n",
        "}\n",
        "\"\"\"\n",
        "\n",
        "\n",
        "# Posterior\n",
        "posterior_fit1 = pystan.StanModel(model_code=custcarecal_fit_code1)\n"
      ],
      "metadata": {
        "id": "UhiosW-JlQFg"
      },
      "execution_count": null,
      "outputs": []
    },
    {
      "cell_type": "code",
      "metadata": {
        "id": "ddHGn1ahlQFu"
      },
      "source": [
        "# Input - data and values for prior parameters a and b\n",
        "\n",
        "n=len(custcarecal_da)\n",
        "y1=custcarecal_da['CustServCalls']\n",
        "x1=custcarecal_da['IntlPlan_c']\n",
        "\n",
        "custcarecal_data1 = {'N':n,\n",
        "             'y':y1,\n",
        "             'x':x1,\n",
        "            }\n",
        "custcarecal_data1"
      ],
      "execution_count": null,
      "outputs": []
    },
    {
      "cell_type": "code",
      "metadata": {
        "id": "6HhhjsLYlQFu"
      },
      "source": [
        "custcarecal_fit1= posterior_fit1.sampling(data=custcarecal_data1,\n",
        "                  iter=10000,\n",
        "                  chains=4,\n",
        "                  seed=1,\n",
        "                  warmup=3000,\n",
        "                  thin=1,\n",
        "                  control={\"max_treedepth\":15,\"adapt_delta\" : 0.9999})\n",
        "\n",
        "# print(custcarecal_fit1.stansummary(pars=[\"b0\"], probs=(0.025, 0.25, 0.5, 0.75, 0.975), digits_summary=4))"
      ],
      "execution_count": null,
      "outputs": []
    },
    {
      "cell_type": "code",
      "metadata": {
        "id": "KXNoo5AelQFv"
      },
      "source": [
        "az.plot_trace(custcarecal_fit1,compact=False, legend=True)\n",
        "plt.show()"
      ],
      "execution_count": null,
      "outputs": []
    },
    {
      "cell_type": "code",
      "metadata": {
        "id": "m1w4A-knlQFv"
      },
      "source": [
        "summ_fit1=az.summary(custcarecal_fit1,round_to=3,hdi_prob=0.95)\n",
        "summ_fit1"
      ],
      "execution_count": null,
      "outputs": []
    },
    {
      "cell_type": "markdown",
      "source": [
        "#<font color=\"darkblue\"> Poisson GLM with One Numeric Predictor\n",
        "\n",
        "*NightMins* is a binary variable - Time duration of a call by the customer during night time"
      ],
      "metadata": {
        "id": "TNOw_vQNtUYA"
      }
    },
    {
      "cell_type": "code",
      "metadata": {
        "id": "DyJcOyCotUYH"
      },
      "source": [
        "# Input - data and values for prior parameters a and b\n",
        "\n",
        "n=len(custcarecal_da)\n",
        "y1=custcarecal_da['CustServCalls'] #brtwt_da['gestwks']-np.mean(brtwt_da['gestwks']),\n",
        "x1=custcarecal_da['NightMins']-np.mean(custcarecal_da['NightMins'])\n",
        "\n",
        "custcarecal_data2 = {'N':n,\n",
        "             'y':y1,\n",
        "             'x':x1,\n",
        "            }\n",
        "custcarecal_data2"
      ],
      "execution_count": null,
      "outputs": []
    },
    {
      "cell_type": "code",
      "metadata": {
        "colab": {
          "base_uri": "https://localhost:8080/"
        },
        "id": "MiZei4TEtUYH",
        "outputId": "5e54ab85-722e-424a-fdef-b171cee1fb9e"
      },
      "source": [
        "custcarecal_fit2= posterior_fit1.sampling(data=custcarecal_data2,\n",
        "                  iter=10000,\n",
        "                  chains=4,\n",
        "                  seed=1,\n",
        "                  warmup=3000,\n",
        "                  thin=1,\n",
        "                  control={\"max_treedepth\":15,\"adapt_delta\" : 0.9999})"
      ],
      "execution_count": null,
      "outputs": [
        {
          "output_type": "stream",
          "name": "stderr",
          "text": [
            "WARNING:pystan:n_eff / iter below 0.001 indicates that the effective sample size has likely been overestimated\n",
            "WARNING:pystan:Rhat above 1.1 or below 0.9 indicates that the chains very likely have not mixed\n",
            "WARNING:pystan:4575 of 28000 iterations ended with a divergence (16.3 %).\n",
            "WARNING:pystan:Try running with adapt_delta larger than 0.9999 to remove the divergences.\n",
            "WARNING:pystan:Chain 3: E-BFMI = 0.00369\n",
            "WARNING:pystan:E-BFMI below 0.2 indicates you may need to reparameterize your model\n"
          ]
        }
      ]
    },
    {
      "cell_type": "code",
      "metadata": {
        "colab": {
          "base_uri": "https://localhost:8080/",
          "height": 279
        },
        "id": "_y_gJQP5tUYI",
        "outputId": "8a8e06b7-34b1-4ead-aa04-6d0175649c79"
      },
      "source": [
        "az.plot_trace(custcarecal_fit2,compact=False, legend=True)\n",
        "plt.show()"
      ],
      "execution_count": null,
      "outputs": [
        {
          "output_type": "display_data",
          "data": {
            "image/png": "[encoded data removed]",
            "text/plain": [
              "<Figure size 864x288 with 4 Axes>"
            ]
          },
          "metadata": {
            "needs_background": "light"
          }
        }
      ]
    },
    {
      "cell_type": "code",
      "metadata": {
        "colab": {
          "base_uri": "https://localhost:8080/",
          "height": 112
        },
        "id": "LfZPLxeCtUYI",
        "outputId": "91cd1097-c881-4496-ca80-0832a939c544"
      },
      "source": [
        "summ_fit2=az.summary(custcarecal_fit2,round_to=3,hdi_prob=0.95)\n",
        "summ_fit2"
      ],
      "execution_count": null,
      "outputs": [
        {
          "output_type": "execute_result",
          "data": {
            "text/html": [
              "\n",
              "  <div id=\"df-8931225b-2d2a-4fe9-8bc2-cf99a052d425\">\n",
              "    <div class=\"colab-df-container\">\n",
              "      <div>\n",
              "<style scoped>\n",
              "    .dataframe tbody tr th:only-of-type {\n",
              "        vertical-align: middle;\n",
              "    }\n",
              "\n",
              "    .dataframe tbody tr th {\n",
              "        vertical-align: top;\n",
              "    }\n",
              "\n",
              "    .dataframe thead th {\n",
              "        text-align: right;\n",
              "    }\n",
              "</style>\n",
              "<table border=\"1\" class=\"dataframe\">\n",
              "  <thead>\n",
              "    <tr style=\"text-align: right;\">\n",
              "      <th></th>\n",
              "      <th>mean</th>\n",
              "      <th>sd</th>\n",
              "      <th>hdi_2.5%</th>\n",
              "      <th>hdi_97.5%</th>\n",
              "      <th>mcse_mean</th>\n",
              "      <th>mcse_sd</th>\n",
              "      <th>ess_bulk</th>\n",
              "      <th>ess_tail</th>\n",
              "      <th>r_hat</th>\n",
              "    </tr>\n",
              "  </thead>\n",
              "  <tbody>\n",
              "    <tr>\n",
              "      <th>b0</th>\n",
              "      <td>-0.088</td>\n",
              "      <td>0.985</td>\n",
              "      <td>-1.792</td>\n",
              "      <td>0.564</td>\n",
              "      <td>0.492</td>\n",
              "      <td>0.377</td>\n",
              "      <td>6.991</td>\n",
              "      <td>4.900</td>\n",
              "      <td>1.549</td>\n",
              "    </tr>\n",
              "    <tr>\n",
              "      <th>b1</th>\n",
              "      <td>0.147</td>\n",
              "      <td>0.255</td>\n",
              "      <td>-0.001</td>\n",
              "      <td>0.593</td>\n",
              "      <td>0.127</td>\n",
              "      <td>0.098</td>\n",
              "      <td>6.841</td>\n",
              "      <td>11.373</td>\n",
              "      <td>1.568</td>\n",
              "    </tr>\n",
              "  </tbody>\n",
              "</table>\n",
              "</div>\n",
              "      <button class=\"colab-df-convert\" onclick=\"convertToInteractive('df-8931225b-2d2a-4fe9-8bc2-cf99a052d425')\"\n",
              "              title=\"Convert this dataframe to an interactive table.\"\n",
              "              style=\"display:none;\">\n",
              "        \n",
              "  <svg xmlns=\"http://www.w3.org/2000/svg\" height=\"24px\"viewBox=\"0 0 24 24\"\n",
              "       width=\"24px\">\n",
              "    <path d=\"M0 0h24v24H0V0z\" fill=\"none\"/>\n",
              "    <path d=\"M18.56 5.44l.94 2.06.94-2.06 2.06-.94-2.06-.94-.94-2.06-.94 2.06-2.06.94zm-11 1L8.5 8.5l.94-2.06 2.06-.94-2.06-.94L8.5 2.5l-.94 2.06-2.06.94zm10 10l.94 2.06.94-2.06 2.06-.94-2.06-.94-.94-2.06-.94 2.06-2.06.94z\"/><path d=\"M17.41 7.96l-1.37-1.37c-.4-.4-.92-.59-1.43-.59-.52 0-1.04.2-1.43.59L10.3 9.45l-7.72 7.72c-.78.78-.78 2.05 0 2.83L4 21.41c.39.39.9.59 1.41.59.51 0 1.02-.2 1.41-.59l7.78-7.78 2.81-2.81c.8-.78.8-2.07 0-2.86zM5.41 20L4 18.59l7.72-7.72 1.47 1.35L5.41 20z\"/>\n",
              "  </svg>\n",
              "      </button>\n",
              "      \n",
              "  <style>\n",
              "    .colab-df-container {\n",
              "      display:flex;\n",
              "      flex-wrap:wrap;\n",
              "      gap: 12px;\n",
              "    }\n",
              "\n",
              "    .colab-df-convert {\n",
              "      background-color: #E8F0FE;\n",
              "      border: none;\n",
              "      border-radius: 50%;\n",
              "      cursor: pointer;\n",
              "      display: none;\n",
              "      fill: #1967D2;\n",
              "      height: 32px;\n",
              "      padding: 0 0 0 0;\n",
              "      width: 32px;\n",
              "    }\n",
              "\n",
              "    .colab-df-convert:hover {\n",
              "      background-color: #E2EBFA;\n",
              "      box-shadow: 0px 1px 2px rgba(60, 64, 67, 0.3), 0px 1px 3px 1px rgba(60, 64, 67, 0.15);\n",
              "      fill: #174EA6;\n",
              "    }\n",
              "\n",
              "    [theme=dark] .colab-df-convert {\n",
              "      background-color: #3B4455;\n",
              "      fill: #D2E3FC;\n",
              "    }\n",
              "\n",
              "    [theme=dark] .colab-df-convert:hover {\n",
              "      background-color: #434B5C;\n",
              "      box-shadow: 0px 1px 3px 1px rgba(0, 0, 0, 0.15);\n",
              "      filter: drop-shadow(0px 1px 2px rgba(0, 0, 0, 0.3));\n",
              "      fill: #FFFFFF;\n",
              "    }\n",
              "  </style>\n",
              "\n",
              "      <script>\n",
              "        const buttonEl =\n",
              "          document.querySelector('#df-8931225b-2d2a-4fe9-8bc2-cf99a052d425 button.colab-df-convert');\n",
              "        buttonEl.style.display =\n",
              "          google.colab.kernel.accessAllowed ? 'block' : 'none';\n",
              "\n",
              "        async function convertToInteractive(key) {\n",
              "          const element = document.querySelector('#df-8931225b-2d2a-4fe9-8bc2-cf99a052d425');\n",
              "          const dataTable =\n",
              "            await google.colab.kernel.invokeFunction('convertToInteractive',\n",
              "                                                     [key], {});\n",
              "          if (!dataTable) return;\n",
              "\n",
              "          const docLinkHtml = 'Like what you see? Visit the ' +\n",
              "            '<a target=\"_blank\" href=https://colab.research.google.com/notebooks/data_table.ipynb>data table notebook</a>'\n",
              "            + ' to learn more about interactive tables.';\n",
              "          element.innerHTML = '';\n",
              "          dataTable['output_type'] = 'display_data';\n",
              "          await google.colab.output.renderOutput(dataTable, element);\n",
              "          const docLink = document.createElement('div');\n",
              "          docLink.innerHTML = docLinkHtml;\n",
              "          element.appendChild(docLink);\n",
              "        }\n",
              "      </script>\n",
              "    </div>\n",
              "  </div>\n",
              "  "
            ],
            "text/plain": [
              "     mean     sd  hdi_2.5%  hdi_97.5%  ...  mcse_sd  ess_bulk  ess_tail  r_hat\n",
              "b0 -0.088  0.985    -1.792      0.564  ...    0.377     6.991     4.900  1.549\n",
              "b1  0.147  0.255    -0.001      0.593  ...    0.098     6.841    11.373  1.568\n",
              "\n",
              "[2 rows x 9 columns]"
            ]
          },
          "metadata": {},
          "execution_count": 31
        }
      ]
    },
    {
      "cell_type": "code",
      "source": [
        "custcarecal_fit3= posterior_fit1.sampling(data=custcarecal_data2,\n",
        "                  iter=10000,\n",
        "                  chains=4,\n",
        "                  seed=1,\n",
        "                  warmup=3000,\n",
        "                  thin=1,\n",
        "                  control={\"max_treedepth\":15,\"adapt_delta\" : 0.9999})"
      ],
      "metadata": {
        "colab": {
          "base_uri": "https://localhost:8080/"
        },
        "id": "pz98pUaz-iOg",
        "outputId": "e00021c4-45d0-4ae3-9695-9b0eddf9e883"
      },
      "execution_count": null,
      "outputs": [
        {
          "output_type": "stream",
          "name": "stderr",
          "text": [
            "WARNING:pystan:n_eff / iter below 0.001 indicates that the effective sample size has likely been overestimated\n",
            "WARNING:pystan:Rhat above 1.1 or below 0.9 indicates that the chains very likely have not mixed\n",
            "WARNING:pystan:9264 of 28000 iterations ended with a divergence (33.1 %).\n",
            "WARNING:pystan:Try running with adapt_delta larger than 0.9999 to remove the divergences.\n",
            "WARNING:pystan:2 of 28000 iterations saturated the maximum tree depth of 15 (0.00714 %)\n",
            "WARNING:pystan:Run again with max_treedepth larger than 15 to avoid saturation\n",
            "WARNING:pystan:Chain 1: E-BFMI = 0.014\n",
            "WARNING:pystan:Chain 3: E-BFMI = 0.016\n",
            "WARNING:pystan:Chain 4: E-BFMI = 0.00334\n",
            "WARNING:pystan:E-BFMI below 0.2 indicates you may need to reparameterize your model\n"
          ]
        }
      ]
    },
    {
      "cell_type": "code",
      "metadata": {
        "colab": {
          "base_uri": "https://localhost:8080/",
          "height": 112
        },
        "outputId": "a1c5e34c-c213-4b0c-d76d-4c65712b00be",
        "id": "2td7uYAq_LTK"
      },
      "source": [
        "summ_fit3=az.summary(custcarecal_fit3,round_to=3,hdi_prob=0.95)\n",
        "summ_fit3"
      ],
      "execution_count": null,
      "outputs": [
        {
          "output_type": "execute_result",
          "data": {
            "text/html": [
              "\n",
              "  <div id=\"df-a9b57e1e-67c9-42b0-8cb7-879b2a19d86a\">\n",
              "    <div class=\"colab-df-container\">\n",
              "      <div>\n",
              "<style scoped>\n",
              "    .dataframe tbody tr th:only-of-type {\n",
              "        vertical-align: middle;\n",
              "    }\n",
              "\n",
              "    .dataframe tbody tr th {\n",
              "        vertical-align: top;\n",
              "    }\n",
              "\n",
              "    .dataframe thead th {\n",
              "        text-align: right;\n",
              "    }\n",
              "</style>\n",
              "<table border=\"1\" class=\"dataframe\">\n",
              "  <thead>\n",
              "    <tr style=\"text-align: right;\">\n",
              "      <th></th>\n",
              "      <th>mean</th>\n",
              "      <th>sd</th>\n",
              "      <th>hdi_2.5%</th>\n",
              "      <th>hdi_97.5%</th>\n",
              "      <th>mcse_mean</th>\n",
              "      <th>mcse_sd</th>\n",
              "      <th>ess_bulk</th>\n",
              "      <th>ess_tail</th>\n",
              "      <th>r_hat</th>\n",
              "    </tr>\n",
              "  </thead>\n",
              "  <tbody>\n",
              "    <tr>\n",
              "      <th>b0</th>\n",
              "      <td>-0.128</td>\n",
              "      <td>1.475</td>\n",
              "      <td>-1.794</td>\n",
              "      <td>2.000</td>\n",
              "      <td>0.737</td>\n",
              "      <td>0.565</td>\n",
              "      <td>4.261</td>\n",
              "      <td>11.373</td>\n",
              "      <td>4.111</td>\n",
              "    </tr>\n",
              "    <tr>\n",
              "      <th>b1</th>\n",
              "      <td>0.129</td>\n",
              "      <td>0.978</td>\n",
              "      <td>-1.222</td>\n",
              "      <td>1.554</td>\n",
              "      <td>0.488</td>\n",
              "      <td>0.374</td>\n",
              "      <td>4.317</td>\n",
              "      <td>11.373</td>\n",
              "      <td>3.754</td>\n",
              "    </tr>\n",
              "  </tbody>\n",
              "</table>\n",
              "</div>\n",
              "      <button class=\"colab-df-convert\" onclick=\"convertToInteractive('df-a9b57e1e-67c9-42b0-8cb7-879b2a19d86a')\"\n",
              "              title=\"Convert this dataframe to an interactive table.\"\n",
              "              style=\"display:none;\">\n",
              "        \n",
              "  <svg xmlns=\"http://www.w3.org/2000/svg\" height=\"24px\"viewBox=\"0 0 24 24\"\n",
              "       width=\"24px\">\n",
              "    <path d=\"M0 0h24v24H0V0z\" fill=\"none\"/>\n",
              "    <path d=\"M18.56 5.44l.94 2.06.94-2.06 2.06-.94-2.06-.94-.94-2.06-.94 2.06-2.06.94zm-11 1L8.5 8.5l.94-2.06 2.06-.94-2.06-.94L8.5 2.5l-.94 2.06-2.06.94zm10 10l.94 2.06.94-2.06 2.06-.94-2.06-.94-.94-2.06-.94 2.06-2.06.94z\"/><path d=\"M17.41 7.96l-1.37-1.37c-.4-.4-.92-.59-1.43-.59-.52 0-1.04.2-1.43.59L10.3 9.45l-7.72 7.72c-.78.78-.78 2.05 0 2.83L4 21.41c.39.39.9.59 1.41.59.51 0 1.02-.2 1.41-.59l7.78-7.78 2.81-2.81c.8-.78.8-2.07 0-2.86zM5.41 20L4 18.59l7.72-7.72 1.47 1.35L5.41 20z\"/>\n",
              "  </svg>\n",
              "      </button>\n",
              "      \n",
              "  <style>\n",
              "    .colab-df-container {\n",
              "      display:flex;\n",
              "      flex-wrap:wrap;\n",
              "      gap: 12px;\n",
              "    }\n",
              "\n",
              "    .colab-df-convert {\n",
              "      background-color: #E8F0FE;\n",
              "      border: none;\n",
              "      border-radius: 50%;\n",
              "      cursor: pointer;\n",
              "      display: none;\n",
              "      fill: #1967D2;\n",
              "      height: 32px;\n",
              "      padding: 0 0 0 0;\n",
              "      width: 32px;\n",
              "    }\n",
              "\n",
              "    .colab-df-convert:hover {\n",
              "      background-color: #E2EBFA;\n",
              "      box-shadow: 0px 1px 2px rgba(60, 64, 67, 0.3), 0px 1px 3px 1px rgba(60, 64, 67, 0.15);\n",
              "      fill: #174EA6;\n",
              "    }\n",
              "\n",
              "    [theme=dark] .colab-df-convert {\n",
              "      background-color: #3B4455;\n",
              "      fill: #D2E3FC;\n",
              "    }\n",
              "\n",
              "    [theme=dark] .colab-df-convert:hover {\n",
              "      background-color: #434B5C;\n",
              "      box-shadow: 0px 1px 3px 1px rgba(0, 0, 0, 0.15);\n",
              "      filter: drop-shadow(0px 1px 2px rgba(0, 0, 0, 0.3));\n",
              "      fill: #FFFFFF;\n",
              "    }\n",
              "  </style>\n",
              "\n",
              "      <script>\n",
              "        const buttonEl =\n",
              "          document.querySelector('#df-a9b57e1e-67c9-42b0-8cb7-879b2a19d86a button.colab-df-convert');\n",
              "        buttonEl.style.display =\n",
              "          google.colab.kernel.accessAllowed ? 'block' : 'none';\n",
              "\n",
              "        async function convertToInteractive(key) {\n",
              "          const element = document.querySelector('#df-a9b57e1e-67c9-42b0-8cb7-879b2a19d86a');\n",
              "          const dataTable =\n",
              "            await google.colab.kernel.invokeFunction('convertToInteractive',\n",
              "                                                     [key], {});\n",
              "          if (!dataTable) return;\n",
              "\n",
              "          const docLinkHtml = 'Like what you see? Visit the ' +\n",
              "            '<a target=\"_blank\" href=https://colab.research.google.com/notebooks/data_table.ipynb>data table notebook</a>'\n",
              "            + ' to learn more about interactive tables.';\n",
              "          element.innerHTML = '';\n",
              "          dataTable['output_type'] = 'display_data';\n",
              "          await google.colab.output.renderOutput(dataTable, element);\n",
              "          const docLink = document.createElement('div');\n",
              "          docLink.innerHTML = docLinkHtml;\n",
              "          element.appendChild(docLink);\n",
              "        }\n",
              "      </script>\n",
              "    </div>\n",
              "  </div>\n",
              "  "
            ],
            "text/plain": [
              "     mean     sd  hdi_2.5%  hdi_97.5%  ...  mcse_sd  ess_bulk  ess_tail  r_hat\n",
              "b0 -0.128  1.475    -1.794      2.000  ...    0.565     4.261    11.373  4.111\n",
              "b1  0.129  0.978    -1.222      1.554  ...    0.374     4.317    11.373  3.754\n",
              "\n",
              "[2 rows x 9 columns]"
            ]
          },
          "metadata": {},
          "execution_count": 32
        }
      ]
    },
    {
      "cell_type": "code",
      "source": [
        "custcarecal_fit_code2 = \"\"\"\n",
        "data {\n",
        "int<lower=0> N;\n",
        "int<lower=0> y[N];\n",
        "vector[N] x;\n",
        "real a_0;\n",
        "real b_0;\n",
        "real a_1;\n",
        "real b_1;\n",
        "}\n",
        "\n",
        "parameters {\n",
        "real b0;\n",
        "real b1;\n",
        "}\n",
        "model {\n",
        "y ~ poisson_log(b0 + b1 * x);\n",
        "\n",
        "b0 ~ normal(a_0,b_0);\n",
        "b1 ~ normal(a_1,b_1);\n",
        "}\n",
        "\"\"\"\n",
        "\n",
        "\n",
        "# Posterior\n",
        "posterior_fit2 = pystan.StanModel(model_code=custcarecal_fit_code2)\n"
      ],
      "metadata": {
        "colab": {
          "base_uri": "https://localhost:8080/"
        },
        "outputId": "6d176867-5521-46dd-e6d5-c8aa1a137022",
        "id": "tOwceH9CF-zU"
      },
      "execution_count": null,
      "outputs": [
        {
          "output_type": "stream",
          "name": "stderr",
          "text": [
            "INFO:pystan:COMPILING THE C++ CODE FOR MODEL anon_model_eee3f48a07a58e5cf4c1018d0dedf68b NOW.\n"
          ]
        }
      ]
    },
    {
      "cell_type": "code",
      "metadata": {
        "id": "g52ItzRXGs_7"
      },
      "source": [
        "# Input - data and values for prior parameters a and b\n",
        "\n",
        "n=len(custcarecal_da)\n",
        "y1=custcarecal_da['CustServCalls'] #brtwt_da['gestwks']-np.mean(brtwt_da['gestwks']),\n",
        "x1=custcarecal_da['NightMins']-np.mean(custcarecal_da['NightMins'])\n",
        "\n",
        "custcarecal_data4 = {'N':n,\n",
        "             'y':y1,\n",
        "             'x':x1,\n",
        "             'a_0':0,\n",
        "             'b_0':10,\n",
        "             'a_1':1,\n",
        "             'b_1':10,\n",
        "            }\n",
        "custcarecal_data4"
      ],
      "execution_count": null,
      "outputs": []
    },
    {
      "cell_type": "code",
      "metadata": {
        "colab": {
          "base_uri": "https://localhost:8080/"
        },
        "outputId": "8cfc30b8-bb1a-4995-c0b3-8cd4172e7046",
        "id": "gWzm6kJwGtAN"
      },
      "source": [
        "custcarecal_fit4= posterior_fit2.sampling(data=custcarecal_data4,\n",
        "                  iter=10000,\n",
        "                  chains=4,\n",
        "                  seed=1,\n",
        "                  warmup=3000,\n",
        "                  thin=1,\n",
        "                  control={\"max_treedepth\":20,\"adapt_delta\" : 0.99999})"
      ],
      "execution_count": null,
      "outputs": [
        {
          "output_type": "stream",
          "name": "stderr",
          "text": [
            "WARNING:pystan:n_eff / iter below 0.001 indicates that the effective sample size has likely been overestimated\n",
            "WARNING:pystan:Rhat above 1.1 or below 0.9 indicates that the chains very likely have not mixed\n",
            "WARNING:pystan:8677 of 28000 iterations ended with a divergence (31 %).\n",
            "WARNING:pystan:Try running with adapt_delta larger than 0.99999 to remove the divergences.\n",
            "WARNING:pystan:Chain 1: E-BFMI = 0.00863\n",
            "WARNING:pystan:Chain 3: E-BFMI = 0.0129\n",
            "WARNING:pystan:Chain 4: E-BFMI = 0.00334\n",
            "WARNING:pystan:E-BFMI below 0.2 indicates you may need to reparameterize your model\n"
          ]
        }
      ]
    },
    {
      "cell_type": "markdown",
      "source": [
        "# **Change Response Count to Categorical Data**"
      ],
      "metadata": {
        "id": "TT436fElShGu"
      }
    },
    {
      "cell_type": "code",
      "source": [
        "conditions = [\n",
        "    (custcarecal_da[\"CustServCalls\"]==0),\n",
        "    (custcarecal_da[\"CustServCalls\"]==1),\n",
        "    (custcarecal_da[\"CustServCalls\"] > 1),]\n",
        "choices = [1, 2, 3]\n",
        "\n",
        "custcarecal_da[\"CustServCalls_c\"] = np.select(conditions, choices)\n",
        "custcarecal_da['CustServCalls_c'] = custcarecal_da['CustServCalls_c'].astype('category')"
      ],
      "metadata": {
        "id": "BiQYL5O60t9y",
        "colab": {
          "base_uri": "https://localhost:8080/"
        },
        "outputId": "9582d908-d9f3-4bb9-9be3-68fe07b248e3"
      },
      "execution_count": null,
      "outputs": [
        {
          "output_type": "stream",
          "name": "stderr",
          "text": [
            "INFO:numexpr.utils:NumExpr defaulting to 2 threads.\n"
          ]
        }
      ]
    },
    {
      "cell_type": "code",
      "source": [
        "custcarecal_da.head()"
      ],
      "metadata": {
        "id": "OZYmI6eDSX-b"
      },
      "execution_count": null,
      "outputs": []
    }
  ]
}