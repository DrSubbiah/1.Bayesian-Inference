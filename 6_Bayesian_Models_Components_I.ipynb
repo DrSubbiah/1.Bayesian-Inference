{
  "nbformat": 4,
  "nbformat_minor": 0,
  "metadata": {
    "colab": {
      "provenance": [],
      "mount_file_id": "1_UsoLDxt5UDQrRTMWibCFhkhPGQf_IxJ",
      "authorship_tag": "ABX9TyNfTXVKAAVmDRgj8doEycYB",
      "include_colab_link": true
    },
    "kernelspec": {
      "name": "python3",
      "display_name": "Python 3"
    },
    "language_info": {
      "name": "python"
    }
  },
  "cells": [
    {
      "cell_type": "markdown",
      "metadata": {
        "id": "view-in-github",
        "colab_type": "text"
      },
      "source": [
        "<a href=\"https://colab.research.google.com/github/DrSubbiah/1.Bayesian-Inference/blob/master/6_Bayesian_Models_Components_I.ipynb\" target=\"_parent\"><img src=\"https://colab.research.google.com/assets/colab-badge.svg\" alt=\"Open In Colab\"/></a>"
      ]
    },
    {
      "cell_type": "code",
      "execution_count": null,
      "metadata": {
        "id": "mzr5DM-xUb8_"
      },
      "outputs": [],
      "source": [
        "import numpy as np\n",
        "import pandas as pd\n",
        "import scipy as sc\n",
        "from scipy import stats as st\n",
        "import math\n",
        "import matplotlib.pyplot as plt\n",
        "import seaborn as sns"
      ]
    },
    {
      "cell_type": "markdown",
      "source": [
        "# <font color=\"darkblue\"> Bayesian Models_Closed Form\n",
        "\n",
        "# <font color=\"green\"> Consolidation\n",
        "\n",
        "A data model represented by a probability distribution $f(X|\\theta)$. We prefer likelihood notion $\\mathcal{L}(\\theta|X)=\\prod_{i=1}^n~ f(x_i|\\theta)$ so that data $x_i~i=1,2\\cdots n$ is known but our interest is to know about the random unknown **parameter $\\theta$**\n",
        "\n",
        "The Main aspect of Bayesian procedure is considering $\\theta$  as a **Random Variable**. <font color=\"maroon\">This adoption allows to have a theoretical distribution for the parameter in a model.\n",
        "\n",
        "Major advantages of such a culture could be seen as\n",
        "\n",
        "- able to consider the entire parameter space for a better estimation process\n",
        "\n",
        "- focus is in the qunatity of interest which is random but not the data in hand (realised from the data process)\n",
        "\n",
        "- it is possible to obtain the desired information about $\\theta$ directly as summaries or probability queries\n",
        "\n",
        "    - Prior summaries about $\\theta$,\n",
        "    \n",
        "      - mean $E[\\theta]$\n",
        "\n",
        "      - variance $V[\\theta]=E[\\theta^2]-E[\\theta]^2$\n",
        "\n",
        "      - probability queries such as $Pr(\\theta>a)$ for some appropriate $a$\n",
        "\n",
        "    - Posterior summaries about $\\theta|X$,\n",
        "    \n",
        "      - mean $E[\\theta|X]$\n",
        "\n",
        "      - variance $V[\\theta|X]=E[\\theta^2|X]-E[\\theta|X]^2$\n",
        "\n",
        "      - probability queries such as $Pr((\\theta|X)>a)$ for some appropriate $a$\n",
        "\n",
        "**<font color=\"red\"> Computations are involved in all these exercises**\n",
        "\n",
        "# <font color=\"darkblue\"> Two Tales\n",
        "\n",
        "In this whole exercise, there are two situations;\n",
        "\n",
        "1. Before realizing outcome of a process (data)\n",
        "\n",
        "1. After having a data set\n",
        "\n",
        "In either case, we are interested to know about the parameter $\\theta$.\n",
        "\n",
        "Hence, Bayes methods which assume distribution for parameters, it has to work with two distributions **prior** and **posterior** for $\\theta$; before abd after having data.\n",
        "\n",
        "Bayes Theorem provides a simplistic way to move from prior to posterior; nevertheless, Bayesian methods and Bayes Theorem are not necessarily same. A nice treatment of this distinction can be found in **[Rethinking Book](https://www.amazon.com/Statistical-Rethinking-Bayesian-Examples-Chapman/dp/1482253445)**\n",
        "\n",
        "**If $\\theta$ is CRV**\n",
        "\n",
        "$$\\pi(\\theta|X)=\\frac{\\mathcal{L}(\\theta|X)p(\\theta)}{\\int_{\\theta}\\mathcal{L}(\\theta|X)p(\\theta)~~d\\theta}$$\n",
        "\n",
        "**If $\\theta$ is DRV**\n",
        "\n",
        "$$\\pi(\\theta|X)=\\frac{\\mathcal{L}(\\theta|X)p(\\theta)}{\\sum_{\\theta}\\mathcal{L}(\\theta|X)p(\\theta)}$$\n",
        "\n",
        "# <font color=\"darkblue\"> Bayesian model\n",
        "\n",
        "## <font color=\"maroon\"> Quick review on Keywords and Conventional Symbols\n",
        "\n",
        "* Abstraction of a situation - Random variable\n",
        "* Distributions for random variables\n",
        "* Parameters\n",
        "* Summaries from a distribution\n",
        "* Probability computations about a random variable\n",
        "* Likelihood function\n",
        "\n",
        "1. $\\theta:$ Parameter\n",
        "\n",
        "1. $f(X|\\theta):$ Probability density/mass function\n",
        "\n",
        "1. $\\mathcal{L}(\\theta|X):$ Likelihood function\n",
        "\n",
        "1. $\\mathcal{l}(\\theta|X)= \\ln \\mathcal{L}(\\theta|X)$ Log Likelihood function (useful in a technical context; for quick reading, please ignore)\n",
        "\n",
        "# <font color=\"darkblue\"> Binary Data Model\n",
        "\n",
        "Consider a process whose outcome is binary,\n",
        "\n",
        "- Yes / No\n",
        "\n",
        "- Success / Failure\n",
        "\n",
        "- Defect / No defect\n",
        "\n",
        "- Pass / Fail\n",
        "\n",
        "- Infected / Not Infected\n",
        "\n",
        "- Exposed / Not Exposed\n",
        "\n",
        "In case of such **Binary categorical variable**,\n",
        "\n",
        "- **quantity of interest is **proportion of success**\n",
        "\n",
        "- **data** is the number of successes ($x$) out of some fixed number of trials $n$\n",
        "\n",
        "Hence with respect to our earlier conventions the **RV $X$ is the number of successes** with $x$ denotes the realised value (sample / data) and the problem is to **know about $\\theta$**\n",
        "\n",
        "## <font color=\"green\"> Mathematical Description of the Model\n",
        "\n",
        "**<font color=\"darkred\"> Likelihood** $\\mathcal{L}(\\theta|X)$\n",
        "\n",
        "$$X\\sim \\mathrm{Binomial}(n,\\theta)$$ $x=0,1,\\cdots n; ~~0 < \\theta <1$\n",
        "\n",
        "**<font color=\"darkred\"> Prior** $p(\\theta)$\n",
        "\n",
        "$$\\theta \\sim \\mathrm{Beta}(a,b)$$ $0 < \\theta <1~~ a,b > 0$\n",
        "\n",
        "**<font color=\"red\"> What is posterior $\\pi(\\theta|X)$ about $\\theta$ in the light of data $x$?**\n",
        "\n",
        "## <font color=\"green\"> Mathematical Details Leading to Bayes Formula\n",
        "\n",
        "Data model:\n",
        "\n",
        "$$\\mathcal{L}(\\theta|X)=p(X=x|\\theta)={n \\choose x} \\theta^x (1-\\theta)^{n-x}$$\n",
        "\n",
        "where $x = 0,1,2,...,n$ and $0<\\theta<1$\n",
        "\n",
        "Prior distribution:\n",
        "\n",
        "$$p(\\theta) = \\frac{1}{\\beta(a,b)}\\theta^{a-1}(1-\\theta)^{b-1}$$\n",
        "\n",
        "where $a>0,b>0$ and $\\beta(a,b)$ is **beta function** [wiki](https://en.wikipedia.org/wiki/Beta_function)\n",
        "\n",
        "The posterior distribution for$\\theta|X$ is given by\n",
        "\n",
        "$\\pi(\\theta|x) = \\frac{\\frac{1}{\\beta(a,b)}\\theta^{a-1}(1-\\theta)^{b-1}{n \\choose x} \\theta^x (1-\\theta)^{n-x}}{\\int_{0}^{1}{\\frac{1}{\\beta(a,b)}\\theta^{a-1}(1-\\theta)^{b-1}{n \\choose x} \\theta^x (1-\\theta)^{n-x}d\\theta}}$\n",
        "\n",
        "$\\pi(\\theta|x) = \\frac{\\theta^{x+a-1}(1-\\theta)^{n-x+b-1}}{\\int_{0}^{1}{\\theta^{x+a-1}(1-\\theta)^{n-x+b-1} d\\theta}}$\n",
        "\n",
        "$\\pi(\\theta|x)=\\frac{\\theta^{a+x-1}(1-\\theta)^{n-x+b-1}}{\\beta(a+x,n-x+b)} \\quad 0<\\theta<1$\n",
        "\n",
        "<font color=\"green\"> Hence, the posterior is a Beta distribution with parameters  $a+x$ and $n-x+b$\n",
        "\n",
        "That is $$\\pi(\\theta|X)=\\mathrm{Beta}(a+x,n-x+b)$$\n",
        "\n",
        "**We can obtain required information about $\\theta$**\n",
        "\n",
        "Once the posterior is known in **<font color=\"red\">mathematically tractable form** </font>, then we can find its (selected) summaries using respective expressions."
      ],
      "metadata": {
        "id": "0-j3Pb0bUoCX"
      }
    },
    {
      "cell_type": "code",
      "source": [
        "from google.colab import files\n",
        "uploaded = files.upload()"
      ],
      "metadata": {
        "colab": {
          "resources": {
            "http://localhost:8080/nbextensions/google.colab/files.js": {
              "data": "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",
              "ok": true,
              "headers": [
                [
                  "content-type",
                  "application/javascript"
                ]
              ],
              "status": 200,
              "status_text": ""
            }
          },
          "base_uri": "https://localhost:8080/",
          "height": 73
        },
        "id": "aOvT0AjF3-OP",
        "outputId": "78d9a8ec-d8d3-400f-ac17-ca3b697260c8"
      },
      "execution_count": null,
      "outputs": [
        {
          "output_type": "display_data",
          "data": {
            "text/html": [
              "\n",
              "     <input type=\"file\" id=\"files-f2409b15-8b4f-4a9c-bfd7-08ee3f4add8f\" name=\"files[]\" multiple disabled\n",
              "        style=\"border:none\" />\n",
              "     <output id=\"result-f2409b15-8b4f-4a9c-bfd7-08ee3f4add8f\">\n",
              "      Upload widget is only available when the cell has been executed in the\n",
              "      current browser session. Please rerun this cell to enable.\n",
              "      </output>\n",
              "      <script src=\"/nbextensions/google.colab/files.js\"></script> "
            ],
            "text/plain": [
              "<IPython.core.display.HTML object>"
            ]
          },
          "metadata": {}
        },
        {
          "output_type": "stream",
          "name": "stdout",
          "text": [
            "Saving Heart_data.csv to Heart_data (1).csv\n"
          ]
        }
      ]
    },
    {
      "cell_type": "code",
      "source": [
        "import pandas as pd\n",
        "import io\n",
        "data = io.BytesIO(uploaded['Heart_data.csv'])\n",
        "hrt_da=pd.read_csv(data)\n",
        "n=len(hrt_da)"
      ],
      "metadata": {
        "id": "9H8rQ0LWwnC9"
      },
      "execution_count": null,
      "outputs": []
    },
    {
      "cell_type": "code",
      "source": [
        "hrt_da"
      ],
      "metadata": {
        "id": "oqTTk2at9az4"
      },
      "execution_count": null,
      "outputs": []
    },
    {
      "cell_type": "markdown",
      "source": [
        "# <font color=\"darkblue\"> Posterior $\\theta|X$ contains all information\n",
        "\n",
        "## With braveity $\\theta|X$ is not used in the following snippet\n",
        "\n",
        "- <font color=\"green\"> Point Estimates\n",
        "\n",
        "  - Mean and Variance\n",
        "\n",
        "  - Percentiles\n",
        "\n",
        "- <font color=\"green\"> Interval Estimation\n",
        "\n",
        "  - For a desired probability $0<\\alpha<1$, locate two values of $\\theta$ such that\n",
        "  \n",
        "  $$Pr[\\theta_1 < \\theta < \\theta_2]=\\alpha$$\n",
        "\n",
        "- <font color=\"green\"> Probability queries\n",
        "\n",
        "  - $Pr(\\theta < b)$\n",
        "\n",
        "  - $Pr(\\theta > a)$\n",
        "\n",
        "  - $Pr(a< \\theta < b)$\n",
        "\n",
        "\n",
        "\n"
      ],
      "metadata": {
        "id": "JrOicDPYx-9i"
      }
    },
    {
      "cell_type": "markdown",
      "source": [
        "# <font color=\"darkblue\"> Data Likelihood"
      ],
      "metadata": {
        "id": "OnXZOxZm0fQw"
      }
    },
    {
      "cell_type": "code",
      "source": [
        "x1=hrt_da.loc[hrt_da['chd'] == 'Yes']\n",
        "\n",
        "x=len(x1['chd'])\n",
        "print(x,n)"
      ],
      "metadata": {
        "id": "nhHdzHTE63Ik",
        "colab": {
          "base_uri": "https://localhost:8080/"
        },
        "outputId": "13949f5d-4e19-4b7f-89d7-082354780af1"
      },
      "execution_count": null,
      "outputs": [
        {
          "output_type": "stream",
          "name": "stdout",
          "text": [
            "160 462\n"
          ]
        }
      ]
    },
    {
      "cell_type": "markdown",
      "source": [
        "# <font color=\"darkblue\"> Construction of Prior"
      ],
      "metadata": {
        "id": "XoSzsgJG0rnt"
      }
    },
    {
      "cell_type": "code",
      "source": [
        "#Prior Parameters\n",
        "\n",
        "a = 1\n",
        "b = 1"
      ],
      "metadata": {
        "id": "dKXddFhe7mYy"
      },
      "execution_count": null,
      "outputs": []
    },
    {
      "cell_type": "markdown",
      "source": [
        "# <font color=\"darkblue\"> Posterior Quantities\n",
        "\n",
        "## Derived using Bayes Formula\n",
        "\n"
      ],
      "metadata": {
        "id": "_GVJt7rw04dO"
      }
    },
    {
      "cell_type": "code",
      "source": [
        "#Posterior Parameters\n",
        "\n",
        "post_shap1=a+x\n",
        "\n",
        "post_shap2=n-x+b\n",
        "\n",
        "print(post_shap1,post_shap2)"
      ],
      "metadata": {
        "id": "1hHovxRY1FUO",
        "colab": {
          "base_uri": "https://localhost:8080/"
        },
        "outputId": "e2384fbf-c837-46ea-9e91-d9917a41f91f"
      },
      "execution_count": null,
      "outputs": [
        {
          "output_type": "stream",
          "name": "stdout",
          "text": [
            "161 303\n"
          ]
        }
      ]
    },
    {
      "cell_type": "markdown",
      "source": [
        "# <font color=\"darkblue\"> Point Estimates about $\\theta$\n",
        "\n",
        "For Beta distribution with parameters $a_1$ and $a_2$,\n",
        "\n",
        "**Mean is**\n",
        "\n",
        "$$\\frac{a_1}{a_1+a_2}$$\n",
        "\n",
        "**Variance is**\n",
        "\n",
        "$$\\frac{a_1a_2}{(a_1+a_2)^2(a_1+a_2+1)}$$"
      ],
      "metadata": {
        "id": "mgeT1NhR1Nse"
      }
    },
    {
      "cell_type": "code",
      "source": [
        "# Posterior Mean\n",
        "\n",
        "post_mean=post_shap1/(post_shap1+post_shap2)\n",
        "\n",
        "round(post_mean,4)\n",
        "\n"
      ],
      "metadata": {
        "id": "9iHUS_Ta8cIQ",
        "colab": {
          "base_uri": "https://localhost:8080/"
        },
        "outputId": "0b75e41d-cbec-4c9f-b8c8-577ac23a0d4b"
      },
      "execution_count": null,
      "outputs": [
        {
          "output_type": "execute_result",
          "data": {
            "text/plain": [
              "0.347"
            ]
          },
          "metadata": {},
          "execution_count": 57
        }
      ]
    },
    {
      "cell_type": "code",
      "source": [
        "# Posterior Variance\n",
        "\n",
        "post_var=(post_shap1*post_shap2)/((post_shap1+post_shap2)^2*(post_shap1+post_shap2+1))\n",
        "\n",
        "round(post_var,4)"
      ],
      "metadata": {
        "id": "evs8QAcI9HCg"
      },
      "execution_count": null,
      "outputs": []
    },
    {
      "cell_type": "markdown",
      "source": [
        "# <font color=\"darkblue\"> Probability Computations - Direct\n",
        "\n",
        "What is the probability that $\\theta=$ proportion of CHD exceeds some desired value, say 0.35\n",
        "\n",
        "$$Pr[\\theta|X>0.35]=\\int_{0.35}^1 \\pi(\\theta|X) d\\theta$$\n",
        "\n",
        "\n",
        "$$= \\int_{0.35}^1 \\frac{\\theta^{a+x-1}(1-\\theta)^{n-x+b-1}}{\\beta(a+x,n-x+b)} ~d\\theta$$ a,x,n,b are known\n",
        "\n",
        "This is **Incomplete Beta Function** [1](https://mathworld.wolfram.com/IncompleteBetaFunction.html) or [2](https://en.wikipedia.org/wiki/Beta_function)\n",
        "\n",
        "# <font color=\"darkblue\"> Probability Computations - Handy\n",
        "\n",
        "## <font color=\"darkblue\"> Monte-Carlo Simulation\n",
        "\n",
        "Algorithm\n",
        "\n",
        "----\n",
        "1. Generate $\\theta$ from its posterior $\\pi(\\theta|X)$ (size=k)\n",
        "\n",
        "2. Count how many $\\theta$'s satisfy the desired condition (length=m)\n",
        "\n",
        "3. Find the ratio $\\frac{m}{k}$\n",
        "-----\n",
        "\n",
        "In this case, $$\\pi(\\theta|X)=\\mathrm{Beta}(a+x,n-x+b)$$"
      ],
      "metadata": {
        "id": "N_VD1Z1WCXbr"
      }
    },
    {
      "cell_type": "code",
      "source": [
        "k=1000\n",
        "rand_gen=st.beta.rvs(a+x,n-x+b,size=k)\n",
        "m=np.count_nonzero(rand_gen > 0.35, axis=0)\n",
        "print(m/k)"
      ],
      "metadata": {
        "id": "g5Ne4yjWIHfd",
        "colab": {
          "base_uri": "https://localhost:8080/"
        },
        "outputId": "5d1f0271-6ae8-4fdc-f8af-56542602e05b"
      },
      "execution_count": null,
      "outputs": [
        {
          "output_type": "stream",
          "name": "stdout",
          "text": [
            "0.424\n"
          ]
        }
      ]
    },
    {
      "cell_type": "code",
      "source": [
        "plt.hist(rand_gen)\n",
        "plt.show()"
      ],
      "metadata": {
        "id": "5gSw2usvMZ6l"
      },
      "execution_count": null,
      "outputs": []
    },
    {
      "cell_type": "markdown",
      "source": [
        "# <font color=\"darkblue\"> Probability Between Two $\\theta$ Values\n",
        "\n",
        "We may interested to find a probability about the quantity of interest $\\theta$ from its posterior\n",
        "\n",
        "$\\theta$ lies between chosen two values $L~ \\&~ U$. That is to find\n",
        "\n",
        "$$Pr[L < \\theta|X < U]$$\n",
        "\n",
        "<font color=\"darkred\"> Again we look for **handy** approach"
      ],
      "metadata": {
        "id": "JR1NynUhR0yC"
      }
    },
    {
      "cell_type": "code",
      "source": [
        "L=0.30\n",
        "\n",
        "U=0.36\n",
        "\n",
        "intr_est=np.count_nonzero((rand_gen>L) & (rand_gen < U))\n",
        "\n",
        "intr_est/k"
      ],
      "metadata": {
        "id": "UK3uKGAdMg88"
      },
      "execution_count": null,
      "outputs": []
    },
    {
      "cell_type": "markdown",
      "source": [
        "# <font color=\"darkblue\"> Interval Estimation\n",
        "\n",
        "## Credible Intervals\n",
        "\n",
        "It is possible in Bayesian culture to talk about interval estimation directly in terms of the quantity of interest\n",
        "\n",
        "That is if we are interested in finding two values of $a~ \\& ~b$ such that\n",
        "\n",
        "$$Pr[a < \\theta < b]=\\alpha$$ for a pre-specified (desired) probability\n",
        "\n",
        "\n",
        "\n",
        "# <font color=\"red\"> With a probability $\\alpha$, what is the probabilty that $\\theta$ lies in the set $(a, b)$\n",
        "\n",
        "\n",
        "![CrInter.png](data:image/png;base64,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)"
      ],
      "metadata": {
        "id": "_kcuHUJB1uGW"
      }
    },
    {
      "cell_type": "markdown",
      "source": [
        "## <font color=\"green\"> PPF to find a and b using the folloing convention\n",
        "\n",
        "1. Find $\\frac{\\alpha}{2}$\n",
        "\n",
        "1. $1-\\frac{\\alpha}{2}$\n",
        "\n",
        "1. Use PPF with these two values to find $a ~ \\& ~ b$\n",
        "\n",
        "## Example,\n",
        "\n",
        "If the intention is to obtain $95\\%$ Credible Interval then $\\alpha=0.05$ then the above two numbers are\n",
        "\n",
        "1. 0.025\n",
        "\n",
        "1. 0.975"
      ],
      "metadata": {
        "id": "InWrSBLF948j"
      }
    },
    {
      "cell_type": "code",
      "source": [
        "# 95% Credible Interval\n",
        "\n",
        "np.quantile(rand_gen,[0.025,0.975])"
      ],
      "metadata": {
        "id": "iby8z6UDxHuh",
        "colab": {
          "base_uri": "https://localhost:8080/"
        },
        "outputId": "a0554a8a-36f4-4bdc-ffd8-1647fa907792"
      },
      "execution_count": null,
      "outputs": [
        {
          "output_type": "execute_result",
          "data": {
            "text/plain": [
              "array([0.30633846, 0.38861513])"
            ]
          },
          "metadata": {},
          "execution_count": 64
        }
      ]
    },
    {
      "cell_type": "markdown",
      "source": [
        "## <font color=\"darkviolet\"> Check using Monte Carlo simulation values"
      ],
      "metadata": {
        "id": "YMIMOWYo_9nP"
      }
    },
    {
      "cell_type": "code",
      "source": [
        "L=np.quantile(rand_gen,0.025)\n",
        "\n",
        "U=np.quantile(rand_gen,0.975)\n",
        "\n",
        "intr_est=np.count_nonzero((rand_gen>L) & (rand_gen < U))\n",
        "\n",
        "intr_est/k"
      ],
      "metadata": {
        "id": "oKUZeTrVxUcP"
      },
      "execution_count": null,
      "outputs": []
    },
    {
      "cell_type": "markdown",
      "source": [
        "# <font color=\"darkblue\"> Transformations\n",
        "\n",
        "## Proportions to Odds, log(Odds)"
      ],
      "metadata": {
        "id": "27gRxiXlOBgW"
      }
    },
    {
      "cell_type": "code",
      "source": [
        "odds=rand_gen/(1-rand_gen)\n",
        "\n",
        "m=np.mean(odds)\n",
        "med=np.median(odds)\n",
        "mini=np.min(odds)\n",
        "maxi=np.max(odds)\n",
        "sd=np.std(odds)\n",
        "ans=pd.DataFrame([m,med,mini,maxi,sd])\n",
        "ans.columns=[\"Odds\"]\n",
        "print(round(ans,4))"
      ],
      "metadata": {
        "id": "mRn0kskwOUVQ",
        "colab": {
          "base_uri": "https://localhost:8080/"
        },
        "outputId": "b92a397c-c4da-41aa-97e3-6dfc527e0a99"
      },
      "execution_count": null,
      "outputs": [
        {
          "output_type": "stream",
          "name": "stdout",
          "text": [
            "     Odds\n",
            "0  0.5314\n",
            "1  0.5286\n",
            "2  0.3832\n",
            "3  0.7073\n",
            "4  0.0509\n"
          ]
        }
      ]
    },
    {
      "cell_type": "code",
      "source": [
        "1/m"
      ],
      "metadata": {
        "colab": {
          "base_uri": "https://localhost:8080/"
        },
        "id": "QkGi-dNjN4c8",
        "outputId": "adf4a667-bfab-4347-e950-02b35b59d4e1"
      },
      "execution_count": null,
      "outputs": [
        {
          "output_type": "execute_result",
          "data": {
            "text/plain": [
              "1.88186810816182"
            ]
          },
          "metadata": {},
          "execution_count": 60
        }
      ]
    },
    {
      "cell_type": "markdown",
      "source": [
        "# <font color=\"darkblue\"> Sequential Update\n",
        "\n",
        "## $p_0(\\theta)$\n",
        "\n",
        "$a = 1$ and $b = 1$\n",
        "\n",
        "## $p_1(\\theta)=\\pi_1(\\theta|X) $\n",
        "\n",
        "$a = 161$ and $b = 303$\n",
        "\n",
        "<font color=\"darkviolet\">**New Data**\n",
        "\n",
        "x=10 and n=30\n",
        "\n",
        "## $\\pi_2(\\theta|X)$\n",
        "\n",
        "A beta distribution with parameters $161 + 10 = 171$ and $30-10+303=328$\n",
        "\n",
        "## $p_2(\\theta)=\\pi_2(\\theta|X) $\n",
        "\n",
        "$a = 171$ and $b = 328$\n",
        "\n",
        "\n",
        "$\\ddots$ $\\ddots$ $\\ddots$ $\\ddots$ $\\ddots$ $\\ddots$ $\\ddots$ $\\ddots$ $\\ddots$ $\\ddots$ $\\ddots$ $\\ddots$ $\\ddots$ $\\ddots$ $\\ddots$ $\\ddots$\n",
        "$\\ddots$ $\\ddots$ $\\ddots$ $\\ddots$ $\\ddots$\n",
        "\n",
        "\n",
        "\n"
      ],
      "metadata": {
        "id": "COyJWWJffhTQ"
      }
    },
    {
      "cell_type": "markdown",
      "source": [
        "# Predictive Distributions"
      ],
      "metadata": {
        "id": "hwhAw1h0plov"
      }
    },
    {
      "cell_type": "code",
      "source": [
        "k=0\n",
        "n=12\n",
        "a=k+post_shap1\n",
        "b=n-k+post_shap2\n",
        "loc=0\n",
        "\n",
        "st.betabinom.pmf(k, n, a, b, loc)"
      ],
      "metadata": {
        "colab": {
          "base_uri": "https://localhost:8080/"
        },
        "id": "n92WriuDpmHY",
        "outputId": "6501a0d8-edfb-4253-b7b8-4aed307c2a5f"
      },
      "execution_count": null,
      "outputs": [
        {
          "output_type": "execute_result",
          "data": {
            "text/plain": [
              "0.007561579497777353"
            ]
          },
          "metadata": {},
          "execution_count": 63
        }
      ]
    },
    {
      "cell_type": "code",
      "source": [
        "k=np.arange(0,13)\n",
        "n=12\n",
        "a=post_shap1\n",
        "b=post_shap2\n",
        "loc=0\n",
        "\n",
        "pred_prob=pd.DataFrame(st.betabinom.pmf(k, n, a, b, loc))\n",
        "possi=pd.DataFrame(k)\n",
        "ans=pd.concat([possi,pred_prob],1)\n",
        "ans.columns=([\"Y=y\",\"Pr[Y|X]\"])\n",
        "\n",
        "ans\n",
        "# ans['Pr[Y|X]'].sum()\n",
        "\n",
        "# fig = plt.figure(figsize = (20, 8))\n",
        "# ans['Pr[Y|X]'].plot(kind='bar')\n",
        "# plt.show()"
      ],
      "metadata": {
        "id": "l9jJSLEFqEd5"
      },
      "execution_count": null,
      "outputs": []
    }
  ]
}