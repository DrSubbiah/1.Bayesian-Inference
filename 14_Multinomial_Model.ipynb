{
  "nbformat": 4,
  "nbformat_minor": 0,
  "metadata": {
    "colab": {
      "provenance": [],
      "include_colab_link": true
    },
    "kernelspec": {
      "name": "python3",
      "display_name": "Python 3"
    },
    "language_info": {
      "name": "python"
    }
  },
  "cells": [
    {
      "cell_type": "markdown",
      "metadata": {
        "id": "view-in-github",
        "colab_type": "text"
      },
      "source": [
        "<a href=\"https://colab.research.google.com/github/DrSubbiah/1.Bayesian-Inference/blob/master/14_Multinomial_Model.ipynb\" target=\"_parent\"><img src=\"https://colab.research.google.com/assets/colab-badge.svg\" alt=\"Open In Colab\"/></a>"
      ]
    },
    {
      "cell_type": "markdown",
      "source": [
        "# <font color=\"darkblue\">Polychotomous (Multi Classification) Data Model"
      ],
      "metadata": {
        "id": "XlUc5i8MuNiz"
      }
    },
    {
      "cell_type": "code",
      "source": [
        "import tensorflow as tf\n",
        "tf.test.gpu_device_name()"
      ],
      "metadata": {
        "colab": {
          "base_uri": "https://localhost:8080/",
          "height": 35
        },
        "id": "Vf2bFOUNT-LJ",
        "outputId": "2a43f793-13bc-4682-c015-a17f36b88e44"
      },
      "execution_count": null,
      "outputs": [
        {
          "output_type": "execute_result",
          "data": {
            "application/vnd.google.colaboratory.intrinsic+json": {
              "type": "string"
            },
            "text/plain": [
              "'/device:GPU:0'"
            ]
          },
          "metadata": {},
          "execution_count": 16
        }
      ]
    },
    {
      "cell_type": "code",
      "metadata": {
        "id": "UDzJwyIZdo5d"
      },
      "source": [
        "import numpy as np\n",
        "import pandas as pd\n",
        "import statistics as stat\n",
        "import scipy\n",
        "import pystan"
      ],
      "execution_count": null,
      "outputs": []
    },
    {
      "cell_type": "code",
      "source": [
        "#For plots\n",
        "import arviz as az\n",
        "import matplotlib.pyplot as plt"
      ],
      "metadata": {
        "id": "GZVS5yLEzsho"
      },
      "execution_count": null,
      "outputs": []
    },
    {
      "cell_type": "markdown",
      "source": [
        "#<font color=\"darkblue\"> Loading Data"
      ],
      "metadata": {
        "id": "oTAaS7BCvrOK"
      }
    },
    {
      "cell_type": "code",
      "source": [
        "from google.colab import drive\n",
        "drive.mount('/content/drive')"
      ],
      "metadata": {
        "id": "r2OBfEcUrmIf",
        "colab": {
          "base_uri": "https://localhost:8080/"
        },
        "outputId": "e05b616a-9884-4eef-b656-7995fd3f0061"
      },
      "execution_count": null,
      "outputs": [
        {
          "output_type": "stream",
          "name": "stdout",
          "text": [
            "Mounted at /content/drive\n"
          ]
        }
      ]
    },
    {
      "cell_type": "code",
      "source": [
        "path = \"/content/drive/MyDrive/Data Sets/ProgramChoice.csv\"\n",
        "progcho_da = pd.read_csv(path)"
      ],
      "metadata": {
        "id": "aAMvPAg5osYd"
      },
      "execution_count": null,
      "outputs": []
    },
    {
      "cell_type": "code",
      "source": [
        "conditions = [\n",
        "    (progcho_da[\"prog\"]==\"academic\"),\n",
        "    (progcho_da[\"prog\"]==\"general\"),\n",
        "    (progcho_da[\"prog\"]==\"vocation\"),]\n",
        "choices = [1, 2, 3]\n",
        "\n",
        "progcho_da[\"prog_c\"] = np.select(conditions, choices)"
      ],
      "metadata": {
        "id": "foPpu3pF_KaM"
      },
      "execution_count": null,
      "outputs": []
    },
    {
      "cell_type": "code",
      "source": [
        "progcho_da_1=progcho_da.sample(n=100,replace=False)"
      ],
      "metadata": {
        "id": "j4D6oPunK_si"
      },
      "execution_count": null,
      "outputs": []
    },
    {
      "cell_type": "code",
      "source": [
        "progcho_da.head()"
      ],
      "metadata": {
        "id": "xHioRCj_qRic",
        "colab": {
          "base_uri": "https://localhost:8080/",
          "height": 206
        },
        "outputId": "ae620e2b-bcd0-40be-a678-ef57f4979562"
      },
      "execution_count": null,
      "outputs": [
        {
          "output_type": "execute_result",
          "data": {
            "text/html": [
              "\n",
              "  <div id=\"df-d25bd6f6-04da-47c2-85de-7b03164e4c1d\">\n",
              "    <div class=\"colab-df-container\">\n",
              "      <div>\n",
              "<style scoped>\n",
              "    .dataframe tbody tr th:only-of-type {\n",
              "        vertical-align: middle;\n",
              "    }\n",
              "\n",
              "    .dataframe tbody tr th {\n",
              "        vertical-align: top;\n",
              "    }\n",
              "\n",
              "    .dataframe thead th {\n",
              "        text-align: right;\n",
              "    }\n",
              "</style>\n",
              "<table border=\"1\" class=\"dataframe\">\n",
              "  <thead>\n",
              "    <tr style=\"text-align: right;\">\n",
              "      <th></th>\n",
              "      <th>Unnamed: 0</th>\n",
              "      <th>id</th>\n",
              "      <th>female</th>\n",
              "      <th>ses</th>\n",
              "      <th>schtyp</th>\n",
              "      <th>prog</th>\n",
              "      <th>read</th>\n",
              "      <th>write</th>\n",
              "      <th>math</th>\n",
              "      <th>science</th>\n",
              "      <th>socst</th>\n",
              "      <th>honors</th>\n",
              "      <th>awards</th>\n",
              "      <th>cid</th>\n",
              "      <th>prog_c</th>\n",
              "    </tr>\n",
              "  </thead>\n",
              "  <tbody>\n",
              "    <tr>\n",
              "      <th>0</th>\n",
              "      <td>1</td>\n",
              "      <td>45</td>\n",
              "      <td>female</td>\n",
              "      <td>low</td>\n",
              "      <td>public</td>\n",
              "      <td>vocation</td>\n",
              "      <td>34</td>\n",
              "      <td>35</td>\n",
              "      <td>41</td>\n",
              "      <td>29</td>\n",
              "      <td>26</td>\n",
              "      <td>not enrolled</td>\n",
              "      <td>0</td>\n",
              "      <td>1</td>\n",
              "      <td>3</td>\n",
              "    </tr>\n",
              "    <tr>\n",
              "      <th>1</th>\n",
              "      <td>2</td>\n",
              "      <td>108</td>\n",
              "      <td>male</td>\n",
              "      <td>middle</td>\n",
              "      <td>public</td>\n",
              "      <td>general</td>\n",
              "      <td>34</td>\n",
              "      <td>33</td>\n",
              "      <td>41</td>\n",
              "      <td>36</td>\n",
              "      <td>36</td>\n",
              "      <td>not enrolled</td>\n",
              "      <td>0</td>\n",
              "      <td>1</td>\n",
              "      <td>2</td>\n",
              "    </tr>\n",
              "    <tr>\n",
              "      <th>2</th>\n",
              "      <td>3</td>\n",
              "      <td>15</td>\n",
              "      <td>male</td>\n",
              "      <td>high</td>\n",
              "      <td>public</td>\n",
              "      <td>vocation</td>\n",
              "      <td>39</td>\n",
              "      <td>39</td>\n",
              "      <td>44</td>\n",
              "      <td>26</td>\n",
              "      <td>42</td>\n",
              "      <td>not enrolled</td>\n",
              "      <td>0</td>\n",
              "      <td>1</td>\n",
              "      <td>3</td>\n",
              "    </tr>\n",
              "    <tr>\n",
              "      <th>3</th>\n",
              "      <td>4</td>\n",
              "      <td>67</td>\n",
              "      <td>male</td>\n",
              "      <td>low</td>\n",
              "      <td>public</td>\n",
              "      <td>vocation</td>\n",
              "      <td>37</td>\n",
              "      <td>37</td>\n",
              "      <td>42</td>\n",
              "      <td>33</td>\n",
              "      <td>32</td>\n",
              "      <td>not enrolled</td>\n",
              "      <td>0</td>\n",
              "      <td>1</td>\n",
              "      <td>3</td>\n",
              "    </tr>\n",
              "    <tr>\n",
              "      <th>4</th>\n",
              "      <td>5</td>\n",
              "      <td>153</td>\n",
              "      <td>male</td>\n",
              "      <td>middle</td>\n",
              "      <td>public</td>\n",
              "      <td>vocation</td>\n",
              "      <td>39</td>\n",
              "      <td>31</td>\n",
              "      <td>40</td>\n",
              "      <td>39</td>\n",
              "      <td>51</td>\n",
              "      <td>not enrolled</td>\n",
              "      <td>0</td>\n",
              "      <td>1</td>\n",
              "      <td>3</td>\n",
              "    </tr>\n",
              "  </tbody>\n",
              "</table>\n",
              "</div>\n",
              "      <button class=\"colab-df-convert\" onclick=\"convertToInteractive('df-d25bd6f6-04da-47c2-85de-7b03164e4c1d')\"\n",
              "              title=\"Convert this dataframe to an interactive table.\"\n",
              "              style=\"display:none;\">\n",
              "        \n",
              "  <svg xmlns=\"http://www.w3.org/2000/svg\" height=\"24px\"viewBox=\"0 0 24 24\"\n",
              "       width=\"24px\">\n",
              "    <path d=\"M0 0h24v24H0V0z\" fill=\"none\"/>\n",
              "    <path d=\"M18.56 5.44l.94 2.06.94-2.06 2.06-.94-2.06-.94-.94-2.06-.94 2.06-2.06.94zm-11 1L8.5 8.5l.94-2.06 2.06-.94-2.06-.94L8.5 2.5l-.94 2.06-2.06.94zm10 10l.94 2.06.94-2.06 2.06-.94-2.06-.94-.94-2.06-.94 2.06-2.06.94z\"/><path d=\"M17.41 7.96l-1.37-1.37c-.4-.4-.92-.59-1.43-.59-.52 0-1.04.2-1.43.59L10.3 9.45l-7.72 7.72c-.78.78-.78 2.05 0 2.83L4 21.41c.39.39.9.59 1.41.59.51 0 1.02-.2 1.41-.59l7.78-7.78 2.81-2.81c.8-.78.8-2.07 0-2.86zM5.41 20L4 18.59l7.72-7.72 1.47 1.35L5.41 20z\"/>\n",
              "  </svg>\n",
              "      </button>\n",
              "      \n",
              "  <style>\n",
              "    .colab-df-container {\n",
              "      display:flex;\n",
              "      flex-wrap:wrap;\n",
              "      gap: 12px;\n",
              "    }\n",
              "\n",
              "    .colab-df-convert {\n",
              "      background-color: #E8F0FE;\n",
              "      border: none;\n",
              "      border-radius: 50%;\n",
              "      cursor: pointer;\n",
              "      display: none;\n",
              "      fill: #1967D2;\n",
              "      height: 32px;\n",
              "      padding: 0 0 0 0;\n",
              "      width: 32px;\n",
              "    }\n",
              "\n",
              "    .colab-df-convert:hover {\n",
              "      background-color: #E2EBFA;\n",
              "      box-shadow: 0px 1px 2px rgba(60, 64, 67, 0.3), 0px 1px 3px 1px rgba(60, 64, 67, 0.15);\n",
              "      fill: #174EA6;\n",
              "    }\n",
              "\n",
              "    [theme=dark] .colab-df-convert {\n",
              "      background-color: #3B4455;\n",
              "      fill: #D2E3FC;\n",
              "    }\n",
              "\n",
              "    [theme=dark] .colab-df-convert:hover {\n",
              "      background-color: #434B5C;\n",
              "      box-shadow: 0px 1px 3px 1px rgba(0, 0, 0, 0.15);\n",
              "      filter: drop-shadow(0px 1px 2px rgba(0, 0, 0, 0.3));\n",
              "      fill: #FFFFFF;\n",
              "    }\n",
              "  </style>\n",
              "\n",
              "      <script>\n",
              "        const buttonEl =\n",
              "          document.querySelector('#df-d25bd6f6-04da-47c2-85de-7b03164e4c1d button.colab-df-convert');\n",
              "        buttonEl.style.display =\n",
              "          google.colab.kernel.accessAllowed ? 'block' : 'none';\n",
              "\n",
              "        async function convertToInteractive(key) {\n",
              "          const element = document.querySelector('#df-d25bd6f6-04da-47c2-85de-7b03164e4c1d');\n",
              "          const dataTable =\n",
              "            await google.colab.kernel.invokeFunction('convertToInteractive',\n",
              "                                                     [key], {});\n",
              "          if (!dataTable) return;\n",
              "\n",
              "          const docLinkHtml = 'Like what you see? Visit the ' +\n",
              "            '<a target=\"_blank\" href=https://colab.research.google.com/notebooks/data_table.ipynb>data table notebook</a>'\n",
              "            + ' to learn more about interactive tables.';\n",
              "          element.innerHTML = '';\n",
              "          dataTable['output_type'] = 'display_data';\n",
              "          await google.colab.output.renderOutput(dataTable, element);\n",
              "          const docLink = document.createElement('div');\n",
              "          docLink.innerHTML = docLinkHtml;\n",
              "          element.appendChild(docLink);\n",
              "        }\n",
              "      </script>\n",
              "    </div>\n",
              "  </div>\n",
              "  "
            ],
            "text/plain": [
              "   Unnamed: 0   id  female     ses  ...        honors awards  cid  prog_c\n",
              "0           1   45  female     low  ...  not enrolled      0    1       3\n",
              "1           2  108    male  middle  ...  not enrolled      0    1       2\n",
              "2           3   15    male    high  ...  not enrolled      0    1       3\n",
              "3           4   67    male     low  ...  not enrolled      0    1       3\n",
              "4           5  153    male  middle  ...  not enrolled      0    1       3\n",
              "\n",
              "[5 rows x 15 columns]"
            ]
          },
          "metadata": {},
          "execution_count": 17
        }
      ]
    },
    {
      "cell_type": "code",
      "source": [
        "progcho_da.columns"
      ],
      "metadata": {
        "id": "G2uxwdvKI3Ot"
      },
      "execution_count": null,
      "outputs": []
    },
    {
      "cell_type": "code",
      "source": [
        "progcho_da.dtypes"
      ],
      "metadata": {
        "id": "uHCAGy6qVota"
      },
      "execution_count": null,
      "outputs": []
    },
    {
      "cell_type": "code",
      "source": [
        "prog_cnt=progcho_da.prog.value_counts()\n",
        "prog_cnt=pd.DataFrame(prog_cnt)\n",
        "prog_cnt['sam_prop']=prog_cnt['prog'].apply(lambda x: x/np.sum(prog_cnt.prog))\n",
        "prog_cnt"
      ],
      "metadata": {
        "id": "olBRehv3WiAL",
        "colab": {
          "base_uri": "https://localhost:8080/",
          "height": 143
        },
        "outputId": "fc994f49-ca96-4c4f-8138-f5239e64e4a2"
      },
      "execution_count": null,
      "outputs": [
        {
          "output_type": "execute_result",
          "data": {
            "text/html": [
              "\n",
              "  <div id=\"df-87679e13-d621-4abd-9c62-cf3f2bead680\">\n",
              "    <div class=\"colab-df-container\">\n",
              "      <div>\n",
              "<style scoped>\n",
              "    .dataframe tbody tr th:only-of-type {\n",
              "        vertical-align: middle;\n",
              "    }\n",
              "\n",
              "    .dataframe tbody tr th {\n",
              "        vertical-align: top;\n",
              "    }\n",
              "\n",
              "    .dataframe thead th {\n",
              "        text-align: right;\n",
              "    }\n",
              "</style>\n",
              "<table border=\"1\" class=\"dataframe\">\n",
              "  <thead>\n",
              "    <tr style=\"text-align: right;\">\n",
              "      <th></th>\n",
              "      <th>prog</th>\n",
              "      <th>sam_prop</th>\n",
              "    </tr>\n",
              "  </thead>\n",
              "  <tbody>\n",
              "    <tr>\n",
              "      <th>academic</th>\n",
              "      <td>105</td>\n",
              "      <td>0.525</td>\n",
              "    </tr>\n",
              "    <tr>\n",
              "      <th>vocation</th>\n",
              "      <td>50</td>\n",
              "      <td>0.250</td>\n",
              "    </tr>\n",
              "    <tr>\n",
              "      <th>general</th>\n",
              "      <td>45</td>\n",
              "      <td>0.225</td>\n",
              "    </tr>\n",
              "  </tbody>\n",
              "</table>\n",
              "</div>\n",
              "      <button class=\"colab-df-convert\" onclick=\"convertToInteractive('df-87679e13-d621-4abd-9c62-cf3f2bead680')\"\n",
              "              title=\"Convert this dataframe to an interactive table.\"\n",
              "              style=\"display:none;\">\n",
              "        \n",
              "  <svg xmlns=\"http://www.w3.org/2000/svg\" height=\"24px\"viewBox=\"0 0 24 24\"\n",
              "       width=\"24px\">\n",
              "    <path d=\"M0 0h24v24H0V0z\" fill=\"none\"/>\n",
              "    <path d=\"M18.56 5.44l.94 2.06.94-2.06 2.06-.94-2.06-.94-.94-2.06-.94 2.06-2.06.94zm-11 1L8.5 8.5l.94-2.06 2.06-.94-2.06-.94L8.5 2.5l-.94 2.06-2.06.94zm10 10l.94 2.06.94-2.06 2.06-.94-2.06-.94-.94-2.06-.94 2.06-2.06.94z\"/><path d=\"M17.41 7.96l-1.37-1.37c-.4-.4-.92-.59-1.43-.59-.52 0-1.04.2-1.43.59L10.3 9.45l-7.72 7.72c-.78.78-.78 2.05 0 2.83L4 21.41c.39.39.9.59 1.41.59.51 0 1.02-.2 1.41-.59l7.78-7.78 2.81-2.81c.8-.78.8-2.07 0-2.86zM5.41 20L4 18.59l7.72-7.72 1.47 1.35L5.41 20z\"/>\n",
              "  </svg>\n",
              "      </button>\n",
              "      \n",
              "  <style>\n",
              "    .colab-df-container {\n",
              "      display:flex;\n",
              "      flex-wrap:wrap;\n",
              "      gap: 12px;\n",
              "    }\n",
              "\n",
              "    .colab-df-convert {\n",
              "      background-color: #E8F0FE;\n",
              "      border: none;\n",
              "      border-radius: 50%;\n",
              "      cursor: pointer;\n",
              "      display: none;\n",
              "      fill: #1967D2;\n",
              "      height: 32px;\n",
              "      padding: 0 0 0 0;\n",
              "      width: 32px;\n",
              "    }\n",
              "\n",
              "    .colab-df-convert:hover {\n",
              "      background-color: #E2EBFA;\n",
              "      box-shadow: 0px 1px 2px rgba(60, 64, 67, 0.3), 0px 1px 3px 1px rgba(60, 64, 67, 0.15);\n",
              "      fill: #174EA6;\n",
              "    }\n",
              "\n",
              "    [theme=dark] .colab-df-convert {\n",
              "      background-color: #3B4455;\n",
              "      fill: #D2E3FC;\n",
              "    }\n",
              "\n",
              "    [theme=dark] .colab-df-convert:hover {\n",
              "      background-color: #434B5C;\n",
              "      box-shadow: 0px 1px 3px 1px rgba(0, 0, 0, 0.15);\n",
              "      filter: drop-shadow(0px 1px 2px rgba(0, 0, 0, 0.3));\n",
              "      fill: #FFFFFF;\n",
              "    }\n",
              "  </style>\n",
              "\n",
              "      <script>\n",
              "        const buttonEl =\n",
              "          document.querySelector('#df-87679e13-d621-4abd-9c62-cf3f2bead680 button.colab-df-convert');\n",
              "        buttonEl.style.display =\n",
              "          google.colab.kernel.accessAllowed ? 'block' : 'none';\n",
              "\n",
              "        async function convertToInteractive(key) {\n",
              "          const element = document.querySelector('#df-87679e13-d621-4abd-9c62-cf3f2bead680');\n",
              "          const dataTable =\n",
              "            await google.colab.kernel.invokeFunction('convertToInteractive',\n",
              "                                                     [key], {});\n",
              "          if (!dataTable) return;\n",
              "\n",
              "          const docLinkHtml = 'Like what you see? Visit the ' +\n",
              "            '<a target=\"_blank\" href=https://colab.research.google.com/notebooks/data_table.ipynb>data table notebook</a>'\n",
              "            + ' to learn more about interactive tables.';\n",
              "          element.innerHTML = '';\n",
              "          dataTable['output_type'] = 'display_data';\n",
              "          await google.colab.output.renderOutput(dataTable, element);\n",
              "          const docLink = document.createElement('div');\n",
              "          docLink.innerHTML = docLinkHtml;\n",
              "          element.appendChild(docLink);\n",
              "        }\n",
              "      </script>\n",
              "    </div>\n",
              "  </div>\n",
              "  "
            ],
            "text/plain": [
              "          prog  sam_prop\n",
              "academic   105     0.525\n",
              "vocation    50     0.250\n",
              "general     45     0.225"
            ]
          },
          "metadata": {},
          "execution_count": 6
        }
      ]
    },
    {
      "cell_type": "markdown",
      "source": [
        "# <font color=\"darkblue\"> Quantity of Interest QoI\n",
        "\n",
        "Choices for the students to enrol in a program\n",
        "\n",
        "1. general program\n",
        "\n",
        "2. vocational program\n",
        "\n",
        "3. academic program.\n",
        "\n",
        "**Model: Students' choice using their base scores and SES**\n",
        "\n",
        "- In this data set, QoI is *prog*, course choice by an applicant\n",
        "\n",
        "- A polychotomous variable with above three levels\n",
        "\n",
        "- Interest is to **estimate** the odds of choosing one option compared to a base level from the **sample** data\n",
        "\n",
        "- This may be done without any predictors as a step to summarize the behaviour of QoI\n",
        "\n",
        "- However, an explantory model may validate any question / uncertainty about the QoI and associations (if any) with predictors\n",
        "\n",
        "- As usual, it is better to know the nature of the variable to make appropriate summary measures and modeling procedures"
      ],
      "metadata": {
        "id": "B9Xnw6nIdagx"
      }
    },
    {
      "cell_type": "markdown",
      "source": [
        "# <font color=\"darkblue\"> Bayesian Model\n",
        "\n",
        "Assume a polychotomous variable with $k$ levels, and $n_1,n_2, \\cdots n_k$ are the counts in each of the $k$ classes\n",
        "\n",
        "Let $\\theta_1,\\theta_2, \\cdots \\theta_k$ be the proportion parameters for the class membership of the population\n",
        "\n",
        "Two conditions are $\\sum n_j = N$, the total counts and $\\sum \\theta_j = 1$, total probability is one\n",
        "\n",
        "In symbols,\n",
        "\n",
        "$$Y \\sim \\mathrm{Multinomial}(\\theta)$$ where $\\theta=(\\theta_1, \\theta_2, \\cdots \\theta_k)$\n",
        "\n",
        "$$\\theta \\sim \\mathrm{Dirichlet}(\\alpha)$$ where  $\\alpha=(\\alpha_1, \\alpha_2, \\cdots \\alpha_k)$\n",
        "\n",
        "\n",
        "### If $\\alpha_1=\\alpha_2=\\cdots=\\alpha_k=1$, then resultant Dirichlet is Uniform in k-dimesnion"
      ],
      "metadata": {
        "id": "uRCsTxSwe5N0"
      }
    },
    {
      "cell_type": "code",
      "source": [
        "mult_model1=\"\"\"\n",
        "data {\n",
        "  int<lower = 1> N;\n",
        "  int<lower = 2> k;\n",
        "  int<lower = 0,upper = k> y[N];\n",
        "  vector<lower=0>[k] a;\n",
        "}\n",
        "parameters {\n",
        "  simplex[k] theta;\n",
        "}\n",
        "\n",
        "\n",
        "model{\n",
        "  y~categorical(theta);\n",
        "  theta~dirichlet(a);\n",
        "}\n",
        "\"\"\"\n",
        "\n",
        "posterior_mod1 = pystan.StanModel(model_code=mult_model1)\n"
      ],
      "metadata": {
        "colab": {
          "base_uri": "https://localhost:8080/"
        },
        "id": "68O-nkvh9jyT",
        "outputId": "999e7962-3aca-4915-8827-324021b80696"
      },
      "execution_count": null,
      "outputs": [
        {
          "output_type": "stream",
          "name": "stderr",
          "text": [
            "INFO:pystan:COMPILING THE C++ CODE FOR MODEL anon_model_6b733c552659d5e6676dbedabaae308d NOW.\n"
          ]
        }
      ]
    },
    {
      "cell_type": "code",
      "metadata": {
        "id": "Bgg0s4Qo_Kah",
        "colab": {
          "base_uri": "https://localhost:8080/"
        },
        "outputId": "4bf6a587-7d36-4e91-9f96-fe4f3c127cbb"
      },
      "source": [
        "# Input - data and values for prior parameters a\n",
        "\n",
        "n=len(progcho_da)\n",
        "y1=progcho_da['prog_c']\n",
        "a1 = np.array([1])\n",
        "a=np.repeat(a1, [3], axis=0)\n",
        "progcho_data1 = {'N':n,\n",
        "             'k':3,\n",
        "             'a':a,\n",
        "             'y':y1,\n",
        "            }\n",
        "progcho_data1"
      ],
      "execution_count": null,
      "outputs": [
        {
          "output_type": "execute_result",
          "data": {
            "text/plain": [
              "{'N': 200, 'a': array([1, 1, 1]), 'k': 3, 'y': 0      3\n",
              " 1      2\n",
              " 2      3\n",
              " 3      3\n",
              " 4      3\n",
              "       ..\n",
              " 195    1\n",
              " 196    3\n",
              " 197    1\n",
              " 198    1\n",
              " 199    1\n",
              " Name: prog_c, Length: 200, dtype: int64}"
            ]
          },
          "metadata": {},
          "execution_count": 46
        }
      ]
    },
    {
      "cell_type": "code",
      "metadata": {
        "id": "0_dL15DABdg5"
      },
      "source": [
        "progcho_mod1_fit1= posterior_mod1.sampling(data=progcho_data1,\n",
        "                  iter=10000,\n",
        "                  chains=4,\n",
        "                  seed=1,\n",
        "                  warmup=3000,\n",
        "                  thin=1,\n",
        "                  control={\"max_treedepth\":15,\"adapt_delta\" : 0.9999})"
      ],
      "execution_count": null,
      "outputs": []
    },
    {
      "cell_type": "code",
      "metadata": {
        "id": "RaI0xRPwDKdc"
      },
      "source": [
        "az.plot_trace(progcho_mod1_fit1,compact=False, legend=True)\n",
        "plt.show()"
      ],
      "execution_count": null,
      "outputs": []
    },
    {
      "cell_type": "code",
      "metadata": {
        "id": "LdwLYK_xDKdv"
      },
      "source": [
        "summ_mod1=az.summary(progcho_mod1_fit1,round_to=3,hdi_prob=0.95)\n",
        "summ_mod1"
      ],
      "execution_count": null,
      "outputs": []
    },
    {
      "cell_type": "code",
      "source": [
        "mult_model2=\"\"\"\n",
        "data {\n",
        "  int<lower = 1> N;\n",
        "  int<lower = 2> k;\n",
        "  int<lower = 1,upper = k> y[N];\n",
        "  vector<lower=0>[k] a;\n",
        "}\n",
        "parameters {\n",
        "  simplex[k] theta;\n",
        "}\n",
        "model{\n",
        "  y~categorical(theta);\n",
        "  theta~dirichlet(a);\n",
        "}\n",
        "generated quantities{\n",
        "  int<lower = 1,upper = k> pred_y = categorical_rng(theta);\n",
        "  real<lower=-1,upper=1> th1_the2=theta[1]-theta[2];\n",
        "  real<lower=-1,upper=1> th1_the3=theta[1]-theta[3];\n",
        "  real<lower=-1,upper=1> th2_the3=theta[2]-theta[3];\n",
        "}\n",
        "\"\"\"\n",
        "\n",
        "posterior_mod2 = pystan.StanModel(model_code=mult_model2)"
      ],
      "metadata": {
        "colab": {
          "base_uri": "https://localhost:8080/"
        },
        "id": "uG0DqDrkAWv6",
        "outputId": "aa2e046e-9918-4989-e7a4-6eaac10e5585"
      },
      "execution_count": null,
      "outputs": [
        {
          "output_type": "stream",
          "name": "stderr",
          "text": [
            "INFO:pystan:COMPILING THE C++ CODE FOR MODEL anon_model_01109c701bbc9b3a54e6b16bcf37444c NOW.\n"
          ]
        }
      ]
    },
    {
      "cell_type": "code",
      "metadata": {
        "id": "ndJMGJ3vHvq4"
      },
      "source": [
        "progcho_mod2_fit= posterior_mod2.sampling(data=progcho_data1,\n",
        "                  iter=10000,\n",
        "                  chains=4,\n",
        "                  seed=1,\n",
        "                  warmup=3000,\n",
        "                  thin=1,\n",
        "                  control={\"max_treedepth\":15,\"adapt_delta\" : 0.9999})"
      ],
      "execution_count": null,
      "outputs": []
    },
    {
      "cell_type": "code",
      "metadata": {
        "id": "o3HC5_LiH2Ep"
      },
      "source": [
        "az.plot_trace(progcho_mod2_fit,compact=False, legend=True,var_names=[\"theta\"])\n",
        "plt.show()"
      ],
      "execution_count": null,
      "outputs": []
    },
    {
      "cell_type": "code",
      "metadata": {
        "id": "4Hs-lgj4H2Er"
      },
      "source": [
        "summ_mod2=az.summary(progcho_mod2_fit,round_to=3,hdi_prob=0.95)\n",
        "summ_mod2"
      ],
      "execution_count": null,
      "outputs": []
    },
    {
      "cell_type": "code",
      "source": [
        "progchoi_mod2_op=az.from_pystan(posterior=progcho_mod2_fit,\n",
        "                                posterior_predictive=['pred_y'])\n",
        "progchoi_mod2_op"
      ],
      "metadata": {
        "id": "PwSoqKP6I3uU"
      },
      "execution_count": null,
      "outputs": []
    },
    {
      "cell_type": "code",
      "source": [
        "df = progchoi_mod2_op.posterior_predictive.pred_y.to_dataframe()\n",
        "np.mean(df)"
      ],
      "metadata": {
        "id": "JR3QTr6rLL0i"
      },
      "execution_count": null,
      "outputs": []
    },
    {
      "cell_type": "code",
      "source": [
        "pred_cnt=df.value_counts()\n",
        "pred_cnt=pd.DataFrame(pred_cnt)\n",
        "pred_cnt.columns=[\"Count\"]\n",
        "pred_cnt['Class_prop']=pred_cnt['Count'].apply(lambda x: x/np.sum(pred_cnt.Count))\n",
        "pred_cnt\n",
        "#df.value_counts()"
      ],
      "metadata": {
        "colab": {
          "base_uri": "https://localhost:8080/",
          "height": 175
        },
        "id": "VyFTd6rnNRDA",
        "outputId": "2d87f306-1fd0-46da-b459-5e0f292410b8"
      },
      "execution_count": null,
      "outputs": [
        {
          "output_type": "execute_result",
          "data": {
            "text/html": [
              "\n",
              "  <div id=\"df-f75f9998-2648-463f-a221-56c3ef8b75ed\">\n",
              "    <div class=\"colab-df-container\">\n",
              "      <div>\n",
              "<style scoped>\n",
              "    .dataframe tbody tr th:only-of-type {\n",
              "        vertical-align: middle;\n",
              "    }\n",
              "\n",
              "    .dataframe tbody tr th {\n",
              "        vertical-align: top;\n",
              "    }\n",
              "\n",
              "    .dataframe thead th {\n",
              "        text-align: right;\n",
              "    }\n",
              "</style>\n",
              "<table border=\"1\" class=\"dataframe\">\n",
              "  <thead>\n",
              "    <tr style=\"text-align: right;\">\n",
              "      <th></th>\n",
              "      <th>Count</th>\n",
              "      <th>Class_prop</th>\n",
              "    </tr>\n",
              "    <tr>\n",
              "      <th>pred_y</th>\n",
              "      <th></th>\n",
              "      <th></th>\n",
              "    </tr>\n",
              "  </thead>\n",
              "  <tbody>\n",
              "    <tr>\n",
              "      <th>1.0</th>\n",
              "      <td>14581</td>\n",
              "      <td>0.520750</td>\n",
              "    </tr>\n",
              "    <tr>\n",
              "      <th>3.0</th>\n",
              "      <td>7073</td>\n",
              "      <td>0.252607</td>\n",
              "    </tr>\n",
              "    <tr>\n",
              "      <th>2.0</th>\n",
              "      <td>6346</td>\n",
              "      <td>0.226643</td>\n",
              "    </tr>\n",
              "  </tbody>\n",
              "</table>\n",
              "</div>\n",
              "      <button class=\"colab-df-convert\" onclick=\"convertToInteractive('df-f75f9998-2648-463f-a221-56c3ef8b75ed')\"\n",
              "              title=\"Convert this dataframe to an interactive table.\"\n",
              "              style=\"display:none;\">\n",
              "        \n",
              "  <svg xmlns=\"http://www.w3.org/2000/svg\" height=\"24px\"viewBox=\"0 0 24 24\"\n",
              "       width=\"24px\">\n",
              "    <path d=\"M0 0h24v24H0V0z\" fill=\"none\"/>\n",
              "    <path d=\"M18.56 5.44l.94 2.06.94-2.06 2.06-.94-2.06-.94-.94-2.06-.94 2.06-2.06.94zm-11 1L8.5 8.5l.94-2.06 2.06-.94-2.06-.94L8.5 2.5l-.94 2.06-2.06.94zm10 10l.94 2.06.94-2.06 2.06-.94-2.06-.94-.94-2.06-.94 2.06-2.06.94z\"/><path d=\"M17.41 7.96l-1.37-1.37c-.4-.4-.92-.59-1.43-.59-.52 0-1.04.2-1.43.59L10.3 9.45l-7.72 7.72c-.78.78-.78 2.05 0 2.83L4 21.41c.39.39.9.59 1.41.59.51 0 1.02-.2 1.41-.59l7.78-7.78 2.81-2.81c.8-.78.8-2.07 0-2.86zM5.41 20L4 18.59l7.72-7.72 1.47 1.35L5.41 20z\"/>\n",
              "  </svg>\n",
              "      </button>\n",
              "      \n",
              "  <style>\n",
              "    .colab-df-container {\n",
              "      display:flex;\n",
              "      flex-wrap:wrap;\n",
              "      gap: 12px;\n",
              "    }\n",
              "\n",
              "    .colab-df-convert {\n",
              "      background-color: #E8F0FE;\n",
              "      border: none;\n",
              "      border-radius: 50%;\n",
              "      cursor: pointer;\n",
              "      display: none;\n",
              "      fill: #1967D2;\n",
              "      height: 32px;\n",
              "      padding: 0 0 0 0;\n",
              "      width: 32px;\n",
              "    }\n",
              "\n",
              "    .colab-df-convert:hover {\n",
              "      background-color: #E2EBFA;\n",
              "      box-shadow: 0px 1px 2px rgba(60, 64, 67, 0.3), 0px 1px 3px 1px rgba(60, 64, 67, 0.15);\n",
              "      fill: #174EA6;\n",
              "    }\n",
              "\n",
              "    [theme=dark] .colab-df-convert {\n",
              "      background-color: #3B4455;\n",
              "      fill: #D2E3FC;\n",
              "    }\n",
              "\n",
              "    [theme=dark] .colab-df-convert:hover {\n",
              "      background-color: #434B5C;\n",
              "      box-shadow: 0px 1px 3px 1px rgba(0, 0, 0, 0.15);\n",
              "      filter: drop-shadow(0px 1px 2px rgba(0, 0, 0, 0.3));\n",
              "      fill: #FFFFFF;\n",
              "    }\n",
              "  </style>\n",
              "\n",
              "      <script>\n",
              "        const buttonEl =\n",
              "          document.querySelector('#df-f75f9998-2648-463f-a221-56c3ef8b75ed button.colab-df-convert');\n",
              "        buttonEl.style.display =\n",
              "          google.colab.kernel.accessAllowed ? 'block' : 'none';\n",
              "\n",
              "        async function convertToInteractive(key) {\n",
              "          const element = document.querySelector('#df-f75f9998-2648-463f-a221-56c3ef8b75ed');\n",
              "          const dataTable =\n",
              "            await google.colab.kernel.invokeFunction('convertToInteractive',\n",
              "                                                     [key], {});\n",
              "          if (!dataTable) return;\n",
              "\n",
              "          const docLinkHtml = 'Like what you see? Visit the ' +\n",
              "            '<a target=\"_blank\" href=https://colab.research.google.com/notebooks/data_table.ipynb>data table notebook</a>'\n",
              "            + ' to learn more about interactive tables.';\n",
              "          element.innerHTML = '';\n",
              "          dataTable['output_type'] = 'display_data';\n",
              "          await google.colab.output.renderOutput(dataTable, element);\n",
              "          const docLink = document.createElement('div');\n",
              "          docLink.innerHTML = docLinkHtml;\n",
              "          element.appendChild(docLink);\n",
              "        }\n",
              "      </script>\n",
              "    </div>\n",
              "  </div>\n",
              "  "
            ],
            "text/plain": [
              "        Count  Class_prop\n",
              "pred_y                   \n",
              "1.0     14581    0.520750\n",
              "3.0      7073    0.252607\n",
              "2.0      6346    0.226643"
            ]
          },
          "metadata": {},
          "execution_count": 56
        }
      ]
    },
    {
      "cell_type": "code",
      "source": [
        "mult_fit1=\"\"\"\n",
        "data {\n",
        "  int<lower = 2> K;\n",
        "  int<lower = 0> N;\n",
        "  int<lower = 1> D;\n",
        "  int<lower = 1, upper = K> y[N];\n",
        "  matrix[N, D] x;\n",
        "}\n",
        "parameters {\n",
        "  matrix[D, K] beta;\n",
        "}\n",
        "\n",
        "model {\n",
        "  matrix[N, K] x_beta = x * beta;\n",
        "\n",
        "  to_vector(beta) ~ cauchy(0, 2.5); //normal(0, 5);\n",
        "\n",
        "  for (n in 1:N)\n",
        "    y[n] ~ categorical_logit(x_beta[n]');\n",
        "}\n",
        "\"\"\"\n",
        "posterior_fit1 = pystan.StanModel(model_code=mult_fit1)"
      ],
      "metadata": {
        "id": "7okhDinNg478",
        "colab": {
          "base_uri": "https://localhost:8080/"
        },
        "outputId": "e52b585b-2a30-488d-ce68-2bc74cac62ca"
      },
      "execution_count": null,
      "outputs": [
        {
          "output_type": "stream",
          "name": "stderr",
          "text": [
            "INFO:pystan:COMPILING THE C++ CODE FOR MODEL anon_model_f76e53e33e811b69370eee5d14ed3ca9 NOW.\n"
          ]
        }
      ]
    },
    {
      "cell_type": "code",
      "source": [
        "n=len(progcho_da)\n",
        "y1=progcho_da['prog_c']\n",
        "a1 = np.array([1])\n",
        "a=np.repeat(a1, [n], axis=0)\n",
        "zz=np.asmatrix(a)\n",
        "zz1=zz.transpose()\n",
        "progcho_fit1_data = {'N':n,\n",
        "             'K':3,\n",
        "             'y':y1,\n",
        "             'x':zz1,\n",
        "             'D':1,\n",
        "            }\n",
        "progcho_fit1_data"
      ],
      "metadata": {
        "id": "Sp0m5ktdh-pg"
      },
      "execution_count": null,
      "outputs": []
    },
    {
      "cell_type": "code",
      "metadata": {
        "id": "HOM2pbj3lSKU"
      },
      "source": [
        "progcho_fit1= posterior_fit1.sampling(data=progcho_fit1_data,\n",
        "                  iter=10000,\n",
        "                  chains=4,\n",
        "                  seed=1,\n",
        "                  warmup=3000,\n",
        "                  thin=1,\n",
        "                  control={\"max_treedepth\":15,\"adapt_delta\" : 0.9999})"
      ],
      "execution_count": null,
      "outputs": []
    },
    {
      "cell_type": "code",
      "metadata": {
        "colab": {
          "base_uri": "https://localhost:8080/",
          "height": 398
        },
        "id": "vofvttGlm_QY",
        "outputId": "353fd73c-1ed0-4430-ab88-f3f8e3fdb33e"
      },
      "source": [
        "az.plot_trace(progcho_fit1,compact=False, legend=True,var_names=[\"beta\"])\n",
        "plt.show()"
      ],
      "execution_count": null,
      "outputs": [
        {
          "output_type": "display_data",
          "data": {
            "image/png": "[encoded data removed]",
            "text/plain": [
              "<Figure size 864x432 with 6 Axes>"
            ]
          },
          "metadata": {
            "needs_background": "light"
          }
        }
      ]
    },
    {
      "cell_type": "code",
      "metadata": {
        "colab": {
          "base_uri": "https://localhost:8080/",
          "height": 143
        },
        "id": "biKcKUqGm_Qp",
        "outputId": "f6fd5679-6f1a-4797-aa6c-1a51a8f7e739"
      },
      "source": [
        "summ_fit1=az.summary(progcho_fit1,round_to=3,hdi_prob=0.95)\n",
        "summ_fit1"
      ],
      "execution_count": null,
      "outputs": [
        {
          "output_type": "execute_result",
          "data": {
            "text/html": [
              "\n",
              "  <div id=\"df-6ec7b19c-7fb6-428f-9de5-dd42e4939d8d\">\n",
              "    <div class=\"colab-df-container\">\n",
              "      <div>\n",
              "<style scoped>\n",
              "    .dataframe tbody tr th:only-of-type {\n",
              "        vertical-align: middle;\n",
              "    }\n",
              "\n",
              "    .dataframe tbody tr th {\n",
              "        vertical-align: top;\n",
              "    }\n",
              "\n",
              "    .dataframe thead th {\n",
              "        text-align: right;\n",
              "    }\n",
              "</style>\n",
              "<table border=\"1\" class=\"dataframe\">\n",
              "  <thead>\n",
              "    <tr style=\"text-align: right;\">\n",
              "      <th></th>\n",
              "      <th>mean</th>\n",
              "      <th>sd</th>\n",
              "      <th>hdi_2.5%</th>\n",
              "      <th>hdi_97.5%</th>\n",
              "      <th>mcse_mean</th>\n",
              "      <th>mcse_sd</th>\n",
              "      <th>ess_bulk</th>\n",
              "      <th>ess_tail</th>\n",
              "      <th>r_hat</th>\n",
              "    </tr>\n",
              "  </thead>\n",
              "  <tbody>\n",
              "    <tr>\n",
              "      <th>beta[0, 0]</th>\n",
              "      <td>0.534</td>\n",
              "      <td>1.522</td>\n",
              "      <td>-2.511</td>\n",
              "      <td>3.568</td>\n",
              "      <td>0.029</td>\n",
              "      <td>0.029</td>\n",
              "      <td>2913.883</td>\n",
              "      <td>2713.225</td>\n",
              "      <td>1.003</td>\n",
              "    </tr>\n",
              "    <tr>\n",
              "      <th>beta[0, 1]</th>\n",
              "      <td>-0.315</td>\n",
              "      <td>1.524</td>\n",
              "      <td>-3.383</td>\n",
              "      <td>2.684</td>\n",
              "      <td>0.029</td>\n",
              "      <td>0.029</td>\n",
              "      <td>2939.832</td>\n",
              "      <td>2739.627</td>\n",
              "      <td>1.003</td>\n",
              "    </tr>\n",
              "    <tr>\n",
              "      <th>beta[0, 2]</th>\n",
              "      <td>-0.209</td>\n",
              "      <td>1.524</td>\n",
              "      <td>-3.171</td>\n",
              "      <td>2.899</td>\n",
              "      <td>0.029</td>\n",
              "      <td>0.030</td>\n",
              "      <td>2926.362</td>\n",
              "      <td>2726.731</td>\n",
              "      <td>1.003</td>\n",
              "    </tr>\n",
              "  </tbody>\n",
              "</table>\n",
              "</div>\n",
              "      <button class=\"colab-df-convert\" onclick=\"convertToInteractive('df-6ec7b19c-7fb6-428f-9de5-dd42e4939d8d')\"\n",
              "              title=\"Convert this dataframe to an interactive table.\"\n",
              "              style=\"display:none;\">\n",
              "        \n",
              "  <svg xmlns=\"http://www.w3.org/2000/svg\" height=\"24px\"viewBox=\"0 0 24 24\"\n",
              "       width=\"24px\">\n",
              "    <path d=\"M0 0h24v24H0V0z\" fill=\"none\"/>\n",
              "    <path d=\"M18.56 5.44l.94 2.06.94-2.06 2.06-.94-2.06-.94-.94-2.06-.94 2.06-2.06.94zm-11 1L8.5 8.5l.94-2.06 2.06-.94-2.06-.94L8.5 2.5l-.94 2.06-2.06.94zm10 10l.94 2.06.94-2.06 2.06-.94-2.06-.94-.94-2.06-.94 2.06-2.06.94z\"/><path d=\"M17.41 7.96l-1.37-1.37c-.4-.4-.92-.59-1.43-.59-.52 0-1.04.2-1.43.59L10.3 9.45l-7.72 7.72c-.78.78-.78 2.05 0 2.83L4 21.41c.39.39.9.59 1.41.59.51 0 1.02-.2 1.41-.59l7.78-7.78 2.81-2.81c.8-.78.8-2.07 0-2.86zM5.41 20L4 18.59l7.72-7.72 1.47 1.35L5.41 20z\"/>\n",
              "  </svg>\n",
              "      </button>\n",
              "      \n",
              "  <style>\n",
              "    .colab-df-container {\n",
              "      display:flex;\n",
              "      flex-wrap:wrap;\n",
              "      gap: 12px;\n",
              "    }\n",
              "\n",
              "    .colab-df-convert {\n",
              "      background-color: #E8F0FE;\n",
              "      border: none;\n",
              "      border-radius: 50%;\n",
              "      cursor: pointer;\n",
              "      display: none;\n",
              "      fill: #1967D2;\n",
              "      height: 32px;\n",
              "      padding: 0 0 0 0;\n",
              "      width: 32px;\n",
              "    }\n",
              "\n",
              "    .colab-df-convert:hover {\n",
              "      background-color: #E2EBFA;\n",
              "      box-shadow: 0px 1px 2px rgba(60, 64, 67, 0.3), 0px 1px 3px 1px rgba(60, 64, 67, 0.15);\n",
              "      fill: #174EA6;\n",
              "    }\n",
              "\n",
              "    [theme=dark] .colab-df-convert {\n",
              "      background-color: #3B4455;\n",
              "      fill: #D2E3FC;\n",
              "    }\n",
              "\n",
              "    [theme=dark] .colab-df-convert:hover {\n",
              "      background-color: #434B5C;\n",
              "      box-shadow: 0px 1px 3px 1px rgba(0, 0, 0, 0.15);\n",
              "      filter: drop-shadow(0px 1px 2px rgba(0, 0, 0, 0.3));\n",
              "      fill: #FFFFFF;\n",
              "    }\n",
              "  </style>\n",
              "\n",
              "      <script>\n",
              "        const buttonEl =\n",
              "          document.querySelector('#df-6ec7b19c-7fb6-428f-9de5-dd42e4939d8d button.colab-df-convert');\n",
              "        buttonEl.style.display =\n",
              "          google.colab.kernel.accessAllowed ? 'block' : 'none';\n",
              "\n",
              "        async function convertToInteractive(key) {\n",
              "          const element = document.querySelector('#df-6ec7b19c-7fb6-428f-9de5-dd42e4939d8d');\n",
              "          const dataTable =\n",
              "            await google.colab.kernel.invokeFunction('convertToInteractive',\n",
              "                                                     [key], {});\n",
              "          if (!dataTable) return;\n",
              "\n",
              "          const docLinkHtml = 'Like what you see? Visit the ' +\n",
              "            '<a target=\"_blank\" href=https://colab.research.google.com/notebooks/data_table.ipynb>data table notebook</a>'\n",
              "            + ' to learn more about interactive tables.';\n",
              "          element.innerHTML = '';\n",
              "          dataTable['output_type'] = 'display_data';\n",
              "          await google.colab.output.renderOutput(dataTable, element);\n",
              "          const docLink = document.createElement('div');\n",
              "          docLink.innerHTML = docLinkHtml;\n",
              "          element.appendChild(docLink);\n",
              "        }\n",
              "      </script>\n",
              "    </div>\n",
              "  </div>\n",
              "  "
            ],
            "text/plain": [
              "             mean     sd  hdi_2.5%  ...  ess_bulk  ess_tail  r_hat\n",
              "beta[0, 0]  0.534  1.522    -2.511  ...  2913.883  2713.225  1.003\n",
              "beta[0, 1] -0.315  1.524    -3.383  ...  2939.832  2739.627  1.003\n",
              "beta[0, 2] -0.209  1.524    -3.171  ...  2926.362  2726.731  1.003\n",
              "\n",
              "[3 rows x 9 columns]"
            ]
          },
          "metadata": {},
          "execution_count": 62
        }
      ]
    },
    {
      "cell_type": "code",
      "source": [
        "m=scipy.special.softmax(summ_fit1['mean'])\n",
        "m"
      ],
      "metadata": {
        "colab": {
          "base_uri": "https://localhost:8080/"
        },
        "id": "e_egQCBB_Pob",
        "outputId": "1e000fc8-be1f-48b8-f182-9a005e28eac7"
      },
      "execution_count": null,
      "outputs": [
        {
          "output_type": "execute_result",
          "data": {
            "text/plain": [
              "beta[0, 0]    0.525341\n",
              "beta[0, 1]    0.224763\n",
              "beta[0, 2]    0.249896\n",
              "Name: mean, dtype: float64"
            ]
          },
          "metadata": {},
          "execution_count": 63
        }
      ]
    },
    {
      "cell_type": "code",
      "source": [
        "n=len(progcho_da_1)\n",
        "y1=progcho_da_1['prog_c']\n",
        "#a = np.array([1])\n",
        "#a1=np.repeat(a, [n], axis=0)\n",
        "a2=progcho_da_1['math']\n",
        "zz2=np.matrix([a2])\n",
        "#zz2=np.matrix([a1,a2])\n",
        "zz3=zz2.transpose()\n",
        "progcho_fit2_data = {'N':n,\n",
        "             'y':y1,\n",
        "             'D':1,\n",
        "             'x':zz3,\n",
        "             'K':3\n",
        "              }\n",
        "progcho_fit2_data"
      ],
      "metadata": {
        "id": "58kXSiJbsVQt"
      },
      "execution_count": null,
      "outputs": []
    },
    {
      "cell_type": "code",
      "source": [
        "progcho_fit2= posterior_fit1.sampling(data=progcho_fit2_data,\n",
        "                                      iter=10000,\n",
        "                                      chains=2, seed=1,\n",
        "                                      warmup=3000, thin=10, control={\"max_treedepth\":25,\"adapt_delta\" : 0.9999})"
      ],
      "metadata": {
        "id": "ZH34pFGUofxQ"
      },
      "execution_count": null,
      "outputs": []
    },
    {
      "cell_type": "code",
      "metadata": {
        "id": "Rq7eh9s9uDNb",
        "colab": {
          "base_uri": "https://localhost:8080/",
          "height": 144
        },
        "outputId": "bceaadde-bc26-44eb-b2bb-2d4bcfe54383"
      },
      "source": [
        "summ_fit2=az.summary(progcho_fit2,round_to=3,hdi_prob=0.95)\n",
        "summ_fit2"
      ],
      "execution_count": null,
      "outputs": [
        {
          "output_type": "execute_result",
          "data": {
            "text/html": [
              "\n",
              "  <div id=\"df-d4f5a71a-f387-484b-9965-013daf12ed94\">\n",
              "    <div class=\"colab-df-container\">\n",
              "      <div>\n",
              "<style scoped>\n",
              "    .dataframe tbody tr th:only-of-type {\n",
              "        vertical-align: middle;\n",
              "    }\n",
              "\n",
              "    .dataframe tbody tr th {\n",
              "        vertical-align: top;\n",
              "    }\n",
              "\n",
              "    .dataframe thead th {\n",
              "        text-align: right;\n",
              "    }\n",
              "</style>\n",
              "<table border=\"1\" class=\"dataframe\">\n",
              "  <thead>\n",
              "    <tr style=\"text-align: right;\">\n",
              "      <th></th>\n",
              "      <th>mean</th>\n",
              "      <th>sd</th>\n",
              "      <th>hdi_2.5%</th>\n",
              "      <th>hdi_97.5%</th>\n",
              "      <th>mcse_mean</th>\n",
              "      <th>mcse_sd</th>\n",
              "      <th>ess_bulk</th>\n",
              "      <th>ess_tail</th>\n",
              "      <th>r_hat</th>\n",
              "    </tr>\n",
              "  </thead>\n",
              "  <tbody>\n",
              "    <tr>\n",
              "      <th>beta[0, 0]</th>\n",
              "      <td>0.033</td>\n",
              "      <td>1.379</td>\n",
              "      <td>-2.732</td>\n",
              "      <td>2.772</td>\n",
              "      <td>0.051</td>\n",
              "      <td>0.037</td>\n",
              "      <td>771.799</td>\n",
              "      <td>735.8</td>\n",
              "      <td>1.003</td>\n",
              "    </tr>\n",
              "    <tr>\n",
              "      <th>beta[0, 1]</th>\n",
              "      <td>0.011</td>\n",
              "      <td>1.379</td>\n",
              "      <td>-2.859</td>\n",
              "      <td>2.649</td>\n",
              "      <td>0.051</td>\n",
              "      <td>0.037</td>\n",
              "      <td>771.581</td>\n",
              "      <td>735.8</td>\n",
              "      <td>1.003</td>\n",
              "    </tr>\n",
              "    <tr>\n",
              "      <th>beta[0, 2]</th>\n",
              "      <td>0.015</td>\n",
              "      <td>1.379</td>\n",
              "      <td>-2.757</td>\n",
              "      <td>2.745</td>\n",
              "      <td>0.051</td>\n",
              "      <td>0.037</td>\n",
              "      <td>771.627</td>\n",
              "      <td>735.8</td>\n",
              "      <td>1.003</td>\n",
              "    </tr>\n",
              "  </tbody>\n",
              "</table>\n",
              "</div>\n",
              "      <button class=\"colab-df-convert\" onclick=\"convertToInteractive('df-d4f5a71a-f387-484b-9965-013daf12ed94')\"\n",
              "              title=\"Convert this dataframe to an interactive table.\"\n",
              "              style=\"display:none;\">\n",
              "        \n",
              "  <svg xmlns=\"http://www.w3.org/2000/svg\" height=\"24px\"viewBox=\"0 0 24 24\"\n",
              "       width=\"24px\">\n",
              "    <path d=\"M0 0h24v24H0V0z\" fill=\"none\"/>\n",
              "    <path d=\"M18.56 5.44l.94 2.06.94-2.06 2.06-.94-2.06-.94-.94-2.06-.94 2.06-2.06.94zm-11 1L8.5 8.5l.94-2.06 2.06-.94-2.06-.94L8.5 2.5l-.94 2.06-2.06.94zm10 10l.94 2.06.94-2.06 2.06-.94-2.06-.94-.94-2.06-.94 2.06-2.06.94z\"/><path d=\"M17.41 7.96l-1.37-1.37c-.4-.4-.92-.59-1.43-.59-.52 0-1.04.2-1.43.59L10.3 9.45l-7.72 7.72c-.78.78-.78 2.05 0 2.83L4 21.41c.39.39.9.59 1.41.59.51 0 1.02-.2 1.41-.59l7.78-7.78 2.81-2.81c.8-.78.8-2.07 0-2.86zM5.41 20L4 18.59l7.72-7.72 1.47 1.35L5.41 20z\"/>\n",
              "  </svg>\n",
              "      </button>\n",
              "      \n",
              "  <style>\n",
              "    .colab-df-container {\n",
              "      display:flex;\n",
              "      flex-wrap:wrap;\n",
              "      gap: 12px;\n",
              "    }\n",
              "\n",
              "    .colab-df-convert {\n",
              "      background-color: #E8F0FE;\n",
              "      border: none;\n",
              "      border-radius: 50%;\n",
              "      cursor: pointer;\n",
              "      display: none;\n",
              "      fill: #1967D2;\n",
              "      height: 32px;\n",
              "      padding: 0 0 0 0;\n",
              "      width: 32px;\n",
              "    }\n",
              "\n",
              "    .colab-df-convert:hover {\n",
              "      background-color: #E2EBFA;\n",
              "      box-shadow: 0px 1px 2px rgba(60, 64, 67, 0.3), 0px 1px 3px 1px rgba(60, 64, 67, 0.15);\n",
              "      fill: #174EA6;\n",
              "    }\n",
              "\n",
              "    [theme=dark] .colab-df-convert {\n",
              "      background-color: #3B4455;\n",
              "      fill: #D2E3FC;\n",
              "    }\n",
              "\n",
              "    [theme=dark] .colab-df-convert:hover {\n",
              "      background-color: #434B5C;\n",
              "      box-shadow: 0px 1px 3px 1px rgba(0, 0, 0, 0.15);\n",
              "      filter: drop-shadow(0px 1px 2px rgba(0, 0, 0, 0.3));\n",
              "      fill: #FFFFFF;\n",
              "    }\n",
              "  </style>\n",
              "\n",
              "      <script>\n",
              "        const buttonEl =\n",
              "          document.querySelector('#df-d4f5a71a-f387-484b-9965-013daf12ed94 button.colab-df-convert');\n",
              "        buttonEl.style.display =\n",
              "          google.colab.kernel.accessAllowed ? 'block' : 'none';\n",
              "\n",
              "        async function convertToInteractive(key) {\n",
              "          const element = document.querySelector('#df-d4f5a71a-f387-484b-9965-013daf12ed94');\n",
              "          const dataTable =\n",
              "            await google.colab.kernel.invokeFunction('convertToInteractive',\n",
              "                                                     [key], {});\n",
              "          if (!dataTable) return;\n",
              "\n",
              "          const docLinkHtml = 'Like what you see? Visit the ' +\n",
              "            '<a target=\"_blank\" href=https://colab.research.google.com/notebooks/data_table.ipynb>data table notebook</a>'\n",
              "            + ' to learn more about interactive tables.';\n",
              "          element.innerHTML = '';\n",
              "          dataTable['output_type'] = 'display_data';\n",
              "          await google.colab.output.renderOutput(dataTable, element);\n",
              "          const docLink = document.createElement('div');\n",
              "          docLink.innerHTML = docLinkHtml;\n",
              "          element.appendChild(docLink);\n",
              "        }\n",
              "      </script>\n",
              "    </div>\n",
              "  </div>\n",
              "  "
            ],
            "text/plain": [
              "             mean     sd  hdi_2.5%  ...  ess_bulk  ess_tail  r_hat\n",
              "beta[0, 0]  0.033  1.379    -2.732  ...   771.799     735.8  1.003\n",
              "beta[0, 1]  0.011  1.379    -2.859  ...   771.581     735.8  1.003\n",
              "beta[0, 2]  0.015  1.379    -2.757  ...   771.627     735.8  1.003\n",
              "\n",
              "[3 rows x 9 columns]"
            ]
          },
          "metadata": {},
          "execution_count": 19
        }
      ]
    },
    {
      "cell_type": "code",
      "source": [
        "mult_fit2=\"\"\"\n",
        "data {\n",
        "  int<lower = 2> K;\n",
        "  int<lower = 0> N;\n",
        "  int<lower = 1> D;\n",
        "  int<lower = 1, upper = K> y[N];\n",
        "  vector[D] x[N];\n",
        "}\n",
        "parameters {\n",
        "  matrix[K, D] beta;\n",
        "}\n",
        "\n",
        "model {\n",
        "  for(j in 1:K)\n",
        "  beta[j] ~ cauchy(0, 2.5); //normal(0, 5);\n",
        "\n",
        "  for (n in 1:N)\n",
        "    y[n] ~ categorical_logit(beta*x[n]);\n",
        "}\n",
        "\"\"\"\n",
        "posterior_fit2 = pystan.StanModel(model_code=mult_fit2)"
      ],
      "metadata": {
        "colab": {
          "base_uri": "https://localhost:8080/"
        },
        "outputId": "e5196b86-607c-4946-afdf-5e732f3316a0",
        "id": "EDMNuUOeo-9p"
      },
      "execution_count": null,
      "outputs": [
        {
          "output_type": "stream",
          "name": "stderr",
          "text": [
            "INFO:pystan:COMPILING THE C++ CODE FOR MODEL anon_model_36be2ad924120444a553426a5e11ca35 NOW.\n"
          ]
        }
      ]
    },
    {
      "cell_type": "code",
      "source": [
        "progcho_fit2= posterior_fit2.sampling(data=progcho_fit2_data,\n",
        "                                      iter=10000,\n",
        "                                      chains=2, seed=1,\n",
        "                                      warmup=3000, thin=10, control={\"max_treedepth\":15,\"adapt_delta\" : 0.9999})"
      ],
      "metadata": {
        "id": "jqFz8gYuuA5N"
      },
      "execution_count": null,
      "outputs": []
    }
  ]
}