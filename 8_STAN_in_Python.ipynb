{
  "nbformat": 4,
  "nbformat_minor": 0,
  "metadata": {
    "colab": {
      "provenance": [],
      "authorship_tag": "ABX9TyNdyIZjdenwLlF+/jcUZQsU",
      "include_colab_link": true
    },
    "kernelspec": {
      "name": "python3",
      "display_name": "Python 3"
    },
    "language_info": {
      "name": "python"
    }
  },
  "cells": [
    {
      "cell_type": "markdown",
      "metadata": {
        "id": "view-in-github",
        "colab_type": "text"
      },
      "source": [
        "<a href=\"https://colab.research.google.com/github/DrSubbiah/1.Bayesian-Inference/blob/master/8_STAN_in_Python.ipynb\" target=\"_parent\"><img src=\"https://colab.research.google.com/assets/colab-badge.svg\" alt=\"Open In Colab\"/></a>"
      ]
    },
    {
      "cell_type": "markdown",
      "source": [
        "# <font color=\"darkblue\"> Learning A Language, of course STAN\n",
        "Credit [Pystan-Dev Team](https://pystan.readthedocs.io/en/latest/index.html#)\n",
        "\n",
        "**<font color=\"maroon\">I hear and I forget. I see and I remember. I do and I understand**-Confucius"
      ],
      "metadata": {
        "id": "FARdly9Tf1pw"
      }
    },
    {
      "cell_type": "markdown",
      "source": [
        "# <font color=\"darkblue\"> Make Up Kit - STAN Blocks\n",
        "\n",
        "1. Data Models\n",
        "  - Inputs, Parameters, Range\n",
        "\n",
        "1. Prior Models for parameters in Step 1\n",
        "\n",
        "  - Inputs, Parameters, Range\n",
        "  - Partial or full\n",
        "\n",
        "1. Transformations\n",
        "\n",
        "  - on Data is *not* so important **here**, treat elsewhere optionally\n",
        "  - on parameteres - optional, but might be a **QoI** (Transformed Parameters)\n",
        "  - to be **included** in the model\n",
        "\n",
        "1. Generated Quantities\n",
        "\n",
        "  - Optional, but may arise due to the **treatment of QoI**\n",
        "  - Intention is **not to include** in the model\n",
        "  - Computed from the parameters for every iteration (while samples generated)\n",
        "\n",
        "1. Build Model - STAN's Secret\n",
        "\n",
        "  - Relax, **consume** - Abundant resources\n",
        "  - <font color=\"darkorange\">**Wait and Look for finish Line flags**</font>\n",
        "  - <font color=\"green\">**Go**</font>\n",
        "    - Still, obsessive? [Shake hands - Dev](https://github.com/stan-dev/pystan)\n",
        "\n",
        "1. Generate Samples - STAN's Secret with MC\n",
        "\n",
        "  - MCMC input arguments - not beginners' paradise\n",
        "  - Ready to defer and stay with defult (whoever designs)\n",
        "    - Else, [Notable Source](https://www.mzes.uni-mannheim.de/socialsciencedatalab/article/applied-bayesian-statistics/)\n",
        "\n",
        "1. Output Analysis / Diagnostics\n",
        "\n",
        "  - Some essential MCMC aspects - not beginners' paradise\n",
        "  - But a compulsive **to do list**\n",
        "  - Visual and numerical aids are available helping hands\n",
        "\n",
        "1. Rethinking, if any\n",
        "\n",
        "  - Final touch before **let her go**\n",
        "  - Model Improvement / Modification / Corrections\n",
        "  - Senstivity Analysis"
      ],
      "metadata": {
        "id": "Z1uuUK8Mg9Tk"
      }
    },
    {
      "cell_type": "markdown",
      "source": [
        "# <font color=\"darkblue\"> From Groomed Mind\n",
        "\n",
        "## <font color=\"darkgreen\"> Bayesian Approach - A Quick Glance\n",
        "\n",
        "1. Problem Statment and QoI\n",
        "\n",
        "1. Data Models\n",
        "\n",
        "1. Prior Construction\n",
        "\n",
        "1. <font color=\"red\">**Getting Posterior**</font>\n",
        "\n",
        "1. Exploit Posterior\n",
        "\n",
        "## <font color=\"darkorange\"> **Relook Step 4 and 5**\n",
        "\n",
        "Closed forms may be available for the item in\n",
        "\n",
        "  - Step 4 in many cases, especially in conjugate prior\n",
        "  - Step 5 depends on the QoI (**CrI**), impede the direct computations\n",
        "\n",
        "Case 1:\n",
        "\n",
        "If Step 4 is a closed form, then MC might be helpful to a majority of the cases (at least in 2022 and on)\n",
        "\n",
        "Case 2:\n",
        "\n",
        "If Step 4 itself is **not persuadable**, HBM would be a remedy alongwith a tool for probabilistic programming"
      ],
      "metadata": {
        "id": "uN4bIXJjezA7"
      }
    },
    {
      "cell_type": "markdown",
      "source": [
        "# <font color=\"darkblue\"> Inevitable Revisit\n",
        "\n",
        "## Binomial Modeling\n",
        "\n",
        "But if the interest (one or more or all) is\n",
        "\n",
        "- to model logit$(\\theta)$ instead of $\\theta$\n",
        "\n",
        "- to check different hyperparameter values - scope of prior space\n",
        "\n",
        "- to test with some other **plausible** prior distribution\n",
        "\n",
        "- to build more **complex** models\n",
        "\n",
        "\n",
        "\n",
        "\n"
      ],
      "metadata": {
        "id": "AjRZgkphuELA"
      }
    },
    {
      "cell_type": "code",
      "source": [
        "import numpy as np\n",
        "import statistics as stat\n",
        "import scipy\n",
        "import pystan"
      ],
      "metadata": {
        "id": "EkmN-I7Y4gXP"
      },
      "execution_count": null,
      "outputs": []
    },
    {
      "cell_type": "code",
      "source": [
        "from google.colab import files\n",
        "uploaded = files.upload()"
      ],
      "metadata": {
        "id": "o-qd1Acm41Ay",
        "colab": {
          "base_uri": "https://localhost:8080/",
          "height": 73
        },
        "outputId": "1bda4062-f26b-466d-d43f-38decfaf7015"
      },
      "execution_count": null,
      "outputs": [
        {
          "output_type": "display_data",
          "data": {
            "text/plain": [
              "<IPython.core.display.HTML object>"
            ],
            "text/html": [
              "\n",
              "     <input type=\"file\" id=\"files-3aa19260-bd95-47a9-b5de-f46d537c763f\" name=\"files[]\" multiple disabled\n",
              "        style=\"border:none\" />\n",
              "     <output id=\"result-3aa19260-bd95-47a9-b5de-f46d537c763f\">\n",
              "      Upload widget is only available when the cell has been executed in the\n",
              "      current browser session. Please rerun this cell to enable.\n",
              "      </output>\n",
              "      <script>// Copyright 2017 Google LLC\n",
              "//\n",
              "// Licensed under the Apache License, Version 2.0 (the \"License\");\n",
              "// you may not use this file except in compliance with the License.\n",
              "// You may obtain a copy of the License at\n",
              "//\n",
              "//      http://www.apache.org/licenses/LICENSE-2.0\n",
              "//\n",
              "// Unless required by applicable law or agreed to in writing, software\n",
              "// distributed under the License is distributed on an \"AS IS\" BASIS,\n",
              "// WITHOUT WARRANTIES OR CONDITIONS OF ANY KIND, either express or implied.\n",
              "// See the License for the specific language governing permissions and\n",
              "// limitations under the License.\n",
              "\n",
              "/**\n",
              " * @fileoverview Helpers for google.colab Python module.\n",
              " */\n",
              "(function(scope) {\n",
              "function span(text, styleAttributes = {}) {\n",
              "  const element = document.createElement('span');\n",
              "  element.textContent = text;\n",
              "  for (const key of Object.keys(styleAttributes)) {\n",
              "    element.style[key] = styleAttributes[key];\n",
              "  }\n",
              "  return element;\n",
              "}\n",
              "\n",
              "// Max number of bytes which will be uploaded at a time.\n",
              "const MAX_PAYLOAD_SIZE = 100 * 1024;\n",
              "\n",
              "function _uploadFiles(inputId, outputId) {\n",
              "  const steps = uploadFilesStep(inputId, outputId);\n",
              "  const outputElement = document.getElementById(outputId);\n",
              "  // Cache steps on the outputElement to make it available for the next call\n",
              "  // to uploadFilesContinue from Python.\n",
              "  outputElement.steps = steps;\n",
              "\n",
              "  return _uploadFilesContinue(outputId);\n",
              "}\n",
              "\n",
              "// This is roughly an async generator (not supported in the browser yet),\n",
              "// where there are multiple asynchronous steps and the Python side is going\n",
              "// to poll for completion of each step.\n",
              "// This uses a Promise to block the python side on completion of each step,\n",
              "// then passes the result of the previous step as the input to the next step.\n",
              "function _uploadFilesContinue(outputId) {\n",
              "  const outputElement = document.getElementById(outputId);\n",
              "  const steps = outputElement.steps;\n",
              "\n",
              "  const next = steps.next(outputElement.lastPromiseValue);\n",
              "  return Promise.resolve(next.value.promise).then((value) => {\n",
              "    // Cache the last promise value to make it available to the next\n",
              "    // step of the generator.\n",
              "    outputElement.lastPromiseValue = value;\n",
              "    return next.value.response;\n",
              "  });\n",
              "}\n",
              "\n",
              "/**\n",
              " * Generator function which is called between each async step of the upload\n",
              " * process.\n",
              " * @param {string} inputId Element ID of the input file picker element.\n",
              " * @param {string} outputId Element ID of the output display.\n",
              " * @return {!Iterable<!Object>} Iterable of next steps.\n",
              " */\n",
              "function* uploadFilesStep(inputId, outputId) {\n",
              "  const inputElement = document.getElementById(inputId);\n",
              "  inputElement.disabled = false;\n",
              "\n",
              "  const outputElement = document.getElementById(outputId);\n",
              "  outputElement.innerHTML = '';\n",
              "\n",
              "  const pickedPromise = new Promise((resolve) => {\n",
              "    inputElement.addEventListener('change', (e) => {\n",
              "      resolve(e.target.files);\n",
              "    });\n",
              "  });\n",
              "\n",
              "  const cancel = document.createElement('button');\n",
              "  inputElement.parentElement.appendChild(cancel);\n",
              "  cancel.textContent = 'Cancel upload';\n",
              "  const cancelPromise = new Promise((resolve) => {\n",
              "    cancel.onclick = () => {\n",
              "      resolve(null);\n",
              "    };\n",
              "  });\n",
              "\n",
              "  // Wait for the user to pick the files.\n",
              "  const files = yield {\n",
              "    promise: Promise.race([pickedPromise, cancelPromise]),\n",
              "    response: {\n",
              "      action: 'starting',\n",
              "    }\n",
              "  };\n",
              "\n",
              "  cancel.remove();\n",
              "\n",
              "  // Disable the input element since further picks are not allowed.\n",
              "  inputElement.disabled = true;\n",
              "\n",
              "  if (!files) {\n",
              "    return {\n",
              "      response: {\n",
              "        action: 'complete',\n",
              "      }\n",
              "    };\n",
              "  }\n",
              "\n",
              "  for (const file of files) {\n",
              "    const li = document.createElement('li');\n",
              "    li.append(span(file.name, {fontWeight: 'bold'}));\n",
              "    li.append(span(\n",
              "        `(${file.type || 'n/a'}) - ${file.size} bytes, ` +\n",
              "        `last modified: ${\n",
              "            file.lastModifiedDate ? file.lastModifiedDate.toLocaleDateString() :\n",
              "                                    'n/a'} - `));\n",
              "    const percent = span('0% done');\n",
              "    li.appendChild(percent);\n",
              "\n",
              "    outputElement.appendChild(li);\n",
              "\n",
              "    const fileDataPromise = new Promise((resolve) => {\n",
              "      const reader = new FileReader();\n",
              "      reader.onload = (e) => {\n",
              "        resolve(e.target.result);\n",
              "      };\n",
              "      reader.readAsArrayBuffer(file);\n",
              "    });\n",
              "    // Wait for the data to be ready.\n",
              "    let fileData = yield {\n",
              "      promise: fileDataPromise,\n",
              "      response: {\n",
              "        action: 'continue',\n",
              "      }\n",
              "    };\n",
              "\n",
              "    // Use a chunked sending to avoid message size limits. See b/62115660.\n",
              "    let position = 0;\n",
              "    do {\n",
              "      const length = Math.min(fileData.byteLength - position, MAX_PAYLOAD_SIZE);\n",
              "      const chunk = new Uint8Array(fileData, position, length);\n",
              "      position += length;\n",
              "\n",
              "      const base64 = btoa(String.fromCharCode.apply(null, chunk));\n",
              "      yield {\n",
              "        response: {\n",
              "          action: 'append',\n",
              "          file: file.name,\n",
              "          data: base64,\n",
              "        },\n",
              "      };\n",
              "\n",
              "      let percentDone = fileData.byteLength === 0 ?\n",
              "          100 :\n",
              "          Math.round((position / fileData.byteLength) * 100);\n",
              "      percent.textContent = `${percentDone}% done`;\n",
              "\n",
              "    } while (position < fileData.byteLength);\n",
              "  }\n",
              "\n",
              "  // All done.\n",
              "  yield {\n",
              "    response: {\n",
              "      action: 'complete',\n",
              "    }\n",
              "  };\n",
              "}\n",
              "\n",
              "scope.google = scope.google || {};\n",
              "scope.google.colab = scope.google.colab || {};\n",
              "scope.google.colab._files = {\n",
              "  _uploadFiles,\n",
              "  _uploadFilesContinue,\n",
              "};\n",
              "})(self);\n",
              "</script> "
            ]
          },
          "metadata": {}
        },
        {
          "output_type": "stream",
          "name": "stdout",
          "text": [
            "Saving Heart_data.csv to Heart_data.csv\n"
          ]
        }
      ]
    },
    {
      "cell_type": "code",
      "source": [
        "import pandas as pd\n",
        "import io\n",
        "data = io.BytesIO(uploaded['Heart_data.csv'])\n",
        "hrt_da=pd.read_csv(data)\n",
        "n=len(hrt_da)\n",
        "\n",
        "x1=hrt_da.loc[hrt_da['chd'] == 'Yes']\n",
        "x=len(x1['chd'])"
      ],
      "metadata": {
        "id": "lQlQVspq48du"
      },
      "execution_count": null,
      "outputs": []
    },
    {
      "cell_type": "code",
      "source": [
        "hrt_data = {\n",
        "             'n': n,\n",
        "             'y': x,\n",
        "             'a':1,\n",
        "             'b':1,\n",
        "            }\n",
        "print(hrt_data)"
      ],
      "metadata": {
        "id": "NS-LOYw15CL6",
        "colab": {
          "base_uri": "https://localhost:8080/"
        },
        "outputId": "17da08ac-932a-45fe-9781-370c3ac86f08"
      },
      "execution_count": null,
      "outputs": [
        {
          "output_type": "stream",
          "name": "stdout",
          "text": [
            "{'n': 462, 'y': 160, 'a': 1, 'b': 1}\n"
          ]
        }
      ]
    },
    {
      "cell_type": "code",
      "source": [
        "hrt_code=\"\"\"\n",
        "data{\n",
        "    real<lower=0> a;\n",
        "    real<lower=0> b;\n",
        "    int<lower=0> n;\n",
        "    int<lower=0> y;\n",
        "}\n",
        "\n",
        "parameters{\n",
        "    real<lower=0,upper=1> p;\n",
        "}\n",
        "\n",
        "model {\n",
        "    y ~ binomial(n,p);\n",
        "    p ~ beta(a,b);\n",
        "    }\n",
        "\"\"\"\n",
        "\n",
        "posterior=cmdstanpy.StanModel(model_code=hrt_code)"
      ],
      "metadata": {
        "id": "K0J9LVEz0QE8",
        "colab": {
          "base_uri": "https://localhost:8080/",
          "height": 176
        },
        "outputId": "6b772f4e-235f-4716-f4cd-ec6c8f5bdfbd"
      },
      "execution_count": null,
      "outputs": [
        {
          "output_type": "error",
          "ename": "NameError",
          "evalue": "name 'StanModel' is not defined",
          "traceback": [
            "\u001b[0;31m---------------------------------------------------------------------------\u001b[0m",
            "\u001b[0;31mNameError\u001b[0m                                 Traceback (most recent call last)",
            "\u001b[0;32m<ipython-input-8-c94e1d95b737>\u001b[0m in \u001b[0;36m<cell line: 19>\u001b[0;34m()\u001b[0m\n\u001b[1;32m     17\u001b[0m \"\"\"\n\u001b[1;32m     18\u001b[0m \u001b[0;34m\u001b[0m\u001b[0m\n\u001b[0;32m---> 19\u001b[0;31m \u001b[0mposterior\u001b[0m\u001b[0;34m=\u001b[0m\u001b[0mStanModel\u001b[0m\u001b[0;34m(\u001b[0m\u001b[0mmodel_code\u001b[0m\u001b[0;34m=\u001b[0m\u001b[0mhrt_code\u001b[0m\u001b[0;34m)\u001b[0m\u001b[0;34m\u001b[0m\u001b[0;34m\u001b[0m\u001b[0m\n\u001b[0m",
            "\u001b[0;31mNameError\u001b[0m: name 'StanModel' is not defined"
          ]
        }
      ]
    },
    {
      "cell_type": "code",
      "source": [
        "fit_model= posterior.sampling(data=hrt_data,\n",
        "                  iter=10000,\n",
        "                  chains=4,\n",
        "                  seed=1,\n",
        "                  warmup=3000,\n",
        "                  thin=1,\n",
        "                  control={\"max_treedepth\":15,\"adapt_delta\" : 0.9999})\n",
        "\n",
        "print(fit_model.stansummary(pars=[\"p\"], probs=(0.025,  0.975), digits_summary=4))"
      ],
      "metadata": {
        "id": "mvh_11CU6YID"
      },
      "execution_count": null,
      "outputs": []
    },
    {
      "cell_type": "code",
      "source": [
        "import arviz as az\n",
        "import matplotlib.pyplot as plt"
      ],
      "metadata": {
        "id": "DxSY0cQ874ZH"
      },
      "execution_count": null,
      "outputs": []
    },
    {
      "cell_type": "code",
      "source": [
        "az.plot_trace(fit_model)\n",
        "plt.show()"
      ],
      "metadata": {
        "id": "88_Xb95T7-dt"
      },
      "execution_count": null,
      "outputs": []
    },
    {
      "cell_type": "code",
      "source": [
        "az.plot_dist(fit_model['p'],quantiles=[.25, .5, .75])\n",
        "plt.show()"
      ],
      "metadata": {
        "id": "4PU8l8NA8Zpd"
      },
      "execution_count": null,
      "outputs": []
    }
  ]
}