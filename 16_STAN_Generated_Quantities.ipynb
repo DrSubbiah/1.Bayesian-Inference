{
  "nbformat": 4,
  "nbformat_minor": 0,
  "metadata": {
    "colab": {
      "provenance": [],
      "authorship_tag": "ABX9TyMQj8Mt0VCVLAiVLfB/pG8K",
      "include_colab_link": true
    },
    "kernelspec": {
      "name": "python3",
      "display_name": "Python 3"
    },
    "language_info": {
      "name": "python"
    }
  },
  "cells": [
    {
      "cell_type": "markdown",
      "metadata": {
        "id": "view-in-github",
        "colab_type": "text"
      },
      "source": [
        "<a href=\"https://colab.research.google.com/github/DrSubbiah/1.Bayesian-Inference/blob/master/16_STAN_Generated_Quantities.ipynb\" target=\"_parent\"><img src=\"https://colab.research.google.com/assets/colab-badge.svg\" alt=\"Open In Colab\"/></a>"
      ]
    },
    {
      "cell_type": "markdown",
      "metadata": {
        "id": "4ZTTF667_8wd"
      },
      "source": [
        "#<center><font color=\"darkblue\">  Generated Quantities in STAN </center>\n",
        "\n",
        "\n",
        "STAN's *generated quantities block* computes QoIs based on the\n",
        "\n",
        "- data\n",
        "\n",
        "- transformed data\n",
        "\n",
        "- parameters\n",
        "\n",
        "- transformed parameters"
      ]
    },
    {
      "cell_type": "code",
      "execution_count": null,
      "metadata": {
        "id": "UDzJwyIZdo5d"
      },
      "outputs": [],
      "source": [
        "import numpy as np\n",
        "import pandas as pd\n",
        "import statistics as stat\n",
        "import scipy\n",
        "import pystan"
      ]
    },
    {
      "cell_type": "code",
      "execution_count": null,
      "metadata": {
        "id": "GZVS5yLEzsho"
      },
      "outputs": [],
      "source": [
        "#For plots\n",
        "import arviz as az\n",
        "import matplotlib.pyplot as plt"
      ]
    },
    {
      "cell_type": "code",
      "execution_count": null,
      "metadata": {
        "colab": {
          "base_uri": "https://localhost:8080/"
        },
        "id": "r2OBfEcUrmIf",
        "outputId": "f79058dc-ae86-4faa-bc9c-9ad668dedbf8"
      },
      "outputs": [
        {
          "output_type": "stream",
          "name": "stdout",
          "text": [
            "Mounted at /content/drive\n"
          ]
        }
      ],
      "source": [
        "from google.colab import drive\n",
        "drive.mount('/content/drive')"
      ]
    },
    {
      "cell_type": "code",
      "execution_count": null,
      "metadata": {
        "id": "UtrLkpi-X12T"
      },
      "outputs": [],
      "source": [
        "path = \"/content/drive/MyDrive/Data Sets/BirthWt.csv\"\n",
        "brtwt_da = pd.read_csv(path)"
      ]
    },
    {
      "cell_type": "code",
      "source": [
        "np.where(pd.isnull(brtwt_da))"
      ],
      "metadata": {
        "id": "4uyPIJjhjXc2"
      },
      "execution_count": null,
      "outputs": []
    },
    {
      "cell_type": "code",
      "source": [
        "np.where(brtwt_da.applymap(lambda x: x == ''))"
      ],
      "metadata": {
        "id": "KAsCLBHXj47b"
      },
      "execution_count": null,
      "outputs": []
    },
    {
      "cell_type": "code",
      "execution_count": null,
      "metadata": {
        "id": "x8fy_g0dX4RL"
      },
      "outputs": [],
      "source": [
        "brtwt_da.columns"
      ]
    },
    {
      "cell_type": "markdown",
      "source": [
        "# <font color=\"darkorange\"> Linear Model I\n",
        "\n",
        "- Response: Bweight\n",
        "\n",
        "- Predictor: gestwks"
      ],
      "metadata": {
        "id": "igY9ph3oApKR"
      }
    },
    {
      "cell_type": "code",
      "execution_count": null,
      "metadata": {
        "id": "BNX5jIHSsKGQ",
        "colab": {
          "base_uri": "https://localhost:8080/"
        },
        "outputId": "dfa08e51-cac5-4e17-8945-9c345a9c00cf"
      },
      "outputs": [
        {
          "output_type": "stream",
          "name": "stderr",
          "text": [
            "INFO:pystan:COMPILING THE C++ CODE FOR MODEL anon_model_abfa346bc905cea1cdd614e7f2ec7cf2 NOW.\n"
          ]
        }
      ],
      "source": [
        "brtwt_LM_code1 = \"\"\"\n",
        "data {\n",
        "    int<lower=0> n;\n",
        "    real a_i;\n",
        "    real<lower=0> b_i;\n",
        "    real a_p1;\n",
        "    real<lower=0> b_p1;\n",
        "    vector[n] y;\n",
        "    vector[n] x1;\n",
        "    real<lower=0> g1;\n",
        "    real<lower=0> g2;\n",
        "   }\n",
        "\n",
        "parameters {\n",
        "    real b0;\n",
        "    real b1;\n",
        "    real<lower=0> tau;\n",
        "}\n",
        "\n",
        "transformed parameters {\n",
        "   real<lower=0> sig;\n",
        "   sig=sqrt(1/tau);\n",
        "}\n",
        "\n",
        "model {\n",
        "      y ~ normal(b0+b1*x1, sig);\n",
        "      b0 ~ normal(a_i, b_i);\n",
        "      b1 ~ normal(a_p1, b_p1);\n",
        "      tau ~ gamma(g1,g2);\n",
        "}\n",
        "generated quantities{\n",
        "   real Rsq;\n",
        "   real<lower=0> rss;             // residual sum of squares\n",
        "   real<lower=0> totalss;         // total SS\n",
        "\n",
        "\n",
        "  //computation of R square\n",
        "  vector[n] yhat;                // linear predictor\n",
        "  yhat = b0+b1*x1;\n",
        "  rss = dot_self(y-yhat);\n",
        "  totalss = dot_self(y-mean(y));\n",
        "  Rsq = 1 - (rss/totalss);\n",
        "}\n",
        "\"\"\"\n",
        "# posterior\n",
        "posterior1 = pystan.StanModel(model_code=brtwt_LM_code1)"
      ]
    },
    {
      "cell_type": "code",
      "execution_count": null,
      "metadata": {
        "id": "5AyzOlu6sh93"
      },
      "outputs": [],
      "source": [
        "brtwt_LM_data1 = {\n",
        "             'n': len(brtwt_da),\n",
        "             'x1': brtwt_da['gestwks']-np.mean(brtwt_da['gestwks']),\n",
        "             'y': brtwt_da['bweight'],\n",
        "             'a_i':3000,\n",
        "             'b_i':10,\n",
        "             'a_p1':100,\n",
        "             'b_p1':10,\n",
        "             'g1':3,\n",
        "             'g2':1,}\n",
        "print(brtwt_LM_data1)"
      ]
    },
    {
      "cell_type": "code",
      "execution_count": null,
      "metadata": {
        "id": "egIjalubsswf",
        "colab": {
          "base_uri": "https://localhost:8080/"
        },
        "outputId": "18fd87f7-c9d3-4348-fce1-b72a642bbc40"
      },
      "outputs": [
        {
          "output_type": "stream",
          "name": "stderr",
          "text": [
            "WARNING:pystan:n_eff / iter below 0.001 indicates that the effective sample size has likely been overestimated\n"
          ]
        }
      ],
      "source": [
        "brtwt_LM_model1= posterior1.sampling(data=brtwt_LM_data1,\n",
        "                  iter=10000,\n",
        "                  chains=4,\n",
        "                  seed=1,\n",
        "                  warmup=3000,\n",
        "                  thin=1,\n",
        "                  control={\"max_treedepth\":15,\"adapt_delta\" : 0.9999})"
      ]
    },
    {
      "cell_type": "code",
      "source": [
        "post_draws_A=brtwt_LM_model1.extract()\n",
        "post_draws_yhat=post_draws_A['yhat']\n",
        "# del post_draws_A['yhat']\n",
        "# post_draws_mod1=pd.DataFrame(post_draws_A)"
      ],
      "metadata": {
        "id": "UBvs2Y8HDmkc"
      },
      "execution_count": null,
      "outputs": []
    },
    {
      "cell_type": "code",
      "source": [
        "post_draws_yhat"
      ],
      "metadata": {
        "colab": {
          "base_uri": "https://localhost:8080/"
        },
        "id": "0aUCqh6bDxSL",
        "outputId": "25a5b698-347e-442d-f240-e2cb46a9b4ca"
      },
      "execution_count": null,
      "outputs": [
        {
          "output_type": "execute_result",
          "data": {
            "text/plain": [
              "array([[2867.45795428, 3093.2072176 , 2544.044008  , ..., 3059.58451901,\n",
              "        3298.14254553, 2933.10134006],\n",
              "       [2873.5139356 , 3105.16109843, 2541.65051342, ..., 3070.65997705,\n",
              "        3315.45054337, 2940.87231299],\n",
              "       [2875.69885659, 3103.95050181, 2548.69993645, ..., 3069.95510285,\n",
              "        3311.15749365, 2942.06988514],\n",
              "       ...,\n",
              "       [2872.26970671, 3104.8260162 , 2539.10381869, ..., 3070.18948812,\n",
              "        3315.94078507, 2939.89244583],\n",
              "       [2864.7714867 , 3108.26341645, 2515.93896017, ..., 3071.9981563 ,\n",
              "        3329.30554848, 2935.5740862 ],\n",
              "       [2849.88472813, 3093.86221616, 2500.35657886, ..., 3057.52463781,\n",
              "        3315.34513832, 2920.8285183 ]])"
            ]
          },
          "metadata": {},
          "execution_count": 10
        }
      ]
    },
    {
      "cell_type": "code",
      "execution_count": null,
      "metadata": {
        "id": "03tXadxBuJpH"
      },
      "outputs": [],
      "source": [
        "az.plot_trace(brtwt_LM_model1,var_names=['b0','b1','sig'], compact=False,legend=True,figsize=(20,15))\n",
        "plt.show()"
      ]
    },
    {
      "cell_type": "code",
      "execution_count": null,
      "metadata": {
        "id": "gX42OeKpuJpd",
        "colab": {
          "base_uri": "https://localhost:8080/",
          "height": 175
        },
        "outputId": "00e620ee-05e6-4d88-9fe6-cd89a3de230d"
      },
      "outputs": [
        {
          "output_type": "execute_result",
          "data": {
            "text/html": [
              "\n",
              "  <div id=\"df-bf177f7b-f1e8-4198-b58c-0674ad44a590\">\n",
              "    <div class=\"colab-df-container\">\n",
              "      <div>\n",
              "<style scoped>\n",
              "    .dataframe tbody tr th:only-of-type {\n",
              "        vertical-align: middle;\n",
              "    }\n",
              "\n",
              "    .dataframe tbody tr th {\n",
              "        vertical-align: top;\n",
              "    }\n",
              "\n",
              "    .dataframe thead th {\n",
              "        text-align: right;\n",
              "    }\n",
              "</style>\n",
              "<table border=\"1\" class=\"dataframe\">\n",
              "  <thead>\n",
              "    <tr style=\"text-align: right;\">\n",
              "      <th></th>\n",
              "      <th>mean</th>\n",
              "      <th>sd</th>\n",
              "      <th>hdi_2.5%</th>\n",
              "      <th>hdi_97.5%</th>\n",
              "      <th>mcse_mean</th>\n",
              "      <th>mcse_sd</th>\n",
              "      <th>ess_bulk</th>\n",
              "      <th>ess_tail</th>\n",
              "      <th>r_hat</th>\n",
              "      <th>1%</th>\n",
              "      <th>5%</th>\n",
              "      <th>25%</th>\n",
              "      <th>75%</th>\n",
              "      <th>95%</th>\n",
              "      <th>99%</th>\n",
              "    </tr>\n",
              "  </thead>\n",
              "  <tbody>\n",
              "    <tr>\n",
              "      <th>b0</th>\n",
              "      <td>3030.049</td>\n",
              "      <td>8.886</td>\n",
              "      <td>3012.926</td>\n",
              "      <td>3047.724</td>\n",
              "      <td>0.067</td>\n",
              "      <td>0.047</td>\n",
              "      <td>17743.664</td>\n",
              "      <td>15400.350</td>\n",
              "      <td>1.0</td>\n",
              "      <td>3009.241</td>\n",
              "      <td>3015.505</td>\n",
              "      <td>3024.107</td>\n",
              "      <td>3036.070</td>\n",
              "      <td>3044.751</td>\n",
              "      <td>3050.461</td>\n",
              "    </tr>\n",
              "    <tr>\n",
              "      <th>b1</th>\n",
              "      <td>166.383</td>\n",
              "      <td>6.326</td>\n",
              "      <td>154.098</td>\n",
              "      <td>178.901</td>\n",
              "      <td>0.047</td>\n",
              "      <td>0.033</td>\n",
              "      <td>18423.010</td>\n",
              "      <td>16425.038</td>\n",
              "      <td>1.0</td>\n",
              "      <td>151.623</td>\n",
              "      <td>155.967</td>\n",
              "      <td>162.096</td>\n",
              "      <td>170.698</td>\n",
              "      <td>176.696</td>\n",
              "      <td>180.969</td>\n",
              "    </tr>\n",
              "    <tr>\n",
              "      <th>sig</th>\n",
              "      <td>459.779</td>\n",
              "      <td>13.256</td>\n",
              "      <td>433.168</td>\n",
              "      <td>485.351</td>\n",
              "      <td>0.098</td>\n",
              "      <td>0.069</td>\n",
              "      <td>18451.078</td>\n",
              "      <td>16099.507</td>\n",
              "      <td>1.0</td>\n",
              "      <td>430.539</td>\n",
              "      <td>438.423</td>\n",
              "      <td>450.732</td>\n",
              "      <td>468.578</td>\n",
              "      <td>482.385</td>\n",
              "      <td>491.921</td>\n",
              "    </tr>\n",
              "    <tr>\n",
              "      <th>Rsq</th>\n",
              "      <td>0.500</td>\n",
              "      <td>0.008</td>\n",
              "      <td>0.484</td>\n",
              "      <td>0.514</td>\n",
              "      <td>0.000</td>\n",
              "      <td>0.000</td>\n",
              "      <td>17217.519</td>\n",
              "      <td>15917.791</td>\n",
              "      <td>1.0</td>\n",
              "      <td>0.480</td>\n",
              "      <td>0.486</td>\n",
              "      <td>0.494</td>\n",
              "      <td>0.505</td>\n",
              "      <td>0.512</td>\n",
              "      <td>0.516</td>\n",
              "    </tr>\n",
              "  </tbody>\n",
              "</table>\n",
              "</div>\n",
              "      <button class=\"colab-df-convert\" onclick=\"convertToInteractive('df-bf177f7b-f1e8-4198-b58c-0674ad44a590')\"\n",
              "              title=\"Convert this dataframe to an interactive table.\"\n",
              "              style=\"display:none;\">\n",
              "        \n",
              "  <svg xmlns=\"http://www.w3.org/2000/svg\" height=\"24px\"viewBox=\"0 0 24 24\"\n",
              "       width=\"24px\">\n",
              "    <path d=\"M0 0h24v24H0V0z\" fill=\"none\"/>\n",
              "    <path d=\"M18.56 5.44l.94 2.06.94-2.06 2.06-.94-2.06-.94-.94-2.06-.94 2.06-2.06.94zm-11 1L8.5 8.5l.94-2.06 2.06-.94-2.06-.94L8.5 2.5l-.94 2.06-2.06.94zm10 10l.94 2.06.94-2.06 2.06-.94-2.06-.94-.94-2.06-.94 2.06-2.06.94z\"/><path d=\"M17.41 7.96l-1.37-1.37c-.4-.4-.92-.59-1.43-.59-.52 0-1.04.2-1.43.59L10.3 9.45l-7.72 7.72c-.78.78-.78 2.05 0 2.83L4 21.41c.39.39.9.59 1.41.59.51 0 1.02-.2 1.41-.59l7.78-7.78 2.81-2.81c.8-.78.8-2.07 0-2.86zM5.41 20L4 18.59l7.72-7.72 1.47 1.35L5.41 20z\"/>\n",
              "  </svg>\n",
              "      </button>\n",
              "      \n",
              "  <style>\n",
              "    .colab-df-container {\n",
              "      display:flex;\n",
              "      flex-wrap:wrap;\n",
              "      gap: 12px;\n",
              "    }\n",
              "\n",
              "    .colab-df-convert {\n",
              "      background-color: #E8F0FE;\n",
              "      border: none;\n",
              "      border-radius: 50%;\n",
              "      cursor: pointer;\n",
              "      display: none;\n",
              "      fill: #1967D2;\n",
              "      height: 32px;\n",
              "      padding: 0 0 0 0;\n",
              "      width: 32px;\n",
              "    }\n",
              "\n",
              "    .colab-df-convert:hover {\n",
              "      background-color: #E2EBFA;\n",
              "      box-shadow: 0px 1px 2px rgba(60, 64, 67, 0.3), 0px 1px 3px 1px rgba(60, 64, 67, 0.15);\n",
              "      fill: #174EA6;\n",
              "    }\n",
              "\n",
              "    [theme=dark] .colab-df-convert {\n",
              "      background-color: #3B4455;\n",
              "      fill: #D2E3FC;\n",
              "    }\n",
              "\n",
              "    [theme=dark] .colab-df-convert:hover {\n",
              "      background-color: #434B5C;\n",
              "      box-shadow: 0px 1px 3px 1px rgba(0, 0, 0, 0.15);\n",
              "      filter: drop-shadow(0px 1px 2px rgba(0, 0, 0, 0.3));\n",
              "      fill: #FFFFFF;\n",
              "    }\n",
              "  </style>\n",
              "\n",
              "      <script>\n",
              "        const buttonEl =\n",
              "          document.querySelector('#df-bf177f7b-f1e8-4198-b58c-0674ad44a590 button.colab-df-convert');\n",
              "        buttonEl.style.display =\n",
              "          google.colab.kernel.accessAllowed ? 'block' : 'none';\n",
              "\n",
              "        async function convertToInteractive(key) {\n",
              "          const element = document.querySelector('#df-bf177f7b-f1e8-4198-b58c-0674ad44a590');\n",
              "          const dataTable =\n",
              "            await google.colab.kernel.invokeFunction('convertToInteractive',\n",
              "                                                     [key], {});\n",
              "          if (!dataTable) return;\n",
              "\n",
              "          const docLinkHtml = 'Like what you see? Visit the ' +\n",
              "            '<a target=\"_blank\" href=https://colab.research.google.com/notebooks/data_table.ipynb>data table notebook</a>'\n",
              "            + ' to learn more about interactive tables.';\n",
              "          element.innerHTML = '';\n",
              "          dataTable['output_type'] = 'display_data';\n",
              "          await google.colab.output.renderOutput(dataTable, element);\n",
              "          const docLink = document.createElement('div');\n",
              "          docLink.innerHTML = docLinkHtml;\n",
              "          element.appendChild(docLink);\n",
              "        }\n",
              "      </script>\n",
              "    </div>\n",
              "  </div>\n",
              "  "
            ],
            "text/plain": [
              "         mean      sd  hdi_2.5%  ...       75%       95%       99%\n",
              "b0   3030.049   8.886  3012.926  ...  3036.070  3044.751  3050.461\n",
              "b1    166.383   6.326   154.098  ...   170.698   176.696   180.969\n",
              "sig   459.779  13.256   433.168  ...   468.578   482.385   491.921\n",
              "Rsq     0.500   0.008     0.484  ...     0.505     0.512     0.516\n",
              "\n",
              "[4 rows x 15 columns]"
            ]
          },
          "metadata": {},
          "execution_count": 11
        }
      ],
      "source": [
        "func_quan = {\n",
        "    \"1%\": lambda x: np.percentile(x, 1),\n",
        "    \"5%\": lambda x: np.percentile(x, 5),\n",
        "    \"25%\": lambda x: np.percentile(x, 25),\n",
        "    \"75%\": lambda x: np.percentile(x, 75),\n",
        "    \"95%\": lambda x: np.percentile(x, 95),\n",
        "    \"99%\": lambda x: np.percentile(x, 99),\n",
        "}\n",
        "summ_mod1=az.summary(brtwt_LM_model1,var_names=['b0','b1','sig',\"Rsq\"],round_to=3,hdi_prob=0.95,stat_funcs=func_quan)\n",
        "summ_mod1"
      ]
    },
    {
      "cell_type": "markdown",
      "metadata": {
        "id": "ZQre4XLZx3fU"
      },
      "source": [
        "## <font color=\"darkred\"> Remarks\n",
        "\n",
        "- If the prior for the predictor is around zero, then this data set brings negative $R^2$\n",
        "\n",
        "- This shows poor fit\n",
        "\n",
        "- Impact of centering the numeric predictor can also be seen from $R^2$\n",
        "\n"
      ]
    },
    {
      "cell_type": "markdown",
      "source": [
        "# <font color=\"darkorange\"> Linear Model - II\n",
        "\n",
        "- Response: Bweight\n",
        "\n",
        "- Predictors:\n",
        "\n",
        "  - gestwks - Numeric\n",
        "\n",
        "  - sex - categorical (binary) - dummy coded\n"
      ],
      "metadata": {
        "id": "8GZqPd17BTsT"
      }
    },
    {
      "cell_type": "code",
      "execution_count": null,
      "metadata": {
        "id": "1jl5pCaOg7uB"
      },
      "outputs": [],
      "source": [
        "dumm_sex=pd.get_dummies(brtwt_da['sex'],prefix='sex_', columns=['sex'])\n",
        "brtwt_da = pd.concat([brtwt_da, dumm_sex], axis=1)"
      ]
    },
    {
      "cell_type": "code",
      "execution_count": null,
      "metadata": {
        "colab": {
          "base_uri": "https://localhost:8080/"
        },
        "id": "dWQaDt-sr5cG",
        "outputId": "f2e3f061-116d-4d29-bd7e-31d5ee64856d"
      },
      "outputs": [
        {
          "name": "stderr",
          "output_type": "stream",
          "text": [
            "INFO:pystan:COMPILING THE C++ CODE FOR MODEL anon_model_65a997f00298c678063df17944377cca NOW.\n"
          ]
        }
      ],
      "source": [
        "brtwt_LM_code2 = \"\"\"\n",
        "data {\n",
        "    int<lower=0> n;\n",
        "    //real a_i;\n",
        "    //real<lower=0> b_i;\n",
        "    real a_p1;\n",
        "    real<lower=0> b_p1;\n",
        "    real a_p2;\n",
        "    real<lower=0> b_p2;\n",
        "    real a_p3;\n",
        "    real<lower=0> b_p3;\n",
        "    vector[n] y;\n",
        "    vector[n] x1;\n",
        "    vector[n] x2;\n",
        "    vector[n] x3;\n",
        "    real<lower=0> g1;\n",
        "    real<lower=0> g2;\n",
        "    real b1_L;\n",
        "    }\n",
        "\n",
        "parameters {\n",
        "   //real b0;\n",
        "    real b1;\n",
        "    real b2;\n",
        "    real b3;\n",
        "   real<lower=0> tau;\n",
        "}\n",
        "\n",
        "transformed parameters {\n",
        "   real<lower=0> sig;\n",
        "   sig=sqrt(1/tau);\n",
        "}\n",
        "\n",
        "model {\n",
        "      y ~ normal(b1*x1+b2*x2+b3*x3, sig);\n",
        "      //b0 ~ normal(a_i, b_i);\n",
        "      b1 ~ normal(a_p1, b_p1);\n",
        "      b2 ~ normal(a_p2, b_p2);\n",
        "      b3 ~ normal(a_p3, b_p3);\n",
        "      tau ~ cauchy(g1,g2); //gamma\n",
        "}\n",
        "generated quantities{\n",
        "   real Rsq;\n",
        "   real<lower=0> rss;             // residual sum of squares\n",
        "   real<lower=0> totalss;         // total SS\n",
        "   int<lower=0, upper=1> b1_gt_L= b1 > b1_L; //Posterior Probability about b1\n",
        "   real b2_b3= b2 - b3;                      //Posterior Probability about b2 and b3\n",
        "\n",
        "  //computation of R square\n",
        "  vector[n] yhat;                // linear predictor\n",
        "  yhat = b1*x1+b2*x2+b3*x3;\n",
        "  rss = dot_self(y-yhat);\n",
        "  totalss = dot_self(y-mean(y));\n",
        "  Rsq = 1 - (rss/totalss);\n",
        "}\n",
        "\"\"\"\n",
        "# posterior\n",
        "posterior2 = pystan.StanModel(model_code=brtwt_LM_code2)"
      ]
    },
    {
      "cell_type": "code",
      "execution_count": null,
      "metadata": {
        "id": "k7RYPMRKB6Ps"
      },
      "outputs": [],
      "source": [
        "brtwt_LM_data2 = {\n",
        "             'n': len(brtwt_da),\n",
        "             'x1': brtwt_da['gestwks']-np.mean(brtwt_da.gestwks),\n",
        "             'x2': brtwt_da['sex__female'],\n",
        "             'x3': brtwt_da['sex__male'],\n",
        "             'y': brtwt_da['bweight'],\n",
        "            #  'a_i':3000,\n",
        "            #  'b_i':10,\n",
        "             'a_p1':200,\n",
        "             'b_p1':100,\n",
        "             'a_p2':3000,\n",
        "             'b_p2':100,\n",
        "             'a_p3':3000,\n",
        "             'b_p3':100,\n",
        "             'g1':0,\n",
        "             'g2':10,\n",
        "             'b1_L':10}\n",
        "#print(brtwt_LM_data2)"
      ]
    },
    {
      "cell_type": "code",
      "execution_count": null,
      "metadata": {
        "colab": {
          "base_uri": "https://localhost:8080/"
        },
        "id": "WR56SBWzAvHe",
        "outputId": "2856b379-08fb-4dfa-cbf5-fdd54ea70683"
      },
      "outputs": [
        {
          "output_type": "stream",
          "name": "stderr",
          "text": [
            "WARNING:pystan:n_eff / iter below 0.001 indicates that the effective sample size has likely been overestimated\n",
            "WARNING:pystan:Rhat above 1.1 or below 0.9 indicates that the chains very likely have not mixed\n"
          ]
        }
      ],
      "source": [
        "brtwt_LM_model2= posterior2.sampling(data=brtwt_LM_data2,\n",
        "                  iter=10000,\n",
        "                  chains=4,\n",
        "                  seed=1,\n",
        "                  warmup=3000,\n",
        "                  thin=1,\n",
        "                  control={\"max_treedepth\":15,\"adapt_delta\" : 0.9999})"
      ]
    },
    {
      "cell_type": "code",
      "execution_count": null,
      "metadata": {
        "id": "Bj0aDowo_7jC"
      },
      "outputs": [],
      "source": [
        "az.plot_trace(brtwt_LM_model2,var_names=['b1','b2','b3','sig'], compact=False,legend=True,figsize=(20,15))\n",
        "plt.show()"
      ]
    },
    {
      "cell_type": "code",
      "execution_count": null,
      "metadata": {
        "colab": {
          "base_uri": "https://localhost:8080/",
          "height": 305
        },
        "id": "tNTHNwDV_7jD",
        "outputId": "53471de9-eee7-4ce6-f7a3-469e9094edb3"
      },
      "outputs": [
        {
          "output_type": "stream",
          "name": "stderr",
          "text": [
            "/usr/local/lib/python3.7/dist-packages/arviz/stats/diagnostics.py:561: RuntimeWarning: invalid value encountered in double_scalars\n",
            "  (between_chain_variance / within_chain_variance + num_samples - 1) / (num_samples)\n"
          ]
        },
        {
          "output_type": "execute_result",
          "data": {
            "text/html": [
              "\n",
              "  <div id=\"df-5078a8c1-fc04-4437-85ac-6bbcad99c544\">\n",
              "    <div class=\"colab-df-container\">\n",
              "      <div>\n",
              "<style scoped>\n",
              "    .dataframe tbody tr th:only-of-type {\n",
              "        vertical-align: middle;\n",
              "    }\n",
              "\n",
              "    .dataframe tbody tr th {\n",
              "        vertical-align: top;\n",
              "    }\n",
              "\n",
              "    .dataframe thead th {\n",
              "        text-align: right;\n",
              "    }\n",
              "</style>\n",
              "<table border=\"1\" class=\"dataframe\">\n",
              "  <thead>\n",
              "    <tr style=\"text-align: right;\">\n",
              "      <th></th>\n",
              "      <th>mean</th>\n",
              "      <th>sd</th>\n",
              "      <th>hdi_2.5%</th>\n",
              "      <th>hdi_97.5%</th>\n",
              "      <th>mcse_mean</th>\n",
              "      <th>mcse_sd</th>\n",
              "      <th>ess_bulk</th>\n",
              "      <th>ess_tail</th>\n",
              "      <th>r_hat</th>\n",
              "      <th>1%</th>\n",
              "      <th>5%</th>\n",
              "      <th>25%</th>\n",
              "      <th>75%</th>\n",
              "      <th>95%</th>\n",
              "      <th>99%</th>\n",
              "    </tr>\n",
              "  </thead>\n",
              "  <tbody>\n",
              "    <tr>\n",
              "      <th>b1</th>\n",
              "      <td>206.432</td>\n",
              "      <td>7.309</td>\n",
              "      <td>192.602</td>\n",
              "      <td>221.031</td>\n",
              "      <td>0.048</td>\n",
              "      <td>0.034</td>\n",
              "      <td>22979.481</td>\n",
              "      <td>18420.533</td>\n",
              "      <td>1.0</td>\n",
              "      <td>189.419</td>\n",
              "      <td>194.408</td>\n",
              "      <td>201.489</td>\n",
              "      <td>211.394</td>\n",
              "      <td>218.453</td>\n",
              "      <td>223.402</td>\n",
              "    </tr>\n",
              "    <tr>\n",
              "      <th>b2</th>\n",
              "      <td>3044.036</td>\n",
              "      <td>23.904</td>\n",
              "      <td>2996.705</td>\n",
              "      <td>3090.283</td>\n",
              "      <td>0.153</td>\n",
              "      <td>0.108</td>\n",
              "      <td>24401.696</td>\n",
              "      <td>19068.762</td>\n",
              "      <td>1.0</td>\n",
              "      <td>2989.231</td>\n",
              "      <td>3004.691</td>\n",
              "      <td>3028.000</td>\n",
              "      <td>3059.898</td>\n",
              "      <td>3083.625</td>\n",
              "      <td>3099.866</td>\n",
              "    </tr>\n",
              "    <tr>\n",
              "      <th>b3</th>\n",
              "      <td>3197.242</td>\n",
              "      <td>23.068</td>\n",
              "      <td>3151.922</td>\n",
              "      <td>3242.363</td>\n",
              "      <td>0.147</td>\n",
              "      <td>0.104</td>\n",
              "      <td>24727.126</td>\n",
              "      <td>18235.056</td>\n",
              "      <td>1.0</td>\n",
              "      <td>3143.598</td>\n",
              "      <td>3159.168</td>\n",
              "      <td>3181.793</td>\n",
              "      <td>3212.791</td>\n",
              "      <td>3235.367</td>\n",
              "      <td>3251.052</td>\n",
              "    </tr>\n",
              "    <tr>\n",
              "      <th>b2_b3</th>\n",
              "      <td>-153.206</td>\n",
              "      <td>33.438</td>\n",
              "      <td>-218.916</td>\n",
              "      <td>-87.873</td>\n",
              "      <td>0.213</td>\n",
              "      <td>0.154</td>\n",
              "      <td>24589.107</td>\n",
              "      <td>18410.281</td>\n",
              "      <td>1.0</td>\n",
              "      <td>-231.586</td>\n",
              "      <td>-207.786</td>\n",
              "      <td>-175.828</td>\n",
              "      <td>-130.742</td>\n",
              "      <td>-98.557</td>\n",
              "      <td>-74.598</td>\n",
              "    </tr>\n",
              "    <tr>\n",
              "      <th>b1_gt_L</th>\n",
              "      <td>1.000</td>\n",
              "      <td>0.000</td>\n",
              "      <td>1.000</td>\n",
              "      <td>1.000</td>\n",
              "      <td>0.000</td>\n",
              "      <td>0.000</td>\n",
              "      <td>28000.000</td>\n",
              "      <td>28000.000</td>\n",
              "      <td>NaN</td>\n",
              "      <td>1.000</td>\n",
              "      <td>1.000</td>\n",
              "      <td>1.000</td>\n",
              "      <td>1.000</td>\n",
              "      <td>1.000</td>\n",
              "      <td>1.000</td>\n",
              "    </tr>\n",
              "    <tr>\n",
              "      <th>sig</th>\n",
              "      <td>433.797</td>\n",
              "      <td>12.061</td>\n",
              "      <td>410.681</td>\n",
              "      <td>457.995</td>\n",
              "      <td>0.079</td>\n",
              "      <td>0.056</td>\n",
              "      <td>23583.385</td>\n",
              "      <td>18340.472</td>\n",
              "      <td>1.0</td>\n",
              "      <td>406.811</td>\n",
              "      <td>414.275</td>\n",
              "      <td>425.566</td>\n",
              "      <td>441.825</td>\n",
              "      <td>454.302</td>\n",
              "      <td>462.575</td>\n",
              "    </tr>\n",
              "    <tr>\n",
              "      <th>Rsq</th>\n",
              "      <td>0.557</td>\n",
              "      <td>0.002</td>\n",
              "      <td>0.554</td>\n",
              "      <td>0.559</td>\n",
              "      <td>0.000</td>\n",
              "      <td>0.000</td>\n",
              "      <td>13964.488</td>\n",
              "      <td>16628.277</td>\n",
              "      <td>1.0</td>\n",
              "      <td>0.551</td>\n",
              "      <td>0.554</td>\n",
              "      <td>0.556</td>\n",
              "      <td>0.558</td>\n",
              "      <td>0.559</td>\n",
              "      <td>0.559</td>\n",
              "    </tr>\n",
              "  </tbody>\n",
              "</table>\n",
              "</div>\n",
              "      <button class=\"colab-df-convert\" onclick=\"convertToInteractive('df-5078a8c1-fc04-4437-85ac-6bbcad99c544')\"\n",
              "              title=\"Convert this dataframe to an interactive table.\"\n",
              "              style=\"display:none;\">\n",
              "        \n",
              "  <svg xmlns=\"http://www.w3.org/2000/svg\" height=\"24px\"viewBox=\"0 0 24 24\"\n",
              "       width=\"24px\">\n",
              "    <path d=\"M0 0h24v24H0V0z\" fill=\"none\"/>\n",
              "    <path d=\"M18.56 5.44l.94 2.06.94-2.06 2.06-.94-2.06-.94-.94-2.06-.94 2.06-2.06.94zm-11 1L8.5 8.5l.94-2.06 2.06-.94-2.06-.94L8.5 2.5l-.94 2.06-2.06.94zm10 10l.94 2.06.94-2.06 2.06-.94-2.06-.94-.94-2.06-.94 2.06-2.06.94z\"/><path d=\"M17.41 7.96l-1.37-1.37c-.4-.4-.92-.59-1.43-.59-.52 0-1.04.2-1.43.59L10.3 9.45l-7.72 7.72c-.78.78-.78 2.05 0 2.83L4 21.41c.39.39.9.59 1.41.59.51 0 1.02-.2 1.41-.59l7.78-7.78 2.81-2.81c.8-.78.8-2.07 0-2.86zM5.41 20L4 18.59l7.72-7.72 1.47 1.35L5.41 20z\"/>\n",
              "  </svg>\n",
              "      </button>\n",
              "      \n",
              "  <style>\n",
              "    .colab-df-container {\n",
              "      display:flex;\n",
              "      flex-wrap:wrap;\n",
              "      gap: 12px;\n",
              "    }\n",
              "\n",
              "    .colab-df-convert {\n",
              "      background-color: #E8F0FE;\n",
              "      border: none;\n",
              "      border-radius: 50%;\n",
              "      cursor: pointer;\n",
              "      display: none;\n",
              "      fill: #1967D2;\n",
              "      height: 32px;\n",
              "      padding: 0 0 0 0;\n",
              "      width: 32px;\n",
              "    }\n",
              "\n",
              "    .colab-df-convert:hover {\n",
              "      background-color: #E2EBFA;\n",
              "      box-shadow: 0px 1px 2px rgba(60, 64, 67, 0.3), 0px 1px 3px 1px rgba(60, 64, 67, 0.15);\n",
              "      fill: #174EA6;\n",
              "    }\n",
              "\n",
              "    [theme=dark] .colab-df-convert {\n",
              "      background-color: #3B4455;\n",
              "      fill: #D2E3FC;\n",
              "    }\n",
              "\n",
              "    [theme=dark] .colab-df-convert:hover {\n",
              "      background-color: #434B5C;\n",
              "      box-shadow: 0px 1px 3px 1px rgba(0, 0, 0, 0.15);\n",
              "      filter: drop-shadow(0px 1px 2px rgba(0, 0, 0, 0.3));\n",
              "      fill: #FFFFFF;\n",
              "    }\n",
              "  </style>\n",
              "\n",
              "      <script>\n",
              "        const buttonEl =\n",
              "          document.querySelector('#df-5078a8c1-fc04-4437-85ac-6bbcad99c544 button.colab-df-convert');\n",
              "        buttonEl.style.display =\n",
              "          google.colab.kernel.accessAllowed ? 'block' : 'none';\n",
              "\n",
              "        async function convertToInteractive(key) {\n",
              "          const element = document.querySelector('#df-5078a8c1-fc04-4437-85ac-6bbcad99c544');\n",
              "          const dataTable =\n",
              "            await google.colab.kernel.invokeFunction('convertToInteractive',\n",
              "                                                     [key], {});\n",
              "          if (!dataTable) return;\n",
              "\n",
              "          const docLinkHtml = 'Like what you see? Visit the ' +\n",
              "            '<a target=\"_blank\" href=https://colab.research.google.com/notebooks/data_table.ipynb>data table notebook</a>'\n",
              "            + ' to learn more about interactive tables.';\n",
              "          element.innerHTML = '';\n",
              "          dataTable['output_type'] = 'display_data';\n",
              "          await google.colab.output.renderOutput(dataTable, element);\n",
              "          const docLink = document.createElement('div');\n",
              "          docLink.innerHTML = docLinkHtml;\n",
              "          element.appendChild(docLink);\n",
              "        }\n",
              "      </script>\n",
              "    </div>\n",
              "  </div>\n",
              "  "
            ],
            "text/plain": [
              "             mean      sd  hdi_2.5%  ...       75%       95%       99%\n",
              "b1        206.432   7.309   192.602  ...   211.394   218.453   223.402\n",
              "b2       3044.036  23.904  2996.705  ...  3059.898  3083.625  3099.866\n",
              "b3       3197.242  23.068  3151.922  ...  3212.791  3235.367  3251.052\n",
              "b2_b3    -153.206  33.438  -218.916  ...  -130.742   -98.557   -74.598\n",
              "b1_gt_L     1.000   0.000     1.000  ...     1.000     1.000     1.000\n",
              "sig       433.797  12.061   410.681  ...   441.825   454.302   462.575\n",
              "Rsq         0.557   0.002     0.554  ...     0.558     0.559     0.559\n",
              "\n",
              "[7 rows x 15 columns]"
            ]
          },
          "metadata": {},
          "execution_count": 48
        }
      ],
      "source": [
        "func_quan = {\n",
        "    \"1%\": lambda x: np.percentile(x, 1),\n",
        "    \"5%\": lambda x: np.percentile(x, 5),\n",
        "    \"25%\": lambda x: np.percentile(x, 25),\n",
        "    \"75%\": lambda x: np.percentile(x, 75),\n",
        "    \"95%\": lambda x: np.percentile(x, 95),\n",
        "    \"99%\": lambda x: np.percentile(x, 99),\n",
        "}\n",
        "summ_mod1=az.summary(brtwt_LM_model2,var_names=['b1','b2','b3','b2_b3','b1_gt_L','sig',\"Rsq\"],round_to=3,hdi_prob=0.95,stat_funcs=func_quan)\n",
        "summ_mod1"
      ]
    },
    {
      "cell_type": "markdown",
      "metadata": {
        "id": "tpdYii5PQAHy"
      },
      "source": [
        "# <font color=\"darkorange\"> A note on Posterior Probabilities\n",
        "\n",
        "Instead of including a variable in the generated quantities for finding probabilties associated with a parameter, it is possibe to use **extract** function from Stan.\n",
        "\n",
        "Once the posterior draws are saved it is possible to count the number of points satisfying the condition (of interest) and divide by the number of runs"
      ]
    },
    {
      "cell_type": "code",
      "execution_count": null,
      "metadata": {
        "id": "ykJhSmkj3PxO"
      },
      "outputs": [],
      "source": [
        "post_draws_A=brtwt_LM_model1.extract()\n",
        "del post_draws_A['yhat']\n",
        "post_draws_mod1=pd.DataFrame(post_draws_A)"
      ]
    },
    {
      "cell_type": "code",
      "execution_count": null,
      "metadata": {
        "id": "0XvgQrnwIK_E",
        "colab": {
          "base_uri": "https://localhost:8080/",
          "height": 424
        },
        "outputId": "92b04e40-6bab-4cec-e42f-9f5555ddb5e8"
      },
      "outputs": [
        {
          "output_type": "execute_result",
          "data": {
            "text/html": [
              "\n",
              "  <div id=\"df-932539df-c7ee-4b29-9525-91f6034f0bbe\">\n",
              "    <div class=\"colab-df-container\">\n",
              "      <div>\n",
              "<style scoped>\n",
              "    .dataframe tbody tr th:only-of-type {\n",
              "        vertical-align: middle;\n",
              "    }\n",
              "\n",
              "    .dataframe tbody tr th {\n",
              "        vertical-align: top;\n",
              "    }\n",
              "\n",
              "    .dataframe thead th {\n",
              "        text-align: right;\n",
              "    }\n",
              "</style>\n",
              "<table border=\"1\" class=\"dataframe\">\n",
              "  <thead>\n",
              "    <tr style=\"text-align: right;\">\n",
              "      <th></th>\n",
              "      <th>b0</th>\n",
              "      <th>b1</th>\n",
              "      <th>tau</th>\n",
              "      <th>sig</th>\n",
              "      <th>Rsq</th>\n",
              "      <th>rss</th>\n",
              "      <th>totalss</th>\n",
              "      <th>lp__</th>\n",
              "    </tr>\n",
              "  </thead>\n",
              "  <tbody>\n",
              "    <tr>\n",
              "      <th>0</th>\n",
              "      <td>3019.118701</td>\n",
              "      <td>160.105878</td>\n",
              "      <td>0.000005</td>\n",
              "      <td>465.453951</td>\n",
              "      <td>0.487943</td>\n",
              "      <td>1.396482e+08</td>\n",
              "      <td>2.727201e+08</td>\n",
              "      <td>-4316.714597</td>\n",
              "    </tr>\n",
              "    <tr>\n",
              "      <th>1</th>\n",
              "      <td>3029.136953</td>\n",
              "      <td>164.288785</td>\n",
              "      <td>0.000005</td>\n",
              "      <td>450.143952</td>\n",
              "      <td>0.497625</td>\n",
              "      <td>1.370078e+08</td>\n",
              "      <td>2.727201e+08</td>\n",
              "      <td>-4315.874689</td>\n",
              "    </tr>\n",
              "    <tr>\n",
              "      <th>2</th>\n",
              "      <td>3029.040730</td>\n",
              "      <td>161.880617</td>\n",
              "      <td>0.000005</td>\n",
              "      <td>448.421500</td>\n",
              "      <td>0.494907</td>\n",
              "      <td>1.377490e+08</td>\n",
              "      <td>2.727201e+08</td>\n",
              "      <td>-4316.292231</td>\n",
              "    </tr>\n",
              "    <tr>\n",
              "      <th>3</th>\n",
              "      <td>3033.505663</td>\n",
              "      <td>155.929161</td>\n",
              "      <td>0.000005</td>\n",
              "      <td>460.431509</td>\n",
              "      <td>0.489723</td>\n",
              "      <td>1.391629e+08</td>\n",
              "      <td>2.727201e+08</td>\n",
              "      <td>-4316.982447</td>\n",
              "    </tr>\n",
              "    <tr>\n",
              "      <th>4</th>\n",
              "      <td>3033.942412</td>\n",
              "      <td>162.160967</td>\n",
              "      <td>0.000005</td>\n",
              "      <td>458.559083</td>\n",
              "      <td>0.497476</td>\n",
              "      <td>1.370485e+08</td>\n",
              "      <td>2.727201e+08</td>\n",
              "      <td>-4315.830928</td>\n",
              "    </tr>\n",
              "    <tr>\n",
              "      <th>...</th>\n",
              "      <td>...</td>\n",
              "      <td>...</td>\n",
              "      <td>...</td>\n",
              "      <td>...</td>\n",
              "      <td>...</td>\n",
              "      <td>...</td>\n",
              "      <td>...</td>\n",
              "      <td>...</td>\n",
              "    </tr>\n",
              "    <tr>\n",
              "      <th>27995</th>\n",
              "      <td>3028.109288</td>\n",
              "      <td>169.836705</td>\n",
              "      <td>0.000005</td>\n",
              "      <td>458.023302</td>\n",
              "      <td>0.502734</td>\n",
              "      <td>1.356145e+08</td>\n",
              "      <td>2.727201e+08</td>\n",
              "      <td>-4315.675721</td>\n",
              "    </tr>\n",
              "    <tr>\n",
              "      <th>27996</th>\n",
              "      <td>3016.746639</td>\n",
              "      <td>159.961855</td>\n",
              "      <td>0.000005</td>\n",
              "      <td>454.261380</td>\n",
              "      <td>0.486532</td>\n",
              "      <td>1.400331e+08</td>\n",
              "      <td>2.727201e+08</td>\n",
              "      <td>-4317.464622</td>\n",
              "    </tr>\n",
              "    <tr>\n",
              "      <th>27997</th>\n",
              "      <td>3028.503499</td>\n",
              "      <td>164.933570</td>\n",
              "      <td>0.000004</td>\n",
              "      <td>476.956197</td>\n",
              "      <td>0.498017</td>\n",
              "      <td>1.369009e+08</td>\n",
              "      <td>2.727201e+08</td>\n",
              "      <td>-4316.365963</td>\n",
              "    </tr>\n",
              "    <tr>\n",
              "      <th>27998</th>\n",
              "      <td>3028.351944</td>\n",
              "      <td>172.689330</td>\n",
              "      <td>0.000005</td>\n",
              "      <td>434.363095</td>\n",
              "      <td>0.505420</td>\n",
              "      <td>1.348818e+08</td>\n",
              "      <td>2.727201e+08</td>\n",
              "      <td>-4317.690596</td>\n",
              "    </tr>\n",
              "    <tr>\n",
              "      <th>27999</th>\n",
              "      <td>3013.791389</td>\n",
              "      <td>173.033698</td>\n",
              "      <td>0.000004</td>\n",
              "      <td>475.353433</td>\n",
              "      <td>0.498320</td>\n",
              "      <td>1.368182e+08</td>\n",
              "      <td>2.727201e+08</td>\n",
              "      <td>-4318.514063</td>\n",
              "    </tr>\n",
              "  </tbody>\n",
              "</table>\n",
              "<p>28000 rows × 8 columns</p>\n",
              "</div>\n",
              "      <button class=\"colab-df-convert\" onclick=\"convertToInteractive('df-932539df-c7ee-4b29-9525-91f6034f0bbe')\"\n",
              "              title=\"Convert this dataframe to an interactive table.\"\n",
              "              style=\"display:none;\">\n",
              "        \n",
              "  <svg xmlns=\"http://www.w3.org/2000/svg\" height=\"24px\"viewBox=\"0 0 24 24\"\n",
              "       width=\"24px\">\n",
              "    <path d=\"M0 0h24v24H0V0z\" fill=\"none\"/>\n",
              "    <path d=\"M18.56 5.44l.94 2.06.94-2.06 2.06-.94-2.06-.94-.94-2.06-.94 2.06-2.06.94zm-11 1L8.5 8.5l.94-2.06 2.06-.94-2.06-.94L8.5 2.5l-.94 2.06-2.06.94zm10 10l.94 2.06.94-2.06 2.06-.94-2.06-.94-.94-2.06-.94 2.06-2.06.94z\"/><path d=\"M17.41 7.96l-1.37-1.37c-.4-.4-.92-.59-1.43-.59-.52 0-1.04.2-1.43.59L10.3 9.45l-7.72 7.72c-.78.78-.78 2.05 0 2.83L4 21.41c.39.39.9.59 1.41.59.51 0 1.02-.2 1.41-.59l7.78-7.78 2.81-2.81c.8-.78.8-2.07 0-2.86zM5.41 20L4 18.59l7.72-7.72 1.47 1.35L5.41 20z\"/>\n",
              "  </svg>\n",
              "      </button>\n",
              "      \n",
              "  <style>\n",
              "    .colab-df-container {\n",
              "      display:flex;\n",
              "      flex-wrap:wrap;\n",
              "      gap: 12px;\n",
              "    }\n",
              "\n",
              "    .colab-df-convert {\n",
              "      background-color: #E8F0FE;\n",
              "      border: none;\n",
              "      border-radius: 50%;\n",
              "      cursor: pointer;\n",
              "      display: none;\n",
              "      fill: #1967D2;\n",
              "      height: 32px;\n",
              "      padding: 0 0 0 0;\n",
              "      width: 32px;\n",
              "    }\n",
              "\n",
              "    .colab-df-convert:hover {\n",
              "      background-color: #E2EBFA;\n",
              "      box-shadow: 0px 1px 2px rgba(60, 64, 67, 0.3), 0px 1px 3px 1px rgba(60, 64, 67, 0.15);\n",
              "      fill: #174EA6;\n",
              "    }\n",
              "\n",
              "    [theme=dark] .colab-df-convert {\n",
              "      background-color: #3B4455;\n",
              "      fill: #D2E3FC;\n",
              "    }\n",
              "\n",
              "    [theme=dark] .colab-df-convert:hover {\n",
              "      background-color: #434B5C;\n",
              "      box-shadow: 0px 1px 3px 1px rgba(0, 0, 0, 0.15);\n",
              "      filter: drop-shadow(0px 1px 2px rgba(0, 0, 0, 0.3));\n",
              "      fill: #FFFFFF;\n",
              "    }\n",
              "  </style>\n",
              "\n",
              "      <script>\n",
              "        const buttonEl =\n",
              "          document.querySelector('#df-932539df-c7ee-4b29-9525-91f6034f0bbe button.colab-df-convert');\n",
              "        buttonEl.style.display =\n",
              "          google.colab.kernel.accessAllowed ? 'block' : 'none';\n",
              "\n",
              "        async function convertToInteractive(key) {\n",
              "          const element = document.querySelector('#df-932539df-c7ee-4b29-9525-91f6034f0bbe');\n",
              "          const dataTable =\n",
              "            await google.colab.kernel.invokeFunction('convertToInteractive',\n",
              "                                                     [key], {});\n",
              "          if (!dataTable) return;\n",
              "\n",
              "          const docLinkHtml = 'Like what you see? Visit the ' +\n",
              "            '<a target=\"_blank\" href=https://colab.research.google.com/notebooks/data_table.ipynb>data table notebook</a>'\n",
              "            + ' to learn more about interactive tables.';\n",
              "          element.innerHTML = '';\n",
              "          dataTable['output_type'] = 'display_data';\n",
              "          await google.colab.output.renderOutput(dataTable, element);\n",
              "          const docLink = document.createElement('div');\n",
              "          docLink.innerHTML = docLinkHtml;\n",
              "          element.appendChild(docLink);\n",
              "        }\n",
              "      </script>\n",
              "    </div>\n",
              "  </div>\n",
              "  "
            ],
            "text/plain": [
              "                b0          b1  ...       totalss         lp__\n",
              "0      3019.118701  160.105878  ...  2.727201e+08 -4316.714597\n",
              "1      3029.136953  164.288785  ...  2.727201e+08 -4315.874689\n",
              "2      3029.040730  161.880617  ...  2.727201e+08 -4316.292231\n",
              "3      3033.505663  155.929161  ...  2.727201e+08 -4316.982447\n",
              "4      3033.942412  162.160967  ...  2.727201e+08 -4315.830928\n",
              "...            ...         ...  ...           ...          ...\n",
              "27995  3028.109288  169.836705  ...  2.727201e+08 -4315.675721\n",
              "27996  3016.746639  159.961855  ...  2.727201e+08 -4317.464622\n",
              "27997  3028.503499  164.933570  ...  2.727201e+08 -4316.365963\n",
              "27998  3028.351944  172.689330  ...  2.727201e+08 -4317.690596\n",
              "27999  3013.791389  173.033698  ...  2.727201e+08 -4318.514063\n",
              "\n",
              "[28000 rows x 8 columns]"
            ]
          },
          "metadata": {},
          "execution_count": 13
        }
      ],
      "source": [
        "post_draws_mod1"
      ]
    },
    {
      "cell_type": "code",
      "execution_count": null,
      "metadata": {
        "id": "E062QQSoPat6"
      },
      "outputs": [],
      "source": [
        "post_draws_mod1.b1[post_draws_mod1.b1>2650].count()/len(post_draws_mod1)"
      ]
    }
  ]
}