{
  "nbformat": 4,
  "nbformat_minor": 0,
  "metadata": {
    "colab": {
      "provenance": [],
      "include_colab_link": true
    },
    "kernelspec": {
      "name": "python3",
      "display_name": "Python 3"
    },
    "language_info": {
      "name": "python"
    }
  },
  "cells": [
    {
      "cell_type": "markdown",
      "metadata": {
        "id": "view-in-github",
        "colab_type": "text"
      },
      "source": [
        "<a href=\"https://colab.research.google.com/github/DrSubbiah/1.Bayesian-Inference/blob/master/About_TFP_Distributions.ipynb\" target=\"_parent\"><img src=\"https://colab.research.google.com/assets/colab-badge.svg\" alt=\"Open In Colab\"/></a>"
      ]
    },
    {
      "cell_type": "markdown",
      "source": [
        "# <font color=\"darkblue\"> Tasks\n",
        "\n",
        "## <font color=\"darkred\"> Task 1: A web based tool for\n",
        "\n",
        "###<font color=\"darkgreen\"> Task 1.1 Calculating discrete probabilities\n",
        "\n",
        "We shall restrict to two events $A_1,A_2$\n",
        "\n",
        "<font color=\"red\"> **Inputs**\n",
        "\n",
        "1. Probabilities associated with two events $p(A_1) ,p(A_2)$\n",
        "\n",
        "1. Check whether mutually exclusive  / independent / neither\n",
        "\n",
        "1. In the third case, input for $p(A_1\\cap  A_2)$\n",
        "\n",
        "<font color=\"blue\">**all the numerical input should lie between 0 and 1**\n",
        "\n",
        "<font color=\"red\">**Output**\n",
        "\n",
        "Choose from the following\n",
        "\n",
        "1. Complemenetary\n",
        "\n",
        "1. Atleast (either or) - Additive law\n",
        "\n",
        "1. None\n",
        "\n",
        "1. Only one\n",
        "\n",
        "1. Conditional probability\n",
        "\n",
        "<font color=\"red\">**Computation**\n",
        "\n",
        "If the choice (input) is mutually exclusive, $p(A_1\\cap  A_2)=0$,\n",
        "\n",
        "  elseif the choice (input) is mutually independent, $p(A_1\\cap  A_2)=p(A_1)\\times p(A_2)$,\n",
        "\n",
        "  else third input will be prompted\n",
        "\n",
        "1. Complemenetary: $p(A_1^c), p(A_2^c)$\n",
        "\n",
        "1. Atleast (either or) - Additive law: $p(A_1\\cup  A_2)=p(A_1)+p(A_2)-p(A_1\\cap  A_2)$\n",
        "\n",
        "1. None:$p(A_1^c \\cap  A_2^c)$\n",
        "\n",
        "1. Only one:\n",
        "\n",
        "  (a) $p(A_1\\cap A_2^c)=p(A_1)-p(A_1\\cap A_2)$\n",
        "\n",
        "  (b) $p(A_1^c \\cap A_2)=p(A_2)-p(A_1\\cap A_2)$\n",
        "\n",
        "1. Conditional probability\n",
        "\n",
        "  (a) $p(A_1 | A_2) = \\frac{p(A_1\\cap A_2)}{p(A_2)}$\n",
        "\n",
        "  (b) $p(A_2 | A_1) = \\frac{p(A_1\\cap A_2)}{p(A_1)}$\n",
        "\n",
        "  (c) $p(A_1^c | A_2) = 1-p(A_1|A_2)$\n",
        "\n",
        "  (d) $p(A_1 | A_2^c) = \\frac{p(A_1)-p(A_1\\cap A_2)}{1-p(A_2)}$\n",
        "\n",
        "\n",
        "\n",
        "\n",
        "###<font color=\"darkgreen\"> Task 1.2 Implementing Bayes theorem\n",
        "\n",
        "Inputs\n",
        "\n",
        "1. Discrete values of a paremter $\\theta_1, \\theta_2,...\\theta_k$\n",
        "\n",
        "1. Corresponding Prior probabilities $p(\\theta_1), p(\\theta_2),...p(\\theta_k)$\n",
        "\n",
        "Computation\n",
        "\n",
        "1. A data model, computation of probabilities from a distribution $p(x|\n",
        "\\theta)$\n",
        "\n",
        "1. Bayes theorem $\\pi(\\theta_i|x)$\n",
        "\n",
        "  1. numerator\n",
        "  \n",
        "  1. denominator\n",
        "  \n",
        "  1. ratio\n",
        "\n",
        "Output\n",
        "\n",
        "1. Tabular form of all the above values\n",
        "\n",
        "### <font color=\"darkorange\">**Reference**\n",
        "\n",
        "**My illustration**\n",
        "\n",
        "https://docs.google.com/spreadsheets/d/1CD4_in24UkXvhVTS67VjnWmc_DMrgeSYqu229xyQo3g/edit?usp=sharing\n",
        "\n",
        "**A book**\n",
        "\n",
        "https://link.springer.com/book/10.1007/978-0-387-92298-0\n",
        "\n",
        "\n",
        "**What not to do?**\n",
        "\n",
        "https://www.omnicalculator.com/statistics/bayes-theorem\n",
        "\n",
        "http://psych.fullerton.edu/mbirnbaum/bayes/bayescalc.htm\n",
        "\n",
        "https://byjus.com/bayes-theorem-calculator/\n",
        "\n",
        "## <font color=\"darkred\"> Task 2: For Chapters 2 to 4\n",
        "\n",
        "These three chapters deal distributions in three aspects\n",
        "\n",
        "* Chapter 2: General introduction about random variable, PMF, PDF, Probability computations and Summaries associated with a random variable. The necessary functional forms are discussed with the style of notation $f(x|\\theta)$ explained that will be used in all three Chapters\n",
        "\n",
        "* Chapter 3: Common Discrete distributions from Bernoulli family (that constitutes a large class) are discussed aligning the concepts and tools discussed in Chapter 2\n",
        "\n",
        "* Chapter 4: Similar to Chapter 3 but for common Continuous distributions; also, the grouping of these distribution is done using their range / space / support as bounded, semi-bounded, unbounded sets in the real line\n",
        "\n",
        "**We confine to univarite (1-Dimensional) random variables in these three chapters**\n",
        "\n",
        "Firstly, let us list the computations involved in I-P-O format for CHapter 2. The same will be extended with typical PDF / PMF for the respective common distribution\n",
        "\n",
        "###<font color=\"darkgreen\">Task 2.1  Functional forms\n",
        "\n",
        "Mathematical structures - constant to circular trigonometric fuction\n",
        "\n",
        "https://drive.google.com/file/d/1LKdhvNjXUNdKqBfs0S3ST7yQC4o6QHkq/view?usp=sharing\n",
        "\n",
        "\n",
        "###<font color=\"darkgreen\">Task 2.2  Distrbution - Parameters' role\n",
        "\n",
        "https://drive.google.com/file/d/1t6nFSWVnfjpjVx4YuTSKEO-3G3UN9F-6/view?usp=sharing\n",
        "\n",
        "###<font color=\"darkgreen\">Task 2.3  Discrete distributions\n",
        "\n",
        "**Input**\n",
        "\n",
        "1. Enter the number of points in the space $\\mathscr{A}_X$\n",
        "\n",
        "1. Enter the values of $X$\n",
        "\n",
        "1. Enter the respective probabilities $p(X=x)$\n",
        "\n",
        "**Output 1: First four Moments (about mean)**\n",
        "\n",
        "Step 1: Calculate Mean $E(X)$ then use the value of $E(X)$ to find the other three moments about mean and other two measures\n",
        "\n",
        "Step 2:\n",
        "\n",
        "1.  Mean $E(X)=\\sum_{\\mathscr{A}_X} x*p(X=x)$\n",
        "\n",
        "1. Variance $V(X) =\\sum_{\\mathscr{A}_X} [x-E(X)]^2*p(X=x)$\n",
        "\n",
        "1. Third Moment $\\mu_3 =\\sum_{\\mathscr{A}_X} [x-E(X)]^3*p(X=x)$\n",
        "\n",
        "1. Fourth Moment $\\mu_4 =\\sum_{\\mathscr{A}_X} [x-E(X)]^4*p(X=x)$\n",
        "\n",
        "1. Skewness = $\\frac{\\mu_3}{\\sqrt{\\mu_2}}$\n",
        "\n",
        "1. Excess of Kurtosis = $\\frac{\\mu_4}{{\\mu_2}^2}-3$\n",
        "\n",
        "**Output 2: Probability computations based on $X$**\n",
        "\n",
        "***Further Input***\n",
        "\n",
        "User may choose, Less than or greater than a number or from to or between any two numbers\n",
        "\n",
        "If any one or both lie outside $\\mathscr{A}_X$, respective probability will be zero, but however integration module will not consider and hence probability would be less than zero or more than 1. In such answers need to revise or check the limits for the integrals (specified by the user)\n",
        "\n",
        "Then Probability computation can be done from the input $p(X=x)$\n",
        "\n",
        "1. $p(X > a) =\\sum [p(X=x)]$ for all points $x$ in $\\mathscr{A}_X$ that satisfy the condition $X>a$\n",
        "\n",
        "1. $p(X < b) =\\sum [p(X=x)]$ for all points $x$ in $\\mathscr{A}_X$ that satisfy the condition $X<b$\n",
        "\n",
        "1. $p(a < X < b) =\\sum [p(X=x)]$ for all points $x$ in $\\mathscr{A}_X$ that satisfy the condition $a<X<b$\n",
        "\n",
        "<font color=\"red\">*Equality in the above realtions will have the necessary changes in the inclusion of points in $\\mathscr{A}_X$  that satisfy the conditions*\n",
        "\n",
        "###<font color=\"darkgreen\">Task 2.4  Continuous distributions\n",
        "\n",
        "**Input**\n",
        "\n",
        "1. Enter the bounds for the space $\\mathscr{A}_X$, lower and upper, numeric values, that might include $\\mp ~\\infty$\n",
        "\n",
        "1. Enter the PDF $f(x)$ of $X$\n",
        "\n",
        "\n",
        "**Output 1: First four Moments (about mean)**\n",
        "\n",
        "Step 1: Calculate Mean $E(X)$ then use the value of $E(X)$ to find the other three moments about mean and other two measures\n",
        "\n",
        "Step 2:\n",
        "\n",
        "1.  Mean $E(X)=\\int_{\\mathscr{A}_X} x*p(X=x)$\n",
        "\n",
        "1. Variance $V(X) =\\int_{\\mathscr{A}_X} [x-E(X)]^2*p(X=x)$\n",
        "\n",
        "1. Third Moment $\\mu_3 =\\int_{\\mathscr{A}_X} [x-E(X)]^3*p(X=x)$\n",
        "\n",
        "1. Fourth Moment $\\mu_4 =\\int_{\\mathscr{A}_X} [x-E(X)]^4*p(X=x)$\n",
        "\n",
        "1. Skewness = $\\frac{\\mu_3}{\\sqrt{\\mu_2}}$\n",
        "\n",
        "1. Excess of Kurtosis = $\\frac{\\mu_4}{{\\mu_2}^2}-3$\n",
        "\n",
        "**Output 2: Probability computations based on $X$**\n",
        "\n",
        "***Further Input***\n",
        "\n",
        "User may choose, Less than or greater than a number or from to or between any two numbers\n",
        "\n",
        "If any one or both lie outside $\\mathscr{A}_X$, respective probability will be zero, but however integration module will not consider and hence probability would be less than zero or more than 1. In such answers need to revise or check the limits for the integrals (specified by the user)\n",
        "\n",
        "Then Probability computation can be done from the input $p(X=x)$\n",
        "\n",
        "1. $p(X > a) =\\int p(X=x) ~dx$ for all points $x$ in $\\mathscr{A}_X$ that satisfy the condition $X>a$\n",
        "\n",
        "1. $p(X < b) =\\int p(X=x) ~dx$ for all points $x$ in $\\mathscr{A}_X$ that satisfy the condition $X<b$\n",
        "\n",
        "1. $p(a < X < b) =\\int p(X=x) ~dx$ for all points $x$ in $\\mathscr{A}_X$ that satisfy the condition $a<X<b$\n",
        "\n",
        "<font color=\"red\">*Equality in the above realtions is **not** necessary for a continuous random variable*\n",
        "\n",
        "### Integration (univariate) with Python\n",
        "\n",
        "scipy.integrate is used\n",
        "\n",
        "math is used for including $\\mp ~\\infty$\n",
        "\n",
        "Mostly the required mathemtical form can be defined as a function, then integration (finite or infinite limits) will be carried out using ***quad*** in scipy.integrate\n",
        "\n",
        "This is a numerical integration and hence comes with approximations.\n",
        "\n",
        "Few illustrations are provided"
      ],
      "metadata": {
        "id": "IkomBvYfuqb4"
      }
    },
    {
      "cell_type": "markdown",
      "source": [
        "### Required Libraries"
      ],
      "metadata": {
        "id": "x3snqEnd8dXP"
      }
    },
    {
      "cell_type": "code",
      "source": [
        "import numpy as np\n",
        "import scipy.integrate as integrate\n",
        "import math"
      ],
      "metadata": {
        "id": "OGAe1gRLSDlX"
      },
      "execution_count": null,
      "outputs": []
    },
    {
      "cell_type": "markdown",
      "source": [
        "### Next is definition of functions\n",
        "\n",
        "1. Named as gaussian, but nothing to do with library distributions in Python\n",
        "\n",
        "2. Uniform distribution alike, having constant PDF\n",
        "\n",
        "3. Having two (or more) sets within the range $\\mathscr{A}_X$"
      ],
      "metadata": {
        "id": "CpDoJRNm7vuN"
      }
    },
    {
      "cell_type": "markdown",
      "source": [
        "#Gaussian is defined explicitly"
      ],
      "metadata": {
        "id": "tDK-B3ZLJQSY"
      }
    },
    {
      "cell_type": "code",
      "source": [
        "def gaussian(x, mu, sigma):\n",
        "    return (1/(math.sqrt(2*math.pi)*sigma)) * np.exp((-1*(x - mu)**2) / (2 * sigma**2))"
      ],
      "metadata": {
        "id": "yWp_Tq6GSNGv"
      },
      "execution_count": null,
      "outputs": []
    },
    {
      "cell_type": "markdown",
      "source": [
        "#Uniform alike"
      ],
      "metadata": {
        "id": "IXCRSjOQJVCZ"
      }
    },
    {
      "cell_type": "code",
      "source": [
        "def f1(a,b):\n",
        "    return (1/(b-a))"
      ],
      "metadata": {
        "id": "HJ7VB5YCk6Ig"
      },
      "execution_count": null,
      "outputs": []
    },
    {
      "cell_type": "markdown",
      "source": [
        "#Subset of the range $\\mathscr{A}_X = (a,b)$ using some values between $a < b$\n",
        "\n",
        "For example, let $a = 0, b = 2, c = 1$ then PDF $f(x)$ is (only for this tuple)\n",
        "\n",
        " \\begin{equation}\n",
        "  f(x)=\\begin{cases}\n",
        "    x, & \\text{if $0<x<1$}.\\\\\n",
        "    2-x, & \\text{if $1<x<2$}.\n",
        "  \\end{cases}\n",
        "\\end{equation}"
      ],
      "metadata": {
        "id": "ZwLAWZKPHbGf"
      }
    },
    {
      "cell_type": "code",
      "source": [
        "def f21(x):\n",
        "    return (x)\n",
        "\n",
        "def f22(x):\n",
        "    return (2-x)"
      ],
      "metadata": {
        "id": "cc2xF8sZl6iq"
      },
      "execution_count": null,
      "outputs": []
    },
    {
      "cell_type": "markdown",
      "source": [
        "## Integration with first function (Gaussian)\n",
        "\n",
        "Shown the way to implement with $\\mp \\infty$ or any other limits\n",
        "\n",
        "Calculations\n",
        "\n",
        "1. To show the total probability (area under $f(x) = 1$)\n",
        "\n",
        "1. Moments upto order 4 - Above steps (using $E(X)$) can be followed to get the summaries up to Skewness and Kurtosis\n",
        "\n",
        "1. Then Skewness and Kurtosis"
      ],
      "metadata": {
        "id": "uwPNYAM98jxT"
      }
    },
    {
      "cell_type": "code",
      "source": [
        "# Define mu and sigma\n",
        "mu = 10\n",
        "sigma = 2\n",
        "# Define bounds of integral\n",
        "a=-np.inf #a < b, is a must\n",
        "b=np.inf\n",
        "\n",
        "# Scipy approximation\n",
        "Tot_Pbty=integrate.quad(lambda x:gaussian(x,mu,sigma),a,b)\n",
        "M1=integrate.quad(lambda x:(x)*gaussian(x,mu,sigma),a,b)\n",
        "M2=integrate.quad(lambda x:((x-M1[0])**2)*gaussian(x,mu,sigma),a,b)\n",
        "M3=integrate.quad(lambda x:((x-M1[0])**3)*gaussian(x,mu,sigma),a,b)\n",
        "M4=integrate.quad(lambda x:((x-M1[0])**4)*gaussian(x,mu,sigma),a,b)\n",
        "\n",
        "ans=(Tot_Pbty[0],M1[0],M2[0],M3[0],M4[0])\n",
        "ans"
      ],
      "metadata": {
        "id": "5jweCeIPST-H"
      },
      "execution_count": null,
      "outputs": []
    },
    {
      "cell_type": "code",
      "source": [
        "Skewness = M3[0]/(M2[0]**0.5)\n",
        "Ex_Kurtosis = M4[0]/(M2[0]**2)-3\n",
        "print(Skewness,Ex_Kurtosis)"
      ],
      "metadata": {
        "id": "4Icvni8k-7bH"
      },
      "execution_count": null,
      "outputs": []
    },
    {
      "cell_type": "code",
      "source": [
        "#Probabililty Computations\n",
        "\n",
        "mu=8\n",
        "sigma=2\n",
        "\n",
        "#With Gaussian distribution for any mu and sigma, following bound give the probability almost 99%\n",
        "#(this may be used in Chapter 4 but just included here)\n",
        "\n",
        "a = mu-(3*sigma) #a < b, is a must\n",
        "b = mu+(3*sigma)\n",
        "\n",
        "pr1=integrate.quad(lambda x:gaussian(x,mu,sigma),a,b)\n",
        "\n",
        "\n",
        "# Desired limits may be provided by the user for the chosen mu and sigma\n",
        "\n",
        "#This is CDF calculation, that may be used for Survival function using CDF\n",
        "a=-np.inf #-np.inf\n",
        "b=5 #a < b, is a must\n",
        "\n",
        "pr2=integrate.quad(lambda x:gaussian(x,mu,sigma),a,b)\n",
        "\n",
        "#Between\n",
        "a=4 #-np.inf\n",
        "b=5 #a < b, is a must\n",
        "\n",
        "pr3=integrate.quad(lambda x:gaussian(x,mu,sigma),a,b)\n",
        "(pr1[0],pr2[0],pr3[0])\n",
        "\n",
        "#Our answers can be checked with https://homepage.divms.uiowa.edu/~mbognar/applets/normal.html\n"
      ],
      "metadata": {
        "id": "_KuIiqNrCseM"
      },
      "execution_count": null,
      "outputs": []
    },
    {
      "cell_type": "markdown",
      "source": [
        "## Illustrating the second function - a Uniform RV alike\n",
        "\n",
        "$f(x) = \\frac{1}{b-a}~~~~\\mathscr{A}_X=(a,b)$"
      ],
      "metadata": {
        "id": "ZlMCSmKvGw4P"
      }
    },
    {
      "cell_type": "code",
      "source": [
        "a = 5\n",
        "b = 10\n",
        "# Scipy approximation\n",
        "#First moment (mean)\n",
        "UM1=integrate.quad(lambda x:x**f1(a,b),a,b)\n",
        "#Probabilites\n",
        "a1=5 #Try a1 = 2 that lies outside the range and b1 = 8, so integration yields value greater than 1\n",
        "b1=6\n",
        "UM1=integrate.quad(lambda x:f1(a,b),a1,b1)\n",
        "UM1[0]"
      ],
      "metadata": {
        "id": "zuBeL78SXMn7"
      },
      "execution_count": null,
      "outputs": []
    },
    {
      "cell_type": "markdown",
      "source": [
        "## Illustrating the Third function -"
      ],
      "metadata": {
        "id": "reojql-zObJ6"
      }
    },
    {
      "cell_type": "code",
      "source": [
        "a = 0\n",
        "b = 2\n",
        "c = 1\n",
        "# Scipy approximation\n",
        "\n",
        "#Total Probability\n",
        "I1=integrate.quad(lambda x:f21(x),a,c)\n",
        "I2=integrate.quad(lambda x:f22(x),c,b)\n",
        "\n",
        "#Mean (formula is (a+b+c)/3)\n",
        "MeI1=integrate.quad(lambda x:x*f21(x),a,c)\n",
        "MeI2=integrate.quad(lambda x:x*f22(x),c,b)\n",
        "\n",
        "print(I1[0]+I2[0],MeI1[0]+MeI2[0])"
      ],
      "metadata": {
        "id": "KkZzLH3OlvI8"
      },
      "execution_count": null,
      "outputs": []
    },
    {
      "cell_type": "markdown",
      "source": [
        "# <font color=\"darkblue\"> Synopsis\n",
        "\n",
        "From a theoretical distribution $f(X|\\theta)$ about a random variable $(X)$ we can learn about the variable and the parameters\n",
        "\n",
        "This process has two ways of learning.\n",
        "\n",
        "1. From theoretical form about $X$ when $\\theta$ is known,\n",
        "\n",
        "  - **Statistical Summaries** Mean, Percentiles (quantiles), Standard Deviation etc about the random variable $X$\n",
        "  \n",
        "  - **Simulation** Sample data (generate data) from the functional form of the underlying process\n",
        "\n",
        "  - **Uncertainty** Compute probabilites associated with the random variable - PDF / PMF / Survival function\n",
        "\n",
        "      - Summarizing / Computing probabilites involve summation or integration according to the nature of the random variable (Discrete / Continuous)\n",
        "\n",
        "1. Decision theortic / Information based\n",
        "\n",
        "1. From sample data, when $X$ is realized practically, learn about the parameter $\\theta$\n",
        "\n",
        "  - Point Estimation\n",
        "\n",
        "  - Interval Estimation\n",
        "\n",
        "**Most of the routines including TFP do not include procedures for the third learning agenda**. The major reason is that estimation requires different type of appraches; MLE. MOM, Bayesian, Bootstrap a few. Further more, MLE involves optimization of the likelihood function (PDF / PMF but a function of the parameter $\\theta$ and when data is available). Constraints of the optimization techniques are hence invoved in this process. Also note that most of the methods may not be closed form solutions to include in a routine (of a programming language)\n",
        "\n",
        "## <font color=\"maroon\">TFP Distributions\n",
        "\n",
        "TFP routines also follow these three layer approaches extensively and also include few more options for possible funtions related to simulation and / or estimation process (Item three of the above)\n",
        "\n",
        "### <font color=\"darkgreen\">Item wise listing\n",
        "\n",
        "1. Statistical Summaries\n",
        "\n",
        "  1. Prob or log_prob: direct evaluation from $f(X|\\theta)$ without or with log transformation\n",
        "\n",
        "  1. CDF or logCDF: Cummulative Density Function / Distribution Function\n",
        "$F_X(t)=P[X\\le t] = \\sum_{x\\le t}f(x)$ or $\\int_{x\\le t}f(x)~dx$\n",
        "\n",
        "  1. Survival function or log Survival function: 1-CDF without or with log transformation\n",
        "  1. sample: random generation from $X$\n",
        "  1. experimental_sample_and_log_prob: Random samples and log transformed\n",
        "  1. Summaries about $X$:\n",
        "\n",
        "      * mean\n",
        "      * mode\n",
        "      * variance / stddev (Standard deviation)\n",
        "      * quantile: a value $t_q$ of $X$ such that $P[X\\le t_q] = q$,  q is known or desired probability. For example if $q=0.25$, then $25\\\\%$ of the values of $X$ are less than $t_q$, on the other hand, if we intend to know the top $1\\\\%$ of the spread of $X$ then we need to choose $q=0.99$.\n",
        "      * unnormalized_log_prob: value of $f(x)$ without the normalizing constant (a constant that helps total probability under $f(x) = 1$; for example,$\\frac{1}{\\sqrt{2\\pi}}$ in Normal distribution) with log transform\n",
        "      * covariance: mainly for multivariate (vector valued) distributions; a square matrix with variance in the leading diagonal and covariance of pair of vairables in the off diagonal\n",
        "\n",
        "1. Information based\n",
        "\n",
        "    1. cross_entropy: Shannon Entropy\n",
        "\n",
        "    1. KL divergence: Kullback_Leibler divergence measure\n",
        "\n",
        "1. <font color=\"red\">**Miscellaneous:**  Few more functions that have specific utilities which may be for some advanced utilities such as transformation $n-D$ Real number space $R^n$ to the range $\\mathcal{A}_X$ of  $X$ or Variational Inference and Hamiltonian Markov Chain modules.\n",
        "\n",
        "    1. experimental_default_event_space_bijector\n",
        "    1. experimental_local_measure  \n",
        "    1. is_scalar_batch: batch size (scalar / vector)\n",
        "    1. parameter_properties\n",
        "    1. with_name_scope\n",
        "    1. getitem\n",
        "    1. iter\n",
        "\n",
        "\n",
        "* <font color=\"blue\">**Remark:**\n",
        "\n",
        "In some instances, more distribution specific functions have also been included. For example following two functions are from Beta distribution that use the relation between mean, vaiance and the two shape parameters (In TFP, these parameters are termed as **concentration parameters**)\n",
        "\n",
        "  1. experimental_from_mean_concentration\n",
        "\n",
        "  1. experimental_from_mean_variance\n",
        "\n",
        "More Explanations: If $\\alpha$ and $\\beta$ are two shape parameters of a Beta distribution, then its\n",
        "\n",
        "  * Mean $(M) = \\frac{\\alpha}{\\alpha+\\beta}$ and\n",
        "  * Variance $(V) = \\frac{\\alpha\\beta}{(\\alpha+\\beta)^2(\\alpha+\\beta+1)}$\n",
        "\n",
        "A simple arithmetic operation would bring the values of the parameters $\\alpha, \\beta$ in therms $M$ and $V$\n",
        "\n",
        "Also to note that TFP calls the sum of the parameters as **total_concentration** so that following two relations are immediate\n",
        "\n",
        "  1. $\\alpha = M$ total_concentration\n",
        "  1. $\\beta = (1-M)$ total_concentration\n",
        "\n"
      ],
      "metadata": {
        "id": "OymvVHKgwgCr"
      }
    }
  ]
}