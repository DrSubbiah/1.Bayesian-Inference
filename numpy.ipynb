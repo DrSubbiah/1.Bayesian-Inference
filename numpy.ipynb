{
  "nbformat": 4,
  "nbformat_minor": 0,
  "metadata": {
    "colab": {
      "provenance": [],
      "authorship_tag": "ABX9TyPzMTuQpNGsi9zIeWqLeO8k",
      "include_colab_link": true
    },
    "kernelspec": {
      "name": "python3",
      "display_name": "Python 3"
    },
    "language_info": {
      "name": "python"
    }
  },
  "cells": [
    {
      "cell_type": "markdown",
      "metadata": {
        "id": "view-in-github",
        "colab_type": "text"
      },
      "source": [
        "<a href=\"https://colab.research.google.com/github/DrSubbiah/1.Bayesian-Inference/blob/master/numpy.ipynb\" target=\"_parent\"><img src=\"https://colab.research.google.com/assets/colab-badge.svg\" alt=\"Open In Colab\"/></a>"
      ]
    },
    {
      "cell_type": "code",
      "execution_count": null,
      "metadata": {
        "colab": {
          "base_uri": "https://localhost:8080/"
        },
        "id": "N41IAFQRvn_s",
        "outputId": "50086654-c17c-4c84-b4af-f1f4b7045a4c"
      },
      "outputs": [
        {
          "output_type": "stream",
          "name": "stdout",
          "text": [
            "[1 2 3 4 5]\n",
            "[[1 2 3]\n",
            " [4 5 6]]\n",
            "[[0. 0. 0.]\n",
            " [0. 0. 0.]\n",
            " [0. 0. 0.]]\n",
            "[[1. 1. 1. 1.]\n",
            " [1. 1. 1. 1.]]\n"
          ]
        }
      ],
      "source": [
        "import numpy as np\n",
        "\n",
        "# Creating a 1D array\n",
        "array_1d = np.array([1, 2, 3, 4, 5])\n",
        "print(array_1d)\n",
        "\n",
        "# Creating a 2D array\n",
        "array_2d = np.array([[1, 2, 3], [4, 5, 6]])\n",
        "print(array_2d)\n",
        "\n",
        "# Creating arrays with initial values\n",
        "zeros = np.zeros((3, 3))  # 3x3 array of zeros\n",
        "ones = np.ones((2, 4))    # 2x4 array of ones\n",
        "print(zeros)\n",
        "print(ones)\n"
      ]
    },
    {
      "cell_type": "code",
      "source": [],
      "metadata": {
        "id": "RA4foBuv42di"
      },
      "execution_count": null,
      "outputs": []
    },
    {
      "cell_type": "code",
      "source": [
        "# Basic arithmetic operations\n",
        "array_sum = array_1d + 10\n",
        "print(array_sum)  # Output: [11 12 13 14 15]\n",
        "\n",
        "array_product = array_1d * 2\n",
        "print(array_product)  # Output: [2 4 6 8 10]\n",
        "\n",
        "# Element-wise operations\n",
        "array_diff = array_1d - array_product\n",
        "print(array_diff)  # Output: [-1  0  1  2  3]\n",
        "\n",
        "array_square = array_1d ** 2\n",
        "print(array_square)  # Output: [ 1  4  9 16 25]\n"
      ],
      "metadata": {
        "colab": {
          "base_uri": "https://localhost:8080/"
        },
        "id": "VZGG40nRzj61",
        "outputId": "3af4076f-f8c0-4423-a1c7-73fc698ceea7"
      },
      "execution_count": null,
      "outputs": [
        {
          "output_type": "stream",
          "name": "stdout",
          "text": [
            "[11 12 13 14 15]\n",
            "[ 2  4  6  8 10]\n",
            "[-1 -2 -3 -4 -5]\n",
            "[ 1  4  9 16 25]\n"
          ]
        }
      ]
    },
    {
      "cell_type": "code",
      "source": [
        "# Indexing\n",
        "element = array_1d[2]\n",
        "print(element)  # Output: 3\n",
        "\n",
        "# Slicing\n",
        "sub_array = array_1d[1:4]\n",
        "print(sub_array)  # Output: [2 3 4]\n",
        "\n",
        "# Advanced slicing\n",
        "reverse_array = array_1d[::-1]\n",
        "print(reverse_array)  # Output: [5 4 3 2 1]\n"
      ],
      "metadata": {
        "colab": {
          "base_uri": "https://localhost:8080/"
        },
        "id": "DDafuRYfzsDK",
        "outputId": "404e0d0d-50bc-4b65-ce60-475fed4d3250"
      },
      "execution_count": null,
      "outputs": [
        {
          "output_type": "stream",
          "name": "stdout",
          "text": [
            "3\n",
            "[2 3 4]\n",
            "[5 4 3 2 1]\n"
          ]
        }
      ]
    },
    {
      "cell_type": "code",
      "source": [],
      "metadata": {
        "id": "mUfmJcbp5KI7"
      },
      "execution_count": null,
      "outputs": []
    },
    {
      "cell_type": "code",
      "source": [],
      "metadata": {
        "id": "y88sCqa45MVx"
      },
      "execution_count": null,
      "outputs": []
    },
    {
      "cell_type": "code",
      "source": [
        "# Matrix multiplication\n",
        "matrix_a = np.array([[1, 2], [3, 4]])\n",
        "matrix_b = np.array([[5, 6], [7, 8]])\n",
        "matrix_product = np.dot(matrix_a, matrix_b)\n",
        "print(matrix_product)  # Output: [[19 22]\n",
        "                       #          [43 50]]\n",
        "\n",
        "# Transpose of a matrix\n",
        "transpose = np.transpose(matrix_a)\n",
        "print(transpose)  # Output: [[1 3]\n",
        "                       #          [2 4]]\n"
      ],
      "metadata": {
        "colab": {
          "base_uri": "https://localhost:8080/"
        },
        "id": "5dmIOV0-0A1p",
        "outputId": "d6730192-af9a-47ee-890f-d26419dd02d3"
      },
      "execution_count": null,
      "outputs": [
        {
          "output_type": "stream",
          "name": "stdout",
          "text": [
            "[[19 22]\n",
            " [43 50]]\n",
            "[[1 3]\n",
            " [2 4]]\n"
          ]
        }
      ]
    },
    {
      "cell_type": "code",
      "source": [
        "# Basic statistical operations\n",
        "mean = np.mean(array_1d)\n",
        "median = np.median(array_1d)\n",
        "std_dev = np.std(array_1d)\n",
        "sum_total = np.sum(array_1d)\n",
        "\n",
        "print(mean)      # Output: 3.0\n",
        "print(median)    # Output: 3.0\n",
        "print(std_dev)   # Output: 1.4142135623730951\n",
        "print(sum_total) # Output: 15\n"
      ],
      "metadata": {
        "colab": {
          "base_uri": "https://localhost:8080/"
        },
        "id": "8ZWeq5wv5q-u",
        "outputId": "fa1703d1-b688-4345-b850-ab9e0a7f35b0"
      },
      "execution_count": null,
      "outputs": [
        {
          "output_type": "stream",
          "name": "stdout",
          "text": [
            "3.0\n",
            "3.0\n",
            "1.4142135623730951\n",
            "15\n"
          ]
        }
      ]
    },
    {
      "cell_type": "code",
      "source": [
        "# Generating random numbers\n",
        "random_array = np.random.rand(3, 3)\n",
        "print(random_array)\n",
        "\n",
        "random_integers = np.random.randint(0, 10, size=(3, 3))\n",
        "print(random_integers)\n"
      ],
      "metadata": {
        "colab": {
          "base_uri": "https://localhost:8080/"
        },
        "id": "aR-aK12w51ma",
        "outputId": "1a6643c1-c024-4e97-971b-ed40ceabf6a6"
      },
      "execution_count": null,
      "outputs": [
        {
          "output_type": "stream",
          "name": "stdout",
          "text": [
            "[[0.11180205 0.07115739 0.41047548]\n",
            " [0.31107842 0.26434933 0.66960427]\n",
            " [0.87993285 0.31305548 0.39945456]]\n",
            "[[5 8 7]\n",
            " [9 5 8]\n",
            " [0 5 7]]\n"
          ]
        }
      ]
    }
  ]
}