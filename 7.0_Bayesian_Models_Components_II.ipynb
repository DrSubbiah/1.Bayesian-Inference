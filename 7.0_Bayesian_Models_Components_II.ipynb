{
  "nbformat": 4,
  "nbformat_minor": 0,
  "metadata": {
    "colab": {
      "provenance": [],
      "authorship_tag": "ABX9TyN8QNQ3jRAqWzb9CjUi2j54",
      "include_colab_link": true
    },
    "kernelspec": {
      "name": "python3",
      "display_name": "Python 3"
    },
    "language_info": {
      "name": "python"
    }
  },
  "cells": [
    {
      "cell_type": "markdown",
      "metadata": {
        "id": "view-in-github",
        "colab_type": "text"
      },
      "source": [
        "<a href=\"https://colab.research.google.com/github/DrSubbiah/1.Bayesian-Inference/blob/master/7_Bayesian_Models_Components_II.ipynb\" target=\"_parent\"><img src=\"https://colab.research.google.com/assets/colab-badge.svg\" alt=\"Open In Colab\"/></a>"
      ]
    },
    {
      "cell_type": "markdown",
      "source": [
        "# <font color=\"darkblue\"> From Binomial Model\n",
        "\n",
        "## Mathematical Description\n",
        "\n",
        "**<font color=\"darkred\"> Likelihood** $\\mathcal{L}(\\theta|X)$\n",
        "\n",
        "$$X\\sim \\mathrm{Binomial}(n,\\theta)$$ $x=0,1,\\cdots n; ~~0 < \\theta <1$\n",
        "\n",
        "**<font color=\"darkred\"> Prior** $p(\\theta)$\n",
        "\n",
        "$$\\theta \\sim \\mathrm{Beta}(a,b)$$ $0 < \\theta <1~~ a,b > 0$\n",
        "\n",
        "**<font color=\"darkred\"> Posterior**  $\\pi(\\theta|X)$\n",
        "\n",
        "$$\\theta|X \\sim \\mathrm{Beta}(a+x,n-x+b)$$"
      ],
      "metadata": {
        "id": "x2-eP2YUTLqy"
      }
    },
    {
      "cell_type": "markdown",
      "source": [
        "# <font color=\"darkblue\"> More about Posterior Mean\n",
        "\n",
        "$$E[\\theta|x]=\\frac{a+x}{n+a+b}$$  \n",
        "\n",
        "Split the terms\n",
        "\n",
        "$$=\\frac{a}{n+a+b}+\\frac{x}{n+a+b}$$  \n",
        "\n",
        "$\\times$ and $\\div$ the first factor by $a+b$\n",
        "\n",
        "$\\times$ and $\\div$ the second factor by $n$\n",
        "\n",
        "$$=(\\frac{n}{n+a+b})\\frac{x}{n}+(\\frac{a+b}{n+a+b})\\frac{a}{a+b}$$\n",
        "\n",
        "\n",
        "$$=(\\frac{n}{n+a+b})\\frac{x}{n}+(1-\\frac{n}{n+a+b})\\frac{a}{a+b}$$  \n",
        "\n",
        "Rearrange the factor in the second term\n",
        "\n",
        "$$=w_1\\frac{x}{n}+w_2\\frac{a}{a+b}$$  \n",
        "\n",
        "\n",
        "where $0 ~\\le ~w_i ~\\le ~1$\n",
        "\n",
        "**Hence, posterior mean is a <font color=\"darkred\">weighted mean of prior mean $\\frac{a}{a+b}$ and sample proportion $\\frac{x}{n}$</font>**\n",
        "\n",
        "\n",
        "Weights are $w_1=\\frac{n}{n+a+b}$ and $w_2=1-w_1$\n",
        "\n",
        "Weights are based on **sample (data) size and prior size $a+b$**\n",
        "\n",
        "<font color=\"red\">Recall average of two numbers is a weighted mean with equal weights $\\frac{1}{2}x_1+\\frac{1}{2}x_2=\\frac{x_1+x_2}{2}$"
      ],
      "metadata": {
        "id": "WKZ6Y0HBaIyg"
      }
    },
    {
      "cell_type": "markdown",
      "source": [
        "# <font color=\"darkblue\"> More about Prior\n",
        "\n",
        "**<font color=\"darkred\"> Prior** $p(\\theta)$\n",
        "\n",
        "$$\\theta \\sim \\mathrm{Beta}(a,b)$$ $0 < \\theta <1~~ a,b > 0$\n",
        "\n",
        "\n",
        "## Originally, we had $a = b = 1$\n",
        "\n",
        "- ## <font color=\"red\">What is the rationality?\n",
        "\n",
        "## <font color=\"darkviolet\"> Versatility of Beta Distributions\n",
        "\n",
        "- Range is $(0, 1)$\n",
        "\n",
        "- Both $a, b$ are shape parameters\n",
        "\n",
        "- Symmetric when $a = b$\n",
        "\n",
        "- When $a>b$, $\\theta$ \"near $1$\" is more probable\n",
        "\n",
        "- When $a<b$, $\\theta$ \"near $0$\" is more probable\n",
        "\n",
        "- Mirror Images"
      ],
      "metadata": {
        "id": "XffhoDDKfe6P"
      }
    },
    {
      "cell_type": "code",
      "execution_count": null,
      "metadata": {
        "id": "biV9urLJTHBO"
      },
      "outputs": [],
      "source": [
        "import numpy as np\n",
        "import pandas as pd\n",
        "import scipy as sc\n",
        "from scipy import stats as st\n",
        "import math\n",
        "import matplotlib.pyplot as plt\n",
        "import seaborn as sns"
      ]
    },
    {
      "cell_type": "code",
      "source": [
        "k=10000\n",
        "a=0.5\n",
        "b=0.5\n",
        "symm=0.5\n",
        "rand_gen=st.beta.rvs(a,b,size=k)\n",
        "fig = plt.figure(figsize = (20, 8))\n",
        "plt.hist(rand_gen,alpha=0.8)\n",
        "plt.axvline(x=symm, color='r',linewidth=4)\n",
        "plt.show()"
      ],
      "metadata": {
        "id": "NnHlQQIvkXQE",
        "colab": {
          "base_uri": "https://localhost:8080/",
          "height": 483
        },
        "outputId": "6b2afda9-8a88-406a-e2d9-10465b02418c"
      },
      "execution_count": null,
      "outputs": [
        {
          "output_type": "display_data",
          "data": {
            "image/png": "[encoded data removed]",
            "text/plain": [
              "<Figure size 1440x576 with 1 Axes>"
            ]
          },
          "metadata": {
            "needs_background": "light"
          }
        }
      ]
    },
    {
      "cell_type": "markdown",
      "source": [
        "# <font color=\"darkblue\"> Mirror Images"
      ],
      "metadata": {
        "id": "s2XKlPdVuqO5"
      }
    },
    {
      "cell_type": "code",
      "source": [
        "k=10000\n",
        "a=6\n",
        "b=0.3\n",
        "symm=0.5\n",
        "fig = plt.figure(figsize = (20, 4))\n",
        "\n",
        "plt.subplot(1, 2, 1)\n",
        "\n",
        "rand_gen1=st.beta.rvs(a,b,size=k)\n",
        "plt.hist(rand_gen1,alpha=0.8)\n",
        "plt.axvline(x=symm, color='r',linewidth=4)\n",
        "plt.text(0.3, 2000, [a,b], horizontalalignment='left', fontsize=30, color='green', weight='bold')\n",
        "\n",
        "plt.subplot(1, 2, 2)\n",
        "\n",
        "rand_gen2=st.beta.rvs(b,a,size=k)\n",
        "plt.hist(rand_gen2,alpha=0.8)\n",
        "plt.axvline(x=symm, color='r',linewidth=4)\n",
        "plt.text(0.3, 2000, [b,a], horizontalalignment='left', fontsize=30, color='green', weight='bold')\n",
        "\n",
        "plt.show()"
      ],
      "metadata": {
        "id": "REBdZW_Jr8D9",
        "colab": {
          "base_uri": "https://localhost:8080/",
          "height": 265
        },
        "outputId": "0c7ca1f8-bb30-4c4f-e404-7c64542711db"
      },
      "execution_count": null,
      "outputs": [
        {
          "output_type": "display_data",
          "data": {
            "image/png": "[encoded data removed]",
            "text/plain": [
              "<Figure size 1440x288 with 2 Axes>"
            ]
          },
          "metadata": {
            "needs_background": "light"
          }
        }
      ]
    },
    {
      "cell_type": "markdown",
      "source": [
        "# <font color=\"darkblue\"> A Note on Priors\n",
        "\n",
        "Prior distribution about a quantity of interest (parameter) is to covey the information about it before realizing the data\n",
        "\n",
        "Hence it may be based on\n",
        "\n",
        "1. the range of the parameter\n",
        "\n",
        "2. Complete ignorance\n",
        "\n",
        "3. Weakly informed\n",
        "\n",
        "4. Subjectuvely informed\n",
        "\n",
        "5. Mathematical convenience\n",
        "\n",
        "\n",
        "## <font color=\"darkviolet\"> Glossary of Terms\n",
        "\n",
        "- Conjugate Priors\n",
        "\n",
        "- Improper / Proper Priors\n",
        "\n",
        "- Non-informative / Flat / Vague Priors\n",
        "\n",
        "- Objective Priors\n",
        "\n",
        "- Subjective (informative) Priors\n",
        "\n",
        "## <font color=\"darkviolet\"> End Notes\n",
        "\n",
        "- Priors need to be \"Constructed\"\n",
        "\n",
        "- No need to be overemphasized / overwhelmed / Dominance\n",
        "\n",
        "- Historical / past experiences or data may be used\n",
        "\n",
        "- Experts' opinons may be useful in constructing priors (subjected to some \"protocols\")\n",
        "\n",
        "- Performing Senstivity of prior (robustness) is highlly encouraged\n"
      ],
      "metadata": {
        "id": "92Hu2NebD5Rd"
      }
    },
    {
      "cell_type": "markdown",
      "source": [
        "# <font color=\"darkblue\"> Transformation of Parameters\n",
        "\n",
        "In some cases we may be interested in a new parameter which is derived from the original one (exist in the model)\n",
        "\n",
        "## <font color=\"darkred\"> Odds\n",
        "\n",
        "In some cases, odds would be preferred to probability because it estimates the proportion of Success to Failure\n",
        "\n",
        "$$\\mathrm{Odds} = \\frac{\\mathrm{Success}}{\\mathrm{Failure}} =\\frac{p}{1-p}$$\n",
        "\n",
        "In fact, log odds are much more favourable for its range and approximations\n",
        "\n",
        "$$0<p<1$$ and\n",
        "\n",
        "$$-\\infty < log(\\frac{p}{1-p})<\\infty$$"
      ],
      "metadata": {
        "id": "FYXNBCZ7HZX8"
      }
    },
    {
      "cell_type": "markdown",
      "source": [
        "# <font color=\"darkblue\"> Sequential Update\n",
        "\n",
        "Bayesian model allows to update the information about $\\theta$ from \"start somewhere or nowhere\" and proceed once data is realized in each stage\n",
        "\n",
        "## <font color=\"darkred\"> Scheme - Symbolical Note\n",
        "\n",
        "With usual symbols / notations\n",
        "\n",
        "$$p_0(\\theta) \\rightarrow \\pi_1(\\theta|X) = p_1(\\theta)\\rightarrow \\pi_2(\\theta|X)=p_2(\\theta) \\rightarrow \\pi_3(\\theta|X)\\cdots\\cdots$$\n",
        "\n",
        "\n",
        "$p_0(\\theta)$ is before \"see\" the data\n",
        "\n",
        "At each iteration of this sequence, information about $\\theta$ is updated once data and additional date are made available"
      ],
      "metadata": {
        "id": "dkwcHmXNTFYW"
      }
    },
    {
      "cell_type": "markdown",
      "source": [
        "# <font color=\"darkblue\"> Predictive Distribution\n",
        "\n",
        "Bayesian model allows to obtain distribution about unseen data in the light of information contained in the posterior of the parameter $\\theta$ exist in the original likelihood\n",
        "\n",
        "\n",
        "## <font color=\"darkred\"> Predictive information about \"New Data\"\n",
        "\n",
        "- Observe a data $X$ parameterised by $\\theta$\n",
        "\n",
        "- Construct prior for $\\theta$\n",
        "\n",
        "- Obtain posterior $\\theta|X$\n",
        "\n",
        "- **Interested to know the probability distribution about \"unseen data $Y$\"**\n",
        "\n",
        "$$p(Y|X) = \\int_{\\theta}p(Y|\\theta)\\pi(\\theta|X)~d\\theta$$\n",
        "\n",
        "- $p$ refers to the pdf of $Y$ parameterised by $\\theta$ (same as $X$)\n",
        "\n",
        "- $\\pi$ refers to Posterior of $\\theta$\n",
        "\n",
        "<font color=\"red\">**Obsessive?**\n",
        "\n",
        "$$p(Y|X)=\\int_{\\theta}p(y|x,\\theta)p(\\theta|x)~d\\theta$$\n",
        "\n",
        "$$=\\int_{\\theta}p(y|\\theta)\\frac{p(x,\\theta)}{p(x)}d\\theta$$\n",
        "\n",
        "$$=\\int_{\\theta}p(y|\\theta)\\pi(\\theta|X) ~d\\theta$$\n",
        "\n",
        "\n",
        "$$\\therefore p(Y|X)=\\int_{\\theta}p(y|\\theta)\\pi(\\theta|x)~d\\theta$$\n",
        "\n",
        "<font color=\"red\">**Still Obsessive?**\n",
        "\n",
        "## <font color=\"darkviolet\"> For Binomial Case\n",
        "\n",
        "1. Originally the data was a Binomial with $x$ and $n$\n",
        "\n",
        "1. The Prior was Beta with parameters $a$ and $b$\n",
        "\n",
        "1. The Posterior was Beta with parameters $x+a$ and $n-x+b$\n",
        "\n",
        "Hence Posterior predictive for an unseen environment is out of a new trial, say $m$ number times, what is the distribution of then number of successes $y$\n",
        "\n",
        "So again the likelihood $\\mathcal{L}[\\theta|Y]$ or PMF $f(Y|\\theta)$ is from\n",
        "\n",
        "$$Y|\\theta = \\mathrm{Binomial}(m, \\theta)$$\n",
        "\n",
        "## <font color=\"red\"> But information for $\\theta$ is no longer Step 2 but Step 3 of above\n",
        "\n",
        "$$\\therefore p(Y|X)=\\int_{\\theta}p(y|\\theta)\\pi(\\theta|x)~d\\theta$$ leads to\n",
        "\n",
        "\n",
        "$$\\therefore p(Y|X)=\\int_0^1{m \\choose y} \\theta^y (1-\\theta)^{m-y} \\frac{1}{\\beta(a_1,a_2)}\\theta^{a_1-1} (1-\\theta)^{a_2-1} ~d\\theta$$\n",
        "\n",
        "where $a_1=x+a$ and $a_2=n-x+b$\n",
        "\n",
        "$$\\implies p(Y|X)=\\frac{{m \\choose y}}{\\beta(a_1,a_2)}\\int_0^1 \\theta^{y+a_1-1} (1-\\theta)^{m-y+a_2-1} ~d\\theta$$\n",
        "\n",
        "$$\\implies p(Y=y|x=x)=\\frac{{m \\choose y}}{\\beta(a_1,a_2)}\\beta(y+a_1, m-y+a_2)$$\n",
        "\n",
        "where the range for $m$ is $y=0,1,2,\\cdots\\cdots,m$\n",
        "\n",
        "## <font color=\"maroon\">**This is called Beta-Binomial Distribution**"
      ],
      "metadata": {
        "id": "3duPSNJOVnnM"
      }
    },
    {
      "cell_type": "markdown",
      "source": [
        "# A causal Reading\n",
        "\n",
        "[Casey Problem](http://stats.org.uk/priors/informative/WinklerSmithFryback2002.pdf)"
      ],
      "metadata": {
        "id": "-YaRCjH3h9p-"
      }
    }
  ]
}
