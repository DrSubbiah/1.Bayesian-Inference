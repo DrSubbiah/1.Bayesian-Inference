{
  "nbformat": 4,
  "nbformat_minor": 0,
  "metadata": {
    "colab": {
      "provenance": [],
      "authorship_tag": "ABX9TyOvQgDGVEt6JIQmHw5Ydiel",
      "include_colab_link": true
    },
    "kernelspec": {
      "name": "python3",
      "display_name": "Python 3"
    },
    "language_info": {
      "name": "python"
    }
  },
  "cells": [
    {
      "cell_type": "markdown",
      "metadata": {
        "id": "view-in-github",
        "colab_type": "text"
      },
      "source": [
        "<a href=\"https://colab.research.google.com/github/DrSubbiah/1.Bayesian-Inference/blob/master/5_Random_Generation.ipynb\" target=\"_parent\"><img src=\"https://colab.research.google.com/assets/colab-badge.svg\" alt=\"Open In Colab\"/></a>"
      ]
    },
    {
      "cell_type": "code",
      "metadata": {
        "id": "iCTbFd2hmqQC"
      },
      "source": [
        "import numpy as np\n",
        "import pandas as pd\n",
        "import scipy as sc\n",
        "from scipy import stats as st\n",
        "import math\n",
        "import matplotlib.pyplot as plt\n",
        "import seaborn as sns"
      ],
      "execution_count": null,
      "outputs": []
    },
    {
      "cell_type": "markdown",
      "metadata": {
        "id": "7E-rHsjMA9uy"
      },
      "source": [
        "# <font color=\"darkblue\"> \"Reality exists in the human mind, and nowhere else\"\n",
        "\n",
        "Any five numbers randomly between 1 and 100\n",
        "\n",
        "Find Average\n",
        "\n",
        "Interpret"
      ]
    },
    {
      "cell_type": "markdown",
      "source": [
        "8,6,7,1,2\n",
        "\n",
        "4.8\n",
        "\n"
      ],
      "metadata": {
        "id": "cPBIj_VzpVR0"
      }
    },
    {
      "cell_type": "markdown",
      "metadata": {
        "id": "IkpC5oCPakVD"
      },
      "source": [
        "# <font color=\"darkblue\"> Opportunities\n",
        "\n",
        "<font color=\"green\"> Pseudo Random Number Generators\n",
        "\n",
        "- Machines are provided with some algorithm to **generate** random numbers\n",
        "\n",
        "- One such method is <font color=\"maroon\"> Linear Congruential Generator\n",
        "\n",
        "$$x_{i+1} = (ax_i + c) ~\\mathrm{mod}~ m ~~i=0,1,\\cdots k$$ where  $a:$ Multiplier, $c:$ Increment$, m:$ modulus , and $x_0:$ Seed is a starting value. $k$ is the **size**, the number of random numbers to be generated\n",
        "\n",
        "- The random integers are being generated in the range [0,m-1], and\n",
        "to convert the integers to random numbers, divide the number by m except $0$\n",
        "\n",
        "- Resultant random number is $\\frac{x_i}{m}$\n",
        "\n",
        "- Choice of the constants (except the seed) have significant impact on the **quality** of the generator\n",
        "\n",
        "  - Uniformity\n",
        "\n",
        "  - Independence\n",
        "\n",
        "  - Efficiency\n",
        "\n",
        "  - Reproducibility\n",
        "\n",
        "  - Long Cycle Length\n",
        "\n",
        "- <font color=\"blue\">Mersenne Twister (MT) is the most prominent state-of-the-art generator\n",
        "\n",
        "- Python specific notes [MT](https://docs.python.org/3/library/random.html)\n",
        "\n",
        "- Arguments are many, context specific [Critic](http://www0.cs.ucl.ac.uk/staff/d.jones/GoodPracticeRNG.pdf)\n",
        "\n",
        "<font color=\"red\">**This is not the only method**"
      ]
    },
    {
      "cell_type": "markdown",
      "metadata": {
        "id": "GAidbw0wcbUB"
      },
      "source": [
        "# <font color=\"darkblue\"> Discrete Uniform in Python\n",
        "\n",
        "- Usage of **stats** in **scipy** library\n",
        "\n",
        "- <font color=\"blue\">*randint.rvs(low, high, size)* </font>; arguments are number of random numbers (*size*) to be generated from the interval (*low,high*)   "
      ]
    },
    {
      "cell_type": "code",
      "metadata": {
        "id": "DuiG-TBYecxh"
      },
      "source": [
        "st.randint.rvs(low=30,high=100,size=100)"
      ],
      "execution_count": null,
      "outputs": []
    },
    {
      "cell_type": "markdown",
      "metadata": {
        "id": "r9cngXtXhuOx"
      },
      "source": [
        "# <font color=\"darkblue\"> Continous Uniform in Python\n",
        "\n",
        "- Usage of **stats** in **scipy** library\n",
        "\n",
        "- <font color=\"blue\">*uniform.rvs(loc,scale,size)* </font>; arguments are number of random numbers (*size*) to be generated from the interval (*low,high*)  where *low = loc and high=loc + scale*\n",
        "\n",
        "  - PDF is $f(x|\\theta)=\\frac{1}{\\mathrm{high}-\\mathrm{low}}$ for all $x \\in (\\mathrm{low},\\mathrm{high})$"
      ]
    },
    {
      "cell_type": "code",
      "metadata": {
        "id": "3lVvEiSokwPE",
        "colab": {
          "base_uri": "https://localhost:8080/"
        },
        "outputId": "3ac60887-ca67-4601-e5d8-f30d538f1178"
      },
      "source": [
        "st.uniform.rvs(loc=1,scale=4,size=10)\n",
        "l=1\n",
        "h=5\n",
        "(l+h)/2"
      ],
      "execution_count": null,
      "outputs": [
        {
          "output_type": "execute_result",
          "data": {
            "text/plain": [
              "3.0"
            ]
          },
          "metadata": {},
          "execution_count": 10
        }
      ]
    },
    {
      "cell_type": "code",
      "metadata": {
        "id": "sHrQLXW3ldbm",
        "colab": {
          "base_uri": "https://localhost:8080/"
        },
        "outputId": "f86cf760-55ab-4830-bc28-20744c88030a"
      },
      "source": [
        "R1=st.uniform.rvs(loc=1,scale=4,size=1000)\n",
        "np.mean(R1)"
      ],
      "execution_count": null,
      "outputs": [
        {
          "output_type": "execute_result",
          "data": {
            "text/plain": [
              "2.993463079015578"
            ]
          },
          "metadata": {},
          "execution_count": 9
        }
      ]
    },
    {
      "cell_type": "markdown",
      "metadata": {
        "id": "ZL7MTQzXb1uM"
      },
      "source": [
        "# <font color=\"darkblue\"> One Application\n",
        "\n",
        "<font color=\"green\"> Monte-Carlo Integration\n",
        "\n",
        "Let us consider a continuous uniform random variable in $(5, 15)$. It's mean as per the formula is $$E[X]=\\int_5^{15}x f(x) dx$$  $$=\\int_5^{15}x \\frac{1}{10} dx$$ $$=\\big[\\frac{x^2}{10*2}\\big]_5^{15}$$ =$$=\\frac{15^2-5^2}{10*2}$$\n",
        "\n",
        "$$=\\frac{225-25}{20} = 10$$\n",
        "\n",
        "Alternatively, we can obtain this using the **Closed form formula** for mean of a random variable $X \\sim \\mathrm {U(Low, High)}$\n",
        "\n",
        "$$E[X]=\\frac{\\mathrm {Low+High}}{2}$$\n",
        "\n",
        "$$=\\frac{15+5}{2}=10$$\n",
        "\n",
        "## <font color=\"darkred\"> Working Rule of Monte-Carlo Integration\n",
        "\n",
        "1. Sample $k$ points from $\\mathrm{U(L, H)}$\n",
        "\n",
        "1. Evaluate the **integrand** $h(x)$ at these points\n",
        "\n",
        "1. Compute $(\\mathrm{H}-\\mathrm{L})\\frac{\\sum h(x_i)}{k}$\n",
        "\n",
        "Following code is <font color=\"green\">**performing** </font> the above calculation using a Monte Carlo Integration.\n",
        "\n",
        "In this example, $h(x)=\\frac{x}{10}$ and L = 5 and H = 15\n",
        "\n",
        "```\n",
        "import numpy as np\n",
        "from scipy import stats as st\n",
        "L=5\n",
        "s=10 #H = L + scale (s)\n",
        "H=L+s\n",
        "k=10\n",
        "a=st.uniform.rvs(loc=5,scale=10,size=k)\n",
        "b=a/10\n",
        "(H-L)*np.sum(b)/k\n",
        "```\n",
        "\n",
        "The number (k) of samples can be chosen arbitrarily, and we are told that $k \\rightarrow \\infty$ meaning k is <font color=\"red\">*sufficiently large*"
      ]
    },
    {
      "cell_type": "code",
      "metadata": {
        "id": "sA1Vs3ag8DET",
        "colab": {
          "base_uri": "https://localhost:8080/"
        },
        "outputId": "3bddb8aa-f6c6-4197-dd53-b9a419b1b503"
      },
      "source": [
        "L=5\n",
        "s=10 #H = L + scale (s)\n",
        "H=L+s\n",
        "k=100\n",
        "a=st.uniform.rvs(loc=5,scale=10,size=k)\n",
        "b=a/10\n",
        "(H-L)*np.sum(b)/k"
      ],
      "execution_count": null,
      "outputs": [
        {
          "output_type": "execute_result",
          "data": {
            "text/plain": [
              "10.3620064611438"
            ]
          },
          "metadata": {},
          "execution_count": 16
        }
      ]
    },
    {
      "cell_type": "markdown",
      "metadata": {
        "id": "8MImVa4AWDIO"
      },
      "source": [
        "# <font color=\"darkblue\"> Recap - More Summaries\n",
        "\n",
        "[Need for Percentiles-Example](https://engineering.careers360.com/articles/jee-main-marks-vs-percentile)\n",
        "\n",
        "## Major Limitations of Mean\n",
        "\n",
        "- affected by extreme values\n",
        "\n",
        "- may not be a right representative when the variability is high\n",
        "\n",
        "## Measure of Location\n",
        "\n",
        "- Median\n",
        "\n",
        "- Quartiles\n",
        "\n",
        "- Quintiles\n",
        "\n",
        "- Deciles\n",
        "\n",
        "- Percentiles (Percentage Point Function)\n",
        "\n",
        "**Percentile** is a value $x_\\alpha$ of the variable $X$ such that the  probability that $X$ will be less than or equal to $x_\\alpha$ is $\\alpha$. That is,$100\\times\\alpha^{th}$ percentile is\n",
        "\n",
        "$$p[X \\le x_{\\alpha}]=\\alpha$$ where $0 < \\alpha<1$\n",
        "\n",
        "- $\\alpha$ is known (desired probability)\n",
        "\n",
        "- $x_{\\alpha}$ is to be determined by solving the integral equation\n",
        "\n",
        "$$\\int_{-\\infty}^{x_\\alpha} f(x|\\theta)~ dx = \\alpha$$\n",
        "\n",
        "## <font color=\"darkred\">Example\n",
        "\n",
        "we assume income distribution (X) a Gamma distribution with shape 100 and scale = 0.1\n",
        "$$X \\sim Gamma(a = 100, b=0.1)$$ a: shape and b: scale\n",
        "\n",
        "Want to know the high income group, say top 10%\n",
        "\n",
        "Find the value x of **Income (X)** such that  $$p[X > x]=0.1$$\n",
        "\n",
        "Equivalently, $$p[X \\le x]=0.9$$\n",
        "\n",
        "$$\\int_0^{x} \\frac{1}{\\Gamma(a) b^a} x^{a-1}e^{-\\frac{x}{b}}~ dx = 0.90$$\n",
        "\n",
        "**<font color=\"red\"> Computations involved**"
      ]
    },
    {
      "cell_type": "code",
      "metadata": {
        "id": "yiUe9B6mA8xF",
        "colab": {
          "base_uri": "https://localhost:8080/"
        },
        "outputId": "1499579b-2bcc-4385-9618-e135e145bfac"
      },
      "source": [
        "variable = st.gamma.rvs(a=100,loc=0,scale=0.10,size=100)\n",
        "perc_90 = round(np.quantile(variable,0.9),2)\n",
        "perc_90"
      ],
      "execution_count": null,
      "outputs": [
        {
          "output_type": "execute_result",
          "data": {
            "text/plain": [
              "11.33"
            ]
          },
          "metadata": {},
          "execution_count": 20
        }
      ]
    },
    {
      "cell_type": "code",
      "metadata": {
        "id": "HaRHe-3m4OJC"
      },
      "source": [
        "fig = plt.figure(figsize = (20, 10))\n",
        "# # Create the plot\n",
        "# sns.set_style('whitegrid')\n",
        "ax=sns.kdeplot(np.array(variable))\n",
        "plt.axvline(perc_90, 0,1,color='g')\n",
        "\n",
        "percg = f\"90th Percentile {perc_90}\"\n",
        "plt.title(percg,fontsize=35)\n",
        "\n",
        "plt.text(perc_90-2, 0.11, \"$Pr[X \\leq x]=0.90$\", horizontalalignment='left', fontsize=30, color='green', weight='bold')\n",
        "plt.text(perc_90+0.1, 0.02, \"$Pr[X > x]=0.10$\", horizontalalignment='left', fontsize=20, color='red', weight='bold')\n",
        "plt.show()"
      ],
      "execution_count": null,
      "outputs": []
    },
    {
      "cell_type": "markdown",
      "metadata": {
        "id": "8urUoaGu44i_"
      },
      "source": [
        "## <font color=\"Green\"> Direct computation using PPF in stats"
      ]
    },
    {
      "cell_type": "code",
      "metadata": {
        "id": "ca5b3jxL4dxl",
        "colab": {
          "base_uri": "https://localhost:8080/"
        },
        "outputId": "e7b3d2b3-54e0-450a-c43d-8155e3142459"
      },
      "source": [
        "st.gamma.ppf(0.90,a=100,loc=0,scale=0.10)"
      ],
      "execution_count": null,
      "outputs": [
        {
          "output_type": "execute_result",
          "data": {
            "text/plain": [
              "11.301052385984448"
            ]
          },
          "metadata": {},
          "execution_count": 22
        }
      ]
    },
    {
      "cell_type": "markdown",
      "metadata": {
        "id": "_Ykq3oGF6cfc"
      },
      "source": [
        "## <font color=\"Green\"> Quartiles using PPF"
      ]
    },
    {
      "cell_type": "code",
      "metadata": {
        "id": "D2k6OmFi5fey",
        "colab": {
          "base_uri": "https://localhost:8080/"
        },
        "outputId": "cf719707-b97e-4b7c-c82a-0e73df21fed0"
      },
      "source": [
        "qrt=st.gamma.ppf([0.25,0.5,0.75],a=100,loc=0,scale=10)\n",
        "\n",
        "qrt"
      ],
      "execution_count": null,
      "outputs": [
        {
          "output_type": "execute_result",
          "data": {
            "text/plain": [
              "array([ 930.85833837,  996.66864919, 1065.51092527])"
            ]
          },
          "metadata": {},
          "execution_count": 23
        }
      ]
    },
    {
      "cell_type": "markdown",
      "metadata": {
        "id": "J-lKht0U8Rgm"
      },
      "source": [
        "# <font color=\"darkblue\"> CDF as Inverse Function of PPF\n",
        "\n",
        "**Recall**\n",
        "\n",
        "Percentile is a value $x_\\alpha$ of the variable $X$ such that the  probability that $X$ will be less than or equal to $x_\\alpha$ is $\\alpha$. That is,$100\\times\\alpha^{th}$ percentile is\n",
        "\n",
        "$$p[X \\le x_{\\alpha}]=\\alpha$$ where $0 < \\alpha<1$\n",
        "\n",
        "\n",
        "Now Cummulative Density Function CDF **computes the probabilty $\\alpha$** for a chosen $x_\\alpha$\n",
        "\n",
        "- $x_{\\alpha}$ is known (desired probability)\n",
        "\n",
        "- $\\alpha$ is to be determined by evaluating the integral\n",
        "\n",
        "$$\\int_{-\\infty}^{x_\\alpha} f(x|\\theta)~ dx $$\n",
        "\n",
        "## <font color=\"darkred\">Example - Income Distribution\n",
        "\n",
        "Now our interest may be to find the probability that Income is exceeding 12 units\n",
        "\n",
        "$$\\int_0^{12} \\frac{1}{\\Gamma(a) b^a} x^{a-1}e^{-\\frac{x}{b}}~ dx$$"
      ]
    },
    {
      "cell_type": "markdown",
      "metadata": {
        "id": "fxmkt5L-99iM"
      },
      "source": [
        "## <font color=\"Green\"> Direct computation using CDF in stats"
      ]
    },
    {
      "cell_type": "code",
      "metadata": {
        "id": "srRfumvj-Dw8"
      },
      "source": [
        "st.gamma.cdf(x=[9,12,15],a=100,loc=0,scale=0.10)"
      ],
      "execution_count": null,
      "outputs": []
    },
    {
      "cell_type": "markdown",
      "metadata": {
        "id": "3tINqzwj_L0N"
      },
      "source": [
        "# <font color=\"darkblue\"> Inverse CDF - Application to Random Generation\n",
        "\n",
        "- CDF of a random variable $X$ can be used to generate random numbers from $X$\n",
        "\n",
        "- This is one of the methods for the process and simplest of all\n",
        "\n",
        "- Yet, it has a limitation of the requirement - explicit knowledge of CDF\n",
        "\n",
        "## <font color=\"green\"> **Recipe**\n",
        "\n",
        "Our intention is to generate a random number from a RV $X$ with PDF $f(x|\\theta)$\n",
        "\n",
        "- Let a number $u$ be generated from Uniform (0, 1)\n",
        "\n",
        "- Equate this to the CDF $F(x)$ of $X$, the desired random variable\n",
        "\n",
        "- This will give a randomly generated value from $X$\n",
        "\n",
        "- **Algorithm**\n",
        "--------\n",
        "  1. $u \\sim U(0, 1)$\n",
        "\n",
        "  1. $u=F(x)$\n",
        "\n",
        "  1. $x=F^{-1}(u)$\n",
        "------\n",
        "\n",
        "## <font color=\"green\"> **Example**\n",
        "\n",
        "### <font color=\"maroon\"> **Exponential Distribution**\n",
        "\n",
        "A widely applied distribution for modeling inter arrival time, time taken between two consecutive random occurences"
      ]
    },
    {
      "cell_type": "markdown",
      "metadata": {
        "id": "_x0hlzcajcvm"
      },
      "source": [
        "![InterArrivalTime.jpeg](data:image/jpeg;base64,/9j/4AAQSkZJRgABAQEAYABgAAD/4SGqRXhpZgAATU0AKgAAAAgABgALAAIAAAAmAAAIYgESAAMAAAABAAEAAAExAAIAAAAmAAAIiAEyAAIAAAAUAAAIrodpAAQAAAABAAAIwuocAAcAAAgMAAAAVgAAEUYc6gAAAAgAAAAAAAAAAAAAAAAAAAAAAAAAAAAAAAAAAAAAAAAAAAAAAAAAAAAAAAAAAAAAAAAAAAAAAAAAAAAAAAAAAAAAAAAAAAAAAAAAAAAAAAAAAAAAAAAAAAAAAAAAAAAAAAAAAAAAAAAAAAAAAAAAAAAAAAAAAAAAAAAAAAAAAAAAAAAAAAAAAAAAAAAAAAAAAAAAAAAAAAAAAAAAAAAAAAAAAAAAAAAAAAAAAAAAAAAAAAAAAAAAAAAAAAAAAAAAAAAAAAAAAAAAAAAAAAAAAAAAAAAAAAAAAAAAAAAAAAAAAAAAAAAAAAAAAAAAAAAAAAAAAAAAAAAAAAAAAAAAAAAAAAAAAAAAAAAAAAAAAAAAAAAAAAAAAAAAAAAAAAAAAAAAAAAAAAAAAAAAAAAAAAAAAAAAAAAAAAAAAAAAAAAAAAAAAAAAAAAAAAAAAAAAAAAAAAAAAAAAAAAAAAAAAAAAAAAAAAAAAAAAAAAAAAAAAAAAAAAAAAAAAAAAAAAAAAAAAAAAAAAAAAAAAAAAAAAAAAAAAAAAAAAAAAAAAAAAAAAAAAAAAAAAAAAAAAAAAAAAAAAAAAAAAAAAAAAAAAAAAAAAAAAAAAAAAAAAAAAAAAAAAAAAAAAAAAAAAAAAAAAAAAAAAAAAAAAAAAAAAAAAAAAAAAAAAAAAAAAAAAAAAAAAAAAAAAAAAAAAAAAAAAAAAAAAAAAAAAAAAAAAAAAAAAAAAAAAAAAAAAAAAAAAAAAAAAAAAAAAAAAAAAAAAAAAAAAAAAAAAAAAAAAAAAAAAAAAAAAAAAAAAAAAAAAAAAAAAAAAAAAAAAAAAAAAAAAAAAAAAAAAAAAAAAAAAAAAAAAAAAAAAAAAAAAAAAAAAAAAAAAAAAAAAAAAAAAAAAAAAAAAAAAAAAAAAAAAAAAAAAAAAAAAAAAAAAAAAAAAAAAAAAAAAAAAAAAAAAAAAAAAAAAAAAAAAAAAAAAAAAAAAAAAAAAAAAAAAAAAAAAAAAAAAAAAAAAAAAAAAAAAAAAAAAAAAAAAAAAAAAAAAAAAAAAAAAAAAAAAAAAAAAAAAAAAAAAAAAAAAAAAAAAAAAAAAAAAAAAAAAAAAAAAAAAAAAAAAAAAAAAAAAAAAAAAAAAAAAAAAAAAAAAAAAAAAAAAAAAAAAAAAAAAAAAAAAAAAAAAAAAAAAAAAAAAAAAAAAAAAAAAAAAAAAAAAAAAAAAAAAAAAAAAAAAAAAAAAAAAAAAAAAAAAAAAAAAAAAAAAAAAAAAAAAAAAAAAAAAAAAAAAAAAAAAAAAAAAAAAAAAAAAAAAAAAAAAAAAAAAAAAAAAAAAAAAAAAAAAAAAAAAAAAAAAAAAAAAAAAAAAAAAAAAAAAAAAAAAAAAAAAAAAAAAAAAAAAAAAAAAAAAAAAAAAAAAAAAAAAAAAAAAAAAAAAAAAAAAAAAAAAAAAAAAAAAAAAAAAAAAAAAAAAAAAAAAAAAAAAAAAAAAAAAAAAAAAAAAAAAAAAAAAAAAAAAAAAAAAAAAAAAAAAAAAAAAAAAAAAAAAAAAAAAAAAAAAAAAAAAAAAAAAAAAAAAAAAAAAAAAAAAAAAAAAAAAAAAAAAAAAAAAAAAAAAAAAAAAAAAAAAAAAAAAAAAAAAAAAAAAAAAAAAAAAAAAAAAAAAAAAAAAAAAAAAAAAAAAAAAAAAAAAAAAAAAAAAAAAAAAAAAAAAAAAAAAAAAAAAAAAAAAAAAAAAAAAAAAAAAAAAAAAAAAAAAAAAAAAAAAAAAAAAAAAAAAAAAAAAAAAAAAAAAAAAAAAAAAAAAAAAAAAAAAAAAAAAAAAAAAAAAAAAAAAAAAAAAAAAAAAAAAAAAAAAAAAAAAAAAAAAAAAAAAAAAAAAAAAAAAAAAAAAAAAAAAAAAAAAAAAAAAAAAAAAAAAAAAAAAAAAAAAAAAAAAAAAAAAAAAAAAAAAAAAAAAAAAAAAAAAAAAAAAAAAAAAAAAAAAAAAAAAAAAAAAAAAAAAAAAAAAAAAAAAAAAAAAAAAAAAAAAAAAAAAAAAAAAAAAAAAAAAAAAAAAAAAAAAAAAAAAAAAAAAAAAAAAAAAAAAAAAAAAAAAAAAAAAAAAAAAAAAAAAAAAAAAAAAAAAAAAAAAAAAAAAAAAAAAAAAAAAAAAAAAAAAAAAAAAAAAAAAAAAAAAAAAAAAAAAAAAAAAAAAAAAAAAAAAAAAAAAAAAAAAAAAAAAAAAAAAAAAAAAAAAAAAAAAAAAAAAAAAAAAAAAAAAAAAAAAAAAAAAAAAAAAAAAAAAAAAAAAAAAAAAAAAAAAAAAAAAAAAAAAAAAAAAAAAAAAAAAAAAAAAAAAAAAAAAAAAAAAAAAAAAAAAAAAAAAAAAAAAAAAAAAAAAAAAAAAAAAAAAAAAAAAAAAAAAAAAAAAAAAAAAAAAAAAAAAAAAAAAAAAAAAAAAAAAAAAAAAAAAAAAAAAAAAAAAAAAAAAAAAAAAAAAAAAAAAAAAAAAAAAAAAAAAAAAAAAAAAAAAAAAAAAAAAAAAAAAAAAAAAAAAAAAAAAAAAAAAAAAAAAAAAAAAAAAAAAAAAAAAAAAAAAAAAAAAAAAAAAAAAAAAAAAAAAAAAAAAAAAAAAAAAAAAAAAAAAAAAAAAAAAAAAAAAAAAAAAAAAAAAAAAAAAAAAAAAAAAAAAAAAAAAAAAAAAAAAAAAAAAAAAAAAAAAAAAAAAAAAAAAAAAAAAAAAAAAAAAAAAAAAAAAAAAAAAAFdpbmRvd3MgUGhvdG8gRWRpdG9yIDEwLjAuMTAwMTEuMTYzODQAV2luZG93cyBQaG90byBFZGl0b3IgMTAuMC4xMDAxMS4xNjM4NAAyMDIxOjEyOjA3IDE5OjA5OjA3AAAGkAMAAgAAABQAABEckAQAAgAAABQAABEwkpEAAgAAAAMwMAAAkpIAAgAAAAMwMAAAoAEAAwAAAAEAAQAA6hwABwAACAwAAAkQAAAAABzqAAAACAAAAAAAAAAAAAAAAAAAAAAAAAAAAAAAAAAAAAAAAAAAAAAAAAAAAAAAAAAAAAAAAAAAAAAAAAAAAAAAAAAAAAAAAAAAAAAAAAAAAAAAAAAAAAAAAAAAAAAAAAAAAAAAAAAAAAAAAAAAAAAAAAAAAAAAAAAAAAAAAAAAAAAAAAAAAAAAAAAAAAAAAAAAAAAAAAAAAAAAAAAAAAAAAAAAAAAAAAAAAAAAAAAAAAAAAAAAAAAAAAAAAAAAAAAAAAAAAAAAAAAAAAAAAAAAAAAAAAAAAAAAAAAAAAAAAAAAAAAAAAAAAAAAAAAAAAAAAAAAAAAAAAAAAAAAAAAAAAAAAAAAAAAAAAAAAAAAAAAAAAAAAAAAAAAAAAAAAAAAAAAAAAAAAAAAAAAAAAAAAAAAAAAAAAAAAAAAAAAAAAAAAAAAAAAAAAAAAAAAAAAAAAAAAAAAAAAAAAAAAAAAAAAAAAAAAAAAAAAAAAAAAAAAAAAAAAAAAAAAAAAAAAAAAAAAAAAAAAAAAAAAAAAAAAAAAAAAAAAAAAAAAAAAAAAAAAAAAAAAAAAAAAAAAAAAAAAAAAAAAAAAAAAAAAAAAAAAAAAAAAAAAAAAAAAAAAAAAAAAAAAAAAAAAAAAAAAAAAAAAAAAAAAAAAAAAAAAAAAAAAAAAAAAAAAAAAAAAAAAAAAAAAAAAAAAAAAAAAAAAAAAAAAAAAAAAAAAAAAAAAAAAAAAAAAAAAAAAAAAAAAAAAAAAAAAAAAAAAAAAAAAAAAAAAAAAAAAAAAAAAAAAAAAAAAAAAAAAAAAAAAAAAAAAAAAAAAAAAAAAAAAAAAAAAAAAAAAAAAAAAAAAAAAAAAAAAAAAAAAAAAAAAAAAAAAAAAAAAAAAAAAAAAAAAAAAAAAAAAAAAAAAAAAAAAAAAAAAAAAAAAAAAAAAAAAAAAAAAAAAAAAAAAAAAAAAAAAAAAAAAAAAAAAAAAAAAAAAAAAAAAAAAAAAAAAAAAAAAAAAAAAAAAAAAAAAAAAAAAAAAAAAAAAAAAAAAAAAAAAAAAAAAAAAAAAAAAAAAAAAAAAAAAAAAAAAAAAAAAAAAAAAAAAAAAAAAAAAAAAAAAAAAAAAAAAAAAAAAAAAAAAAAAAAAAAAAAAAAAAAAAAAAAAAAAAAAAAAAAAAAAAAAAAAAAAAAAAAAAAAAAAAAAAAAAAAAAAAAAAAAAAAAAAAAAAAAAAAAAAAAAAAAAAAAAAAAAAAAAAAAAAAAAAAAAAAAAAAAAAAAAAAAAAAAAAAAAAAAAAAAAAAAAAAAAAAAAAAAAAAAAAAAAAAAAAAAAAAAAAAAAAAAAAAAAAAAAAAAAAAAAAAAAAAAAAAAAAAAAAAAAAAAAAAAAAAAAAAAAAAAAAAAAAAAAAAAAAAAAAAAAAAAAAAAAAAAAAAAAAAAAAAAAAAAAAAAAAAAAAAAAAAAAAAAAAAAAAAAAAAAAAAAAAAAAAAAAAAAAAAAAAAAAAAAAAAAAAAAAAAAAAAAAAAAAAAAAAAAAAAAAAAAAAAAAAAAAAAAAAAAAAAAAAAAAAAAAAAAAAAAAAAAAAAAAAAAAAAAAAAAAAAAAAAAAAAAAAAAAAAAAAAAAAAAAAAAAAAAAAAAAAAAAAAAAAAAAAAAAAAAAAAAAAAAAAAAAAAAAAAAAAAAAAAAAAAAAAAAAAAAAAAAAAAAAAAAAAAAAAAAAAAAAAAAAAAAAAAAAAAAAAAAAAAAAAAAAAAAAAAAAAAAAAAAAAAAAAAAAAAAAAAAAAAAAAAAAAAAAAAAAAAAAAAAAAAAAAAAAAAAAAAAAAAAAAAAAAAAAAAAAAAAAAAAAAAAAAAAAAAAAAAAAAAAAAAAAAAAAAAAAAAAAAAAAAAAAAAAAAAAAAAAAAAAAAAAAAAAAAAAAAAAAAAAAAAAAAAAAAAAAAAAAAAAAAAAAAAAAAAAAAAAAAAAAAAAAAAAAAAAAAAAAAAAAAAAAAAAAAAAAAAAAAAAAAAAAAAAAAAAAAAAAAAAAAAAAAAAAAAAAAAAAAAAAAAAAAAAAAAAAAAAAAAAAAAAAAAAAAAAAAAAAAAAAAAAAAAAAAAAAAAAAAAAAAAAAAAAAAAAAAAAAAAAAAAAAAAAAAAAAAAAAAAAAAAAAAAAAAAAAAAAAAAAAAAAAAAAAAAAAAAAAAAAAAAAAAAAAAAAAAAAAAAAAAAAAAAAAAAAAAAAAAAAAAAAAAAAAAAAAAAAAAAAAAAAAAAAAAAAAAAAAAAAAAAAAAAAAAAAAAAAAAAAAAAAAAAAAAAAAAAAAAAAAAAAAAAAAAAAAAAAAAAAAAAAAAAAAAAAAAAAAAAAAAAAAAAAAAAAAAAAAAAAAAAAAAAAAAAAAAAAAAAAAAAAAAAAAAAAAAAAAAAAAAAAAAAAAAAAAAAAAAAAAAAAAAAAAAAAAAAAAAAAAAAAAAAAAAAAAAAAAAAAAAAAAAAAAAAAAAAAAAAAAAAAAAAAAAAAAAAAAAAAAAAAAAAAAAAAAAAAAAAAAAAAAAAAAAAAAAAAAAAAAAAAAAAAAAAAAAAAAAAAAAAAAAAAAAAAAAAAAAAAAAAAAAAAAAAAAAAAAAAAAAAAAAAAAAAAAAAAAAAAAAAAAAAAAAAAAAAAAAAAAAAAAAAAAAAAAAAAAAAAAAAAAAAAAAAAAAAAAAAAAAAAAAAAAAAAAAAAAAAAAAAAAAAAAAAAAAAAAAAAAAAAAAAAAAAAAAAAAAAAAAAAAAAAAAMjAyMToxMjowNyAxOTowNzo1NgAyMDIxOjEyOjA3IDE5OjA3OjU2AAAAAAYBAwADAAAAAQAGAAABGgAFAAAAAQAAEZQBGwAFAAAAAQAAEZwBKAADAAAAAQACAAACAQAEAAAAAQAAEaQCAgAEAAAAAQAAD/4AAAAAAAAAYAAAAAEAAABgAAAAAf/Y/9sAQwAIBgYHBgUIBwcHCQkICgwUDQwLCwwZEhMPFB0aHx4dGhwcICQuJyAiLCMcHCg3KSwwMTQ0NB8nOT04MjwuMzQy/9sAQwEJCQkMCwwYDQ0YMiEcITIyMjIyMjIyMjIyMjIyMjIyMjIyMjIyMjIyMjIyMjIyMjIyMjIyMjIyMjIyMjIyMjIy/8AAEQgAcQEAAwEhAAIRAQMRAf/EAB8AAAEFAQEBAQEBAAAAAAAAAAABAgMEBQYHCAkKC//EALUQAAIBAwMCBAMFBQQEAAABfQECAwAEEQUSITFBBhNRYQcicRQygZGhCCNCscEVUtHwJDNicoIJChYXGBkaJSYnKCkqNDU2Nzg5OkNERUZHSElKU1RVVldYWVpjZGVmZ2hpanN0dXZ3eHl6g4SFhoeIiYqSk5SVlpeYmZqio6Slpqeoqaqys7S1tre4ubrCw8TFxsfIycrS09TV1tfY2drh4uPk5ebn6Onq8fLz9PX29/j5+v/EAB8BAAMBAQEBAQEBAQEAAAAAAAABAgMEBQYHCAkKC//EALURAAIBAgQEAwQHBQQEAAECdwABAgMRBAUhMQYSQVEHYXETIjKBCBRCkaGxwQkjM1LwFWJy0QoWJDThJfEXGBkaJicoKSo1Njc4OTpDREVGR0hJSlNUVVZXWFlaY2RlZmdoaWpzdHV2d3h5eoKDhIWGh4iJipKTlJWWl5iZmqKjpKWmp6ipqrKztLW2t7i5usLDxMXGx8jJytLT1NXW19jZ2uLj5OXm5+jp6vLz9PX29/j5+v/aAAwDAQACEQMRAD8A9CL+9IHrE0F3UZOaADdRuzQAZ7UUANJpAaBDu1Jk0AGTnmnb8dKAE35o3UAALGnbqAE3UbqYBmm7iTSACxpPMNAC7s0ZoATdSZoAN1ODUAG4UZqRjaKoBc0m+gDmPE2ra/pEFxfWsWnNYxbP9bvMnJAPAwOp/Kp1svEzyRu+t2kahgWSO0yCO4yTmq92wtTod2KN4qQEJpMnNAChqM0AGc0ZoAjLUb6AHK5p+6gBM5pwOOtMBWYdqZ1oAOKb3pAGcUm7PWgAzTcnNACgEn6Uu6gADU7NSMBQaoBKOaAOf8a/8ifqP+4o/wDH1q2NWWPXLfSjEQZLUziQtjocbcevU1W6F1NPNAHfNSMdmk5oEJSg0AFITQA2igA3Uu6mAb8UnmE0AN3Nml3kdKAHBs07IpAITTc0wDNLmgBc8U2kMWlBqQHUZqgDNNLgcZoAU4xVBEsL27S9RY5bi33xLJ3Tn5h+n+c0XsPlbVy5mnUCFBoJoENNQyXdvBII5Z4kfaX2s4B2jqfoMjmmBHbapY3zOlpe29wyffEUquV+uKs5oAbmigBKXNACGigBw6UUAHSlxmgAyKNwxQAmaO9AC03NIYDNPFJgONJmmAU7YB2H1oAhmDlCsf3icZ/u+p/CoFsoRH/o4WF1JCMo6Y4wR3Ht/I81LV2aRlaJJFKXJR12Sr95c5/EHuPf+VTYpozkrMOlLmmIK4W98O2Nr4r0KO5e41AT+erNeymQ/KoZfbHXjHeqi7CZqQazomn60dNtbAW7SSiAzQwKkbSYztJHOefTvXRUNPqCDvQaQxOAKTNABnmgtQA3d70u40CFzRuoGUNUvL61hjax077dIzYZPOWPaPXJrEs/EOuapLcw2miwQSW0hjkM91uAb04HNUkrXYrnRWD3bWcZv0iS658wQklOvGM89MVa34qRiE5pKAFRwwypBGSMg9xxUgqWMdSGmAmcUFiaAEFMgAWEY/iJb8zn+tIOg8qpYMQCy5we4pC1MLi5ooELms2/sILy/sLh5WSS0kZ41UgbsjBB7/lTvYLXMjVfDF3qOvR6lHqrW4jXaieSH2cYJXJwCfXFbljbPZ2UcD3M1yy5zLMQWbnvim3dWBIs5NGaQCde1BoAbRQAYFFACZoJoEJmuIg1k+H7jWp5bSaaSfUvLijxt3EgkYJ7f4iqir6CZu2Hia1m06W6v1Fg0M7W8qSOGw684BHXirFpqNpqWrTRp5nmWaqyMHOyRZFBBwDz070OLQ0yxLpdpPHMjrIVnlEsgErDLDGO/A+UcVMLO2W+e98ofaHjETPk8qDnGOlSMYukWA05dPWDZaoQyojsuCG3A5BznPNaGaTAWgmgY00UAGcCorX/AI84M/8APNf5Ug6EmaM0xBmlzQAhNUzbg3Y8w5Z1Y7l4KhSNuPzP5ntxQ0XB2LOCFAzuIHJ9aPrTIFpMUABOKb1oAMUuKAEooAQ0mM0CF6cVnX32O5uLe3uoDKImFwrEHbGykYJ/P/Gle2pUYuTsTxWVpGJNlvEPNk81/lHzOf4vrSR2FtFfz3qIRPOqq7ZPIXpxTuxWLQOKcDnrQA8dafSYxTTTQMKUUCEfhG+lMj4iQDoFFIfQCcdTTTPEv3pEH1YU7iSb2I/tdsP+XiL/AL7FPjnjlJ8uRHx12tnFFxuMlrYl61A4P9ow/wDXKT+aUMSLGKQrTENpaAEpcCgBcU00ANNFAhKTIzQAcZquIhHeRlc/ckJyeSSVpFImCrGu1FCqOgAxRmmIKepzQBIKcKTGKar3Kq4jjZnG58fI5UngnqPpSZUdw+yRes3/AH/f/GpVhjA6H8STRZA5sQ28DH5oIj9UFN+yWo/5dYP+/Y/wosg55dwFpaA5FrAPpGKeERPuIq59BinZCc5Pdi5qkXdNRl2wu4MScqV45b1IoYRW5ZV2OMxlfqRSGNjdRy5GFRlI+pU/0oBWRPhsdvzqF3nAO2OI/WQj/wBlouxJLuMhlkcuJEVWU4+Vtw6fQVLQgaswFG9dxXcNwGSM84piDeu7bkbsZAzzik3rv2bhuxnbnnHrQA3cCxUEZA5GelNDqyhlIZSMgg8GgQciq6wRSSzM27O8cq5X+EehpMqLsTbFHQt/30aaYgWDebICBjgj+o9qLDUvIaYWP/LzMPwX/CpViAHLu3uT/hRYObyI5IIsF2aQBRk/vWH9aW0Upaxhi24jcdxyQTzj9aOo73iWFIp2aGSR3lwbSzluBBNP5a58uFdzt9B3rDbxRG7of7E1wlGyB9hbrgj196ajcOaxJH4kzgLoWucn+K0/xapn1yZIXkOiaptQZP7pMn8N2afKTzAniKF0DCx1A5GcC3NPGuIf+XDUBn1g/wDr0crDmQ46wp+7Yag30t//AK9M/thuv9lal/35H+NHKHMH9sOef7K1L8YR/jVG98RLpplvLnTb9YmVEX92Mk5bjGfelyjUtGQx+MoJVymm3/4xgf1pw8WTFsJol8w9fl/oTVcjJ5yX/hKLkKD/AGHenPoKT/hJLtjxoF+c/wCz/wDWo5Bc43+3dRRpGXw9fPvcEDgY4A7/AEq7HdamsaqmibFA4X7QgxS5bdSua5Klzqp5Olxr9bof0WnfaNUPXToR9br/AOxpaBqIbjVR/wAw+3+v2o//ABFKJdVP/LlbD63J/wDiKegajTNqmf8Ajwg/8Cf/ALGq93fapaornSxLuYLiKYsR7/d6UhXYfb9QIymkyn/ekApFu9TUsRo75c5OZ164A/pTsu4cz7Dhdaqf+YWB/wBtlpPtWqdTprD6Mp/9mosu4XYyS51ryj5Viqv23gEfo9R/bNd2jdaRj/tn/wDZ07LuF2Ryz67LEyfZIyrLg/uyD/6EaU3niInjT4cepB/+Ko5V3HzO1rCG88SqMnTYT/un/wCyrasJrqe1D3dqbaTONhcNx68VMkujBN9Sa+vYtPsZbuYSGKJdz7FLED1wPTrVMa0t1qMNnpypdAqss8wf5Ioz93kZyx7D05oS6lXNbNGaQCZpN1ABn3ozQA2STy42fDHaCcKMk/Ssew8SW2q3kMNhG8yNF5s0nQQ+it/tE549s00uojY3UbqAGMc1la/qtzpFgl5DAs0Mcq/aRyWWI9SvuOKaWoil/a0mt65b22l3OLK12z3U8Z+/n7sY+vU10PmKGClhuIyBnkj/ACRQwQGVAyqWAZvugnk1HNcxRBfNlSPewRd7AbmPQD1PtSGK7hULuwVVGSScACkkuYofL8yWNPMYIm5gNzHoB6mgAmuYraJpZ5UijX7zuwUD8TQbqLy0k81NkhARtww2emD3zQAJKkqB43V0YZDKcg1zV/r162qtoUEaW17K/wC7uC4ZRF13Y/vYH3cU4q4mdJGCkaoXZioA3N1Puafk0hgSaac0Acx4j1jVLS/S20hmmnMDNLAIQ/lr2kB/vdgOh/naPiWyj06zlTVI53yBIvlZml7EBARtbJFXy3SsK5oWszahprTWmqM6TvvimWJcxpkfJgjtgjJ55q7tc3PmidvL2bfJwNuc53ZxnPbrioYxup/b2tPL07yhPIwQyS8iJT1bH8RHYe9Yuk6Jd+G7+K20/wD0jS7glpvMIDwuF+8D3DYHGOPammrWB7mlompS6jFeGbYGgvJYPkGOFPH44IrTzSaswDNNPNAw6UmaAKmoLey2UkdjNHDcNgLJIuQozyceuOnvWNYaDPoV8kljdhrKQE3i3Lc7gP8AWKfU9/8AOKT0sJog8Kard3st9Je30UsckoFvhgATzuCDrt6AZ9PrXUZpSVmJCGs3XZLxdHnWwthcXEg8tUJ4G7gk+wzmktwZz2k2V14NvbWxLG60+/dULquDFORz/wABOP09ubsfiuzn8SRaebNkbMkaXMxVSCOTgHnBIA7ZwKtrm1Qr20OkKKzq5RSy52kjkZ64oZFbG9QcHIyM4PrUFDZY45omilRXjcbWVhkEehFKUUhQVBCnI46UAJIiSIUdVZT1DDIoKgqAVBAIIBFADuaxW8M6e9tcRt5rTTS+cbln/eq/Yhu2O1NNoRmnX77Try4inMc9jYvDBPMwxKS4Hz8cYyRxirV54us47W5eySW5mgBJUxOqnB+b5tuBgZquS+wrnQhgwBByD0NLxUFCgDrgVnXOh6fc3sN2YFjuIpRL5kagFyM43HHI5oTaCwaZpZ06/wBQkWRTbXUiypEB9x8fOfxODWmcdqG7sES596KQyKG2gthJ5ESR+Y5kfaMbmPUn3NPJpgJmk3YoAN2aM0AHOKQ4IIIyD1FAjOj0HR4bhLiPTLVJUbcrLEAVPqK0MjvQ23uAmc0ooAK5LXfA1vrWqverdm3MigSKIQ24jvnPHGPypxlZ3E1c6e3hFpaQ26u7rEgQM5yxwMZJ7mpcj1pDEpN1ABmjNABnikoAjaCFwwaJG3kFsqDkjoT9MD8qLiGO5t5LeZQ8UilHUnqCMEUALFGkEKRRqFjRQqqOwHAFSZGKADdS5oGLS0mBL3ooAKaTQA3vRxQAUlMB1NyKADNNNAgozQAmTSg0DA802gQp6U0dKADNFAC9qKACkxzQAlA6UALmlFAxQaXNICeigBKQ0AM70tACnpSUwFP3ajoAWkoEFHagAHWkoGL2pp7UAL2ppoEFLQA7tTR1oAKBQANSdqBiU6gBRQKQH//Z/+Ex5Gh0dHA6Ly9ucy5hZG9iZS5jb20veGFwLzEuMC8APD94cGFja2V0IGJlZ2luPSfvu78nIGlkPSdXNU0wTXBDZWhpSHpyZVN6TlRjemtjOWQnPz4NCjx4OnhtcG1ldGEgeG1sbnM6eD0iYWRvYmU6bnM6bWV0YS8iPjxyZGY6UkRGIHhtbG5zOnJkZj0iaHR0cDovL3d3dy53My5vcmcvMTk5OS8wMi8yMi1yZGYtc3ludGF4LW5zIyI+PHJkZjpEZXNjcmlwdGlvbiByZGY6YWJvdXQ9InV1aWQ6ZmFmNWJkZDUtYmEzZC0xMWRhLWFkMzEtZDMzZDc1MTgyZjFiIiB4bWxuczp4bXA9Imh0dHA6Ly9ucy5hZG9iZS5jb20veGFwLzEuMC8iPjx4bXA6Q3JlYXRvclRvb2w+V2luZG93cyBQaG90byBFZGl0b3IgMTAuMC4xMDAxMS4xNjM4NDwveG1wOkNyZWF0b3JUb29sPjx4bXA6Q3JlYXRlRGF0ZT4yMDIxLTEyLTA3VDE5OjA3OjU2PC94bXA6Q3JlYXRlRGF0ZT48L3JkZjpEZXNjcmlwdGlvbj48L3JkZjpSREY+PC94OnhtcG1ldGE+DQogICAgICAgICAgICAgICAgICAgICAgICAgICAgICAgICAgICAgICAgICAgICAgICAgICAgICAgICAgICAgICAgICAgICAgICAgICAgICAgICAgICAgICAgICAgICAgICAgICAgCiAgICAgICAgICAgICAgICAgICAgICAgICAgICAgICAgICAgICAgICAgICAgICAgICAgICAgICAgICAgICAgICAgICAgICAgICAgICAgICAgICAgICAgICAgICAgICAgICAgICAKICAgICAgICAgICAgICAgICAgICAgICAgICAgICAgICAgICAgICAgICAgICAgICAgICAgICAgICAgICAgICAgICAgICAgICAgICAgICAgICAgICAgICAgICAgICAgICAgICAgIAogICAgICAgICAgICAgICAgICAgICAgICAgICAgICAgICAgICAgICAgICAgICAgICAgICAgICAgICAgICAgICAgICAgICAgICAgICAgICAgICAgICAgICAgICAgICAgICAgICAgCiAgICAgICAgICAgICAgICAgICAgICAgICAgICAgICAgICAgICAgICAgICAgICAgICAgICAgICAgICAgICAgICAgICAgICAgICAgICAgICAgICAgICAgICAgICAgICAgICAgICAKICAgICAgICAgICAgICAgICAgICAgICAgICAgICAgICAgICAgICAgICAgICAgICAgICAgICAgICAgICAgICAgICAgICAgICAgICAgICAgICAgICAgICAgICAgICAgICAgICAgIAogICAgICAgICAgICAgICAgICAgICAgICAgICAgICAgICAgICAgICAgICAgICAgICAgICAgICAgICAgICAgICAgICAgICAgICAgICAgICAgICAgICAgICAgICAgICAgICAgICAgCiAgICAgICAgICAgICAgICAgICAgICAgICAgICAgICAgICAgICAgICAgICAgICAgICAgICAgICAgICAgICAgICAgICAgICAgICAgICAgICAgICAgICAgICAgICAgICAgICAgICAKICAgICAgICAgICAgICAgICAgICAgICAgICAgICAgICAgICAgICAgICAgICAgICAgICAgICAgICAgICAgICAgICAgICAgICAgICAgICAgICAgICAgICAgICAgICAgICAgICAgIAogICAgICAgICAgICAgICAgICAgICAgICAgICAgICAgICAgICAgICAgICAgICAgICAgICAgICAgICAgICAgICAgICAgICAgICAgICAgICAgICAgICAgICAgICAgICAgICAgICAgCiAgICAgICAgICAgICAgICAgICAgICAgICAgICAgICAgICAgICAgICAgICAgICAgICAgICAgICAgICAgICAgICAgICAgICAgICAgICAgICAgICAgICAgICAgICAgICAgICAgICAKICAgICAgICAgICAgICAgICAgICAgICAgICAgICAgICAgICAgICAgICAgICAgICAgICAgICAgICAgICAgICAgICAgICAgICAgICAgICAgICAgICAgICAgICAgICAgICAgICAgIAogICAgICAgICAgICAgICAgICAgICAgICAgICAgICAgICAgICAgICAgICAgICAgICAgICAgICAgICAgICAgICAgICAgICAgICAgICAgICAgICAgICAgICAgICAgICAgICAgICAgCiAgICAgICAgICAgICAgICAgICAgICAgICAgICAgICAgICAgICAgICAgICAgICAgICAgICAgICAgICAgICAgICAgICAgICAgICAgICAgICAgICAgICAgICAgICAgICAgICAgICAKICAgICAgICAgICAgICAgICAgICAgICAgICAgICAgICAgICAgICAgICAgICAgICAgICAgICAgICAgICAgICAgICAgICAgICAgICAgICAgICAgICAgICAgICAgICAgICAgICAgIAogICAgICAgICAgICAgICAgICAgICAgICAgICAgICAgICAgICAgICAgICAgICAgICAgICAgICAgICAgICAgICAgICAgICAgICAgICAgICAgICAgICAgICAgICAgICAgICAgICAgCiAgICAgICAgICAgICAgICAgICAgICAgICAgICAgICAgICAgICAgICAgICAgICAgICAgICAgICAgICAgICAgICAgICAgICAgICAgICAgICAgICAgICAgICAgICAgICAgICAgICAKICAgICAgICAgICAgICAgICAgICAgICAgICAgICAgICAgICAgICAgICAgICAgICAgICAgICAgICAgICAgICAgICAgICAgICAgICAgICAgICAgICAgICAgICAgICAgICAgICAgIAogICAgICAgICAgICAgICAgICAgICAgICAgICAgICAgICAgICAgICAgICAgICAgICAgICAgICAgICAgICAgICAgICAgICAgICAgICAgICAgICAgICAgICAgICAgICAgICAgICAgCiAgICAgICAgICAgICAgICAgICAgICAgICAgICAgICAgICAgICAgICAgICAgICAgICAgICAgICAgICAgICAgICAgICAgICAgICAgICAgICAgICAgICAgICAgICAgICAgICAgICAKICAgICAgICAgICAgICAgICAgICAgICAgICAgICAgICAgICAgICAgICAgICAgICAgICAgICAgICAgICAgICAgICAgICAgICAgICAgICAgICAgICAgICAgICAgICAgICAgICAgIAogICAgICAgICAgICAgICAgICAgICAgICAgICAgICAgICAgICAgICAgICAgICAgICAgICAgICAgICAgICAgICAgICAgICAgICAgICAgICAgICAgICAgICAgICAgICAgICAgICAgCiAgICAgICAgICAgICAgICAgICAgICAgICAgICAgICAgICAgICAgICAgICAgICAgICAgICAgICAgICAgICAgICAgICAgICAgICAgICAgICAgICAgICAgICAgICAgICAgICAgICAKICAgICAgICAgICAgICAgICAgICAgICAgICAgICAgICAgICAgICAgICAgICAgICAgICAgICAgICAgICAgICAgICAgICAgICAgICAgICAgICAgICAgICAgICAgICAgICAgICAgIAogICAgICAgICAgICAgICAgICAgICAgICAgICAgICAgICAgICAgICAgICAgICAgICAgICAgICAgICAgICAgICAgICAgICAgICAgICAgICAgICAgICAgICAgICAgICAgICAgICAgCiAgICAgICAgICAgICAgICAgICAgICAgICAgICAgICAgICAgICAgICAgICAgICAgICAgICAgICAgICAgICAgICAgICAgICAgICAgICAgICAgICAgICAgICAgICAgICAgICAgICAKICAgICAgICAgICAgICAgICAgICAgICAgICAgICAgICAgICAgICAgICAgICAgICAgICAgICAgICAgICAgICAgICAgICAgICAgICAgICAgICAgICAgICAgICAgICAgICAgICAgIAogICAgICAgICAgICAgICAgICAgICAgICAgICAgICAgICAgICAgICAgICAgICAgICAgICAgICAgICAgICAgICAgICAgICAgICAgICAgICAgICAgICAgICAgICAgICAgICAgICAgCiAgICAgICAgICAgICAgICAgICAgICAgICAgICAgICAgICAgICAgICAgICAgICAgICAgICAgICAgICAgICAgICAgICAgICAgICAgICAgICAgICAgICAgICAgICAgICAgICAgICAKICAgICAgICAgICAgICAgICAgICAgICAgICAgICAgICAgICAgICAgICAgICAgICAgICAgICAgICAgICAgICAgICAgICAgICAgICAgICAgICAgICAgICAgICAgICAgICAgICAgIAogICAgICAgICAgICAgICAgICAgICAgICAgICAgICAgICAgICAgICAgICAgICAgICAgICAgICAgICAgICAgICAgICAgICAgICAgICAgICAgICAgICAgICAgICAgICAgICAgICAgCiAgICAgICAgICAgICAgICAgICAgICAgICAgICAgICAgICAgICAgICAgICAgICAgICAgICAgICAgICAgICAgICAgICAgICAgICAgICAgICAgICAgICAgICAgICAgICAgICAgICAKICAgICAgICAgICAgICAgICAgICAgICAgICAgICAgICAgICAgICAgICAgICAgICAgICAgICAgICAgICAgICAgICAgICAgICAgICAgICAgICAgICAgICAgICAgICAgICAgICAgIAogICAgICAgICAgICAgICAgICAgICAgICAgICAgICAgICAgICAgICAgICAgICAgICAgICAgICAgICAgICAgICAgICAgICAgICAgICAgICAgICAgICAgICAgICAgICAgICAgICAgCiAgICAgICAgICAgICAgICAgICAgICAgICAgICAgICAgICAgICAgICAgICAgICAgICAgICAgICAgICAgICAgICAgICAgICAgICAgICAgICAgICAgICAgICAgICAgICAgICAgICAKICAgICAgICAgICAgICAgICAgICAgICAgICAgICAgICAgICAgICAgICAgICAgICAgICAgICAgICAgICAgICAgICAgICAgICAgICAgICAgICAgICAgICAgICAgICAgICAgICAgIAogICAgICAgICAgICAgICAgICAgICAgICAgICAgICAgICAgICAgICAgICAgICAgICAgICAgICAgICAgICAgICAgICAgICAgICAgICAgICAgICAgICAgICAgICAgICAgICAgICAgCiAgICAgICAgICAgICAgICAgICAgICAgICAgICAgICAgICAgICAgICAgICAgICAgICAgICAgICAgICAgICAgICAgICAgICAgICAgICAgICAgICAgICAgICAgICAgICAgICAgICAKICAgICAgICAgICAgICAgICAgICAgICAgICAgICAgICAgICAgICAgICAgICAgICAgICAgICAgICAgICAgICAgICAgICAgICAgICAgICAgICAgICAgICAgICAgICAgICAgICAgIAogICAgICAgICAgICAgICAgICAgICAgICAgICAgICAgICAgICAgICAgICAgICAgICAgICAgICAgICAgICAgICAgICAgICAgICAgICAgICAgICAgICAgICAgICAgICAgICAgICAgCiAgICAgICAgICAgICAgICAgICAgICAgICAgICAgICAgICAgICAgICAgICAgICAgICAgICAgICAgICAgICAgICAgICAgICAgICAgICAgICAgICAgICAgICAgICAgICAgICAgICAKICAgICAgICAgICAgICAgICAgICAgICAgICAgICAgICAgICAgICAgICAgICAgICAgICAgICAgICAgICAgICAgICAgICAgICAgICAgICAgICAgICAgICAgICAgICAgICAgICAgIAogICAgICAgICAgICAgICAgICAgICAgICAgICAgICAgICAgICAgICAgICAgICAgICAgICAgICAgICAgICAgICAgICAgICAgICAgICAgICAgICAgICAgICAgICAgICAgICAgICAgCiAgICAgICAgICAgICAgICAgICAgICAgICAgICAgICAgICAgICAgICAgICAgICAgICAgICAgICAgICAgICAgICAgICAgICAgICAgICAgICAgICAgICAgICAgICAgICAgICAgICAKICAgICAgICAgICAgICAgICAgICAgICAgICAgICAgICAgICAgICAgICAgICAgICAgICAgICAgICAgICAgICAgICAgICAgICAgICAgICAgICAgICAgICAgICAgICAgICAgICAgIAogICAgICAgICAgICAgICAgICAgICAgICAgICAgICAgICAgICAgICAgICAgICAgICAgICAgICAgICAgICAgICAgICAgICAgICAgICAgICAgICAgICAgICAgICAgICAgICAgICAgCiAgICAgICAgICAgICAgICAgICAgICAgICAgICAgICAgICAgICAgICAgICAgICAgICAgICAgICAgICAgICAgICAgICAgICAgICAgICAgICAgICAgICAgICAgICAgICAgICAgICAKICAgICAgICAgICAgICAgICAgICAgICAgICAgICAgICAgICAgICAgICAgICAgICAgICAgICAgICAgICAgICAgICAgICAgICAgICAgICAgICAgICAgICAgICAgICAgICAgICAgIAogICAgICAgICAgICAgICAgICAgICAgICAgICAgICAgICAgICAgICAgICAgICAgICAgICAgICAgICAgICAgICAgICAgICAgICAgICAgICAgICAgICAgICAgICAgICAgICAgICAgCiAgICAgICAgICAgICAgICAgICAgICAgICAgICAgICAgICAgICAgICAgICAgICAgICAgICAgICAgICAgICAgICAgICAgICAgICAgICAgICAgICAgICAgICAgICAgICAgICAgICAKICAgICAgICAgICAgICAgICAgICAgICAgICAgICAgICAgICAgICAgICAgICAgICAgICAgICAgICAgICAgICAgICAgICAgICAgICAgICAgICAgICAgICAgICAgICAgICAgICAgIAogICAgICAgICAgICAgICAgICAgICAgICAgICAgICAgICAgICAgICAgICAgICAgICAgICAgICAgICAgICAgICAgICAgICAgICAgICAgICAgICAgICAgICAgICAgICAgICAgICAgCiAgICAgICAgICAgICAgICAgICAgICAgICAgICAgICAgICAgICAgICAgICAgICAgICAgICAgICAgICAgICAgICAgICAgICAgICAgICAgICAgICAgICAgICAgICAgICAgICAgICAKICAgICAgICAgICAgICAgICAgICAgICAgICAgICAgICAgICAgICAgICAgICAgICAgICAgICAgICAgICAgICAgICAgICAgICAgICAgICAgICAgICAgICAgICAgICAgICAgICAgIAogICAgICAgICAgICAgICAgICAgICAgICAgICAgICAgICAgICAgICAgICAgICAgICAgICAgICAgICAgICAgICAgICAgICAgICAgICAgICAgICAgICAgICAgICAgICAgICAgICAgCiAgICAgICAgICAgICAgICAgICAgICAgICAgICAgICAgICAgICAgICAgICAgICAgICAgICAgICAgICAgICAgICAgICAgICAgICAgICAgICAgICAgICAgICAgICAgICAgICAgICAKICAgICAgICAgICAgICAgICAgICAgICAgICAgICAgICAgICAgICAgICAgICAgICAgICAgICAgICAgICAgICAgICAgICAgICAgICAgICAgICAgICAgICAgICAgICAgICAgICAgIAogICAgICAgICAgICAgICAgICAgICAgICAgICAgICAgICAgICAgICAgICAgICAgICAgICAgICAgICAgICAgICAgICAgICAgICAgICAgICAgICAgICAgICAgICAgICAgICAgICAgCiAgICAgICAgICAgICAgICAgICAgICAgICAgICAgICAgICAgICAgICAgICAgICAgICAgICAgICAgICAgICAgICAgICAgICAgICAgICAgICAgICAgICAgICAgICAgICAgICAgICAKICAgICAgICAgICAgICAgICAgICAgICAgICAgICAgICAgICAgICAgICAgICAgICAgICAgICAgICAgICAgICAgICAgICAgICAgICAgICAgICAgICAgICAgICAgICAgICAgICAgIAogICAgICAgICAgICAgICAgICAgICAgICAgICAgICAgICAgICAgICAgICAgICAgICAgICAgICAgICAgICAgICAgICAgICAgICAgICAgICAgICAgICAgICAgICAgICAgICAgICAgCiAgICAgICAgICAgICAgICAgICAgICAgICAgICAgICAgICAgICAgICAgICAgICAgICAgICAgICAgICAgICAgICAgICAgICAgICAgICAgICAgICAgICAgICAgICAgICAgICAgICAKICAgICAgICAgICAgICAgICAgICAgICAgICAgICAgICAgICAgICAgICAgICAgICAgICAgICAgICAgICAgICAgICAgICAgICAgICAgICAgICAgICAgICAgICAgICAgICAgICAgIAogICAgICAgICAgICAgICAgICAgICAgICAgICAgICAgICAgICAgICAgICAgICAgICAgICAgICAgICAgICAgICAgICAgICAgICAgICAgICAgICAgICAgICAgICAgICAgICAgICAgCiAgICAgICAgICAgICAgICAgICAgICAgICAgICAgICAgICAgICAgICAgICAgICAgICAgICAgICAgICAgICAgICAgICAgICAgICAgICAgICAgICAgICAgICAgICAgICAgICAgICAKICAgICAgICAgICAgICAgICAgICAgICAgICAgICAgICAgICAgICAgICAgICAgICAgICAgICAgICAgICAgICAgICAgICAgICAgICAgICAgICAgICAgICAgICAgICAgICAgICAgIAogICAgICAgICAgICAgICAgICAgICAgICAgICAgICAgICAgICAgICAgICAgICAgICAgICAgICAgICAgICAgICAgICAgICAgICAgICAgICAgICAgICAgICAgICAgICAgICAgICAgCiAgICAgICAgICAgICAgICAgICAgICAgICAgICAgICAgICAgICAgICAgICAgICAgICAgICAgICAgICAgICAgICAgICAgICAgICAgICAgICAgICAgICAgICAgICAgICAgICAgICAKICAgICAgICAgICAgICAgICAgICAgICAgICAgICAgICAgICAgICAgICAgICAgICAgICAgICAgICAgICAgICAgICAgICAgICAgICAgICAgICAgICAgICAgICAgICAgICAgICAgIAogICAgICAgICAgICAgICAgICAgICAgICAgICAgICAgICAgICAgICAgICAgICAgICAgICAgICAgICAgICAgICAgICAgICAgICAgICAgICAgICAgICAgICAgICAgICAgICAgICAgCiAgICAgICAgICAgICAgICAgICAgICAgICAgICAgICAgICAgICAgICAgICAgICAgICAgICAgICAgICAgICAgICAgICAgICAgICAgICAgICAgICAgICAgICAgICAgICAgICAgICAKICAgICAgICAgICAgICAgICAgICAgICAgICAgICAgICAgICAgICAgICAgICAgICAgICAgICAgICAgICAgICAgICAgICAgICAgICAgICAgICAgICAgICAgICAgICAgICAgICAgIAogICAgICAgICAgICAgICAgICAgICAgICAgICAgICAgICAgICAgICAgICAgICAgICAgICAgICAgICAgICAgICAgICAgICAgICAgICAgICAgICAgICAgICAgICAgICAgICAgICAgCiAgICAgICAgICAgICAgICAgICAgICAgICAgICAgICAgICAgICAgICAgICAgICAgICAgICAgICAgICAgICAgICAgICAgICAgICAgICAgICAgICAgICAgICAgICAgICAgICAgICAKICAgICAgICAgICAgICAgICAgICAgICAgICAgICAgICAgICAgICAgICAgICAgICAgICAgICAgICAgICAgICAgICAgICAgICAgICAgICAgICAgICAgICAgICAgICAgICAgICAgIAogICAgICAgICAgICAgICAgICAgICAgICAgICAgICAgICAgICAgICAgICAgICAgICAgICAgICAgICAgICAgICAgICAgICAgICAgICAgICAgICAgICAgICAgICAgICAgICAgICAgCiAgICAgICAgICAgICAgICAgICAgICAgICAgICAgICAgICAgICAgICAgICAgICAgICAgICAgICAgICAgICAgICAgICAgICAgICAgICAgICAgICAgICAgICAgICAgICAgICAgICAKICAgICAgICAgICAgICAgICAgICAgICAgICAgICAgICAgICAgICAgICAgICAgICAgICAgICAgICAgICAgICAgICAgICAgICAgICAgICAgICAgICAgICAgICAgICAgICAgICAgIAogICAgICAgICAgICAgICAgICAgICAgICAgICAgICAgICAgICAgICAgICAgICAgICAgICAgICAgICAgICAgICAgICAgICAgICAgICAgICAgICAgICAgICAgICAgICAgICAgICAgCiAgICAgICAgICAgICAgICAgICAgICAgICAgICAgICAgICAgICAgICAgICAgICAgICAgICAgICAgICAgICAgICAgICAgICAgICAgICAgICAgICAgICAgICAgICAgICAgICAgICAKICAgICAgICAgICAgICAgICAgICAgICAgICAgICAgICAgICAgICAgICAgICAgICAgICAgICAgICAgICAgICAgICAgICAgICAgICAgICAgICAgICAgICAgICAgICAgICAgICAgIAogICAgICAgICAgICAgICAgICAgICAgICAgICAgICAgICAgICAgICAgICAgICAgICAgICAgICAgICAgICAgICAgICAgICAgICAgICAgICAgICAgICAgICAgICAgICAgICAgICAgCiAgICAgICAgICAgICAgICAgICAgICAgICAgICAgICAgICAgICAgICAgICAgICAgICAgICAgICAgICAgICAgICAgICAgICAgICAgICAgICAgICAgICAgICAgICAgICAgICAgICAKICAgICAgICAgICAgICAgICAgICAgICAgICAgICAgICAgICAgICAgICAgICAgICAgICAgICAgICAgICAgICAgICAgICAgICAgICAgICAgICAgICAgICAgICAgICAgICAgICAgIAogICAgICAgICAgICAgICAgICAgICAgICAgICAgICAgICAgICAgICAgICAgICAgICAgICAgICAgICAgICAgICAgICAgICAgICAgICAgICAgICAgICAgICAgICAgICAgICAgICAgCiAgICAgICAgICAgICAgICAgICAgICAgICAgICAgICAgICAgICAgICAgICAgICAgICAgICAgICAgICAgICAgICAgICAgICAgICAgICAgICAgICAgICAgICAgICAgICAgICAgICAKICAgICAgICAgICAgICAgICAgICAgICAgICAgICAgICAgICAgICAgICAgICAgICAgICAgICAgICAgICAgICAgICAgICAgICAgICAgICAgICAgICAgICAgICAgICAgICAgICAgIAogICAgICAgICAgICAgICAgICAgICAgICAgICAgICAgICAgICAgICAgICAgICAgICAgICAgICAgICAgICAgICAgICAgICAgICAgICAgICAgICAgICAgICAgICAgICAgICAgICAgCiAgICAgICAgICAgICAgICAgICAgICAgICAgICAgICAgICAgICAgICAgICAgICAgICAgICAgICAgICAgICAgICAgICAgICAgICAgICAgICAgICAgICAgICAgICAgICAgICAgICAKICAgICAgICAgICAgICAgICAgICAgICAgICAgICAgICAgICAgICAgICAgICAgICAgICAgICAgICAgICAgICAgICAgICAgICAgICAgICAgICAgICAgICAgICAgICAgICAgICAgIAogICAgICAgICAgICAgICAgICAgICAgICAgICAgICAgICAgICAgICAgICAgICAgICAgICAgICAgICAgICAgICAgICAgICAgICAgICAgICAgICAgICAgICAgICAgICAgICAgICAgCiAgICAgICAgICAgICAgICAgICAgICAgICAgICAgICAgICAgICAgICAgICAgICAgICAgICAgICAgICAgICAgICAgICAgICAgICAgICAgICAgICAgICAgICAgICAgICAgICAgICAKICAgICAgICAgICAgICAgICAgICAgICAgICAgICAgICAgICAgICAgICAgICAgICAgICAgICAgICAgICAgICAgICAgICAgICAgICAgICAgICAgICAgICAgICAgICAgICAgICAgIAogICAgICAgICAgICAgICAgICAgICAgICAgICAgICAgICAgICAgICAgICAgICAgICAgICAgICAgICAgICAgICAgICAgICAgICAgICAgICAgICAgICAgICAgICAgICAgICAgICAgCiAgICAgICAgICAgICAgICAgICAgICAgICAgICAgICAgICAgICAgICAgICAgICAgICAgICAgICAgICAgICAgICAgICAgICAgICAgICAgICAgICAgICAgICAgICAgICAgICAgICAKICAgICAgICAgICAgICAgICAgICAgICAgICAgICAgICAgICAgICAgICAgICAgICAgICAgICAgICAgICAgICAgICAgICAgICAgICAgICAgICAgICAgICAgICAgICAgICAgICAgIAogICAgICAgICAgICAgICAgICAgICAgICAgICAgICAgICAgICAgICAgICAgICAgICAgICAgICAgICAgICAgICAgICAgICAgICAgICAgICAgICAgICAgICAgICAgICAgICAgICAgCiAgICAgICAgICAgICAgICAgICAgICAgICAgICAgICAgICAgICAgICAgICAgICAgICAgICAgICAgICAgICAgICAgICAgICAgICAgICAgICAgICAgICAgICAgICAgICAgICAgICAKICAgICAgICAgICAgICAgICAgICAgICAgICAgICAgICAgICAgICAgICAgICAgICAgICAgICAgICAgICAgICAgICAgICAgICAgICAgICAgICAgICAgICAgICAgICAgICAgICAgIAogICAgICAgICAgICAgICAgICAgICAgICAgICAgICAgICAgICAgICAgICAgICAgICAgICAgICAgICAgICAgICAgICAgICAgICAgICAgICAgICAgICAgICAgICAgICAgICAgICAgCiAgICAgICAgICAgICAgICAgICAgICAgICAgICAgICAgICAgICAgICAgICAgICAgICAgICAgICAgICAgICAgICAgICAgICAgICAgICAgICAgICAgICAgICAgICAgICAgICAgICAKICAgICAgICAgICAgICAgICAgICAgICAgICAgICAgICAgICAgICAgICAgICAgICAgICAgICAgICAgICAgICAgICAgICAgICAgICAgICAgICAgICAgICAgICAgICAgICAgICAgIAogICAgICAgICAgICAgICAgICAgICAgICAgICAgICAgICAgICAgICAgICAgICAgICAgICAgICAgICAgICAgICAgICAgICAgICAgICAgICAgICAgICAgICAgICAgICAgICAgICAgCiAgICAgICAgICAgICAgICAgICAgICAgICAgICAgICAgICAgICAgICAgICAgICAgICAgICAgICAgICAgICAgICAgICAgICAgICAgICAgICAgICAgICAgICAgICAgICAgICAgICAKICAgICAgICAgICAgICAgICAgICAgICAgICAgICAgICAgICAgICAgICAgICAgICAgICAgICAgICAgICAgICAgICAgICAgICAgICAgICAgICAgICAgICAgICAgICAgICAgICAgIAogICAgICAgICAgICAgICAgICAgICAgICAgICAgICAgICAgICAgICAgICAgICAgICAgICAgICAgICAgICAgICAgICAgICAgICAgICAgICAgICAgICAgICAgICAgICAgICAgICAgCiAgICAgICAgICAgICAgICAgICAgICAgICAgICAgICAgICAgICAgICAgICAgICAgICAgICAgICAgICAgICAgICAgICAgICAgICAgICAgICAgICAgICAgICAgICAgICAgICAgICAKICAgICAgICAgICAgICAgICAgICAgICAgICAgICAgICAgICAgICAgICAgICAgICAgICAgICAgICAgICAgICAgICAgICAgICAgICAgICAgICAgICAgICAgICAgICAgICAgICAgIAogICAgICAgICAgICAgICAgICAgICAgICAgICAgICAgICAgICAgICAgICAgICAgICAgICAgICAgICAgICAgICAgICAgICAgICAgICAgICAgICAgICAgICAgICAgICAgICAgICAgCiAgICAgICAgICAgICAgICAgICAgICAgICAgICAgICAgICAgICAgICAgICAgICAgICAgICAgICAgICAgICAgICAgICAgICAgICAgICAgICAgICAgICAgICAgICAgICAgICAgICAKICAgICAgICAgICAgICAgICAgICAgICAgICAgICAgICAgICAgICAgICAgICAgICAgICAgICAgICAgICAgICAgICAgICAgICAgICAgICAgICAgICAgICAgICAgICAgICAgICAgIAogICAgICAgICAgICAgICAgICAgICAgICAgICAgICAgICAgICAgICAgICAgICAgICAgICAgICAgICAgICAgICAgICAgICAgICAgICAgICAgICAgICAgICAgICAgICAgICAgICAgCiAgICAgICAgICAgICAgICAgICAgICAgICAgICAgICAgICAgICAgICAgICAgICAgICAgICAgICAgICAgICAgICAgICAgICAgICAgICAgICAgICAgICAgICAgICAgICAgICAgICAKICAgICAgICAgICAgICAgICAgICAgICAgICAgICAgICAgICAgICAgICAgICAgICAgICAgICAgICAgICAgICAgICAgICAgICAgICAgICAgICAgICAgICAgICAgICAgICAgICAgIAogICAgICAgICAgICAgICAgICAgICAgICAgICAgICAgICAgICAgICAgICAgICAgICAgICAgICAgICAgICAgICAgICAgICAgICAgICAgICAgICAgICAgICAgICAgICAgICAgICAgCiAgICAgICAgICAgICAgICAgICAgICAgICAgICAgICAgICAgICAgICAgICAgICAgICAgICAgICAgICAgICAgICAgICAgICAgICAgICAgICAgICAgICAgICAgICAgICAgICAgICAKICAgICAgICAgICAgICAgICAgICAgICAgICAgICAgICAgICAgICAgICAgICAgICAgICAgICAgICAgICAgICAgICAgICAgICAgICAgICAgICAgICAgICAgICAgICAgICAgICAgIAogICAgICAgICAgICAgICAgICAgICAgICAgICAgICAgICAgICAgICAgICAgICAgICAgICAgICAgICAgICAgICAgICAgICAgICAgICAgICAgICAgICAgICAgICAgICAgICAgICAgCiAgICAgICAgICAgICAgICAgICAgICAgICAgICAgICAgICAgICAgICAgICAgICAgICAgICAgICAgICAgICAgICAgICAgICAgICAgICAgICAgICAgICAgICAgICAgICAgICAgICAKICAgICAgICAgICAgICAgICAgICAgICAgICAgICAgICAgICAgICAgICAgICAgICAgICAgICAgICAgICAgICAgICAgICAgICAgICAgICAgICAgICAgICAgICAgICAgICAgICAgIAogICAgICAgICAgICAgICAgICAgICAgICAgICAgICAgICAgICAgICAgICAgICAgICAgICAgICAgICAgICAgICAgICAgICAgICAgICAgICAgICAgICAgICAgICAgICAgICAgICAgCiAgICAgICAgICAgICAgICAgICAgICAgICAgICAgICAgICAgICAgICAgICAgICAgICAgICAgICAgICAgICAgICAgICA8P3hwYWNrZXQgZW5kPSd3Jz8+/9sAQwADAgIDAgIDAwMDBAMDBAUIBQUEBAUKBwcGCAwKDAwLCgsLDQ4SEA0OEQ4LCxAWEBETFBUVFQwPFxgWFBgSFBUU/9sAQwEDBAQFBAUJBQUJFA0LDRQUFBQUFBQUFBQUFBQUFBQUFBQUFBQUFBQUFBQUFBQUFBQUFBQUFBQUFBQUFBQUFBQU/8AAEQgBwAPzAwEiAAIRAQMRAf/EAB8AAAEFAQEBAQEBAAAAAAAAAAABAgMEBQYHCAkKC//EALUQAAIBAwMCBAMFBQQEAAABfQECAwAEEQUSITFBBhNRYQcicRQygZGhCCNCscEVUtHwJDNicoIJChYXGBkaJSYnKCkqNDU2Nzg5OkNERUZHSElKU1RVVldYWVpjZGVmZ2hpanN0dXZ3eHl6g4SFhoeIiYqSk5SVlpeYmZqio6Slpqeoqaqys7S1tre4ubrCw8TFxsfIycrS09TV1tfY2drh4uPk5ebn6Onq8fLz9PX29/j5+v/EAB8BAAMBAQEBAQEBAQEAAAAAAAABAgMEBQYHCAkKC//EALURAAIBAgQEAwQHBQQEAAECdwABAgMRBAUhMQYSQVEHYXETIjKBCBRCkaGxwQkjM1LwFWJy0QoWJDThJfEXGBkaJicoKSo1Njc4OTpDREVGR0hJSlNUVVZXWFlaY2RlZmdoaWpzdHV2d3h5eoKDhIWGh4iJipKTlJWWl5iZmqKjpKWmp6ipqrKztLW2t7i5usLDxMXGx8jJytLT1NXW19jZ2uLj5OXm5+jp6vLz9PX29/j5+v/aAAwDAQACEQMRAD8A+ut3vS7ht61AZKTfmvNO0m8ykZ6g3Y705X9aYEm6k3fNUXmdaXdmhgWFfihpKr7vejd71IE/mUhaod3vRu96AJd1HmetRbveloFcf5lJ5xz7VG1N3YoC5ZWTNLuqurGnFqBE26ms1Rbvejd70ATK1IzVFu96crUASBqKjL4pN/4UAPd9tRbyTxSMxJ9aRSfpQBL2pT0ptFADj0pGprNSbqAEpVpKctADv4aGpuaGNADaQ/SjsabuoAGqNqeW4qPd81AkFOWjbRxQCHqeKduqNWp1ACljSU5aRqBgGxSMaKbTEhT1FOHHamZ5pxanYEO3U5WFQk96QyilYEWGxTQ1QNNxSJJzSBFrdmlVuc5qNTkU9aBE6vmpVYVVU4pyye9AFnd6UFht6VX833oaYFcUAgds1HnNJupD7UDQ6jd70zNFAIkWne9RKaUt70AiXzBSGX3qEtTWagXQsib3pfO96omT3oEhoEXfMBpRJVNZTUqyZpoCdmpob8abnilziqAerUu6ot1G6gCXdSFuKj3U1nxQA/dSqxNMRh6VIzAdBigBrE0HpTGkpN3FAEh6UhWo95qRZABzzQAnSl/hpGYNSbqAJAaXdURb3ppkx3oAlZqj8zFRtL70m4GkwJfMo3cVHRuqQHbqUNUe4CmeZQBZDe9OVqqiSn+ZQBYDc0/zNtVfOpjzZPWmBc84etMkkz0NVRIfWn+ZTsA7cStMPel3U0miwCtR/DSdTTiMCgBQaC1N/hpaGAUUHpTWNSA+kLUzd70bqAHE03NFNY80AO3e9IW+am7qTd7UAS7s0lM3UbqAJFanFqhDc0/dQNEin2pd1RbvenK1A0P3Um6m7qUNQwQU5aRqAakAamrTjzSUmMX8KXd7U09KM1Ihc0qtTN1LQMl3UVHmigBetGcVHu96N3HWtih7NTN3vTd3FMLUwJN3vTlfFVd5z1qRWoYE++gNUO6lDVIFjdSMaYrU5qAFVqXNMpymgVhWqM5p7GkoEIuaXJpKD0oAXdS7qbRQA7dR5mKj3e9NLUASM2aN1RbqctAD91KrUyl/hoAfupQ1MzTWb5uKAJetFIpyKWgQLT6ZnFLuoGDUlGc0E8UANao2anMajoAGbio8805qRqBDlfilzmozntRyFoAlWnA1Fu5p6npTBEymn8VCtOaiwxZMdqh3Yp7VC1AkOzTlpi09adwQNUe3PapetHl0rgiMR5pvlhWznHtU2wiom60AiVGIFPVjUCk1JTsLoSbqDJio93vSde9KwIGuPm4pfNzTCg7Um2kNEokqQMCKr4xRuIoBFjIpC4FQCSnbgaARLupN3tUe73oLe9AIkLcVEze9G+koELtzSqtKgzUqrQIZ5dKqlTUuMUwtxTQCl6N9Rk8UVQEoajIpi07tQAFqQ/NzTTSb9vFAD+lGaZ5lG+gBWpKTdRnigBTS5pG6UhzQA8NTjUYpc0AK1RvTjUbUAMYZpI8jjNKQd3FSrAFXJ60mAv8ADQ1N3UFqkBjZNNFO3UlMBKN1GaazCiwCs1MDEmgtSbvpQgJVbpT91QhqN3vVAT7qVTmoVanK1AE38NKcmoyx7Uqt68UAL0o3e9NLU1mpMBxb3pGak3UjNxUgAal3UwNRupgP3U1ssaazUqviiwBzilo3BqazYpAGaN3vTA+aXdxQNDt+PelElQmk3YNA0WN9Ab3qMEU4fdoBEu7pTx92oacGIoYErMB1pNw7GoWb1o3ccVIEu73o3e9RbqcpyKTGP3e9LTM0ZqRIfS/w0zdSqc0DH0U3NFArjKKRqTdWpYpprKaeGprUwGbacKKD0ouAHpR3op9ACqfWl3e9NoosA7dz1p2aYMU7I20gF3UbqZupVagVh26kZqazYqMscdaAsSGTFHmZqNmjjjaSaRIoVGWeRgqgepbIwB/WvJL/APa1+FGn3U9vJ4m86WJzGxt7WV13DggFVxWkYSlsibpHrpak3dsV4Jqn7b/wwsJPLil1TUOM7reyYD6Zcrz/AI1h6l+3t4Mtdgs/DuuXTN3m8qNfzDn+VUqM3pYnmj3Ppgdac33sV8eXn/BQSWRZFsvAqrJn5Wn1HI/ECMVzepft1+PLjebHQtCshjA3K9ww98F1rT6vUXQn2keh9z7Xzhcn8M04fdPr9K/ODVv2y/ivfJsOvJYRsw/48bKKM+4yASPzr6F/Y/8Ajj4k+JDanouvytqT2cf2iPUpPv8AX/VtwAenBPPNKVCUVzMpSu7H021M/ipc9Pz96MiuYokSntUStT1agBduaTbT6RmxQMb90U3Oaaze9A+6aACmtSv1ptADWoWlP0pCwFADmwtR7qQvu700t81Ah/anbsGmZpe1METK1SZzVfdg0/f70XAkbpTWUelJu96C1IEI1JSbqUNQCHKamBGOarFqPMNAInkYBcCq5pwbPWkamgQ2nKT602iqF0JGpKbk0bqTAduxSM1IaZI2BUgHm496DJuqDdS7qYEhanLJUBagNRYET+ZRuzUG6l3UgJt/409WGPSqu6l3UAi4sgHeplkFZ6tU8b/LTDoXGaomao/MOetO6rTEBo3c0NikpgS7gKQvxUTUmTQA/f8AjSMd3NNpGoASnKeKZRk5oAmA3d6dtxUa9KeGoAlRNy07y6bE/GPepcZFAEbLSFaf2pG6UAQtxTHpWbnrTGagAVipzStNuqNmpOtJgI0x3YA4p6njnmmqmKcRipAZI3sfwqMMfep1xTzGrD3pgQc96Gp5jK980zii4EZzSVJux0pMbuc0IBFpy0KoHvTqoApVNJRu29qQEu6gtxULSD6ULIOmaYD91JnikOKKABjSbvekakqbAOyKN1NoJ4oQCZyKbk0m6kZqoB+7ApnmZ4qPdQKmwEo+6aGbHemhqRqBoC3vRu5phpyUWGiUNUimohTg2KQIlo3e9MD0jNQMcWpQ1R7val3e1KwkSdVp3QcVErU7d71LAe1LUe73pwPy1IIWn5xTKctAx26ikooJsNNJSfw0p6VqaBRmg9Ka2c0ALnilbpTVp/8ADQAmeacWpn8VKelNAO3UbqbmimwHbqN1NPSipAUtUbSYoY1Ex5oAlD7qN1RbqN1MRmeNfDZ8ZeDtY0Jbg2rahbSQLMAflJHGT6V8HP8AsU/EcX0lvDYWskELbI53u0RXUfxY4xX6DKxFL5jDjHHpW0Kkqa0M3FM/O34k/sq+L/hn4LuvEeszabJZ27xiSO1laWQbuB/BjGevNcX8Efhta/FT4iW3hm61L+zFmVysyxmUlkQngbhgnB71+ifxw0VfEHwa8YWmRvOnySLuXdyqlun4V+f37PetL4d+NnhS/YZX7YqkdvnBX+tdsKjqQbMWlB2PqvS/2GfBduzG88R6xeMxBzGscS4POOQT+tdHpv7GPwytPnlh1TUG6ES32B/46BXs7qYpCn93inZJ61xe1n1ZvyrsePyfsf8Awpmkz/Y1yjE4DLey/ip+Y16D4L+Hvh74c6V/ZnhzTY9PtM5bBLSSEHgux5Yj3reyd3XtinjpWUpSluw5UthVJ780u6mMcU0N71K0QyXdSiSoS3vSb6BlxZKZJMM81W8ygtuoAn3hqcp4qspp6yY70AStTTmkD5ozQANUTVIcmm7aBDMUBeafjFJmgELjFFJupCaAQ6lDUzdRuoBEm6jdTA1GRTBDt1G6m0tOwIXdSgimU1jzxRYETnFJu9qhEhFOD5oESUlIrUbqYC0UmeKXNJiEaoWJqVmqCRqQDaQmm7qTNPYB+6jdUbU1ie1K4ybdSbqiVvWnFqAJAaC1R7qM5osBJvOOKnjb5fSqyip1zQgJlanLJgdaiajdVCJt+73pVYdOlQbuKQP60AWTTSajV8ihm96AH5pKQH5aXPNADlXNG2nL2p/8NADVp38NMZsUbqAJV4b2qfzKp+Zg04zcUAWGkFRPLUDTU1pBQArv81JnimBg3enAigAb7tSRx/LzTMipVagBGj70w1OzDGKgalYBKXdSZpM8UWAcX4xULcVI1MZc0rAR5zS0EbaSgByk05qatO7UXATNNZuacMetNkx2oQDG5pm7FSN0xUe2qAcJD9aeJM+1Q4wafmgCfI203dUeaKAHM1Gcim0UgGtTWpaa1MYlOWkxTlXigBQM01uKeOKRlzSBEfepUQ4yRinWsIeYFugq1NtLEKBjtQxoq/w0p6UrDFM3VIIcelNY0hb3pu4+maAHbvelzTM57Yo3YoYIk/hp1RhqcrVAD1p/eo1al3UrAS5pQaiDU4N70hkmaKj3e9FArhmlzTWpoJya1LH7uad1ptOWgBzD2pD0oakagQppGpKKYwpqtS/jTSMUXAeTRTd1G6kA7GRUTLzT91NZqBXE2+1J0pc0lNCFpGJ2mig9KYFDxGBJ4V1tCM77KdSD0IMbcGvy88BsY/iD4eUHDjUIWyvXAev1F1zavhvV2c4VbSUnj/ZNfl38OY1k+IHh05yx1CAE46gyL/jXbh/gkjnqfEfqs0hk+c9TzTN1Nlyu0DgAcUihmHAJ28nBH9a4urN30HhsmpN22ou5/wAaRjUjJGamlqbQelAC7vamuxzxSnpSNQA3fgc0iye9DLuFR+S2aALIb8acrVCqMoxUi570AS/TilDUlFAC7uacW4qM8c0zzRQIfupC1N3g9KTd7UAhS1JmikoAKM0jU1aAH7qVWplApoEWO1MzSKTS1QIKMUUUCE2mlxtpd3FN3UALuwadUe75qfu+WgBS2KTdTCc0mam4Cs2ahenk01hmhARetKelOK8UztTYhW6UNSGjaaQCN1op5X2pGGKYDaetJUij2pgSRqCac/y0xW20u7d3pAP3cCjrUecUb8CmA5jio93vSeZnvSUASo3FO3VDu20obPegCXdTlf1qDd70bvegC35lOEvvVPzNtL51AFlpBnk0nmDFVWlzQH96AJmk5prS+9RM1RM3vQBOJPxpDJVUybe9AkzQBaDZ70qt71XV/epA3tQBY8zFOWXvmq+6gvx1oAs/aM0nmZqoJB604SUAWd9G6olajPFAEu6jdUdFTcBzc02ilxQAlOPSgCkanYBvrSt0ptG6gBW60lNLUbqYA3Wko3fSjd9KAFWlyKbRQApNJk0hNJmgB1FItKBQALUn8NJtoPFA0K1H8NJu3Uv8NA0PXC+lKWplFJghrN701qGpKkEFFI1JuoBDqKbmlWhghactNpy1IxaX+GkopMB1PqP+GlyakQ+iiigVgpVpKctamgtKDSUv8NAC9RTacelI1ACU3dT6aYj1oAFOaRqVaWgCJqVaRqVaAYEUmD6U4CpNvy0EkODRUm33pCKYEZ6UUppKAM7xMzf8Inrarjc1lMBnt+7NfmF4Bh8nx14fYuF8q/h+btnetfpp42kmh8C+JJbaIy3EenXDRoP4mETEDH1AH41+YPw/sr7XvGGj2NtC0t5JexqkKqcg+YCCcdAMGu7D/DJmM1eR+rl0FEjgncckFh9a+R/23fiV4l8NaxougaRqM2lae1s11NJbMY5Jm3bQpdSCANoIx6mvrQp5SKCBkLyuc89/1zXxr+3hYyJ4w8MX7HdFNZSQgZ5DLICf0YVlRt7Sw6j0PUf2PvH2r+OPh3eLrd5Nf32n3Xki4uCS7KQCA3uOa93Dbv5/nz/Wvlr9hXXLVtJ8R6PuVLzzo7pY2PBTBBIr6iX5QB6DH5DFZ1VyzaLj8JJnihqZuo3ViUOopm7mnUALjmpFU9aYtSFvlxQAu6k3fSmU5aAHbqN1MahaAHMdwqIxnrUzUfw0AV13U/ml2nOKfQIj7Up6U5ulMz2pjBqSijFOwhGpqtTmpg+8aAJd3NPBzUWfmp+fl4pgh9NajNHXrQIazleKN25c0/arfWk8vaKAQho3Uh6GhqBoN1IaSkJqbCHU1qN1Ju+lCEG6jAajrTWqgFYDtTaXPak6GkA5aV6OKGI+tMCPNOWTFMNMzQBPuzR5mKg3EUbiaAJjJRu3VF2pFJoAlOaTO2kpf4aAFzmlBpM4pC3FAD91MZueuKaG96azc0AOLe9M8zHems1ReZ81AFgSZ70/zCKgVhUu6gBTIaYzHbxS9aa1AEJ3Ghd1S7falC9sUAEZ9asbvlqLyz1pWNACSSlenNQeczdakNJtz04oAZ5hzU0bmoyhpyfKOaALCtT1aoFbNSqaTAl3UbqbSM2KQD91PVuKh30oamBKWpjtzTS3vQDupgBpnenNTc4oAcw9qZQzcUzOaAHUUUUALRupKKAFNKtNo3YoAVqcjUzOaUGgZPvFNZgaiLUUAhQ1P3VEaXNA0Sbvejd70xaWkwQpakopM4qQQjUlDGkPWgELTlptOU0MELRRu+lIWqAHbqN1MNJSuMlDU5WqOlGe1IRJuopnzUUDJ1FOpm6jNalDqN1NooFsSBqQ0zdil3UDHg0u6mKc0UAO4xTWbBpCaTr1oAOtNanUUCuCU/d701cUvWgQoIpGoam0AJtzmkYYp1FMBF27GDBSGBVg4yrA9RXNaH8N/CPhfV21TR/DmnaZfMSTc20CBgT1IIGR+FdL05HBpjMdxOeafM1sD1EYkMO9fN37a/w31Pxb4W0nXtIiuNQn0yVoprS2jDOI5OrjnJwVHFfSNAbb04/z/wDWFVCbhLmRMlzHyf8AsY/CTxF4bvL7xVrVpNp0UlsbSG3uYjG7liCX2nsB+oNfVpYMzH3NOlmMjAkkkdMmmL09BROXPJyBKwtFFFZlBTlptFAD6KbupN3zUAS0q1HuOaerUASNSdKQtShqAF+9TlYDikX2pGWmBI2wcjrULNk0bfal2inYQw9KaFwDnrT246UjdKAEam5p7U1qYIaxpjU9qYaBir1p+aYtLQIkU05hnpUStipN1AIfHH83zHildhzzUZk461H5me9AIeaYxo3Umc0AgopCaazdqAQbs0hNG3aKGpC6Dl6daG4qPNLmmIM0bvemtSUAO3e9OVqjooAezVFmlbmmigBc0q02loAVqFptKtAEtJmkakoAfSNQvSm0AIO9I1DUhoAbSeWGOaPxp8a8UAG0LS4pdtIfloAVaWkWnDrQAqJuqXy++KarbeKk30AMao6kbmo6AEYe1C0NQBQA40xhup2wt3pVXHegQijCmn03pS/w0DH7sU1pPahqNu6kBH5hoWQ1J5Yo8sUwE3c0/cR0oCDvS4FADdxNJStSrQA3rxSrCacMVKrUAR+Xto21K3OKTAxQBCwwabTn+9TaAA9KGoJpO1AC5xSbqGpKAHbhRnjiovwzTloGiTaW4p5XApqttpWagaG9zSk0lI1JghS1MyaVqSpBBRTWpM0AiQNQXxUZbio93zdaGCLAbNG6olan1AIdnilpnenLSsMkpy02nLSAfRTc0UAPWntTNpFG4g81qUK1C04YPahqABqSiigWwUcdzRTWzmgY7jtRTBml3UwHZpC1IzUzd3zTsKxJuo349qiaQBc96qPcGTgUrCLjXA6ClRs1nGY7qsQyGQZ6UgLtI1M3UbqAHfw01vbrS7vlqJ3Izt67cnJxj/PP5UeYeQNIOgwW7jPNM3Hb1zXzJdfF7xHH8VtTvtLhk1bRkc2f2UE7Sq87k7bup49a928H+PtH8bW4fTp2E4GXtZl8uVD1I2nrXPTrwqO2x6+KyvEYWKnJXTVzpT0o3YNIOVzkGjtXRvseQ01uPLUmaTNFAgyafTKcrUDFpQtKvNLQAD7tK1NzSFqYhVJp9RhqeD8tFhj1bAp2+omo/hoAezUzOQaVulG2mIM8Uzd71IyjFQsvpTBDt3vSMaTBo570AhGJptPpD9KAEH1peeo5qMttIyMgclRxkY5rwf4qfteaF8L/ABpJ4c/su61h7Ur9uuoHVEhbaG2gHljgjIHrRFOWyFdI96Eg78GpN3vXB/8AC6PAh0Cz1qTxVp1va3USypHNcIJUz2KfeBzmuA1/9tD4daQky2L32s3Eb7dtrbkKfcFyBitFTm9kTzJHvX3j1oaPb1NfI2uf8FA7CxupI7HwjPcQheJJ7lUIJ6cAHP516D+z3+03/wALl1e60fUNIGm30ULXMUlu7PHIi4znI4Iz071UqM4rmkgjJPQ903Cl3U3bt4PWisFqWhS1HakopghWpjGnU1jQLoJRTQxpwoEFFKtDA9hQA09Kbk5NLzSge1ACnpUeae3So260ALupabSrQAtKDR7Um3bQA7dRuptB6UASq3y0wtSBsUjUAKaSg9KXFAEeealRuKaY93NKsZFADmamU4jaKbQAtOWmU5aAJlXI6Uu2mq1SFuKAE3DbUZoZqTIoAX+GnY9qZup8eD1oExuafTmWPGTnd7VFnHegQrUlJupC1Ax26lWo85apFOKBi0ozQvzVKq0AN28dKZnFSNUTd6AF3e1IWprGmlqAJA3NSbqr7xR5lAFgy4FRNMe1Rs9JuoAk3560m73pm6lFAD6KZSg0AOopKWgBrUDrTtu6nKmO1A0A6UUvSkoGgoJoPSkagEBpm6kLcUzdU2BD2ambqTPFLSBAxO2o1y1SgZqRVCjpQCIdpHWnK2afwRz1pyqFU0rAHanUuKSpYxy1JTNtOWpAWiiigdiZqbtzQxoU1qMX7tNYnPWnFuKjJyKAF35NOY0w9KGOKAF3UZ4qLefrRuNMWxN/DTT1pqscUtMYhJoxlad/DTvamBVliZ+F601dOmXnIJq3tO6n7uRSYrFNdNfcNzdTU/2dbfK5B71OW4qJuakQ00UrU1qAG8+prlPiZrzaD4VuRb5fUbv/AEW0jA5Mj8A/hzXVbiM4IB689K4PS/8AiuvH8t+xZ9F0JtkC9VluD1bHtkYrOb0sduFj7zqvaJ53rHwr1PwFa6LHHqfl6dLfwvIIMi4Wdhhip7DjH4V6Z4q+E9nrjLe2E0mla+oBjv4ePMYDjeB1+pq38VGMmj6WpHL6lAM5zgk9a7Fk8kFByo4rmhRhFtHq4jMK9WMJp7dPI8y8KeP72z1X/hHPFqCz1dflhusYiusd89jXoCtuXIOQeRWf4w8H6d440k2d/F8yjMVwv3oWHQg1xXhPxVf+GNX/AOEW8UPunU4stRP3Lleys3qP8K0jJ03yvY5Z0aeLg61FWfVf5Ho1Apdg25U7l7H1pP4a6TxkOooooAcrYFO3U1aXbxQAjNSGjafWnLGcetMEItOU0hXFFFxj6TNNooAk/hpwNRKadmmIezZFMAwppM0uaYIfx6U1lDe1H8NIxoBB5YbIzjgmvJfjF+0p4T+C9w2n363mq615XmLY2KA4yeN7k4QcHnBNetrywII455rxX45fsvaH8ZtUtdWjv/7D1eMlZriODf56n+8AVyR6k+lVG1/eJd7aHgHiD9vPxdeSS/2T4f0bSoW/1TXEj3DqcnkHIVj04xjivmvxdrF/4v8AFF7r+rSrPqV6++aSOMJ8xwBwOmAK+8vCf7Evgnw9IJNaub7xDLuGI5G8iLj+8E+Y+vJ718+/tj+EtK8G/FLTrXRNLi0exk06LEMCBUZt7gsMdTjHJ5r0ac6d7RRg092cJ8M/gF41+JkcFxougSzWkrMDfyqI4OD/AHyQPwr3HQP2DfEl0qPq+uaXp64+dbcSTsPbooz+Ne2fsh6g2ofATw5v627zW5Gc8CRiB/49XszMG4ArCdaV2kXGC3Pmaz/YH8ILCjajrurXk3QPAI0Vfbbg/wCTXpvwj+APh34LtqL6RLdXVxeKsbz3W0lUBztAAHGa9MLluep6U1VbaSOK55VJy0bNFFLUafX15prU459KZWS2GL2poJz1oahaYD6ThqSkLEUAO2jHFNHWmsxoBOelAiaikXOOaWgaEpGp1NagBrdKYe9OagLmgQm0noKXaakUbadIRjpQBEKRqA1IxoAM0hbihqTGaAEDZpaMYpf4aAEpytSNSY5oAnUinnGOKg+7Q0hoAkYio8+1JuppNADmozg1EzEGgOe9AFndS+ZxVbzKPMNAE3mCk3Z6VAZMdqcsnHSgCXdSq3NRM/4Um/3oFuWvM3cU08VAr0pfd3oCxIxptM3e9OVqAFpytTN1G6gZMJCp46VKJuPSqytQW4oAnaX3pm7Peq5k96VZKYEzNUTGiST/AIDx1+lR+cm5kLxpIvUbx1PahagOUmhmx3pTHtH3tu3qzEYqjeaxpenoZrvVbO2jXktPcIo/UiizFdFzzKTzOa5G9+LvgOxjV7jxnoUS9MrfIx/75BNYl1+0h8LLTBbxhbTk9reKaTP4hMfrWns5taILo9N3blzS7sGvENY/bH+Guj24eKbVL8bwpNvZHC++XIzXT/Dv9oLwP8UNWOm6Dqc0l2E3iG6t3hZh7EjBP04pezmt0LmR6XRTN3vn6EH+VG6syh9OWm5pQ1AD1qZelQ+9L51AxzUzNK0gIqPdQCHluKjZqM5prUDQhORSNSUUAhQacvNMpV45pWBEp46UhY0zzM0m7JpWBEi81Ko4qJDUytxSAORSrSGlWpaGPWnfw01aWpsA6im5oosO5LjjpSDvS5oJwK0GI3So2PNO3cUhXNACckcUznvUq8UjLTAi71JTKctMBaKU9KD1FMQtOVc02noQOpoGP8vNHl1IrqRQzDtU3Bkfl+tIYxipCwqJpKRJHJhaj+9TpG3U2P8ArTEcP8XPF8vhPwzssU83VdQkW0tUAJ+Zjjd9BXTeDfDsfhLw3aachDSqoeeQHO+U8sx/H+VaMlna3E0Ms9rDPJCd0TyRhmQ+qkjj8KmZ9zZ71mo+9dnXKsnSVGKsch8SGEkfh+1C5abVYT+Aya7CT7xHbJ6/WuP8VbpvG3hKApuRJJrhlz/dUckfjXXM3zetTG122aVHy04JdhV69KxvGHg3TvGmlm0vlIZeYpk4aFuzA1sCnbsVTipKzOWnUlSkpwdmjyrRvFWq/D3UU0DxcXlhdvLs9WUFkcdg57H3r0eNlkVWidXjYZDKcg/j3p2s6PY+JNNl07Urb7XayDBQ449xXmNjeX/wh1uLS9TuHvPDF0220vCCxtD2VvY1ipSpuz2PVcKePi6lPSp1Xf0PUdp70bTT45EmjSSMq0bjcrKcgj1zS1077Hi/C+V79fIj5FOXPrTtozzT9oHSgEJtpVwPekamqaAQ9qRqTdSbvegBtL2oNJTQxB1p/FNoqhIdS0ynLQCFooooBCUhYr06U8U1sUCGbtzfhivjr/goDo5/tPwdqgyN0M1sef7pDf1r7E6V8y/t7aebj4c+Hr9Yi5ttTMbSZ+6HjPH5j9K1o6TRErtFj9hXWvt3wx1rT2YYtNRLIo6qJFXH/oJr6O8w9TwpGS3+H518i/sAamsj+MtOY7Z2W2nUD0BdD+WQa+vWX5goyoPcKOAcY/T+VKr8bHHY81+Nnx20f4LaZAbiB9R1q6BNtp8MoB6fekznav4djXzTB+3F41ku0c6fo/2cPk22yQFx6B8/rXGftIXmraz8atdS9gmhla5W1tUmXgRAALgnqCW3fnXc/Hv4T+Cfhf8ADDSoFaGPxpL9nV3juHZplIYyP5eSNoIwDgDrzXbTp07eZi27n0j8GfjdpXxi0WSS3AsdYtQDdae7ZKZ/iU/xL/hXobErwetfnd+zPrF5pvxs8NJaMym5ka3lVeMxsjbs46gZzj2Ffoe7fvCM/kMY9q5K0I05GsZXQppVpKKxKHYo6df1pFNDDNAxy4PYUNTVU460u0+9ACj60tC0tABTWpaRqAEpVxSUUAKWo3cUxqRm20CBj+FMDZprSHtQrH6UAPpM0LSNQAFqA1NYUzbISgRlUbhu3DPFAFg0xWoZhng5FJQBJuprNzSbqYzc0AO3UFqZupN1ADic0h6Uqt7UjNQAZoBqPdmjdjvQBI1FR7qkoAKKD0oPSgQZpVNGM0qjFAxzUlFMZsNQA/NLupmaM0CH7j601mPrRu9qTd7UDFVd3el+6aQUjUAO4aaJSeCcY79Qf6V+bHxw1LXv+FreIpNXnvLe4N4/lxvM6jytx2CPnpj0r9JOc5zWVrHhbRfEE8c+p6PZajPGMJNdQJIy+wLA1tSqKnq0TJXR+ZS3mr3ihGvNTvN3RDNI4YfTJzWPq+l3en3UYvrKW08xCyLcwld49twFfq1aWVnp8SQ2lja20S/dSKFVA/IV8i/t6ws3iTwdJtwXs5kz9HGP5n867I1lUfLYz5T568E/D7XvHM08Hh3RbnVHtwrObeLcEz0BJIAr0zTP2T/iVeKmPDws1zkfaLqIH8fnJr0r9g4RraeN2U/vSbVTj0w5/n/KvrEsWbqTz3NTOtKD5UCjzI+HI/2OfiFfqwnXS7J14R5bzJP/AHyprrvgV+y74y8GfE6w1nX2tLLT9LkLh0lMrXOVI+UDBxnH5V9bhm9T6UmSMY4x0rCWInJWGoWJee+c98n2/wA9aX+Gol6U9elc3qajy1ANNpQaAHeZgdaZ5lDfMOAS1RfMO1MCZZKcGzVdYpCxParAhbaMZ/CkMM0jdKR8qcYxQqu44Ut+Bwfx7UBcCtJQzHt93t/+vvQvzZz/AN9YJxQPoFFZUvjHw/F4kg0B9ZsY9bmRpI9OFwrSuo6nGc8YP16dq1mU5I/iHX/OBim9NxISlWoL28t9PtZJrq4htII1y888gREHHJJIGB/WuX8C/Frwp8Rr7UrXQNXj1CWwk2zqqFQBkjehP3146jIoUXJXtoCfQ7DJzUisaTpkEAHPT/P+eacinkAEnrx1/X+nNRuNDxTlpoO5VbGMjPQj+dPTpUsBVp1NalWkMWiiigCRaRqKSqKCg9KKQ0AIxpN3vTttNZaaAa33qdnBppWiqAczUBvU02igCQH5aeq5qFTThJtpMCUfLxS76h8ymtJUgTM9Qs3vTfN96azbulArBupytUGD6mnx96BE+73pd3f/AD3plOXngng8fpQC3Rx7Y1X4rSZLA6Zpm0e7SH/7Guyb9K4rwkn2jx34xut5YCSCFeemEBx+tdmv3R9Kzh3OvEv3lDshaXd60lFa6dTkHA1V1rRbHxJpk+najCs9tMuCrNgg9mHuM1YFSq2PrUOKasyoycZKa0aOE+GWheKPDceqaVrUAfSbSXbpt6WG6aMt0x6Cu1k+8f5VIzDr3qMsMfSiMeXQutWlXm6klqxtLuI703eBTWYVRih7Se9AkFRMwoVuaARLSE0bqaxoBDw1FMzzTt1NALRTc0ZqgQ7NKDzUdOU4oBEv8NDU1WzS0AhrUmMinGkzgUAhmPWvE/2xdNtr74F6o877Ta3NvNH823L79uPf5WY49q9sZq86+PPwtPxi+Gt54eiultL0TJdWsso/dCVM4D+oILfpWlN2kmybXR8nfsR+Il0X4uRWoyw1a0kgbd2K4k/9lNfd7ybWwecAL+QxXzX+zn+y3rHwv8XnxD4kvLOSW2idLSK1YyDLDG9iwHIU/rX0czc8j8/5/j1/GqrtSndDijj/AIqeMvDnw58NzeJtetI7sW5VLeHy1aWaXkIkZI4PqewAr8+viZ8SdV+Kfiq717VNgeVfLhhUkpBCM4RT3zzn1JNfZf7W3gzUPGXwodtNt3vLnTruO6MMSF2KYIYgD618DNb3VvI0LRyRyKMFJFIcADuOxrrw3La7MJbn1B+yz4R0DwTbt478X6np+kzSxldKhvLyNGRMEPLt+9kg7Rx6+teoal+2f8NrGWZIJtU1WVD962tCEb1ILlc855r428J/C3xR4wmEekaFeXzHrMsJ2Docbj8o7dSO1en2H7FXxF1S3jmmi03Tmb5vKur0Bj/3wrY/OqqQpSd2xw00Psf4c/EzQPijoraloN00yRsFmgkXbJE2AQCM+4rq2GOOteS/s2/BWb4N+Hr4ajcxXOrX8qvKIWZkjRRwoJAzzn9K9Z7DHTH/AOv9c15srKVkbIWlWm0bsUhokXFLUW6lVqBElFNzmigQ4jNNK0oNBagBNvFN5p+6mNQAjU2SnN0pG60ARBKcq06k2n1oAWkailxkUAMFIcAEscKOaXpRx0IB+tAEcMyXEYdG3KfUVLwBTMBQAoCqOy8CjdQAjNTVOVNK3WkFACnpQelLS4zQA3HpRtJp1ANADPLo8upRSigCHyu9L0FSmmNQAlFFB6UALRupM0m6gB2aRqTdRuoAWg9KTdR2oFsKelFNY0hfFAXH7sUm6mb6N1AXHM1JxTc5ooFcdu6Y6V8kft3sP7U8Fj+JYLgn6bkr63U818d/t1S7/FXhONg4zYy9On+sHT3row/8REvRFz9g2QR6h4yjySGjtn+uC1fXS/d/xr5J/YOt2hk8X3DqCmy3jLAdyW/+tX1tzuC557Y5NOuvfYoOyHrjHNDYzxVbUtSstDtDc6nfWumQ5x5t7KsaZ9MkgfhWfofi/QvFDypo2s2OrPDzItnOspT3IU5x78isOWXYvmRsUqmm84Gefpgj8COopy1JQuaXdSUbS3A/lTA86/aE+IOqfDX4UavrWiIG1UbIYJGUMsJY/fZe4xmuJ/ZR+MHi34tW+vnxIYbhLVo/IuIYBEnIwVyBzgYJ9zXvF5p9pqVpJaXttDeWsw2SQXEQdGHuCMEUaPoWm+HbEWWlafb6bZqSwt7WJY0yep2qAKpP3bMCzGWxyc8dcV81fthfEzxj4Kk8P2Hhq/vNGtbiOSW4vLVVG8jgJvKnaQBn8a+l2qhq2h6b4gtRb6tp9rqVurblju4VlUH1AYGlF2eoHD/AHxNrXi74R6BqniCRpdSmRg8zrteRQxCswwOSBXlv7Y3xU8UeDLHTtG0KWXTbS/hdrnUIVAkYZx5aOfutwDkc4Jr6RCLHGkSKqRRqFRFGAoHAAFUtW0HTPEdr9k1bTbfVLdWDrDcxLIoYdwGB5oTSdwtc8T/Y31jxPq3w3ux4hkubm3hucWNzdFmaWNuTtduWUHOCfp2r2zxHaX2peG9Ut9JkSPVJbV0tmk6K7LhSfxq5Gq28UcMKCKCJQkcajCooGAAO1KPpxRKWt0CR+eHw0+Cvj28+NGlRf2PfQX2n6ik99fTFkRNh+djKeGz6fSv0bnZAxKBSufvKcg80wT71JbljwSaRpC3Uk/jRUnzjR85ftgfCrxX8QLDR7vw9by6nbWoeKfT4T8+XIw4U8N0xz6VR/ZP/AGfNX8AXt54r8QFrDULyE20OmE/PFGSSWk7buMADoPrX06kh4+YjHTmneYWGCdw9/aqVRqHIJLW5XWYNIOgBxj5fUH+Q/lXyX+2hqnjXTfFWjS6fqWo2fhoQiS3awkaFRcZO7c64+bAXG44/OvrzI3fdGTznFTKQI3QpHIj/AHo5EDKfqDUQkoO7KR5F+zD4t8SeNPhfDfeJlaW5SVkt76QYe7jGMOwwOc7l467c166uOcHPPpSfKiqqqqovRVXAH0FJurOT5ndAhWoU0lFSMkyPSio80UATfhRSHpRVFBjmnFaFoLUAJSGhjSNTASmtTqKdwGUhNLTWouAu6ms1B6UjUrgG6kJopVpAJTf4qeelLQK4KtGMUtJQIctBA5zn656ULSSNsUt6DJJ9Bz/Q0bIcfeaRyHw8xNfeKblR8s2qSBTjHC4FdmvpXJfDCMnwsbk/fubqeY595D/hXV5NRDSPqb4h3qsVqVabRuxVnOOzTlcVEzUooEPZs9KibvTqa1AIZTHqSmtGaARFTlakKle1KvuKAQ4MSetSr92ol4p+aAQHvSnpRRTQIKctNpaoEOopFpaAQUZpCaN1AIVqjZutOLcVGzUAhrOaj3E9qVmAU54HtXGXnxGgfxVqXhbSoWvtetbN7kFvlgMg6IT68/qKzlJR0ZtRozrO0F6+R2W7C46VEy784rA8D+LE8YaHHdeUbe9iPk3lmxO6CQHBHuM85966VVzk9DnBxVKz1InTlTbjJWI1XjGap3GjWU9z9oksbeeYjBkkiVm/MitNYx3pcbeBV8zjsZ2RB821R0RRgL2FJ5ZZstz9anY8c1Eze9T8T1CyH7jQ1NB+Whmp2sCFPSkIpAc0/FA0M281Io4oA9qGoBCNRmkaigXQXNJQelIzYGKAFzRTFp38NAA1Rltq5NS9eKelvHIpD5H0oEQr8wzinBal8lVA2k496RsCgBCoA6VGxwaUsfWmN1oAGpjUpNIaAEPSiiigBCKUCiigBcUq0lGaABqSiigBVp7VHT6ACmvSk0h5oAQ9KG6UjU1SaAHNUeafRtoAaOtOoxiigAoprNik3UCY5qiYnNPbpUe75qBBk+lG71pW6UfhQOwBqfUZjfPAzUiqcdKAsKF3H+ua+Pv26NasX8UeErAOy31taTSy7lIXy2dVUg9zlW4r7Bx8pyOTXg37UvwJ1v4uW+jan4enjfUtMV4jZSHaZUbncrf3gR0OOvWt6MlGabJktDiv2FdSj3eLtPUKGzbTqN3BGWXH54P41Q/aX+LHjL4V+NbvRPDfixmg1CP7dskCSzWbOT+6DYO1Rt4HvXc/sk/A/wAS/CyTWNZ8RRQ2V9qVvHDDp6yh3iw+4lyvHJI456V8ifGGPVIfiN4li16R5NY+3zNOzDG4lvl/4CF2gegArrilUqNoyleKK0F94t+JGobZZtR8S6pGjSsCxmbaoJcqpJAxmn+EPF2peEtd0zX7EzWGoWriQBwytx1Vh1II3cH2r6T/AGDtIRIfFmoeWFlVbe1XjjDbyw+nI4rjf2yrOx0n4uQPbW62zXGnQzy+WAqlgxUnA7kKtaxknL2djPWx9neD/E1t4t8NadrNrxbXsCzKuc7cjkH3zmtrcdoI/lXiX7IN+t98FtPg80P9luZoiQMlQX3Y/wDHj+VeOfFL9pr4gaT8Q9ZsdI1CHSdOtZ/s8Nn9nRyFXoxZ1JJIwfSuH2TlJo6FL3T7S2uygjI9Ogz7V45+1T421/wL8M7e/wDD95cadO9/HFLdQAb1jIPHIOOR196+S9Q+O3xI17X9PuR4o1Ce/jOLe1tcRxsc9DGoAbPTJ9a+vPjJpt94u/Zz1L+0bIwaodPivprSQDKSKQ79OB90/nTdJ05JMXNzaHDfsn/HTXPHOran4d8S302p3yp9rtrmUruCDAkjO0DplSPqa+m2m7ZyRxwK/O39mbxJ/Yvxq8PlZSiXhe1b2LjIH6Gv0EFwWOScmprw5JIqntYuGTimeYe1Q+Zu70qviucskzmjPakVsil60DDdRz70q06gEM5FKrUrUwfepWGiXdzTw1R0m4g9aLAiyPvZqTzPxquslPL+nFJoEPZt3NLUYbNO/hqbAh60tNpVpDFooooAkak3e9K1NIzVFDlajdTRxS0AL2oalPShqAG0Up6U1+tADaa1OprUANNHalPShulADWHPpQPu05qVVBoFcac0c4qbaAtMbrQIbRQelB6UAOWqusTLb6TeyNn5IXb/AMcarNY3jKUw+FdWfOMW0gH5UpbM0o61IrzK/wAOxt8FaPxgtbhj+JJ/rXSN1rG8HxeT4T0dO4tY/wD0EVrsamPwodT45MWmvSrSNVmIh6UtI3SmsaAQ/dRu9qaD8tDUAh1KtMU1JuHtQCF2g9aNidxSbvpS78UAhrRr2FNAp7NkVHuoBC0Um6nK3tTQIVacoHpSK1LuqgF2/hSHijfTWagBHpD0oamvQCB2xUTMaGJ55pNpZgBt69CxGfX8qNhLoZfiLXIvDmi3ep3DbUt4yy88s3ZR7k15L8NfC13o/wAUItU1K5eTVNZ0+W7nRs/JlvlUfQAV1VrPF8WPFs8WyVfD+g3ADxOpQXlyOnXqqjn6mtTxJi3+KXg+7UZE0VxbHnGRjIz9M/pXFUj7R8zPoMJKNGM6S151qUvFml3nhXXZfFujwm4WTA1TT1GfNT/noo/vLnJ9a67RNatPEGnxXthKtxA6hhtbBH1HatZdscgRvlHT17VxN38L57HxHaan4Z1dvD1k0/m6hYeWGinXuEHRSe9a2cXdbHDFxxEOWo7Sjs/LszsuVyDQzZp0/wDrGIG0Z4UHOKrs3PFdCPO6tEjNxUfWk30m70FMEO6UjUm4+lFFwQ5akpi/dNOpAhytS9aZTlNAIG6UzNSFuKhY80CFZqTIpMZo2ntzQIcKcelNVTS/w0ALT0Y+tMzRvxQBLI1QM3vSs+ajzmgBxqMk06mtQAjUUUUAB6UHpS4zRQAlFFFABRS4ooASnLTafQA1qM0p+lNagAoopfwoARulJt9KcaaetABjihqdjNIRQA2iiigBrU09KXdSMaBMbSNS0oXNAkJUkf8AWkK05Bigof06cUn8JpabQASVGud3BxzTmpM4pATRuU53bcZIZumcEf1r4/8A2rfgD4m8RePrnxV4f0g6lp95DCk6WTeZMsyjBbb1wRtHfp2r65Lcg96PPdTwSD9aunKVOTaE0pI8g/Za+GOpfDD4eTx6zEINR1O5Fy9vu3NEgUKFb0PXjJ6iuZ/aZ/Zx1v4r6xput+H57V7mG2FrLa3TNH0OQwfBHfpjtX0J5hck/wAR6n1pwPfvVKpLm5kHJbRo82/Z6+Gd38Kfh3BpGpPG2ptO9xOYTlQzYAAOBnAA/Oun8Q/DTwj4ovFvdb8N6ZqV0q7RNcRgE+xI5OM966RelHrSlJybYcq6GRonhHw94VjC6LoWn6ZgYDWtuqse/LdT+dR+Ord9Q8D+IoVRpZJtOuUVOu5jG3+fettvmOT1pBlW3KSD6j/PufzqbvR3DlPzY+Bmk6nffFTw5b6faXFxeW19G8q+WwKKr4Zmz93HNfo8zcZHPv6/4VBbaFpdjqVxqFrp9rb6jcDE1zFCqvKP9pgMt+NXdvrzW1Wp7SwoR5SNWPFSjJpNvtTlrAsevC08GmUv8NAiRWo3UzNG6gaJPrTWU7uOlNEnap4/u8igaGjPeintzTWxQCCl5xQv1p+3PvSYIFqSmBak2mpYIWlpBRUjFzRSUUAT/wANDUlFUUJRkUjUlAyT+GhqjzS7uKAsOprUxnpN1Ah+aa1JniigAbpSGkpVpgKFNL0opCTRYVhSxximDOeacKcaQhrdKG6UHvQ3SgAzXP8Aj6RV8G6xvYqv2Z+nXpW+1c18RWK+CdXAON0JUfU0pbG1BfvY+ptaKoi0myQfdWFQvGOMVdeqtgrR2NsjdVjUfoKst0pR2SJqfE/UWkozRniqMkDdKa1G6k696AQtFNP1pM0wRIKC+KjzSN+dOwIk3fhSFvemZ9qTd7UrAiQN70Uzd7UqtSBD6KZuozTQEn8NLUe6nK3FUA49KRqQmigYbqRqRqSgSE25zShT2o70/dtoBCLEkasFRVDHJ2jGTXD+N/m+IHgYD7xuJ2P4KM13W7cprhvGymP4g+BZicL5s6fiVFY1fh0O3B+9V17M7psAn35oDY5HBprcMR6HFFax2RwvWTEbDVC0dStSUx6sg8ukK4qxTGXmgQxaX+GlxxSNxQCFPSlqMt705WypoGh1FGaTPFAIGpNuac1B6UCEC0/bim0uTQA6mtSrQwzQIY1M7VJimtgDpQBHuoFRnLNgU8KVXmgB1G3NM3ZpymgAK0m006lAzQA0KaXFPA+WlK0AR7d1P8unKMUuaAGbNoqM8VMajZcmgBo+lLmjGKa1ACtzSUUq0ANoOaVqQ9KBCdqWhulB6UDFBpGag9KRqBXENFFFAXGdqbT2FN20BuJinLRjFKvWgB/8NLSfw0M22gYMaj3U15C3ApBmgB+6ms3NGeKrz3CW6PJI6xxopZnc4Cgd80vUNXojmviZ42TwN4Wub1fmvJB5VrHgHdIeh+g6muT+DPxQ/wCEi0W10zWp5Y9eQMfMucBLgZPKsOvORj2q5Hp7eMI9c8XahButre1lh0iF1xhNp3TY7EknH+6K09B8B6X4q+GXh21vY2FzFbLJb3kPyyxOedynr7n1ribqyqXjsfSKGDpYblqrW61O1Vio6U8N8p7VwX/CT6r8P2Wz8VQSXun52R65aqW47eag+6fU9K7azvbbUrSO6s7hbu2cBllgKspB711Rlffc8Wrh3T95ap7Mtq1LuqP15B9xRWhyofu+lGaZS7sCgaBvTtRk0zdnvTqADJp+cUyigESZz3pc+9Rg0u6gCSimrz7UYOetAIkSpqhUGnBiOtA0S/w0jDJoH3ac1AIYvy1Mppm32py8UmCJPSnZpP4aVqlghN1KGpCPmpcYqRj+PSimUUATUUvakeqKGUU3cRRuJoGOprUZpG6UBcjalWlak4oEGaXd8tJRTAAc0opKM0wJFqTj0qJW4pWamA87aRsY4pmc0HpU2FYKG6UUUhA1cr8TpBH4Nvsj7xjT83ArqTXI/FL5vCqof47y3Uj1zItKWx0YdXqxR1camONFPUKB+lPz60zd8qknJwP5U3dTWxjJ3b+ZIaQtimhqRqCEG6jlqbSBsHrQCJCtJ92kL+9JupoEPFFM3UqtVAh23NIV4pNxpCxqbggANLtNN3Uu6kAvIozSNQelNAFLuwaa1NVvWqBFhTkUtR78UofNAC54pA1HWigEFFNalVqAQ5TiuF+JjmHWPBlwD80eqqg+jKQR+ldzXB/FL/j58JN6axEPzBrGr8J3YH+Ml6noMihXIByPWmfjQ3yuc807tWi2ODqRstFPbFNaqGhKO1FFAhjDmmstS7c0xlNAEe2lHFSKvFDLjtQCGUU6m0DQU5ulNpf4aBC0UUUCH0jUmaQtQAFqT71IaBQAqxAexoZKUtQDmgBvlj0FG2pNlBWgCPbTlX2paKAExRTgN1LtoAbzim84qZelNegBlRtUnrUbCgBKa1OooAZnikDUrDmkxgUCYbqO1NOaUfdNAh1BNFDUBcaxzQqkNk8ilNDE0CE9aKX+Gg9KBiYopx6UjUDG0UjUq0DFpGzS0UAQcqelGTipiuaTbQBGVyv1OOen/wBavOPEGvL408dL4Itiy2Fupm1a4UHDgEFYl7nPfnBzXpirtbP4UojjSRpFjQSMMM4UZP1NTJXVjoo1I078yuZPiuOO38H6xHHGsUcdlKqxoOEAQ4AHbAqPwLg+CdDBGV+xRcf8BFT+Jo/tHhrVosfetJVGPdDVH4czed4E0Jyc/wCiRjj2GP6VKfLKyNX71FvzOimCzQtE6JJGRgxv0P4Vy3h/4daX4X8UalrOnO8C30YjFijHyUY/efb0Hb8q6kt74pPX34NU4q90c0ak4xajon0I2U/3cf8A1uM0lOY/NTWb2qjP1EPShulN3ZooGKelO470ymsaAJGYdqQmo805aAQ7+GlptKDQNEq09agDc1KrUAiajbmkDU4n0oBCrwKd/DTB1p/8NAIXdg04noabjJpSvakwHCSnBt1RrHtp33algiTtTlqNakWpGSbR6UUtFACZpcjHrTKRjVFA3em0tIelAAelI1K3SkamMSmtS89qQ570dbE3WwlGaKUDNOw7oVaCM0qoaXaaYxFBpdpo+73x+FP27uRzSF6DVU09V45o8skULn39KTaDXsBWmsMVLtYr0I5xnqPzFRTSLD9/Cnvub/EVPNHuCjJ7ISuK+LDFdBsMEjOpW2f+/grsjdQMOJo93pvWuE+Md5FD4WtZPNjOy/t2P7wcAOPQ1MpK2514WnP2qfK9DuH+4v0H8qaBVa41jTo2w19bgddxlUA554GelNTXNNZgBqNqf+2q1SkrbmUqFSLtyv7i5g0VXXUrNm4vbcj2lB/rQ+pWYPN5bj/tqo/rRzR7kKjU/lZPnimVQuvEmjWYxcaxYwHGcSXCA49etZcnxK8JRtsbxJpYb0FwM0c0V1HHD1XpyP7jpKK5KT4qeEIck+IrJx/sOW/kKgk+MXg+NPM/tyFkHXajt+gXk1PtILqWsLW/lf3HaUmT2rzvUvjx4V0lYWmbUnjl+462UgDfTK1Tj/aE0K8hY2Wi6/flf+fewY4/X9KXtodzaOX4qSuoHqKt60/rXnlh8UL7WGIsPBOvyNtz/pUSwA/meK0oPE3jCcfJ4Lig463WpoMD6DNHOnsS8HVh8Vl80dgV29aZmuYa48e3CArpOhW46/Pdyuce+FFH2fx3IOf+EfjPsJn/AF4p8z7EfV31kvvOn3e9G7nrXLiz8eDj7R4eb/tlN/jTvsfjwD7/AIe+u2Yf1o532COHvpzx+86jqKb0Nct9j8eScG+8PwehEMre3dsd6qfDbxFqmv8A9tRatLBLPYXZtt9uu1TgemfWhVNbWK+qyjTdTmTS7M7frQelNU5UHvgZpxNbHF0FpVpm6lBoBD9uTT/K3dKapqZGGKARGICOprg/ixGFXwuMncdZgwfzr0Fm+WuE+JwEmo+DkPRtWT8wprGr8J3YH+Ovn+R3Ei5kfjv3pP4alkbcT6+tRHvWi2OAGXNNZafS4zVDRFtpyrTmGKKAQm2mso7089KDQIZt2jimNTmpjUAhp70HpSnpSGgaA9aU9Kbg7qftoEJRS7TR2oAQ9KRqGpKBC/w0Gj+GlbpQAjULSmgUASrSNTVNLQAUjLuXilo3YNADlX5aRl5pytQaAGjIprk1JTHoAj/hNDUtBXPNAEbUlOxmkPFADGpKftzSFaBMbTac1IelBIfw0NSnpSNQAdaNpHWgGhm4oAP4aGpoakY0DQ6kak3U1tzDjPXA2gck0FBuo8zFVY7yKbf5Uscu04YLICRUrP6DigWqdmrEwfNODVWWT1p/mc0ah6EpajdTC26koGSq2aWmx/dp1AEF1GZrO4Q9GjYf+Okf1rlvhK5k8AaSv/PLzIj/AMBkYV13JUqBk4P06VxPwbuDJ4JCn70d3cKfb94T/Wsv+Xh20rPCyt0aO1ooorU49kI1MPent0qNqBIRjg03dSdevNLQPYXdRnJowT2pVX8KBC7RS4GOKds+WkWP5Tk0h+ojUlBpDmgBQeakVqgJPpT48s1Mcb9iyrU9W7VEtKv3s0ATbaXp3pQwx0pGwaAQqvhql3CoNoqWNQy5zSYx+7NKtN+7Sg81LEOpytTaKkZJuoqPNFAEtFK1NJqihGprU40hoAbR1NFAoA5f4n6xrHh3wjLf6KIPtccqKTcKSoUsAScVz0N58VY1VxpGh6jE3OVmdDg8g5z6V0/xJwfAet7unkEDPrkYrX8Oq3/CP6aW5b7NHkn/AHRWDi5Ttc9WNWNOhdwT16nHRat8SMfN4W0k8/8AQR/+samXUviI33fDWjx+76iT/Ja7rzD2o8xqr2XmZfWo/wDPqP3HCSQ/Eq6ZSp8O6YO4ZpJi30xgCnNofxDmyG8Q6Pan/YsXkIH4tiu4Zyec+1KrFVx2p+y8yPrkvswivkcT/wAIX4zZP3vj0p6+TpcS4/HNPXwP4hx/yUC9kPf/AEOL+ldorkH0p+4tySSaPZrqxfXavZfcjiZPAGvTYB8f6kB38u2iU/40jfCvzsfa/F/iS59dt0sP6AZrtmz06imE7e2KPZxD67V9PkjiJPgzoE2Dc3es3eOn2jU5Sf505fg14Q/jsZ5/+u15I3/s1dm3txS7sHrVeziJ4yt/N+Rya/BvwU3H9hKD6rNJ/MNTh8FfAm4NL4bt5j/dnlkf9C2K63dSq3vin7OJH1uv/OzmW+FPgjj/AIpewx/1xA/rT5PhT4HkjC/8IzZKfVVI/k1dEWFLuBFHJEj6xWvfnZyjfCHwR28OWo9xvz/6FTF+D3gjdx4dtz7MXP8A7NXW7sUob3o9nEr61X/nZz9r8MvB9oD5XhjT1+sG7n8c1pQeF9BswBDoOlx/7togP8qu7gKNwxR7OJP1is/tsYunafFymnWcZ/2bdP8AClW1s9wf7HbFgeG8lcj9KN5pc7qfJHsT7ar/ADNklx5NxtM8MUwU5USIGwfUZo88L9xFj/3BioWo3YWlyR7GfNNrWTAytzlmOevNITlfao2Y54pVJxV7aIkdwval3U36mkyKAHeZgYxUZf2xQxplAaWvYXcwyc81538J8m+8XMQA39qyDI/3jXoagGRc+tee/B+MyN4pm3ZEmqOBmsJ/Gj0KH+7VF2segL9ylIpq56H/ADxTga6Dz9bIMcUtIelKelGncEFSKTTB16U/7vO00adwsPGWrifipIsMnhK4bgQ61CD/AMCDD+ldqrH0NeefG5j/AMI/oyqSrvrFtg4PBDdcjp1rKrblO3Be7VTfmekScMfSmHpUjjkD8KYyEMeCRVRkrHE4uLsJS0n3hjBzQM9wQaq6DYG6UU7ae3P5UhHG5hgfX/61F0JeSYYzSNTgwYZGMfUmmSEL1dV+rY/mKXMilGfSLEZeaYy1FNfQW6lpbqBV9WkA/Ws1vGGiLIsbaxYKxP3WnXP8xRzR7mkaNR6crNPtSnpVP+2tOZd639q6NxuWdT9AAD1q1yODn8aaalexk042utx3enMaZ2paYhc0Uh6UUAFJgUpzSbTQIOBR2pKX+GgBaKCQOtIrBhkUAOpVam0UAP3Uqx9zTVNSbwFoAcenSkam7s0tADWprU5jUZPFABmk3UrUjUAJSUUUAI1JStTWoARqZTjTaBWFz60ZFJRQFhGambqV6hk3dqAsSilqMNwKcrUADUm0MwB4689+hpTSou5l+v8AWk9i46STPHPBPw1m1aPWNU0/XtQ0id9TuEVbcBoiA/GVP5fgK6ddB+I2l4EGraNraDjZdRNA35jvWn8MIhH4duofvFNQud318wn+tdiG28CueNJWvc9WvjJOXLKKaPPn1jx3ZKPtPg2G6Ucb7K9DfzqRfHGrQLuvPBesRAdTEEk/qK7z+LIHPTNL5rL/ABMPxq+RrZnN7ek96aPP5Pipa2y5m0LXoz/d/s1if0NCfFjT3xjSddI/7BclegrM/wDfP4mjziP4vyp8su4vaYfrS/FnCL8UdPUA/wBla7ycY/s6QfzFD/FjSoziSx1iH/rpp8n9BXdtOcdTmoxId2c80csu41Uw6/5d/icTF8ZfDEe4zT3VuR0EllKM8H1Fcb8JfiV4d0XwrcW+pXrWVzJfTSqskT5KsRg8L3r2stu+8N315pX8uReY0P8AvKKjknzc1zojiMNGm6Sg7PzOKHxZ8JcD+2UbjOfKf/4kUL8WPCLdNbhH1Vh/Sux2xheI0/BRULW9uzZNtCx9WQVfLPuc/Nhm/hZyrfFTwkG/5DcJH4/4Uf8ACzvCkpyNfs8e7Y/wrqTBBu4tof8AvgVGdJsJMltPtD9YV/wo5ZdwUsN/KzmJPid4SjGW8QWP/AWJ4/AGov8AhavhQ4Meq/aPTyYJH/ktdfDpVhBzHp9qh9VhUf0q9HJtQBVCgcAKMCjll3Hz4bdQf3nA/wDC1NE4EFvqlwSf+WenTH+lP/4WNbE5j0TxA59P7PYD9a7vzSec0eYcdaOWXcXtaC2h+Jw6+PrlhlPC+uOOwa3Cfzal/wCEv12QHy/BuosD08yeFP8A2auzLZpN1HLLqxe2pdKa+9nE/bvHF1gxeGbW1Tt9p1AZ/ICjb4/k+QWmg25/vefK+B9MCu13CkbG3pRyX0uVHERurQSOLTw74uuZAZ/Fdpb+sdpp2dvry5PbP5Vz/wAHdQ1rVNa8SS3usvq+nQSeTbs64GVYjIwAORg12njjWF0Pwfq17Jk+VAwT/eYFR+rCs/4SaGND+H2mpt2SXebt06bS3QfkBWXLarZHaqilhZTnFavQ7DjqDketL/DTfWnfw11Hi9B4alzmmHpSrQA6nLntRt5qQfL2pMYo96XOKTdSbvapYEgajIpm72pRUgOyKKbRQBYoZcrmjn0o3GqKIVLA8ins24elObmmUADUlL96joKOoHJ/FadYvAd+jNtMzRxL9SwrqbNDBZ28WMeXGq4+iiuO+LMiyaVodnsDm51a3BBGcgEk125bczYHGazjrJs7KmlCK87jG6+lJu96WRgq/NgVDHMkyB423oejetanFclzS/w01acKLiFpytTO1O/CkBLkbaYxFMZqTPFAB2oP3hSnpSNTAWlBpv8ADQetFwHfeo5FANBoASjdijPFM3U7gPzmg9KZu96XNAh2aN1RsxHvSbvwpjJN1ITTd1IZMUAPprU3zKN27pQAj01mx3pzZNR7fegB275etKelNHCmnVPQnoxQAWHH1NeM/DWPxjGuvtpEOkzWn9oykfbWkV856/KMYxj3617RH95fTNee/B9hJaeIMHKjVZRisKivOJ62Fl7OjVla+25sQ2/jOaPdNd6HbPnGyOGVx+ZIp66f4pJw+saUg9Y7Jyf1euk8w7cD/PFM3nPpWqijg9s29IpfI5xtB1254bxT5Q7/AGexTP6k0h8K66pJ/wCExvMY6GygP/stdHv755oVsdOPpT5RqtIwrfw1q3G/xZeyDuFtoEP/AKDTpvBt3Jy3ijXE9laMD/0XW8smO9OD55o5R+2n/SMNPCEm0K3iPXpP+2yKf/RdMk8FyOwDeINXdcggSmKTaR0PMfUV0BbPXmgNzRyrqUsRUW35GI3hO8yc+K9W69f3Of1ipq+D7lv+Zr1wn/ZeLH6R10StjpS7s0uVE+3qf0jnx4Ju8Z/4SnXT9Gi/n5dPXwKWUiXxHrsrdcfbQv4cKDW+gXqRzUwbHQ4pcqD6xN7M5hvh/Zt/rNQ1t/X/AImUuP5im/8ACtfD7Numivro+k+pzsPy3gV07MOvU+tRPITRyoXt6n8xzNx8M/Ccy4bSY/8Ae+0TZ/8AQ6ij+FvhIcDRoX/66zO382rozJSiX5eTmnyoaxFX+ZnL/wDCp/Bm/cfD1m564csw/IkircngPwtIipJ4c03Yowv+jgfyFbE025aYik0/Zx6i+sVv52eTfGPwT4f0vQdMk0zSLSxupNRhjEkKBDjk9cZr11VEY28HHHHtx/SvOvjJvmTwpaD/AJaavG35CvRpv9Y3PesqaSk7HbiZSlhqV33ENOXJqJW+bB+o96wdW+Inhzw/rDaVqOrR2d4qBzFKrAkE4GGxjqDW55cYuTsjpKTNRx3CXEaSRyCRGUMGXoRTqYtVo0LuoLDcozgtn9KSs3X9ZTQbFLtrG61BvMWJYrSIyOCxwDgdh3oDoaefWjcM0zd9R04YYPTuKAcmgRMED4JXIzzTmWNc+WuBUa9KXmgA470EjHFZ2vyarDpsj6Na295fqRsiupCiH8RT9HbUJNOjbVYreC9/jjtmLIPxIFBVtLlwNS7qZ7CgKaCSRWpytTCNoPKg443Zx+nPpWJ4Xh8QQ2c6+IpbOW584+UbFWC7M5UHPf1oKSTje5uOxzTf4aUnIz39qRqCQakrP8Qf2mdJm/sdrVNS6xteBjFgEZBA71JoUOpw6ai61cWdzqGSXexjZIwM8DDc596CrK17lsjNIVPqae2KZuoJGtmmtWDqWoeIo/Etrb2OlWt1ozL/AKRdS3ISSM5PRe4xjn3reZh2+72PrQOXuhTKerbmAxn/AGemfx/Kuc8K65q+qf2hFrejSaTcWsxVGUhop4yflcN1B9R7e9ALWNzoDUe4+tOY7eD19un+cU2gQjE4pyjNNpysB3oAV4+OBiouV71OWGOtRso9aAGbuaeJNrDHHvUdKD8wz0z/AENJ7DW5g/D9lW31gIAF/tO44A9xXTFuT2rkPhtMJtO1cqeRqtzk/wDAhXWsw60obGtd/vH6jt3vTWb3qPzMUb6oxHFqN57UwtSZoAczHvSq1N/hpc4oAeJDil8yoWalVqBokLcccVGze9L2phGaBoUNz1qTdUQFO/hoBEitUynjiq61PHQLoLSVI1MagQlMzTmpjUDQtDZ2mm7sUeZ1HfHGPWgEee/GaV7zS9G0GIFW1W9RHZTyFUhjx6f4V6L9nFpHDAmPLijVFwMDAGK89WRtf+MowFms9EgzyMjec/rk/pXokjbsGsKesmz1sV+7pU6Xld/MbSZpu7FDNW55SFL05XqJV8xqdjbxQMsBqkDVUDe9TLJSYiamsT2pVORT1HtUsCJc5zT934U/HtTJPWpGG6io/MFFAF7dijdTaKooGPFDUfhVLVtatdDtvOu2xuO2OOMF5JG9FUA5p2AunpR7etVrG8W+tUnSK4jV/wCC4iaN19irAEVLtYvjkY5zSDfQ4vx1cJfeMvB2kqhdxdNdy7f4UQYyfxNdzMhkVl3eX1+cdveuZHh2+PxMl16QL/Z66b9liX+IOXJP6YrpWjPUMSQev6/1qYx1Z2V5LkjFPY5++j1q8kFgiLBBIPn1EMNxj7oqn+I+vatm2ghtYI4IECRRgKoU7h+B7/45qVYyVJPHPPvTSPm7mtLHCLjFLRtOO+fpTQJG/hJH0pWAdRu96QRnd8xYCnfZ3644/OgNBu6kJpXt3XqpP0z/AI0MrKvQZHZcZ/U0bhoCk0tJtZeCrA+4xSc+hFA7DqXNNwcdDSKG9DQIeW4pqtSFWxTVjdulAErdqjp21l4NHls3agBtLnAoMbelIVb0pgNLUcmjy3PIHFG1g2SDTAKa1OcMvamLliQetIBMZPXFSIMCmrGfQkjjtTtr/wB1v0oAVulM9ad82OV/OmjPUg/hijXsISn/AMNIsRZuAxPpilZCnGDu9M0rMXkOjJGT19K84+CJVtH15v4zrE2R+VekQqVH3SDnqWFebfBFSLHxDx8v9rSncfWspp86PUov/Zqr80eg7umOOKSpPLOPlQsPX/JqNkfONrZ/z71rtueUmrjWoqTyWHVD+f8A+um+S3UDP/Av/rU7p7FaDd1OVqRl46kD1H/6qBG23Ocj1A/+tTC6Hq2aXdzTVHXnA9ScUhuYI+DNHkcfeFGvYLon3UqyVU+3W24A3MIJ9ZAOPzpzXtqGBF1CVPTEq/40WYuZFxWzT1aqP9p2kZO65hBPQb1/xpV1O173luv+9Ko/rU2YXRdPNIy/L6VUbVrBOf7Qtc/3TMv+NRtq9kwz9ut/X/XLinysLolkIzUW41Wk1fT85/tC0H/bwg/maSHVdOZv+P8AtW/7br/Q0WYXRaVdxxVmNRgjvVFtb0uM4/tKzVv+u6f1NIuvaduJ/tOzzjjNxH/8VTVyW9NDjPiW6yeNPAVo3zBr55MfTbXfSfeOea8x8ba5p1x8VvA6rfWzrH5rySLKhWL+7k54yR+ld9Lr2liQ/wDE10/P903SZ/8AQq56fxSPUxUk6NKPa5b3DkdiMH3qJ7O1kuBcPbQvcAYErIC4HpnGaqya9o6fe1iwU9fmu4gf51C/i7QYeX1rT8D/AKe4/wDGtnZnnJuOqZsF93Xn60hasRvGnh/p/bdh9ftKf40xvHPh0f8AMf0//wACE/xprsJLr1N3dRurmpviH4Zgxv1/T8n/AKeF/wAadJ8QfDAbI8R6bt6/8fC/40w2Wp0S47DAqTgVxd98XPBum4M3iKzJPI8pjJ/6CDVGb49eCI5Io21j55DhTHC7A/jt4p2ZN0eh7sUoevOpfjt4LSQr/aUxA4LLbsVB9M4qaH45eBmOG1wKT0DROP8A2Wi0uwuZHoIkwOuKYWFcNJ8avBSr82vQKO+VfP8A6DUbfG7wVHGXGtLJH/0zids/+O0rS7BzI7zcAaVmzXm8nx48GsS0eoyEZwAIG/8ArVSk/aP8FwsUa7uGYf3YGzVcsuwcyPVlb3oGB0GO9eSr+0z4Ndtmb/cen+jU7/hpfwYyvtlvtyjdj7Kxz/n60csuwXj0PWO1MY15En7UHg+SPckeoOc42+TtP6tVlf2ivDUyqUhuxnruVf8A4qjll2DmR6pu2/WlU8V5FcftJeGYt+21v329lRef/HqrR/tQ+HGZEOm6jEW6bgg/HrRyy7BeJ7K1MavJm/aO0FVG6yvCG4DKVP8AJqtf8NE+FDGGK3qn+75W7+RpcsuwcyPTmYbcGo94rzI/tDeD5pCBLeRkdngNVrj9ozwlbnAW+m944Dj+Yo5X2Fe56qW4qNpNuBzgdPavLl/aM8JnHN8OPu/Z8/1NIv7RHhQ7v+QgP+3c0crHseobs+1Lv4ry7/hojwrsyBqDH/r3NV5P2kPCakZTUBjqfs/H86LPsHMj1fdmjPevK7P9ojwjfMyRtqAdTz/opP6Amrv/AAvHw7sOI9QYH+7bMP5miwcyPRvM5pzSV5tJ8c/Dsa8waj9fs/8A9emr8ePD0ijZb6g3OOIAD/Oiz7BzI9KDCnKAcEjK559OhrzMfHLQOQINQJ/65D/GpovjxoUZ5s7/AI5zsX/4qhxdhqSuaXwmYtp+v44Qaxc4OCP4h612zHivNV+O+hsrCDTL9VySSsSgZJyT165NMHx40dgdmnai/qcIP5mpjFrQ0q1Y1J8y0PTGA9KRq80/4Xpp7A40nUCvY5j/AMaa3x0sVJJ0i89vnj5/Wr5ZdjLmj3PTKK8u/wCF7WbHjRrv/v4v9KcvxyhJ2podwT1+aZB/MUuWXYXOj1CivMH+OkQOP+EfuAf+u6moX+OTBcjw5dsc/wAMo6fkaLPsHOj1LdS7q8wj+Ml7MP3fhedx2/fjP/oFCfFrV5GYR+Dbtj/tTHH/AKBSGpo9Q3/LS+leZf8AC1tYjUb/AAbcIf8AauDj/wBApT8VdXkXjwoy/wC9csD+kdMfMj0vdzT+vY15d/wtTWmwF8Js3+7ct/8AEVzPjb4teOIdKcab4fGlSFsLcPKZc+wBSnGPM7IXOke8Ljd6VYUjHFfJOl/E34qXsji7u0jGPlVbZVP1yK1E8cfElnwNScr3K244q/Zsn2iPqPORUbMelfNDeP8A4ixbCLyV1U4I+zjn9DUtz8SviIuBGWxjktag8/kKPZsXtEfRxk9Mmk3cV83t8SviJGikRqh7/uuvvg0v/C1PiDGu5ljk5723H6UvZsFVR9F+Z9TSecsbBydu35iSOwr5xb43eOYZH3QWIRTk74GA7e9ZWsfFvxbr05U3ctlFINvl2imNTkckdaiUZW2N6bjJ2bsex/BqY6ldeKtV2/LdagyI2Oqr/SvRixGPzr5o8J/FXWvBGjDTbCwt7lfMMjSXRO8scZPAHH/1605P2gvFWN39laeFY4DbXOP/AB4UqdKUVqb4rERq1eaL0PoPlu1NbPpXzzN8fvFka8WumqP+uLn/ANmqH/hoTxVGpYxaZ05XyXz+rVoqcmcXtEfRqMV6DFO8zjnrXztcfHnxZbx20ssGm+VN939xJnjt97iiP48+K7xpwsGjoYeHzHJ8ueh+/wA1XspFe0ifQ/nD0o+0exr59T46eJB8oOjjsWMEhz7/AH/6VOvxo8TSzRpFf6Au44Pm28ox7/eqXTkHtInvqXBz3FWY5t1eRaN421O6uIpL3xPobW6584W9s4x/wIv/AEr0G08X6DcNDHDrVlO8vCLHOpJ/Ac1k4vsVGSZ0O7I4pslGRgdgR2B/rSdayLZFRUuB6UUwLmKNppehp9UWQXUktvYyyw28l1KnKwx9XJ4xnsPc+lfGHxQ/ak8efDn4pavYXNvZafLbN5SW724lMaY4xIc5JBzkDHNfa6nac1y3jP4TeCPiMxl8S+GrHVbjaEFzJGRMqjoA6kMMZ9a1hJJ+8ZTjJ7HxRqH7bXjW5Vbdb6KBc8TQwxs4/Ap0qBf2yvGxkby/E0U2P4XsYRj/AMcr6kf9jf4RTSMV0K6jQ/wR38uPp940yT9jT4Rtt26BeRbRjcuoSA4/HIro5qfYx5Zo+aB+2Z46b5V1mBD/AM9JrGIj8DsqCb9sz4isw8vU4bgdAy6fGo/DCivptP2NfhSUANhqb7ez35I/QCt3SP2YfhTpERjXwut0M5H2q4kk5/FqfNT7EctR7s+Ph+2V8TfMKyXsZibgbNPjyD+la8H7WHxGuoTKdVhgOM7Dp0ef0r7BX4B/DaNRt8G6WMdP3ZP65pf+FG/Drd/yJ+nH6Rn/AOKpc8Ow/Zz7nxzJ+1V8S2RQmuRhc/eWwjH6kVWX9oT4qaswX/hI7xI2ON0EcKgfktfbVn8HfAOnqBB4R0tFznDQ7h+ua2bXwr4d09cWugaXbr/ditUH9KXPDsPkqdWfAV/8UPiZd+YJPE2rtEvPmJNjPtkCotK8VfEbWppI7fxHrO9F3HdeS4Pt6V+iMdvZxqEjsrWOMfwiFcfyqbzlRh5cccfY7UApe0iugezl3PgO3vfiTEHmm13Ws7cYaWR+D6Vwuo/EHxTJqS2TeJNUnCsfvXbj5we+f5Gv05S4PmAZUKT/AHa8T8afsk+DfGWuXWqpf6ppl3dOZHjg2PEGPXCsOB9DVe0i+gckkeaaF8TvE/8Awj1mW8X3cbxxgMosbd8ceucmry/EzxGyrIvjGRw3b7PD/Kuo039j3Q9K3GHXbpiy7TmNfzxu61o2n7JHhW1jwb6aVjlizRqOfzqbwYuWZ59N8YPElui58USHBxjyIRn9Ka3xW8VLH5jeK1jXuXWIkfhivT4/2V/CMcu57q6cY/1ahdp98c81Y/4Zp8JKx2GdPrsz/Kl7gWqHktv8U/FdzciOHxQ88ZGWkCxgD2Hy1Pa/EjxZcSFf+EoeBVPO4Rk/yr11f2d/Cm0LuuFUf88yoz+S04fs7+FI8bROcnJyV5+vFF4D/eHj3/CwPEkm4r4wuHdWxt/d4x61ct/GuueWJn8ZXypg7mAjIB9MV6k37P8A4aZSAZEX/ZRc/oKlT4BaAsYUTTlMdPLUinemtw/eHksnxD1g7vO8Yagm3kCNIwT+lZ158UtXtriO3g8Sa1cTOM7sR7EHqa9tb4B+HS4LtM3csUANTQ/A/wAL+eOJ0DHBKhVPFHNS6AlN7nhEnxG8TyeW6eJtQiVv9sfqMVQn+IfjONHY+I9SZs/u9r5De/bivpNPgz4VhmciCaQMcZdgSfxFTR/C/wAMWvC6ez44HmP0HtS54dEPlkfLbfEf4hNymr3864JZt2No9arn4i+N/KDza3rHzHA2gqpHruBznrxX1tD8P/DUcYQaVGydg7E1YbwfobxrGdIt9i/dG0nFHPHsLll0Pka68aeMYY0k/t3VZQ3QCdgR+ZqtdePvG1vA0i6zqjED7vmsT/OvrpvAPh5m3f2VCD/wIUkfgLw7HIGGlW5Oe+40+eC6C5anc+Rbb4heN5gpOrasd3J+ZgFH59av2PjPxPcGMN4k1MyuSHG5yF/M9a+sf+EH8OF2ZtIt2YnqQ1P/AOEK8PyNn+y7cYGMopFL2kewctTqz48Xxt4y+2Sq+pap5EaktuuJA7/7ozT7fxl4kaLe+oa1bGVcxo0sm7Oe/NfYH/CGeH+2lW/B6spz+dPXwjomSw0yFiepbcx/Wn7SPYOWfc+O4fFvjO5jkYahqj7P4fOkBJ/u5z+tZXh2bxfb6fOWfULB5ZTI1vHM45Pc4PJr7Z/4RfRV4GmW8fsFxTl8K6Qd3+gxLuIBbZn9anmje7RadRR5Uz4J8ffFTXfBNqn/ABNbqa8Ztoglu5Mj3xu6Vxmn/H7xpf8AmbrqSOMDO5biUfqXr6E+IH7JvifxP4s1KZIYZtNkmLQyPcR79h9M8is7SP2IdUsYp1YQrEw3BTdJnP4A10R5Gc7UkeNR/FnxZM2ZdQufLYZXy7onn86ur418SyQMw1HUBNwCVuHwB+Br3ex/ZP1KNY0PlRBRtLCdCB+GK2rf9lm8UOpvtsbcf60EsfwHArT92T758+zeJtZnWFBqeoTsRllE7j+tV/8AiqdQPmR380ULHH+kzSfIBznIPvX0tD+zDcxXKPNex7BwqhuR9SFq7H+zfO3yvcqVXIIMjc5/ClemO0z5I1Wz8VSf8tj5Dci4aVlV8dlGc/pWTHoPiK6WNlhlMsjZKbmPH6V9sL+znHLHDC10ogt/ufN835lalg/ZytbZ3c3TCZjnzC7E/mMUuaA+WbPjGx8O6nEqyzloUAIcyFvXgc1qww3aRxkwpGCvyBnIBOetfYf/AAz1pEimNriSWJiGZBuxkfjUv/DPWhST+bI4RwuFQJgLS5oIXJM+RoNNvHUPHaS3BxyNx2/UGodUTU4VAjtTaiTkNLkj6Cvsi3+COl29uIVuSI+pRRilf4L6XJHGJJxLFGf3asgO2l7Sn2FyzPiSSbVoY5RGjCUgFWUsR78UL4s1m3hf/RJ5YwNpYngk+ma+3Ivg3ocbsy/LIedyRjrT/wDhTehXCLHIjSRZ3bdoXn1o9pDsHLM+KE8SXken3k0+mXEMkYUxsWBz+HelXX7lNIhLW8l1fOCzO8m1QOvQdOtfbq/Bvw80gMqGQICFDAHGanj+C/hdZGkSzRZMAF9i8j06UvaQ7D5JnwPa6rrVnLC39nSPDKxISTLNj1zWxL4r1S1tY44NEkMzPgytu4H0r7qX4UeGvO8xrYySAbQ2B8o9quL8OvD8OGFkHYcbjimqsE7pB7OXVnwk2taxNbusOmyW8jDZLMN+ZADkAD8/zrO1S88RX0KLHYSwKSP3IRhJgd8jsa/QI+CdH2n/AEYMuPu4GKdF4V0aBflsY/foKr20E2+Urkn1kfl9eSeJW1B40sr1GZjs/dt/Svb/AAb8J/F2radZ3P8AY0pR0HyTEgk+pzX2gfB+hhklGnxrIpyGXj863PN2heFwBwAcgVlKquiKVN9WfKtr8CPF8iljawwn+7xxV+3+AfihoSkyW5I6MqjOfevplpCTnOKUSHk7uaz9s+xp7LzPmKP9nnxQ25dsO9vpippP2cPEUxAa4t7VM/N8oJb2HpX0wshHQmkZuetHtX0Qez8z570z9mO8hy01yik8DnOPrWqn7M8SqFm1DMnd04xXtufSj61LqyY+RHisP7M9jHkNf78HI3EjNF1+zXbzhQt5sAH3Qc/jXtmSQB1A9aXJ2nmp55D5EeJf8My26tzeqYyoBUjJJ9amh/Zv0+Eqr3KkAcbmOR9BXtHA+tM3fKRnFP2kg5EeP/8ADO+lxNkTsxzklutTH9njw/JgyE8deOCfevVGYL0pobdml7SQciPI3/Zp0CFmMU4O7qCp4PtioR+zPoMIOx8kj+In8+a9j3Ux2+XFP2kg5EeR2v7OuhWmdrhmYc7lL/rUi/s5aHIB5cxDZycrjPtzXqH3mqwlHtJByI8tg/Zu8PliZG3OCCMnAX3q6n7PHhvaB8zOOS2flb8K9KDdqk3dKPaSDkieYt+z74bdgpRVGOgG0D8qzpP2a9CO7yppFY8htxIFeusx9aadx4zxS55ByI8al/Zj0lmybzbgnLEE+nHFXV/Z30kAbHQYGOFYZ4616xyO/NLRzy6i5EeSH9nXSlbIljAPXqP505f2eNIVs+ZH06dq9ZpG6UczF7NHkDfs76cQqfagh6/IP615V8a/Den/AAxWytYrX7ZdXm5huzgKO/1r6z3EMOazte8M6V4qhSHU7GK7CHKFl+ZT7HtVRm76ilDTQ+JfB+vazpeqDULG3hjucYCfZ/MGOvce9eh2fxC8b30xElvchMj95HbIufpx0r6NtfBeh6aFMOmQKVGAcc49Kvx6XZxoFjtYkT+6oGK0549jL2bPmX+0vGetSSRLa3hbtJIFUEVFB4d8YXF5E8llMpjU5LOAGr6kSGGFcJGEHoBxTmcMNpVcemOKXtF0Q1Tl1Z8sXHgfxfcfNFayR5bcQso5NNs/h940Ztz2aKexY5/lX1QjKuMIo+gqQSlTlMKfaj2ttkV7LzPmC4+H3i+faDZqiAYYknmorP4a+KYIHjEYJY4+UHFfUjTs3DHNIJtvTij2ze6D2Xdnyz/wqXxfc2yQCQQBfvthvmGenFTWPwb8SrOxkLiIDCxgtg+/NfUX2ggVGbh85Bo9qCpI+c1+EfiYxhY12MT1wSRU8fwv8UmRRIYtq5A/d4zxX0KsrZz39af5zMuDye1HtWP2Z83zfCfxNC0Q6s2dzNyAKgm+Hvi6OF7eOc7dvDKp3Mc9M/lX0qZGbgkn8adHLsXA4o9sw9mfMVj8PfF1hG8hdmn/AIFLN8v+NOl8KePVhZUaSZyRiRZG24+ma+nPMHGB06UxiOy0e2fYPZHy9ffD3xnd3CNLcyiNBwpkYhz6Yo034V+NkkZ2nmj3Z+QuXUD2B719Qq/ljAUL7gUqsA2e/rR7byF7LzPmy1+HPjCFSjvI0ZOdzMcmq1x8O/E9xtMqySeW5KKztj8q+nJJMcY460I/HAFHtn2D2R8r6p4L8VMBFBDLbu33niYiprPwn4vt1CXDTSIgwG5ya+omZe6qfwqNmU/wj8qPbD9kfMo8O+Ko448xSuC21gSeB60l54d8RqpZFuI3U53IzAn8a+lZMMSSoJ+lR49FUD6U/bB7G583SWfipbeMbbgyn5gocr+dO+xeI25meRWYYKq3I+lfSS7enlxn/gIqZVi24aGPHptGKPbCVHzPmo2utR54ulTH3pBuLH8O1EWmazfXEKywMExwdmK+llhg4PlIPoop3k2v/PvGf+ACn7ZdiXR8z5bn8K6xbX2/7KfKH8QTPH071BqPhfWNSMG23bYpyAibc++K+rFht16W8f12CnJbW0bFhAgJ77RR7YfsPM+Qj8NdbvLgmYTRwNxgKcge1SJ8K9St75G2u9uqMq7lOS3Ymvrvy0XhY1A+goOzGPLX8hR7bsivYnyPcfCnXdXbbP5uxV2qq52k0i/A/V4FPlwFC/MnBGSOlfXKt221L5jMuxB16mj27BUfM+OF+DeuyyEyiRQ2flUsPzOMVl3/AMG9fSNhDbyuecr9oBz75Br7b3lTgjJ70OwZQNgx9KX1hrUPYo+Dn+EPiyPCwRS7MfPH53GPTFdR8Mfgb4hXXUvruyaIQ4MLEHGT9a+x1l8vouPpTzcMy7eg9B0oliOaOw40mne5n6faSWtjbxS8yIgDEHOTVj+Knc0mK4Op0ijpRSUUwL601mKniiiqKAMW60e/eilwT0HFAXDr1NCgdutIy7fenJG0jfL1H6e/vRoO4jK3qTTRnPNeOfHT9qfQPgrfQ6TDaf27rsg3PaxzhYoF6ZeTa3fPABPTpXWfBb4qW/xl8A2niSKxk09pJHheE52hlPO1j95eev1rR05RV2SpXO8H1pCBTcmlWoKuxwNHaj+GkbimJj6RqRWpCaZI5qQqDzij+GhqQ7jcY70df4j+dMYmlVqXKPmH9O9KPypoajIo5Q5hTjOc80e9NakzinZBzDj9aTj1pGNMo9A5iTcPWjd/tVHRSsHMSZ98ik49BTQaRjSsLmuOZqODzim0oNOzEOwPSjp04pu6lwcZphdi0jNzTd1JupWC7H+Zik3Bu2aYzCjqvAzRZoLj8+1G7nOOfWojJjqDVLxF4k0vwloV1rGsXsOnabaruluLltsY9Bn1PYd6r4tEF0ae9uOSPxpNx9TXP+A/iF4e+JOhtq/hzUU1GxR/LZyux0fg4ZDyOo/St/cOwOO2etJpxdhbjlYrkjqaUOevfpUTNRu96eokSFhj0pFb9DUTNTUbigZY3Y6DFJnJyRk1Fv8Aejf70gRJIQwwenpTNwweaYzZpPwp2DcXOe/FRyNhutOJHpTH5o5RCbh3NJuAwB0ptH4UcoEy81KAW4qsrVxHxv8AGV74F+FfiDWNPz9sghVYmXBKMzgBse3NUo3dhNnoUnHU84x1zUe6vhP9m39pLxDY/Ea10nxRr9xqehatmAzak5bypzjYyMTwCcgjpgCvuVg0LEEn8cZPvx/nGKqcPZvUlO6Jsbuaw/HHjLT/AIfeEtS1/UZVitbOIuFbrI3ZQBzknA6d/atfzQykDG7sWbAyOx9B15r4L/a7+OC+PfECeGtFnY6LpjN5koJ23E2fmfHouMD8fWtKUed67Az1f4I/tda38TPijbeHdS0iysdPv0l8loS4kgZULAMzEhumPwzX1GW3dR79sc89vrXyr+xb8EP+Ef0r/hPtatFTUbkEaQs2Q8EJJBk29i2WAPUAe9fUo/z6UqqjfQEPY0oNM3Uqn5TWBY/ee1JuJpm7tTicU7ALmk3UhNNzSEPDc5p/mcVBuo3UAS+b71HJJSdqiagAZ896VG4qE5pyscUASs/HvTOfXNN3HNP7dKAIs4ap1aqsyzCRGjQMOhqVcqo4I/GgCwrU8txVXeRS+YT3oAnElDPUAb3p+fagCRTmnfw1Fv2+1KJKdgHsaTd701mpjNSAm3D601mB7VCze9Ju96oCXIXoMfSjdUW73oLe9DD1HM34U3djpTc5oqQFL0of15pjH1rxz46ftF23wburTTotGk1TUbq3NypaUJEqBiDuPXPynGKqMXJ2QHs+/wBsClXngH6kDJX357VxXwt+Kmh/FrQV1LRJz5qAfarKXAmt2OMhlI+6PUetcD+058c1+GWhDRNHmD+IdRQqxX5vs8Jypf2JOcd+KuNOTlYlsX4v/tXaF8N9SXSdItD4i1ZJNtyqShYYQOo3ckk/pXpnw58eWfxK8H2HiCxgkt4LpT+6lHKsDhh7jOce2K+K/wBm/wCDo+Kniz7drMTSeHLBt1yZGI+0THhY898nr9a+7rOzt9LsobSzgS0tYV8uKGMAKijjaMenT8K0qRjBW6kxLJOKPMxUW78aM8VzGhL5lKGz3qKl3EUAS7/xpDMF65qInNNoAsfaFboKN9V4+9PagCRpD2pPMP0plGeKAHNN+NNaTPtUTNSFqBol3fLUbGmbj60q0DQ9TUu48cZGfz9qg/ip/m+Xk7tjY4bGfwpi6Hmnib9prwL4L8cS+FtUv7mG4h+Sa9MObeKU8hCQCc4I5IxyOa9Q0+8t9StYbmzuYrm2uF3QzwsHRwQDlSDg18x/tK/s4z+JZr3xl4Z33V6w8y90oKN7gDmSL1IA5U8YFfPHhr45+L/Afhq78K6bqs1lpFySrQiPLQ7uqxv1TIxkDFd6oxqrmgZc1nqfZ3xF/ao8EfDXXJtIvHutTvYFzNHp0fmCNs42l9wGR1wPUV6V4L8X6V4+8M2Wu6Jcm6026XKOww2QcEEdiCDX57/Bn4G6r8ZfEjLG7Wei27br/U2UttBOQq+rnt9ea/Qrwn4V03wP4asdF0e3+y2FqmyNO55yWY9yTkn3NYVoxpq3UcW2zVdwoJJ5/P8ASnLGWUNtPIxx1P0GayvFljd6t4R1qw0+RotQuLOWK2aNtriVo2CENnjBwePavi74M/C/4p3vxS0q7vRrVha6bO0t5eajLJ5bAdVG45bd7cVnCKkr3NG+XQ+5FU/Nzj3PQ47cdK8x1b9qb4ZeGtYfTb3xC/npJ5cslvaSSJE/oWAx1HrXqdvlZAc7QwP3e3XgfnXzLqP7EOmaj4wuNSn8RzSaLNK00lj5GyT5iTtMm4YGSe2aceR/EJ7aH0rb3kOpWcF5ayLNb3CLLHKnRlYAgj865Px58ZvB/wAMbiC28Raq1pcTR+bHCkDyErkjPyqeMg9+1dBpen2vh/S7TTNPhW2sbSJYYY4zlQoGBg968t+Nv7PMHxi1XTNRTW20m4tYWt5AYPNWSPJIxyMHLHn6VEeTms9gidl4C+Mng/4nXV5beG9VW9ls0Ek0UkMkTbT0IDAZ/wDrV2McZY7QNzEHGflBODg8A+v6V5x8Jfgn4c+DdrMdNkkvNSuVVLm/uH+ZwOyKANo/+vzXofmFWwecnp09xUTtzabD6HkD/tVeC4fiTe+DJ4dStrqG6NnHqEkSeRJKDgjhiRzx0r12VtsmCCOOM15Fq/7MfhHV/iRJ4uknuommnW6exjwsZmByWJ68+n4969albzJC3c9uDjsBkdeMUqnLfQSuP3D0oqGisyzSakzQaSrLJYV3NycDrnr/AJ618i6h+3Jf6H8UruyvtCt4fCNrctbSqu/7Um1iplLZPTGduOlfW6tt9twK5P4f4V8yftUfs1Jr8Nz408MW6f2hGDJfWmMeYMcyLjqR6d66cPyN8szGona6PpXR9UsvE2l2mqaVOt1p91GJoZ1OQVPOT/hXk37Snx6h+DugLY6Y0M3ie+Qi3jdsiBCCDK49uw9q+VfgX+09q/wPs7/SZ7Z9W0fy2a2tZGC/Z5hwOv8AATgkVT+HPgXxT+1b8Uri+1a8kWz81ZNV1LJKRR84hjP949FA6dT1raNBU5Nz2J5lJWNj9nb4A3nx28TXHiTxKLm48PW8gknkYNu1GTP3d55C5wS3UDFfe2l6XYeH9Mt9O0uzjsLG3XZFDCMKBkn+ffv171Do2iaf4W0Gw0bSbVbPTbOMRQwqBwO5PqxOST65q6O+a5qlV1HboaRjyq4ClopGrLYsXJopuaVWouDHLQWo7Uw0EkgagtTFNDGmAhpKD0oPSgBQaXdTT0ozQOwM1JuoNNXpQIfvxTWambqQtQBKrUbqi8zFAfNAEu6jtTdwpCaQiTNFRZNKrUxky0jU3fik3ZFADW+9TqZuoLUgFP3vf36dD/8AW/OvlL9pz9oDxj4H+IC6BoF2uk2lpAk5/cqz3TNzjJGducjjB4619VMd3FeHftYfCWXx94TTXNMh83WdIQvsCZM0P8Qz2x1H1rejy89pES0R33wj+Jtv8SPhvYeJZXjtjsZb3cAkcEi/fznkLjB6nqMV8Y/tKfHC9+NniwaPojT/APCM2Nz5VnbxJzdy5A8xh7ngewB715nZ+LdY0XQ9S0Oy1S5t9K1B1a5toshZCvqM46dfXAr6V/ZD+A0cjQePdftt8K5/se2mUEPg4MzDp/u+hBPeu72SoLnkZXuewfsy/CG4+Efgmf8AtM51fU3S4uYQ2VgVc7Y8evOT9R6V6zuI4PLd2z1Pc01ptzbt25v71N3buBxXmSfM7m0dh5ajNIcimbvwpDH0o+lRlvegN70AiTPtRn2qMt70BvegESFuKjLe9NZqbupghzNTCxx1oxQelO4ug1ic0AnbStSUXEOzVTWdJs/Eei3ulX8Yls7yJoZFIz1HBHvkZz2x71YZqbu7evFHNbUD8x/ir4AvPhj421DRLuFwIWMkdwg2h0/gdfwIPsRX2X+yx8ZB8SvBP9lajNv8S6KixTgtzcxABVlBPLHA5+lW/wBp/wCDn/Cy/CKalpsKnxFpSs8fODcRclovr1Yfj618LeFfFGr/AA58UWutaXcPZahYyAlSpAdf+ebr6N3B44rusq0Dnd4Ox9s/tYfGM/DPwaukWE6p4g1eGRQVYbra3yA0jD1b7oH4182fsw/CGH4vfECabVUkk0HS1Wa8wciVi3yQZ7livPsp/vV55qviDxD8ZPiAZpGl1PXNTnGyNc5LE/Ki+ir+gB9a/Q/4K/C22+D/AMP7TQ4ist9KftGoXKgDzZj1/wCAr0H096mVqUeUqL5j0BWSONBEiRxooRI41CqqgYAAHQY4A9ABTV46UzIHANG7muFX6mqJVb1p27iod4DfTnB6Hr3r538fftVar4J+Mx8If8ItDcaPFLFC115riaYuB86Z+UqC36GrjG7A+i2bnNHne9RM3zDHIxxwR+fvQWFSUSiSl+9zUS5bOOTjj614H+0Z8fvFXwn8UaPpmhaLDPaTqHknuI2f7QxbAijI6N+PfpQlcEfQDfKaYzVDY3cl9p9rczQG1mmiWR4GOTGxGSp+hNOZuaT3DoSbvejlv6VEuc1yvxVvPEdh4F1e68K7X1aG2doovJ3ux4GU5xuAyeR2ppXdhHXlNvXr3poYV8v/ALJWqfErWvEuvXHijVNX1HRFt/LEmrqR/pG75doPA4BztGORX1DtA6fdPI+h5ApyXK7AKPu0rGmFtvFG7NSABstgcGn/AHeK8T/aO+OGpfB2x0yPSdNW4v8AUN+y6uRuhjC4yNuRlue56V2PwQ8eX/xM+G2ma/qlmlje3BdXjizsbaxG5c84PXmr5JJczA7o0ZCqWI49SOPz7Un415D+1JpfinVPhe58KXF1DcQ3CtdR2LFZpYTwQCBng88c9aUVd2A9dX5lB4wemOn596du968T/ZNh8XR/DmUeKpL2QG6IsP7Qz53lgDIO75tu7djNe07t3I6dqclyu1xXFLUKxJ601qQBmBVDtkbhWIOAccZ9c+g5qRj/ADTzge2aTJ6k5+lfD/izx/8AGPxJ47vdEsrrVLC5W5aNLHT4jCAoJAO4+2D1r6Y+Btj430vwLBb+O52n1ZZGAaRlaQR8bQzDqc55PPStpU+RXuTza2PSdwamt7Gm/wANcj8VpPEsPgPUpvCUiprsQEkIaMOZAPvKoPBJHSslqUdfuA4PWnc44wR615X+z34u8ZeM/CV3J4y0uWyvIJxHBcyW3kNcKV5Oz1Un6HFQ+BPBHxG8L/EO8n1PxUuveELhJJBHMf3sbEjaoTGRxjocc02tAPWM+lG6kJHO3pn/AD3oPSoAXd7V5/8AGb4O6X8YfDZsrp1s9TtwXs73uh7q3qh7+nWu/Pasfxp4y0f4f+G7rWtZuDDaW6FtqEb5G/hRB/eJ6frTjzXXKJn56XUfiz9n/wAcEbrnRtaszjcBlLiPOeR0dCPWrPhPR/EP7QHxM2SXX2nU9QlM13dPnEMSn5mx6AYAX2pfiF461n47+OPtUsJ82d/s+n2KLkRJnKooHfJJPuTUOj6h4r+AfxFgmEMmmatZOPPtps7ZkI5RuxU55PbAxXs2SWu5yu9z9BPBvg/Svh/4btdF0eEQWsA64G6Rj1cnuT1rZrjvhf8AE7Rfit4Zi1TSn8qRP3dzYyN+9t3AG4Y7jJ4PcGux27Qa8eXMpe9udMdhMfhSj7ppWFNXNSUSfhRTf4aU9KACm0MaSgBy1JUa08mgBGpDQxoPSgYwpupPLqSigCIx4oqRqY1MEJSNk9BubqOf0/Glpk0LXEEsaP5TurKrscANtIXBHI5NA0fPH7R37Rn/AAiP2nwn4YnX+12Xbf6hE/FspB+RCP4yP4hyM18weFfhzrnxOmu49E06XUJ7SFridwOdvpnux9Op7V6doH7IvjXXPGF0mueXptl55ebUJZdxkBPJQcliR619e+A/AejfDHQI9H0S38lVIMtww/eTOP4nPUnp9K9GNSOHhaJzuPM7Hwt8FfjRr3wP11o5I5rvQ5Jdl5pU3yNngM0ZPCOAAD64A65r7z8BfEbw58StJW+8Pakl2hH7yAnZNEeCQ6HkYyK83+NH7OGj/E5JtU05ItK8SEFy/RLpvQ46N/tH29K+Q9T0rxX8IPEoSQXugaxDhkkiJ+ZQTyCPldeD+tE4wxHvLRh8J+k+oaha6NYm7vbuGxtchRPcyCOMsegDH/8AXXmvxm+NFr8MPh7Jq2m3NtqOp3BEOnQpJ5iPJz8xH91efzFfHPiz45+LviN4ZPh/WbiC/gWQXP2iOLbKdndtvBXnvXE6LZ3HiLVtO0P7U/ky3CW8Kt8yq8jANgDoDgk/QUUsOo6tilK59CfD39tvXIdQgt/GVhb3GnMvz3Wnw+XNFz94q3DD9eCa+udJ1iy8QaXa6pptzFd2N0glhmhbchB9D/P3zXyr8dv2ULLw74YTWPByO7abEBqFlJIXM20czK3XPPSuD/Zn+OE3wz19dA1KWRvDWoSKoVhkWkjEASD2JwCP8KmpRhUV4Gilbc+7WcUzzB3NRMzLyxBzyCDkEe3+e1RHLc15tlszZWaLizY6MfzpPMH1FVVVqeoPekJFhZOvbtS7qi6U5aWttRjt1FJRSA02o/hoak3cEVRQnJOB0PJ49K434vfGzR/gf4d+132291e4DCy0xXw0j4zuf0QcZNVPjL8bNG+CnhsXt6n2vVLpXFjYjI81gMkk9lHeviLRdM8aftT/ABEeRpDfXNxtN1dzKVhsoMkgY6BRzhRyxrpowUvflsjKUm9Eeeajb6x461bVtah0yafbJ9ruvscP7q33MWJIHAUEkDHpnvXu/wCyf+0HD8O7j/hEdbCQ+Hr6XfBeLj/RZD94t3ZTgZJ6Zr6++HHwt8OfC/wkPDum2ccttIhW+uJVDPesepk45B6Be2PXNfJv7Sf7LV14Tmutd8LwNdeHpCZJ7aPG+0JyeR3T6V2xrRrXjIx5ban20n72NJEdZInUOjocqynoQR1GMU7vgHNfnz8CP2lNa+ENxa6Veh9X8JSOAbZm3SWy9CYie2RkivvjR9as/EOj2eradL59hdwrLDKoxuUjqPp/SuKpSdNm8XoXppktwvmypDvyF8xlUNjsCT15o6jPb6V8F/t06rq9x8XLawuLqT+zrazjktYEc7FJ3fPjoGz368CvrH9n3XrvxD8GfCt5ebmuGsxG7MxYkqSuST9KUqbjFSFGV3Y9C47UU1cLxTjWBpcWkNIGpGamIVqA1JRTAXtSt0pmaXNA0K1JRRQNhSFgoprio+1BISMS3FM3GnsKZtz1oAUHNKKFWl6CgB26l3U09KM0AO3U1mpN1IzCgB27PWjd8tNphY0AP3e9Ju561EzUqtQImZlVCzfKAD8xIAHryf69K+Ov2mP2oH1hbzwj4PvAtiCIr/V4yV83kjyoyOQvHLDrzXS/tveJvFWk+H9LsNHuLuy0S/DrfTWinMhGNsbMOi8kn1rgP2af2ZR46s7XxH4lWWHQUf8Ac2vIkvCD3J5CHjnviu2lCEVzSZg227HkEfwx19fAaeLJdLkXw40nkCcqQGJ7gddueM98mvX/ANn/APaUuPAP2fw74mf7V4a4WG4+YyWJOB6/NGD/AN89q+07jSrC70ltJuLOB9HaH7MbJlHk+V2Qeo/rXxN+0d+zrN8M1uNf0S3e58MM53p957EnPyn+8Dxz2rZVo4j3JA1y6n27DcRX1rDdW0sdxbzKJEljOQykZBomvILG3luZ3SGKJC7yyHCoBySfaviP9jT4pa/Z+LLLweJWvNCvklk8hgT9nYKcOp/hUYGQOteyftjeLrnwz8L1sLYzwSapctBLLGvypEBll3di2R+HFcjpKM+W5fN7pwnjz9uDUYvEF1a+D9NsZ9Kt22/bb9WY3BB5ZQCMA9Bz2r3P4I/GC1+Mfhl75LY6fqFrIIry0Zw20kZ3L/snP6V8aW3w50Sz/Z5m8Y3Dj+3b3UxBZeW+AkasQy7e+eeewxXpf7DouYfGXiZU3vZ/YE8zk7fMMg2Z9TjdXVWpxULomEuZn2CTjHOeBSq3y1AyFeAcjsakCnFeYbIdnNK1N6ClNMEBak3UlNagRJvprMDTKTvQBJTWbFK1Mz+NAhetIcCkzTW9M9v09aNwJYZNsgOSOc7t2MYyePwBJz0xX5f/ABkuEvvif4rubeeC/gk1GcrNbcROm84K/wCeTmvpz9rb9oWXw2tz4F8N3KQ38sZXVLxGz5SkHEKkdyDlm6gNivnH4H/CTUvjB4wtNPgjeLSrd45dSvguFhiJ6D1Y4wB+J616NGPs48z2MJe8zA+HPi7UPhh4y0vxLYRpLdWL71jlGdysMMvsSOAe1fpX8PPiFpPxQ8H2PiDR2KwXCANASGeB+hRh2xjg+mK+Zf2mP2Z7bw7at4n8JWckWmIPLvdOQbmiwNqyLjsccjsc1418G/jFrfwZ19r20UXWmXOFvtMbpKnQlR0DjGQe/TtVTpqtHmjuOPun6Rc+jL7N1FG6snwn4o0vxx4fstd0WdbvTbtFdCr/ADIehVh2IPWtfYS2BkkZJ29eP515nw7my1FWQqQcnis/U/D+ka1f2l9qGk2t7eWh/cXE0Ku8fptJGRz6VF4j8T6P4RtTca5qtnpcZ73cyJ78DOc/QGvNG/a1+Ga6mtkdUuMM4j+1C0fyOePvHH5471olJ7IltHrzMZGyT82cn65zQ1NhuI7mGOaJ0likUOjxtlSpGQQfpUgwetZq63LQ3dgYpJIkmVPOiSYIcp5ihtp9RnpSvjtSFqBokaQnrTRz2pu6k3c0CJKUNjHscj2pq09aBA0jNjknAwOelMLHJJ6nk05qSlr1AaTmkpWpM09wMXxV4O0TxtZJZ69psep2sbiRI5FJ2t6jHNbVvFHaW8VvDGsMMKLGkSDCooGAB7Yo+9QOBgcCqu7WuA5jSDPJXrg98Uh6UHNKwCQzTSRq06bJPTOeBwP0p2fQUgpQaLAIzetJkemaVuaYzbe1OwEnnOOQxzjGc9qhz36UnmGjd7UtRWHhvU0quVbIODTBSbsUhk5uC3saazlsZJ46VCWzRk+tLUCXdx14pf4aj3YpwaqAfwzgE4U4BY9Bkgf41+fH7QnxB8T+O/ihf6NqwMNnpd49taabaqeecB8fxOV2nNfoJ/EG7jvWPL4Q8PT+IE12XRbGbWkAC3jxr5vHTnGTj1rajUVPdEyV0eL/ALNH7PjeB4z4r8RWqx61LHi1tyQ32aM9WcdN5/Su8+NnwTsfjDoar+7s/EVsNtpescBx1KP6r0PsW4r0ZmJbJJJ65pFbrg8elKVWUpczJ5T82xf+MPgH48m8uabR9XtX2SRMf3FyoOdrZ4dTnIxzzX2h8CP2gLH41afcxNpraVrViivdw796SBjgOnoM54PPFb/xW+EegfGHR0tNcDW9xb82t9bELLAeerHjb7Hg81yXgX4V+HP2Y/B/iDxAlxdaxcw2jPc3FxtQugziNEXoCSOTk++MV0TnGrFX3DY9hZtpAYhGPYnk/nxSlSP/ANecfoK/OPWvG3jT4xeMLjVA2oXN4E86K0sd5FvEnQbV6ABuo75r0T4V/tTeIvBOqxad4ouZtb0NWMUv2kf6TbgHqrEbmx1Ibsal4d2umPmPtcNmlzVTTdTs9a0+21HTp0u9PuoxLDNGcqyn0P59fpVgN6GuP1KuPoC03cazPF+uS+GPCWsaxFbC7ksbWSdYCxQPtUnG7BFCGa2COaUtkV4Z8FP2pLf4seKn8P6jpEWiXs0Rls/KmLrLjlkORnOO445r3LgAY5B5+6R/OqlFx3Bag1JQaKkBf4aU9KbS/wANACkcU0LTj0ooGhu2nKvtRS80AGG4wcYpFj2jAAxTlzUlIasRBcZwMZ61R1zw9p/ijT3stVs7e/t2BGy4UMVB7qeoP0rQo25qrtaomyZ5vYfAfwT4b0/WP7K8ORC4vLSWAtJvkYhlPC7j8pJC8ivh/wCF0Wtab8YPDSW9g76tbaqkb2rRlsKCVcNn7pAx83+NfpKyjdyM8Y/z+Q/Ks6Dw3o9p4iudeg061i124i8mS/RAJnTJyDxznPU9fwreFaUVZkuCexsSMHkYHAXJX5uQwJPH07e9fn1+0x8MR8NfiVKLUeXpN+ftduMYEYYneo91bJ+hFffjZf3yMH3HHB/IflXiP7XHwvufiH4Ej1LT0M2p6OHkWFcl5Ym2iQD3GFP508PU5Ze8KUbo1v2YfGlx47+Flul23m3ulzfYJXL5YqoBUn8P5V67HAWUN0zzj0r5T/YV0rXtPl8RzXltdR6K6IVlnjMavMGI4B5yBjPtivrRfu/ezWdZJS0Kj2IhF2p32fb1p+7FDNXOWRsoFJQaa1DGOopmaKkDWakbkUgPy0pqijgvjJ8G9I+M2g22n6jcPYz2sgliuoUDyJngjB6g1r/Df4b6D8JvC6aH4ft/KjzuuLhjmS4f+85+gHHbFdMxOPp0pfwq+Z25SdAwdoA4wc8U/wDdTRtFMiyxMpRkddwYHqCO4PNRs1J7jrSsGh8ZeKf2NfEniD4t6hbxGCz8HXFz9oe+UeXtibBMaJ3Ydj0Ga+v9G0S38P6PZaRZK0NvaQiJFkyGAVcDPuR6etXmY42549KaOG6cbTxW0qkqnxCPiD9ti1Rfi9AcZMmmR7lbt8xr6A/ZL1FtQ+B+jhl2fZ5ZYhznIDZ/rXz5+3/cNZfEjQ5kXaX0vLSNnLESHAr2P9h66muvgrcLIpCQ6jKIpMEK6kJnH0Oa7Ktnh0ZR+I9+/iz60/Py1EzfMccUm4+teabDwcmhh0pgbFLuNMBc7aC1MY5pGoAfuo3VHTj0oAeGo3UzNG6gdx9GPambqcpyKBC01gPSlahaAExRj5aXOKazUAI1JS9qa/WgBGbFJnNGN1GMUAFIelLRQBG1MDEVNtz2prKF7UAGVkXbIqOv911DChsFQMAKOigYAoPSikGgh71W1bSLLxBpN1peowJc2N0nlywv0dfSrTdKVc5x2p7bCtocj4L+Efg/4czSS+H9BtdNuJF2NMxZnVfYtzg+3FM+Lv8AwiMngW+l8cGM6HCBIUc4kZxnaI8c7jkgY967KIbN3y5XH+eK+Ev2018QSfFxvt4uJdEWFDp4RWMS5HzH0DZzn6CumjFznqzOWiPP/F3iqb4ga1a6foumyW2k27+Vo2jWwLFQx5Ge8jZySfp2r7d/Z3+Dy/CLwbMLu4jm1vUGWa8kj+5GoxtiU9TtweT3LV8M/DT4mal8LNUnv9KtdOlvZFEa3F9CZWjHfac8Z9q9HvP22viHHDKluujxzN0kWzJI+gLY/Su6rTnPRbGUZKJ92BT0IU44JXp7fpin7q+Kfgv+154513x5o2l+IJbfVrLU7tbYxw2KxzRE5wUCjDD1De1fa8kflsVxgfj/AFry503TdmdEXcY1NY0rUxuTUDQtL/DTOlKCaBD9opCooprUCELcVHupXBzxTdpoAXcOlOjJUgkAgEN9MEf/AF6ZsNHkuWBDYxQJnwB8aPgF46uvi5rS6P4fvtVgv7x7i1uYIy0RDHI3Nn5cE9DxgV9p/Bv4a2Pwl+H+naDBDD9vWMPqFxHhjPcHlyW74PA7YArsFjbjLED2NLtxge1bzrOa5eglEXh1eN41lhYFXjYZDZ4wR3Br4e/am+Btt8NtYj13Ro2Og6pIwMO0k2cvXBI/hJPFfcHpWL468H2vxC8F6r4bvXaOC+hMYkUZMTZGHA9jRTqumwlHQ+Nv2KPFmqWvxKfw5BdN/ZF5bTSzWu4spkULhlz0Pqe4Ar6L/aW+M158F/A1pNpcKPrOqyPBazTgbIdoBZ9vcjPQ+lcx+z3+yzc/BvxJqmtavqlrqt28bW1klsjDy0yNznd0YgdvSvT/AIofCXQPi9o0em66kg8uTzYLmFgrREnqCeOmODxV1JRdRMzs7H5xNfeIPiR4kE15Jea9qlwc7iWllcnoApztHP0GasePPBGr+BdWXS9ctW0y9aHebdiC6q4I+bB4PHSuv1b4p33wk1bWPDvw/I0SGGdrZ9WliWW/uArEMDJjCjI4AGPzry++1zUta1SW71K6ku7y4Jd5rpzI0h77m65xjj2FelGTe2xz6n6K/sy6vLrXwM8MzXGRLEktuSe4SV1H6CvTq/PX4c/tQ+Mvh1pNtpNqtlfaRbnK2s9sRgFiSBIOhJJ5OevSvsv4M/GvRfjNoctzYRNYara7VvNMmYM0LH7rK38ankZ7YrzKtOUXzHZCWh37dKNhY+1A+dsL09/5VPwvArmLGeSPWjysCnM1KrDGKAI6N2KVutNP0oAGajd8vvTWoNAgoaig0AJnDU7PtTKX+GmArUhzu9qdjNFO4BuHpSNQelDdKLgI1MantTGouAlKFzSYo6UrgOVBStGKRaWkAzbQFp9L/DQAzbRtp56UNQA3FI3p2p3GKbuFADDSrRtpcYWnYA6kV5j+1BdtY/AfxQUJDSpFCcH+FpFDfpXpoY1wHx88H6j48+FGtaVpmGvSFljiP/Lbac7PbP8AStKaXMKWx8r/ALE0VxcfGQXMExiitrCcy+6DAwfrxXp37YXwjsrjw+/jjTI49PvbV1XUIUUKJ1Y4EnH8Snr65rnP2MfBOu6P411bVLmxmsNOFo1vN9ojKFpCRgD1we9e6/tE+HL/AMVfBnxNYaZF9ovvK8xYO8gVgXx7nFdkp2qRs9DHlZ49+xp8UWkstX8IalKqw2cZvrVgSWjj5WRfoCVYfWuo8QftqeCtJDx6fp+o6tdqzqVASOPIJGdx+menQivKf2Q/hvr9x40n1abSby10E2dxbS3E6iMyGQD5ACRk8/8Ajua6mT9hMjWJp4/GHkae7kRxyWJ81V6AHL4z9Kc/YqblLqPXoJL+3NfbleDwbZrbcf669cMfxxius8J/tXaZ8ULhvCj+GLu2vdYtp4AyyrND/qmJB4Bwam0f9inwXYxg3eparqE2ckq6wr/I/wA6774c/AvwV8MtUe+0qxaS/k+X7Vdzea8an5SF44+9+tS5UOgWl1PiL4I3w0P4xeFHYeS0WopA6tnuduDmv0fk+R8HrwCfU4wTX5keJmbwZ8WNXKFl/snWmlRmHQJJuHH4Yr9KdH1a28QaHp+qWkvnWt7As8cnqrDP+NZ4ht2bFSbvqXN1Aam0fQVxnQS9qWo1bjmhsnuadgQ/dRnimrRmkNEn4U5WqMH5aWgESrzS0xenWhsjvQCFY4o3VGSeaX8KAQ7d9KM5GO3pTaKAQ6nRu0bblbaRUeaM0CJFYIoVFVAucBRjGetOVj3qINT91S7jJA1MkP4Um6m7t1IYAmijFG360MAoo2/WipA0NxXinbs02iqKFLe9KG96bRTQrDt1G6m0VQhS1Ct83Sko6dKBHJ/EL4Q+EvipdafceJdNe+lsgyxMsrR8HqCV61veH9A0vwnodtpGi2Mem6bApEdvEuAMnkn1J9e9XvX34NHTnvT5pWSCw3tSU5jTT0pDCk/hpT0o7UDsDdKGqNiaA3vQFh5pW6U1mpN3vQFhzUxmxQWprHJoELup6txUQNL5mKAJt9IZKhZ803dQBPuzSbqiBpzUAOJpKbupd1A7C0bqTdSGgQpak3c0lBoAkHSjaG61EzFaVZDigCQximH2o3E0lAgbpRQ3SmseaaGSZKtkdapaxpGm+ILMWuqWFtqEA+7FdRh1GfTI4q0Gpdw6Hp6UXfQm3Rnm91+zn8NbxmebwnaqzHrC0ifpkVB/wzN8Ngd//CK27LjGWmkP6bq9ROMcU3pnHFX7Sa6i5UcF4O+A3gHwLrS6to3hmGHUV5jnkLzGInugYkKevSu/Zw2TnJPWmMoI5GaG7VMnzO7GlYTOaKRad/DUjQwj5qcV4pWpjNjvQIOcUzd81JvNJnIzQBLupN1Mpx6UCFopqt2qTbQALSNTv4aR+tAxtH3hgnj0opGFAC/d6GkDASKPlz7k/lQFNOUEHrQGh8fftjfDHwV4F08+LoYb8eJNZuSkNmJh9nLDmSU/KTwCOM8183eH9dsLJmbUdHXVI3j2pm4khznuCvav0m+KXwr8P/F7wz/ZGvwttWQPBdw/LNA3qjYPtkV8/t+wPYx/u4vG0x2k/wDHzp6gjnjJVx2x2r0aVaMY6s5pRu9D5V1a4ttQuhLaWH9mxnhYVlaTt13NzXrH7JEeqR/GrTpNPSVrVbWdb4xA7fK29G7ZLYx9DXrFv+wZp8UkZn8Z3bqrhnSGyVFcdwGLHH15+le9/D/4Y+Gvhjo7af4fsfIjc5mmlO+ac4xl3IG76dP1p1K8JRshwi09Tqovu88Nk5GeRyetKWxSZprV5h0Cs1CtTfanbaYhc5prU9VpGWgBlDdKcRgUw96AFzSbqGpKAF69KP4aP4aUmgBQaXcPSo2ak3c0APbpSNSM1NY0ADGlWm0UAPo25poPqak3CgBuMUlKzCmtQAuRS1G1CmgCSkZqbmmtQArNmhTTc0m6mBLvpGbio88UuaYCq1L5hHSmig9KBj2kZ/vEn60h+bv82c009KctK1xqwK5VfLCgL6Y4pMbTkcfT8qdTWFFmHoI3IOeaa6nhgcY6H8j/AEo5oyaLC9Tw74ifsj+GviF46l8RjWLvSUuz5l5ZwxhvMf8Avq2cqSep9q9m0HRbbwzodhpNmrLaWcKwxBuTtHTsB+VWvT2Oad/CaqU5SST6ExSQ7NGaQ9KKlFIXNOSmY5qVIyRnOKbGh38NNfrTj8ox1qPOakEKppwamUoxQCJ1bims3NM3gLTd9AIcTRmmg5NOoBC/w0p6U2l/hoBCnpQelFDdKAA0u6kbpQelAx3WnLTKVTU2AkpKbmikwHZFFNoqQL+6gEUxqSqKJ+KRqavSlpgFFFFO4rCHpTcmn0UBYRaWikJphYXaKawFBpKVwCmPu3cHAxUqrmmSLRcYnUVE1O5XikPSgVwVvWhjTaM0wuFKKaTR/DQIc2BUe6nNUZPFAClqQtTM5pQM0APVjUgpi4WpCRigBD0oPSm5ooHcGNJu96a5NNVj3oETK1L96olapN3NADvLLU77OVoWXaae1zu46GgBpXAqMnBpXkyaa1AhGams1JRtzQMCx7UnJ7UoWpMYWgBiscc8U7NI/WhaBDs+tIzU1qSgBN1Afn2oOAOlMLUAibzFPJOOKqi8Ew4XbjjmkbJOaTy89qBD1bIpysKZt205aBDxT8DvUYNLnigB2AG4qSo1pc0AOzSNSbqRjQAtKtR7qA3vQNEjUmaQtSZoAVu/OKjT5Pu8duKVqQUaDQ/qpHWhY25LcHNOQ4qRmyKAuRtmomOOpqRn+UjFV2Y0Ah+6p93SqIc5qTzG9TQLoWTJTWk96g8yjfQIm3Unaow1LuoAkakaonkOOKlh+ZcmgCNpNpxSeZupJzt6VHu96AJC1FR7/wAaNxNOwEm6nBqiRvmwad0zSAfRTaM0AKaYxOaVjxQ1OwCZO2nbqQ9KRqLAONKtQhjnrUi9KLAOJpDSNRSAGpD0pKUZp2ACKO1NXcpIPPOakoASiiincaHBc0uMUitin5FFwGNRn5ac2KgkLbsAcUXAU0UzOOtG7mlcB9L/AA02jNIQ9ulGaYW96ZvNMaJ1anLJgYqur04HNFxomZ89KTdTBml7UgQ7dTWam06gEBJxTloC5psmVXA4oBD84pd1RLnHzdadQCJFo3c4pik0+gEO3UdqSl/hoAVulBNDdKGoGFOXGOaaelB6UmA5iPWjd6U1qD0qWA7dRTaKkDQI4pFFSNUecVRQ9aWkXpS0AGaN30pGph70ASFuKZuoPSkPSmA5WpGNJj0o/houAtGaD0oNIVxytxQzUwGkZqAuIxqJieacx54prdKYhGOKaDmnNTVp3HYWl/ho/hoagQEUeWGXnrR/DS5pgMWEDqacyDqtB5FKfu0ARjrT/wCGkYe1FAA1FFFADKKdRQA0LzUm2kFOPSgBpop1KFFADf4aGobjpSUANWnBaa1KrUAPVaDx1p26mN1oARuaRaRqTdigQ+oyaUtTGNACtUTVJTduaAQ0LTlWl20dBQCGMDmk5qYLuprrjHFAhq05elMWnZoAeDTgwqLd70ZoAexzSU3NGaAQrUzfSSE5ptA0SCSpFw1VjxSo5B60AiwcUlJv9RRuFAIeppxao6RmC8mgEPaon+9TtwxTWoBDDj0ptO7Gm45oF0FC5pxWjGFpNxoELtpQuaRTmn0AMZOM9qerY7UvUc0nTpQBBKd2agXJarEneq8P3z9aYE22lxgUvakXnOaLgG35s1JwaRvu0KflpAI1JTmphpgJRRRTuAUv8NH8NKelADWpf4aGo/hoYCt0oPShulDdKQBTf4acelB6UXATvS0uM0bTSASilpf4aBjaN1JnilagA3mkLcUjDn0pKBDGOTSAZp7LRGtOwByBTQT3qYqNvNRmiww/hqNu9PpGFIEMPWnbsGl20beaBoep4paFWigEL/DS5pi9KWgEPVqa/wAxppbFAOaAQZxTlptOWgEPWnbqappetAIN1LupKKAQ4NmlplOWgAOfWlH1zS/w0jcGkxj8Zopgb3pxapAKKTdRSsBptzTNpqTd9KRqZQ1eKctMPenUADUh6UUN0oAKKM0m6gBT0obpSbqQmgGOJppNFFBIjVGSae1JQAyhulK1NNAwam8UNnNNoGx9FM3YpynNNEi0UUVQBRRR3oAQ896VVqQKNtNbigBNvFMPFSHpTJB81ADc05aRRTqACnU2lWgAOaOakjHepGx6CgCv2pr9akaonoATdSFvSm7qTdQBJ5h200OfrTd1G4UAOLUlJniloAXFIymlpKBCdqRjinN0prUAgDU+o6WgEPDYpHOcU3NFAIatLxS01qAQNQM0AZpRxQCDPrSE0tI1AISjbRSrQCG7aNuO1TYG2o2HvTsCEpy0wU9aQIcPrUc3PHWn0bd1AIYqkYp5pegoagER0n8VLSfxUCJKiepCcVCx5oAcrYFODE1EGqQUCFzS9qSigCN880xFC9u9TEUw8MKdgHc0nSl3YFRtJ70WAeelN3e9N30mc0gH7veikWloAa1KtFGPwoAd/DSt0po+6adTAQij+Glp6ruFFwGhc08qMUoGKCM0gIm70U9hUZ707AOBpd1MOd1PC0gENNOaftpGGKAG/wANDUtLtyKAGUUu2jHFMA/ho6DilPSincaEYmo+fSrGB1NOVV54BpXGipzQKlkUbuKYeKQISnLTaev3TQCFDUGhqSgEM3Yo3UrUlOwIKKKVaLAhMnNSfw03HtTv4aQIWlBpKKAQ7dRuptOWgEKKctItLj8KAQtNag8Cm96TAcpp/UU3bRUjH0U3NFAH/9k=)"
      ]
    },
    {
      "cell_type": "markdown",
      "metadata": {
        "id": "AGWlcbJmjMuL"
      },
      "source": [
        "Recent Work on [IAT](https://www.stat.colostate.edu/~piotr/hieu.pdf)\n",
        "\n",
        "\n",
        "\n",
        "$$X \\sim \\mathrm{Exponential} f(x|\\theta)$$ with rate parameter $\\theta$\n",
        "\n",
        "Then CDF is $$F(x) = 1-e^{-\\theta x}$$ for x > 0\n",
        "\n",
        "Hence the second step of above algorithm becomes\n",
        "\n",
        "$$u=1-e^{-\\theta x}$$\n",
        "\n",
        "Inverting\n",
        "\n",
        "$$x=-\\frac{1}{\\theta}ln(1-u)$$"
      ]
    },
    {
      "cell_type": "markdown",
      "metadata": {
        "id": "vwNcpnlngxsC"
      },
      "source": [
        "# <font color=\"darkblue\"> Implemetation of the Algorithm - Inverse CDF Apprpoach to generate Random Numbers from Exponential Distribution"
      ]
    },
    {
      "cell_type": "code",
      "metadata": {
        "id": "36PeOvRyaHmi",
        "colab": {
          "base_uri": "https://localhost:8080/"
        },
        "outputId": "7219d3a9-c557-4152-f30b-055ff475bb51"
      },
      "source": [
        "u=st.uniform.rvs(0,1,10)\n",
        "theta = 2\n",
        "x=np.zeros_like(u)\n",
        "for i in range(0,10):\n",
        "    #print((-1/theta)* math.log(1-u[i]))\n",
        "    x[i]=(-1/theta)* math.log(1-u[i])\n",
        "u=pd.DataFrame(u)\n",
        "x=pd.DataFrame(x)\n",
        "\n",
        "a1=pd.concat([u,x],axis=1)\n",
        "a1.columns=[\"u~Unif\",\"x~Expo\"]\n",
        "print(a1.to_string(index=False))"
      ],
      "execution_count": null,
      "outputs": [
        {
          "output_type": "stream",
          "name": "stdout",
          "text": [
            "   u~Unif    x~Expo\n",
            " 0.114575  0.060844\n",
            " 0.911518  1.212477\n",
            " 0.980663  1.972859\n",
            " 0.457556  0.305835\n",
            " 0.163005  0.088969\n",
            " 0.066528  0.034422\n",
            " 0.092139  0.048332\n",
            " 0.345534  0.211968\n",
            " 0.725851  0.647042\n",
            " 0.973333  1.812166\n"
          ]
        }
      ]
    },
    {
      "cell_type": "markdown",
      "metadata": {
        "id": "cd32Kuh6hGGz"
      },
      "source": [
        "# <font color=\"darkblue\"> Graphical Display - Undersand Shape and spread"
      ]
    },
    {
      "cell_type": "code",
      "metadata": {
        "id": "OyiPku3ebiJm",
        "colab": {
          "base_uri": "https://localhost:8080/",
          "height": 267
        },
        "outputId": "a5825da7-0602-4062-83b1-06836c90f051"
      },
      "source": [
        "k=100\n",
        "u=st.uniform.rvs(0,1,k)\n",
        "theta = 2\n",
        "x=np.zeros_like(u)\n",
        "for i in range(0,k):\n",
        "    #print((-1/theta)* math.log(1-u[i]))\n",
        "    x[i]=(-1/theta)* math.log(1-u[i])\n",
        "\n",
        "x\n",
        "plt.hist(np.array(x),density=True)\n",
        "plt.show()"
      ],
      "execution_count": null,
      "outputs": [
        {
          "output_type": "display_data",
          "data": {
            "image/png": "[encoded data removed]",
            "text/plain": [
              "<Figure size 432x288 with 1 Axes>"
            ]
          },
          "metadata": {
            "needs_background": "light"
          }
        }
      ]
    },
    {
      "cell_type": "markdown",
      "metadata": {
        "id": "lJBxvWERhbo7"
      },
      "source": [
        "# <font color=\"darkblue\"> Using in-built Exponential Distribution Generator"
      ]
    },
    {
      "cell_type": "code",
      "metadata": {
        "id": "XXj0v24QgMi6",
        "colab": {
          "base_uri": "https://localhost:8080/",
          "height": 265
        },
        "outputId": "1d5a7f32-25e5-4051-ee18-656700bdd40e"
      },
      "source": [
        "k=100000\n",
        "ex_r=st.expon.rvs(loc=0,scale=1/2,size=k)\n",
        "\n",
        "plt.hist(np.array(ex_r),density=True)\n",
        "plt.show()"
      ],
      "execution_count": null,
      "outputs": [
        {
          "output_type": "display_data",
          "data": {
            "image/png": "[encoded data removed]",
            "text/plain": [
              "<Figure size 432x288 with 1 Axes>"
            ]
          },
          "metadata": {
            "needs_background": "light"
          }
        }
      ]
    },
    {
      "cell_type": "markdown",
      "metadata": {
        "id": "sgJQc1pa-lT_"
      },
      "source": [
        "# <font color=\"darkred\"> Probability Computations\n",
        "\n",
        "Probabilities using the PDF / PMF can be computed in a different notion\n",
        "\n",
        "1. In the case of a DRV, PMF itself is the probability of the RV at a given value\n",
        "\n",
        "2. If the RV is a CRV, then probability at an exact point is zero. It is calculated as **Area Under the Probability curve between two values of the RV**\n",
        "\n",
        "- Assume X is a CRV in the range (L, H) with pdf $f(x|\\theta)$; let a and be be two numbers in (L, H) then we can compute\n",
        "\n",
        "  - $Pr[X>a]=\\int_a^H f(x|\\theta)dx$\n",
        "\n",
        "  - $Pr[X<b]=\\int_L^b f(x|\\theta)dx$\n",
        "\n",
        "  - $Pr[a<X<b]=\\int_a^b f(x|\\theta)dx$"
      ]
    },
    {
      "cell_type": "code",
      "metadata": {
        "id": "ZF8B2fU5BgSg",
        "colab": {
          "base_uri": "https://localhost:8080/",
          "height": 612
        },
        "outputId": "20d52995-c479-4477-ce97-2beebdd52c1f"
      },
      "source": [
        "x = np.linspace(7, 15, 100)\n",
        "\n",
        "def f1(x):\n",
        "    return st.gamma.pdf(x,a=100,loc=0,scale=0.10)\n",
        "#f12 = np.vectorize(f1)\n",
        "y=st.gamma.pdf(x,a=100,loc=0,scale=0.10)\n",
        "\n",
        "fig = plt.figure(figsize = (20, 10))\n",
        "# # Create the plot\n",
        "\n",
        "plt.plot(x,y)\n",
        "plt.axvline(8, 0,1,color='g')\n",
        "plt.axvline(10, 0,1,color='g')\n",
        "\n",
        "\n",
        "plt.title(\"Gamma Distribution Shape=100, scale=0.10 (a=8,b=10)\",fontsize=20)\n",
        "plt.show()"
      ],
      "execution_count": null,
      "outputs": [
        {
          "output_type": "display_data",
          "data": {
            "image/png": "[encoded data removed]",
            "text/plain": [
              "<Figure size 1440x720 with 1 Axes>"
            ]
          },
          "metadata": {
            "needs_background": "light"
          }
        }
      ]
    },
    {
      "cell_type": "markdown",
      "metadata": {
        "id": "7irm4Gq08kCL"
      },
      "source": [
        "# <font color=\"darkblue\"> About Scipy Distributions\n",
        "\n",
        "**Conventions for these four basic functions**\n",
        "\n",
        "1. pmf for DRV and pdf for CRV\n",
        "\n",
        "1. cdf for both types\n",
        "\n",
        "1. ppf for both types\n",
        "\n",
        "1. rvs for both types\n",
        "\n",
        "First three has similar input style (in most of the cases) with a note on three major parameters **location, scale and shape**\n",
        "\n",
        "Fourth one (rvs) is to generate samples from the specified distribution has argument <font color=\"blue\">*size*</font> after other inputs\n",
        "\n"
      ]
    },
    {
      "cell_type": "markdown",
      "metadata": {
        "id": "653i5JnOKgUC"
      },
      "source": [
        "# <font color=\"darkblue\"> Discrete Uniform Distribution"
      ]
    },
    {
      "cell_type": "code",
      "metadata": {
        "id": "VSEX1vdZKkPR"
      },
      "source": [
        "st.randint.pmf(k=6,low=5,high=10)"
      ],
      "execution_count": null,
      "outputs": []
    },
    {
      "cell_type": "code",
      "metadata": {
        "id": "wZk24U8ZLFJs"
      },
      "source": [
        "st.randint.cdf(k=6,low=5,high=10)"
      ],
      "execution_count": null,
      "outputs": []
    },
    {
      "cell_type": "code",
      "metadata": {
        "id": "_lNm51tFLHX6"
      },
      "source": [
        "st.randint.ppf(q=0.6,low=5,high=10)"
      ],
      "execution_count": null,
      "outputs": []
    },
    {
      "cell_type": "code",
      "metadata": {
        "id": "TjDdiZLuLJzJ"
      },
      "source": [
        "st.randint.rvs(low=5,high=10,size=5)"
      ],
      "execution_count": null,
      "outputs": []
    },
    {
      "cell_type": "markdown",
      "metadata": {
        "id": "negxBlBFKVgJ"
      },
      "source": [
        "# <font color=\"darkblue\"> Continuous Uniform Distribution"
      ]
    },
    {
      "cell_type": "code",
      "metadata": {
        "id": "ObnebWbfJ-mu"
      },
      "source": [
        "st.uniform.pdf(x=4,loc=5,scale=10)"
      ],
      "execution_count": null,
      "outputs": []
    },
    {
      "cell_type": "code",
      "metadata": {
        "id": "nEwDtakWKHk7"
      },
      "source": [
        "st.uniform.cdf(x=4,loc=5,scale=10)"
      ],
      "execution_count": null,
      "outputs": []
    },
    {
      "cell_type": "code",
      "metadata": {
        "id": "e9t3OoMeKLiP"
      },
      "source": [
        "st.uniform.ppf(x=0.4,loc=5,scale=10)"
      ],
      "execution_count": null,
      "outputs": []
    },
    {
      "cell_type": "code",
      "metadata": {
        "id": "tQqj9MC6J8it"
      },
      "source": [
        "st.uniform.rvs(loc=5,scale=10,size=10)"
      ],
      "execution_count": null,
      "outputs": []
    },
    {
      "cell_type": "markdown",
      "metadata": {
        "id": "l43ofoKLLamN"
      },
      "source": [
        "# <font color=\"darkblue\"> Binomial Distribution"
      ]
    },
    {
      "cell_type": "code",
      "metadata": {
        "id": "D5PXxg5gLj4u",
        "colab": {
          "base_uri": "https://localhost:8080/"
        },
        "outputId": "4ab87a76-502f-4a90-8c55-4c43c8424391"
      },
      "source": [
        "st.binom.pmf(5, 12,0.8)"
      ],
      "execution_count": null,
      "outputs": [
        {
          "output_type": "execute_result",
          "data": {
            "text/plain": [
              "0.0033218887679999924"
            ]
          },
          "metadata": {},
          "execution_count": 30
        }
      ]
    },
    {
      "cell_type": "code",
      "metadata": {
        "id": "7flwJsX2LwBY",
        "colab": {
          "base_uri": "https://localhost:8080/"
        },
        "outputId": "0176a04d-e5b1-4188-ec92-fe660b75cd2c"
      },
      "source": [
        "st.binom.cdf(5, 12,0.8)"
      ],
      "execution_count": null,
      "outputs": [
        {
          "output_type": "execute_result",
          "data": {
            "text/plain": [
              "0.0039031316479999968"
            ]
          },
          "metadata": {},
          "execution_count": 31
        }
      ]
    },
    {
      "cell_type": "code",
      "metadata": {
        "id": "QBRETXqqL1Br",
        "colab": {
          "base_uri": "https://localhost:8080/"
        },
        "outputId": "57234fdc-4eeb-4bce-b359-a0711cf35139"
      },
      "source": [
        "st.binom.ppf(0.5, 12,0.8)"
      ],
      "execution_count": null,
      "outputs": [
        {
          "output_type": "execute_result",
          "data": {
            "text/plain": [
              "10.0"
            ]
          },
          "metadata": {},
          "execution_count": 32
        }
      ]
    },
    {
      "cell_type": "code",
      "metadata": {
        "id": "yU36SPAML7FM",
        "colab": {
          "base_uri": "https://localhost:8080/"
        },
        "outputId": "7cf7b485-5940-4a91-b7a0-15cae183a2f1"
      },
      "source": [
        "st.binom.rvs(12,0.8,size=50)"
      ],
      "execution_count": null,
      "outputs": [
        {
          "output_type": "execute_result",
          "data": {
            "text/plain": [
              "array([ 9, 10, 10, 10, 11,  9, 12,  9, 10, 10, 10,  8,  8, 10,  9, 11,  6,\n",
              "       10,  9,  7,  7,  8,  9, 10, 11,  8, 10, 10, 11, 11,  7, 10, 10, 10,\n",
              "       10,  7,  9,  9, 11,  9, 10, 12,  9, 10,  9, 10,  8,  8,  9,  9])"
            ]
          },
          "metadata": {},
          "execution_count": 38
        }
      ]
    },
    {
      "cell_type": "markdown",
      "metadata": {
        "id": "EDUgx-UFkQvZ"
      },
      "source": [
        "# # <font color=\"darkblue\"> ECO System\n",
        "\n",
        "- Elusive\n",
        "\n",
        "- Compulsive\n",
        "\n",
        "- Obsessive\n",
        "\n",
        "1. Distributions are wealthier aspect in modelling science\n",
        "\n",
        "1. Classification and Components of a distribution\n",
        "\n",
        "1. How to read Distributions?\n",
        "\n",
        "1. What to do with Dsitributions?\n",
        "\n",
        "1. Computational ease with Monte-Carlo simulations\n",
        "\n",
        "## <font color=\"red\"> How these things help Bayesian Implementations?"
      ]
    },
    {
      "cell_type": "markdown",
      "source": [
        "\n",
        "# Two Classical Books\n",
        "\n",
        "[Devroye Non-Uniform Random Variate Generation](http://www.eirene.de/Devroye.pdf)\n",
        "\n",
        "[Robert Casella Monte Carlo Statistical Methods](https://link.springer.com/book/10.1007/978-1-4757-4145-2)"
      ],
      "metadata": {
        "id": "FTWdDbUYbyUi"
      }
    }
  ]
}