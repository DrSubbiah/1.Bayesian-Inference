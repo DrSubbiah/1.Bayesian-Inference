{
  "nbformat": 4,
  "nbformat_minor": 0,
  "metadata": {
    "colab": {
      "provenance": [],
      "include_colab_link": true
    },
    "kernelspec": {
      "name": "python3",
      "display_name": "Python 3"
    },
    "language_info": {
      "name": "python"
    }
  },
  "cells": [
    {
      "cell_type": "markdown",
      "metadata": {
        "id": "view-in-github",
        "colab_type": "text"
      },
      "source": [
        "<a href=\"https://colab.research.google.com/github/DrSubbiah/1.Bayesian-Inference/blob/master/9_BinomialProp.ipynb\" target=\"_parent\"><img src=\"https://colab.research.google.com/assets/colab-badge.svg\" alt=\"Open In Colab\"/></a>"
      ]
    },
    {
      "cell_type": "markdown",
      "source": [
        "# <font color=\"darkblue\">Binary Data Model"
      ],
      "metadata": {
        "id": "XlUc5i8MuNiz"
      }
    },
    {
      "cell_type": "code",
      "metadata": {
        "id": "UDzJwyIZdo5d"
      },
      "source": [
        "import numpy as np\n",
        "import pandas as pd\n",
        "import statistics as stat\n",
        "import scipy\n",
        "import pystan"
      ],
      "execution_count": null,
      "outputs": []
    },
    {
      "cell_type": "code",
      "source": [
        "#For plots\n",
        "import arviz as az\n",
        "import matplotlib.pyplot as plt"
      ],
      "metadata": {
        "id": "GZVS5yLEzsho"
      },
      "execution_count": null,
      "outputs": []
    },
    {
      "cell_type": "markdown",
      "source": [
        "#<font color=\"darkblue\"> Loading Data"
      ],
      "metadata": {
        "id": "oTAaS7BCvrOK"
      }
    },
    {
      "cell_type": "code",
      "source": [
        "from google.colab import drive\n",
        "drive.mount('/content/drive')"
      ],
      "metadata": {
        "id": "r2OBfEcUrmIf",
        "colab": {
          "base_uri": "https://localhost:8080/"
        },
        "outputId": "118ce9ee-dbd7-4a60-8646-98b7f424c655"
      },
      "execution_count": null,
      "outputs": [
        {
          "output_type": "stream",
          "name": "stdout",
          "text": [
            "Mounted at /content/drive\n"
          ]
        }
      ]
    },
    {
      "cell_type": "code",
      "source": [
        "path = \"/content/drive/MyDrive/Data Sets/Heart_data.csv\"\n",
        "hrt_da = pd.read_csv(path)"
      ],
      "metadata": {
        "id": "aAMvPAg5osYd"
      },
      "execution_count": null,
      "outputs": []
    },
    {
      "cell_type": "code",
      "source": [
        "hrt_da.head()"
      ],
      "metadata": {
        "id": "xHioRCj_qRic"
      },
      "execution_count": null,
      "outputs": []
    },
    {
      "cell_type": "code",
      "source": [
        "hrt_da=hrt_da.assign(chd_c=lambda x:x['chd'].apply(lambda y: 1 if y==\"Yes\" else 0))"
      ],
      "metadata": {
        "id": "K419snC7rlEt"
      },
      "execution_count": null,
      "outputs": []
    },
    {
      "cell_type": "code",
      "source": [
        "hrt_da['chd_c'] = hrt_da['chd_c'].astype('category')"
      ],
      "metadata": {
        "id": "MfjRzKBZ17CR"
      },
      "execution_count": null,
      "outputs": []
    },
    {
      "cell_type": "code",
      "source": [
        "print(hrt_da.dtypes)"
      ],
      "metadata": {
        "id": "zg-pFsGIshry"
      },
      "execution_count": null,
      "outputs": []
    },
    {
      "cell_type": "markdown",
      "source": [
        "# <font color=\"darkblue\"> Model 1. Binomial - Beta Model\n",
        "\n",
        "## logit transformation is also included\n",
        "\n",
        "Also the input is based on the two models\n",
        "\n",
        "- Data: Binomial\n",
        "\n",
        "- Prior: Beta"
      ],
      "metadata": {
        "id": "-3kCwo4iuV6Y"
      }
    },
    {
      "cell_type": "markdown",
      "source": [
        "# Input - data and values for prior parameters a and b"
      ],
      "metadata": {
        "id": "uRCsTxSwe5N0"
      }
    },
    {
      "cell_type": "code",
      "metadata": {
        "id": "M1pt1pa2hzfB",
        "colab": {
          "base_uri": "https://localhost:8080/"
        },
        "outputId": "b4cb66ba-fd2d-4806-8f6d-a91bdf990d30"
      },
      "source": [
        "hrt_data = {\n",
        "             'n': len(hrt_da),\n",
        "             'y': len(hrt_da.loc[hrt_da['chd'] == 'Yes']),\n",
        "             'a':1,\n",
        "             'b':1,\n",
        "            }\n",
        "print(hrt_data)"
      ],
      "execution_count": null,
      "outputs": [
        {
          "output_type": "stream",
          "name": "stdout",
          "text": [
            "{'n': 462, 'y': 160, 'a': 1, 'b': 1}\n"
          ]
        }
      ]
    },
    {
      "cell_type": "code",
      "metadata": {
        "id": "7biE-f55jhxB",
        "colab": {
          "base_uri": "https://localhost:8080/"
        },
        "outputId": "d5ab812f-bcca-4565-e06d-4d807b7e9b83"
      },
      "source": [
        "hrt_code1 = \"\"\"\n",
        "data {\n",
        "    real<lower=0> a;\n",
        "    real<lower=0> b;\n",
        "    int<lower=0> n;\n",
        "    int<lower=0> y;\n",
        "}\n",
        "\n",
        "parameters {\n",
        "    real<lower=0, upper=1> p;\n",
        "}\n",
        "\n",
        "transformed parameters {\n",
        "  real theta;\n",
        "  theta=logit(p);\n",
        "}\n",
        "\n",
        "model {\n",
        "      y ~ binomial(n, p);\n",
        "      p ~ beta(a, b);\n",
        "}\n",
        "\"\"\"\n",
        "# posterior\n",
        "posterior1 = pystan.StanModel(model_code=hrt_code1)"
      ],
      "execution_count": null,
      "outputs": [
        {
          "output_type": "stream",
          "name": "stderr",
          "text": [
            "INFO:pystan:COMPILING THE C++ CODE FOR MODEL anon_model_725616b82292790061373c1b3775c9b7 NOW.\n"
          ]
        }
      ]
    },
    {
      "cell_type": "code",
      "source": [
        "fit_model1= posterior1.sampling(data=hrt_data,\n",
        "                  iter=10000,\n",
        "                  chains=4,\n",
        "                  seed=1,\n",
        "                  warmup=3000,\n",
        "                  thin=1,\n",
        "                  control={\"max_treedepth\":15,\"adapt_delta\" : 0.9999})"
      ],
      "metadata": {
        "id": "o17TSGH8HjJ3"
      },
      "execution_count": null,
      "outputs": []
    },
    {
      "cell_type": "code",
      "source": [
        "hrt_data_op=az.from_pystan(posterior=fit_model1)#,observed_data=['y'])\n",
        "hrt_data_op"
      ],
      "metadata": {
        "colab": {
          "base_uri": "https://localhost:8080/",
          "height": 110
        },
        "id": "npEpfnlreCZR",
        "outputId": "898f3478-28e9-4c79-ecb1-88fa7fce1c62"
      },
      "execution_count": null,
      "outputs": [
        {
          "output_type": "execute_result",
          "data": {
            "text/html": [
              "\n",
              "            <div>\n",
              "              <div class='xr-header'>\n",
              "                <div class=\"xr-obj-type\">arviz.InferenceData</div>\n",
              "              </div>\n",
              "              <ul class=\"xr-sections group-sections\">\n",
              "              \n",
              "            <li class = \"xr-section-item\">\n",
              "                  <input id=\"idata_posteriorceed37b6-1986-4427-ae90-696ca3f01852\" class=\"xr-section-summary-in\" type=\"checkbox\">\n",
              "                  <label for=\"idata_posteriorceed37b6-1986-4427-ae90-696ca3f01852\" class = \"xr-section-summary\">posterior</label>\n",
              "                  <div class=\"xr-section-inline-details\"></div>\n",
              "                  <div class=\"xr-section-details\">\n",
              "                      <ul id=\"xr-dataset-coord-list\" class=\"xr-var-list\">\n",
              "                          <div style=\"padding-left:2rem;\"><div><svg style=\"position: absolute; width: 0; height: 0; overflow: hidden\">\n",
              "<defs>\n",
              "<symbol id=\"icon-database\" viewBox=\"0 0 32 32\">\n",
              "<path d=\"M16 0c-8.837 0-16 2.239-16 5v4c0 2.761 7.163 5 16 5s16-2.239 16-5v-4c0-2.761-7.163-5-16-5z\"></path>\n",
              "<path d=\"M16 17c-8.837 0-16-2.239-16-5v6c0 2.761 7.163 5 16 5s16-2.239 16-5v-6c0 2.761-7.163 5-16 5z\"></path>\n",
              "<path d=\"M16 26c-8.837 0-16-2.239-16-5v6c0 2.761 7.163 5 16 5s16-2.239 16-5v-6c0 2.761-7.163 5-16 5z\"></path>\n",
              "</symbol>\n",
              "<symbol id=\"icon-file-text2\" viewBox=\"0 0 32 32\">\n",
              "<path d=\"M28.681 7.159c-0.694-0.947-1.662-2.053-2.724-3.116s-2.169-2.030-3.116-2.724c-1.612-1.182-2.393-1.319-2.841-1.319h-15.5c-1.378 0-2.5 1.121-2.5 2.5v27c0 1.378 1.122 2.5 2.5 2.5h23c1.378 0 2.5-1.122 2.5-2.5v-19.5c0-0.448-0.137-1.23-1.319-2.841zM24.543 5.457c0.959 0.959 1.712 1.825 2.268 2.543h-4.811v-4.811c0.718 0.556 1.584 1.309 2.543 2.268zM28 29.5c0 0.271-0.229 0.5-0.5 0.5h-23c-0.271 0-0.5-0.229-0.5-0.5v-27c0-0.271 0.229-0.5 0.5-0.5 0 0 15.499-0 15.5 0v7c0 0.552 0.448 1 1 1h7v19.5z\"></path>\n",
              "<path d=\"M23 26h-14c-0.552 0-1-0.448-1-1s0.448-1 1-1h14c0.552 0 1 0.448 1 1s-0.448 1-1 1z\"></path>\n",
              "<path d=\"M23 22h-14c-0.552 0-1-0.448-1-1s0.448-1 1-1h14c0.552 0 1 0.448 1 1s-0.448 1-1 1z\"></path>\n",
              "<path d=\"M23 18h-14c-0.552 0-1-0.448-1-1s0.448-1 1-1h14c0.552 0 1 0.448 1 1s-0.448 1-1 1z\"></path>\n",
              "</symbol>\n",
              "</defs>\n",
              "</svg>\n",
              "<style>/* CSS stylesheet for displaying xarray objects in jupyterlab.\n",
              " *\n",
              " */\n",
              "\n",
              ":root {\n",
              "  --xr-font-color0: var(--jp-content-font-color0, rgba(0, 0, 0, 1));\n",
              "  --xr-font-color2: var(--jp-content-font-color2, rgba(0, 0, 0, 0.54));\n",
              "  --xr-font-color3: var(--jp-content-font-color3, rgba(0, 0, 0, 0.38));\n",
              "  --xr-border-color: var(--jp-border-color2, #e0e0e0);\n",
              "  --xr-disabled-color: var(--jp-layout-color3, #bdbdbd);\n",
              "  --xr-background-color: var(--jp-layout-color0, white);\n",
              "  --xr-background-color-row-even: var(--jp-layout-color1, white);\n",
              "  --xr-background-color-row-odd: var(--jp-layout-color2, #eeeeee);\n",
              "}\n",
              "\n",
              "html[theme=dark],\n",
              "body.vscode-dark {\n",
              "  --xr-font-color0: rgba(255, 255, 255, 1);\n",
              "  --xr-font-color2: rgba(255, 255, 255, 0.54);\n",
              "  --xr-font-color3: rgba(255, 255, 255, 0.38);\n",
              "  --xr-border-color: #1F1F1F;\n",
              "  --xr-disabled-color: #515151;\n",
              "  --xr-background-color: #111111;\n",
              "  --xr-background-color-row-even: #111111;\n",
              "  --xr-background-color-row-odd: #313131;\n",
              "}\n",
              "\n",
              ".xr-wrap {\n",
              "  display: block;\n",
              "  min-width: 300px;\n",
              "  max-width: 700px;\n",
              "}\n",
              "\n",
              ".xr-text-repr-fallback {\n",
              "  /* fallback to plain text repr when CSS is not injected (untrusted notebook) */\n",
              "  display: none;\n",
              "}\n",
              "\n",
              ".xr-header {\n",
              "  padding-top: 6px;\n",
              "  padding-bottom: 6px;\n",
              "  margin-bottom: 4px;\n",
              "  border-bottom: solid 1px var(--xr-border-color);\n",
              "}\n",
              "\n",
              ".xr-header > div,\n",
              ".xr-header > ul {\n",
              "  display: inline;\n",
              "  margin-top: 0;\n",
              "  margin-bottom: 0;\n",
              "}\n",
              "\n",
              ".xr-obj-type,\n",
              ".xr-array-name {\n",
              "  margin-left: 2px;\n",
              "  margin-right: 10px;\n",
              "}\n",
              "\n",
              ".xr-obj-type {\n",
              "  color: var(--xr-font-color2);\n",
              "}\n",
              "\n",
              ".xr-sections {\n",
              "  padding-left: 0 !important;\n",
              "  display: grid;\n",
              "  grid-template-columns: 150px auto auto 1fr 20px 20px;\n",
              "}\n",
              "\n",
              ".xr-section-item {\n",
              "  display: contents;\n",
              "}\n",
              "\n",
              ".xr-section-item input {\n",
              "  display: none;\n",
              "}\n",
              "\n",
              ".xr-section-item input + label {\n",
              "  color: var(--xr-disabled-color);\n",
              "}\n",
              "\n",
              ".xr-section-item input:enabled + label {\n",
              "  cursor: pointer;\n",
              "  color: var(--xr-font-color2);\n",
              "}\n",
              "\n",
              ".xr-section-item input:enabled + label:hover {\n",
              "  color: var(--xr-font-color0);\n",
              "}\n",
              "\n",
              ".xr-section-summary {\n",
              "  grid-column: 1;\n",
              "  color: var(--xr-font-color2);\n",
              "  font-weight: 500;\n",
              "}\n",
              "\n",
              ".xr-section-summary > span {\n",
              "  display: inline-block;\n",
              "  padding-left: 0.5em;\n",
              "}\n",
              "\n",
              ".xr-section-summary-in:disabled + label {\n",
              "  color: var(--xr-font-color2);\n",
              "}\n",
              "\n",
              ".xr-section-summary-in + label:before {\n",
              "  display: inline-block;\n",
              "  content: '►';\n",
              "  font-size: 11px;\n",
              "  width: 15px;\n",
              "  text-align: center;\n",
              "}\n",
              "\n",
              ".xr-section-summary-in:disabled + label:before {\n",
              "  color: var(--xr-disabled-color);\n",
              "}\n",
              "\n",
              ".xr-section-summary-in:checked + label:before {\n",
              "  content: '▼';\n",
              "}\n",
              "\n",
              ".xr-section-summary-in:checked + label > span {\n",
              "  display: none;\n",
              "}\n",
              "\n",
              ".xr-section-summary,\n",
              ".xr-section-inline-details {\n",
              "  padding-top: 4px;\n",
              "  padding-bottom: 4px;\n",
              "}\n",
              "\n",
              ".xr-section-inline-details {\n",
              "  grid-column: 2 / -1;\n",
              "}\n",
              "\n",
              ".xr-section-details {\n",
              "  display: none;\n",
              "  grid-column: 1 / -1;\n",
              "  margin-bottom: 5px;\n",
              "}\n",
              "\n",
              ".xr-section-summary-in:checked ~ .xr-section-details {\n",
              "  display: contents;\n",
              "}\n",
              "\n",
              ".xr-array-wrap {\n",
              "  grid-column: 1 / -1;\n",
              "  display: grid;\n",
              "  grid-template-columns: 20px auto;\n",
              "}\n",
              "\n",
              ".xr-array-wrap > label {\n",
              "  grid-column: 1;\n",
              "  vertical-align: top;\n",
              "}\n",
              "\n",
              ".xr-preview {\n",
              "  color: var(--xr-font-color3);\n",
              "}\n",
              "\n",
              ".xr-array-preview,\n",
              ".xr-array-data {\n",
              "  padding: 0 5px !important;\n",
              "  grid-column: 2;\n",
              "}\n",
              "\n",
              ".xr-array-data,\n",
              ".xr-array-in:checked ~ .xr-array-preview {\n",
              "  display: none;\n",
              "}\n",
              "\n",
              ".xr-array-in:checked ~ .xr-array-data,\n",
              ".xr-array-preview {\n",
              "  display: inline-block;\n",
              "}\n",
              "\n",
              ".xr-dim-list {\n",
              "  display: inline-block !important;\n",
              "  list-style: none;\n",
              "  padding: 0 !important;\n",
              "  margin: 0;\n",
              "}\n",
              "\n",
              ".xr-dim-list li {\n",
              "  display: inline-block;\n",
              "  padding: 0;\n",
              "  margin: 0;\n",
              "}\n",
              "\n",
              ".xr-dim-list:before {\n",
              "  content: '(';\n",
              "}\n",
              "\n",
              ".xr-dim-list:after {\n",
              "  content: ')';\n",
              "}\n",
              "\n",
              ".xr-dim-list li:not(:last-child):after {\n",
              "  content: ',';\n",
              "  padding-right: 5px;\n",
              "}\n",
              "\n",
              ".xr-has-index {\n",
              "  font-weight: bold;\n",
              "}\n",
              "\n",
              ".xr-var-list,\n",
              ".xr-var-item {\n",
              "  display: contents;\n",
              "}\n",
              "\n",
              ".xr-var-item > div,\n",
              ".xr-var-item label,\n",
              ".xr-var-item > .xr-var-name span {\n",
              "  background-color: var(--xr-background-color-row-even);\n",
              "  margin-bottom: 0;\n",
              "}\n",
              "\n",
              ".xr-var-item > .xr-var-name:hover span {\n",
              "  padding-right: 5px;\n",
              "}\n",
              "\n",
              ".xr-var-list > li:nth-child(odd) > div,\n",
              ".xr-var-list > li:nth-child(odd) > label,\n",
              ".xr-var-list > li:nth-child(odd) > .xr-var-name span {\n",
              "  background-color: var(--xr-background-color-row-odd);\n",
              "}\n",
              "\n",
              ".xr-var-name {\n",
              "  grid-column: 1;\n",
              "}\n",
              "\n",
              ".xr-var-dims {\n",
              "  grid-column: 2;\n",
              "}\n",
              "\n",
              ".xr-var-dtype {\n",
              "  grid-column: 3;\n",
              "  text-align: right;\n",
              "  color: var(--xr-font-color2);\n",
              "}\n",
              "\n",
              ".xr-var-preview {\n",
              "  grid-column: 4;\n",
              "}\n",
              "\n",
              ".xr-var-name,\n",
              ".xr-var-dims,\n",
              ".xr-var-dtype,\n",
              ".xr-preview,\n",
              ".xr-attrs dt {\n",
              "  white-space: nowrap;\n",
              "  overflow: hidden;\n",
              "  text-overflow: ellipsis;\n",
              "  padding-right: 10px;\n",
              "}\n",
              "\n",
              ".xr-var-name:hover,\n",
              ".xr-var-dims:hover,\n",
              ".xr-var-dtype:hover,\n",
              ".xr-attrs dt:hover {\n",
              "  overflow: visible;\n",
              "  width: auto;\n",
              "  z-index: 1;\n",
              "}\n",
              "\n",
              ".xr-var-attrs,\n",
              ".xr-var-data {\n",
              "  display: none;\n",
              "  background-color: var(--xr-background-color) !important;\n",
              "  padding-bottom: 5px !important;\n",
              "}\n",
              "\n",
              ".xr-var-attrs-in:checked ~ .xr-var-attrs,\n",
              ".xr-var-data-in:checked ~ .xr-var-data {\n",
              "  display: block;\n",
              "}\n",
              "\n",
              ".xr-var-data > table {\n",
              "  float: right;\n",
              "}\n",
              "\n",
              ".xr-var-name span,\n",
              ".xr-var-data,\n",
              ".xr-attrs {\n",
              "  padding-left: 25px !important;\n",
              "}\n",
              "\n",
              ".xr-attrs,\n",
              ".xr-var-attrs,\n",
              ".xr-var-data {\n",
              "  grid-column: 1 / -1;\n",
              "}\n",
              "\n",
              "dl.xr-attrs {\n",
              "  padding: 0;\n",
              "  margin: 0;\n",
              "  display: grid;\n",
              "  grid-template-columns: 125px auto;\n",
              "}\n",
              "\n",
              ".xr-attrs dt,\n",
              ".xr-attrs dd {\n",
              "  padding: 0;\n",
              "  margin: 0;\n",
              "  float: left;\n",
              "  padding-right: 10px;\n",
              "  width: auto;\n",
              "}\n",
              "\n",
              ".xr-attrs dt {\n",
              "  font-weight: normal;\n",
              "  grid-column: 1;\n",
              "}\n",
              "\n",
              ".xr-attrs dt:hover span {\n",
              "  display: inline-block;\n",
              "  background: var(--xr-background-color);\n",
              "  padding-right: 10px;\n",
              "}\n",
              "\n",
              ".xr-attrs dd {\n",
              "  grid-column: 2;\n",
              "  white-space: pre-wrap;\n",
              "  word-break: break-all;\n",
              "}\n",
              "\n",
              ".xr-icon-database,\n",
              ".xr-icon-file-text2 {\n",
              "  display: inline-block;\n",
              "  vertical-align: middle;\n",
              "  width: 1em;\n",
              "  height: 1.5em !important;\n",
              "  stroke-width: 0;\n",
              "  stroke: currentColor;\n",
              "  fill: currentColor;\n",
              "}\n",
              "</style><pre class='xr-text-repr-fallback'>&lt;xarray.Dataset&gt;\n",
              "Dimensions:  (chain: 4, draw: 7000)\n",
              "Coordinates:\n",
              "  * chain    (chain) int64 0 1 2 3\n",
              "  * draw     (draw) int64 0 1 2 3 4 5 6 7 ... 6993 6994 6995 6996 6997 6998 6999\n",
              "Data variables:\n",
              "    p        (chain, draw) float64 0.3139 0.3178 0.3183 ... 0.3398 0.3414 0.3447\n",
              "    theta    (chain, draw) float64 -0.7818 -0.7639 -0.7615 ... -0.657 -0.6424\n",
              "Attributes:\n",
              "    created_at:                 2021-12-27T15:25:03.834088\n",
              "    arviz_version:              0.11.4\n",
              "    inference_library:          pystan\n",
              "    inference_library_version:  2.19.1.1\n",
              "    args:                       [{&quot;random_seed&quot;: &quot;1&quot;, &quot;chain_id&quot;: 0, &quot;init&quot;: ...\n",
              "    inits:                      [[0.88079694518864, 1.999998735263893], [0.40...\n",
              "    step_size:                  [0.20678, 0.291604, 0.338458, 0.154055]\n",
              "    metric:                     [&#x27;diag_e&#x27;, &#x27;diag_e&#x27;, &#x27;diag_e&#x27;, &#x27;diag_e&#x27;]\n",
              "    inv_metric:                 [[0.00931087], [0.00891747], [0.00913642], [0...\n",
              "    adaptation_info:            [&#x27;# Adaptation terminated\\n# Step size = 0.20...\n",
              "    stan_code:                  \\ndata {\\n    real&lt;lower=0&gt; a;\\n    real&lt;lowe...</pre><div class='xr-wrap' hidden><div class='xr-header'><div class='xr-obj-type'>xarray.Dataset</div></div><ul class='xr-sections'><li class='xr-section-item'><input id='section-db94659a-6d68-4373-8d98-7df486b0f3b1' class='xr-section-summary-in' type='checkbox' disabled ><label for='section-db94659a-6d68-4373-8d98-7df486b0f3b1' class='xr-section-summary'  title='Expand/collapse section'>Dimensions:</label><div class='xr-section-inline-details'><ul class='xr-dim-list'><li><span class='xr-has-index'>chain</span>: 4</li><li><span class='xr-has-index'>draw</span>: 7000</li></ul></div><div class='xr-section-details'></div></li><li class='xr-section-item'><input id='section-7bea9162-1fa4-47aa-ab76-14b2727bf2f4' class='xr-section-summary-in' type='checkbox'  checked><label for='section-7bea9162-1fa4-47aa-ab76-14b2727bf2f4' class='xr-section-summary' >Coordinates: <span>(2)</span></label><div class='xr-section-inline-details'></div><div class='xr-section-details'><ul class='xr-var-list'><li class='xr-var-item'><div class='xr-var-name'><span class='xr-has-index'>chain</span></div><div class='xr-var-dims'>(chain)</div><div class='xr-var-dtype'>int64</div><div class='xr-var-preview xr-preview'>0 1 2 3</div><input id='attrs-94ec0a1e-22f4-4e46-ae82-9ddfcf9f4b31' class='xr-var-attrs-in' type='checkbox' disabled><label for='attrs-94ec0a1e-22f4-4e46-ae82-9ddfcf9f4b31' title='Show/Hide attributes'><svg class='icon xr-icon-file-text2'><use xlink:href='#icon-file-text2'></use></svg></label><input id='data-722138bd-1164-446f-a61d-5d645a71cd97' class='xr-var-data-in' type='checkbox'><label for='data-722138bd-1164-446f-a61d-5d645a71cd97' title='Show/Hide data repr'><svg class='icon xr-icon-database'><use xlink:href='#icon-database'></use></svg></label><div class='xr-var-attrs'><dl class='xr-attrs'></dl></div><div class='xr-var-data'><pre>array([0, 1, 2, 3])</pre></div></li><li class='xr-var-item'><div class='xr-var-name'><span class='xr-has-index'>draw</span></div><div class='xr-var-dims'>(draw)</div><div class='xr-var-dtype'>int64</div><div class='xr-var-preview xr-preview'>0 1 2 3 4 ... 6996 6997 6998 6999</div><input id='attrs-acffd1b8-8542-42a6-aed1-12f24aceba04' class='xr-var-attrs-in' type='checkbox' disabled><label for='attrs-acffd1b8-8542-42a6-aed1-12f24aceba04' title='Show/Hide attributes'><svg class='icon xr-icon-file-text2'><use xlink:href='#icon-file-text2'></use></svg></label><input id='data-4ca6f313-5fef-4bfb-8220-12a24fa94ede' class='xr-var-data-in' type='checkbox'><label for='data-4ca6f313-5fef-4bfb-8220-12a24fa94ede' title='Show/Hide data repr'><svg class='icon xr-icon-database'><use xlink:href='#icon-database'></use></svg></label><div class='xr-var-attrs'><dl class='xr-attrs'></dl></div><div class='xr-var-data'><pre>array([   0,    1,    2, ..., 6997, 6998, 6999])</pre></div></li></ul></div></li><li class='xr-section-item'><input id='section-fecff86e-9def-4214-93e3-a154ad16ebe4' class='xr-section-summary-in' type='checkbox'  checked><label for='section-fecff86e-9def-4214-93e3-a154ad16ebe4' class='xr-section-summary' >Data variables: <span>(2)</span></label><div class='xr-section-inline-details'></div><div class='xr-section-details'><ul class='xr-var-list'><li class='xr-var-item'><div class='xr-var-name'><span>p</span></div><div class='xr-var-dims'>(chain, draw)</div><div class='xr-var-dtype'>float64</div><div class='xr-var-preview xr-preview'>0.3139 0.3178 ... 0.3414 0.3447</div><input id='attrs-509cb380-86a5-4eda-a476-2c898969ede2' class='xr-var-attrs-in' type='checkbox' disabled><label for='attrs-509cb380-86a5-4eda-a476-2c898969ede2' title='Show/Hide attributes'><svg class='icon xr-icon-file-text2'><use xlink:href='#icon-file-text2'></use></svg></label><input id='data-ca5ed866-bcd4-453b-8dcc-3d2385baf708' class='xr-var-data-in' type='checkbox'><label for='data-ca5ed866-bcd4-453b-8dcc-3d2385baf708' title='Show/Hide data repr'><svg class='icon xr-icon-database'><use xlink:href='#icon-database'></use></svg></label><div class='xr-var-attrs'><dl class='xr-attrs'></dl></div><div class='xr-var-data'><pre>array([[0.31392387, 0.3178097 , 0.3183178 , ..., 0.36661844, 0.35580453,\n",
              "        0.37270076],\n",
              "       [0.33224041, 0.38102743, 0.38647717, ..., 0.33849949, 0.34742441,\n",
              "        0.36500771],\n",
              "       [0.34928882, 0.34023818, 0.34036028, ..., 0.32527819, 0.32210093,\n",
              "        0.30998351],\n",
              "       [0.34850888, 0.35089453, 0.35063987, ..., 0.33983179, 0.34141266,\n",
              "        0.34471232]])</pre></div></li><li class='xr-var-item'><div class='xr-var-name'><span>theta</span></div><div class='xr-var-dims'>(chain, draw)</div><div class='xr-var-dtype'>float64</div><div class='xr-var-preview xr-preview'>-0.7818 -0.7639 ... -0.657 -0.6424</div><input id='attrs-08044110-0303-44da-8e8f-9caf7e4381aa' class='xr-var-attrs-in' type='checkbox' disabled><label for='attrs-08044110-0303-44da-8e8f-9caf7e4381aa' title='Show/Hide attributes'><svg class='icon xr-icon-file-text2'><use xlink:href='#icon-file-text2'></use></svg></label><input id='data-24d39964-bc72-4190-a25e-6f18d400554d' class='xr-var-data-in' type='checkbox'><label for='data-24d39964-bc72-4190-a25e-6f18d400554d' title='Show/Hide data repr'><svg class='icon xr-icon-database'><use xlink:href='#icon-database'></use></svg></label><div class='xr-var-attrs'><dl class='xr-attrs'></dl></div><div class='xr-var-data'><pre>array([[-0.78183809, -0.76385587, -0.76151332, ..., -0.54675139,\n",
              "        -0.59362069, -0.52064785],\n",
              "       [-0.69806936, -0.48518961, -0.46214468, ..., -0.66998816,\n",
              "        -0.63037986, -0.55369438],\n",
              "       [-0.62216676, -0.662233  , -0.6616891 , ..., -0.7296197 ,\n",
              "        -0.74413348, -0.8001964 ],\n",
              "       [-0.62560005, -0.61510952, -0.61622777, ..., -0.66404392,\n",
              "        -0.65700528, -0.64236415]])</pre></div></li></ul></div></li><li class='xr-section-item'><input id='section-8647afbf-9e6d-4d17-9f92-280614640369' class='xr-section-summary-in' type='checkbox'  ><label for='section-8647afbf-9e6d-4d17-9f92-280614640369' class='xr-section-summary' >Attributes: <span>(11)</span></label><div class='xr-section-inline-details'></div><div class='xr-section-details'><dl class='xr-attrs'><dt><span>created_at :</span></dt><dd>2021-12-27T15:25:03.834088</dd><dt><span>arviz_version :</span></dt><dd>0.11.4</dd><dt><span>inference_library :</span></dt><dd>pystan</dd><dt><span>inference_library_version :</span></dt><dd>2.19.1.1</dd><dt><span>args :</span></dt><dd>[{&quot;random_seed&quot;: &quot;1&quot;, &quot;chain_id&quot;: 0, &quot;init&quot;: &quot;random&quot;, &quot;init_radius&quot;: 2.0, &quot;enable_random_init&quot;: false, &quot;append_samples&quot;: false, &quot;method&quot;: &quot;SAMPLING&quot;, &quot;iter&quot;: 10000, &quot;warmup&quot;: 3000, &quot;thin&quot;: 1, &quot;refresh&quot;: 1000, &quot;test_grad&quot;: false, &quot;sampler_t&quot;: &quot;NUTS&quot;, &quot;control&quot;: {&quot;adapt_engaged&quot;: true, &quot;adapt_gamma&quot;: 0.05, &quot;adapt_delta&quot;: 0.9999, &quot;adapt_kappa&quot;: 0.75, &quot;adapt_init_buffer&quot;: 75, &quot;adapt_term_buffer&quot;: 50, &quot;adapt_window&quot;: 25, &quot;adapt_t0&quot;: 10.0, &quot;stepsize&quot;: 1.0, &quot;stepsize_jitter&quot;: 0.0}}, {&quot;random_seed&quot;: &quot;1&quot;, &quot;chain_id&quot;: 1, &quot;init&quot;: &quot;random&quot;, &quot;init_radius&quot;: 2.0, &quot;enable_random_init&quot;: false, &quot;append_samples&quot;: false, &quot;method&quot;: &quot;SAMPLING&quot;, &quot;iter&quot;: 10000, &quot;warmup&quot;: 3000, &quot;thin&quot;: 1, &quot;refresh&quot;: 1000, &quot;test_grad&quot;: false, &quot;sampler_t&quot;: &quot;NUTS&quot;, &quot;control&quot;: {&quot;adapt_engaged&quot;: true, &quot;adapt_gamma&quot;: 0.05, &quot;adapt_delta&quot;: 0.9999, &quot;adapt_kappa&quot;: 0.75, &quot;adapt_init_buffer&quot;: 75, &quot;adapt_term_buffer&quot;: 50, &quot;adapt_window&quot;: 25, &quot;adapt_t0&quot;: 10.0, &quot;stepsize&quot;: 1.0, &quot;stepsize_jitter&quot;: 0.0}}, {&quot;random_seed&quot;: &quot;1&quot;, &quot;chain_id&quot;: 2, &quot;init&quot;: &quot;random&quot;, &quot;init_radius&quot;: 2.0, &quot;enable_random_init&quot;: false, &quot;append_samples&quot;: false, &quot;method&quot;: &quot;SAMPLING&quot;, &quot;iter&quot;: 10000, &quot;warmup&quot;: 3000, &quot;thin&quot;: 1, &quot;refresh&quot;: 1000, &quot;test_grad&quot;: false, &quot;sampler_t&quot;: &quot;NUTS&quot;, &quot;control&quot;: {&quot;adapt_engaged&quot;: true, &quot;adapt_gamma&quot;: 0.05, &quot;adapt_delta&quot;: 0.9999, &quot;adapt_kappa&quot;: 0.75, &quot;adapt_init_buffer&quot;: 75, &quot;adapt_term_buffer&quot;: 50, &quot;adapt_window&quot;: 25, &quot;adapt_t0&quot;: 10.0, &quot;stepsize&quot;: 1.0, &quot;stepsize_jitter&quot;: 0.0}}, {&quot;random_seed&quot;: &quot;1&quot;, &quot;chain_id&quot;: 3, &quot;init&quot;: &quot;random&quot;, &quot;init_radius&quot;: 2.0, &quot;enable_random_init&quot;: false, &quot;append_samples&quot;: false, &quot;method&quot;: &quot;SAMPLING&quot;, &quot;iter&quot;: 10000, &quot;warmup&quot;: 3000, &quot;thin&quot;: 1, &quot;refresh&quot;: 1000, &quot;test_grad&quot;: false, &quot;sampler_t&quot;: &quot;NUTS&quot;, &quot;control&quot;: {&quot;adapt_engaged&quot;: true, &quot;adapt_gamma&quot;: 0.05, &quot;adapt_delta&quot;: 0.9999, &quot;adapt_kappa&quot;: 0.75, &quot;adapt_init_buffer&quot;: 75, &quot;adapt_term_buffer&quot;: 50, &quot;adapt_window&quot;: 25, &quot;adapt_t0&quot;: 10.0, &quot;stepsize&quot;: 1.0, &quot;stepsize_jitter&quot;: 0.0}}]</dd><dt><span>inits :</span></dt><dd>[[0.88079694518864, 1.999998735263893], [0.40497844933732896, -0.3847637703128553], [0.14282259848260914, -1.792041610048888], [0.238095286091908, -1.1631505452240563]]</dd><dt><span>step_size :</span></dt><dd>[0.20678, 0.291604, 0.338458, 0.154055]</dd><dt><span>metric :</span></dt><dd>[&#x27;diag_e&#x27;, &#x27;diag_e&#x27;, &#x27;diag_e&#x27;, &#x27;diag_e&#x27;]</dd><dt><span>inv_metric :</span></dt><dd>[[0.00931087], [0.00891747], [0.00913642], [0.00967121]]</dd><dt><span>adaptation_info :</span></dt><dd>[&#x27;# Adaptation terminated\\n# Step size = 0.20678\\n# Diagonal elements of inverse mass matrix:\\n# 0.00931087\\n&#x27;, &#x27;# Adaptation terminated\\n# Step size = 0.291604\\n# Diagonal elements of inverse mass matrix:\\n# 0.00891747\\n&#x27;, &#x27;# Adaptation terminated\\n# Step size = 0.338458\\n# Diagonal elements of inverse mass matrix:\\n# 0.00913642\\n&#x27;, &#x27;# Adaptation terminated\\n# Step size = 0.154055\\n# Diagonal elements of inverse mass matrix:\\n# 0.00967121\\n&#x27;]</dd><dt><span>stan_code :</span></dt><dd>\n",
              "data {\n",
              "    real&lt;lower=0&gt; a;\n",
              "    real&lt;lower=0&gt; b;\n",
              "    int&lt;lower=0&gt; n;  \n",
              "    int&lt;lower=0&gt; y; \n",
              "}\n",
              "\n",
              "parameters {\n",
              "    real&lt;lower=0, upper=1&gt; p;\n",
              "}\n",
              "\n",
              "transformed parameters {\n",
              "  real theta;\n",
              "  theta=logit(p);\n",
              "}\n",
              "\n",
              "model {\n",
              "      y ~ binomial(n, p);\n",
              "      p ~ beta(a, b);\n",
              "}\n",
              "</dd></dl></div></li></ul></div></div><br></div>\n",
              "                      </ul>\n",
              "                  </div>\n",
              "            </li>\n",
              "            \n",
              "            <li class = \"xr-section-item\">\n",
              "                  <input id=\"idata_sample_statsa5ba35a9-b3bf-4738-8e66-2f5271cf0ede\" class=\"xr-section-summary-in\" type=\"checkbox\">\n",
              "                  <label for=\"idata_sample_statsa5ba35a9-b3bf-4738-8e66-2f5271cf0ede\" class = \"xr-section-summary\">sample_stats</label>\n",
              "                  <div class=\"xr-section-inline-details\"></div>\n",
              "                  <div class=\"xr-section-details\">\n",
              "                      <ul id=\"xr-dataset-coord-list\" class=\"xr-var-list\">\n",
              "                          <div style=\"padding-left:2rem;\"><div><svg style=\"position: absolute; width: 0; height: 0; overflow: hidden\">\n",
              "<defs>\n",
              "<symbol id=\"icon-database\" viewBox=\"0 0 32 32\">\n",
              "<path d=\"M16 0c-8.837 0-16 2.239-16 5v4c0 2.761 7.163 5 16 5s16-2.239 16-5v-4c0-2.761-7.163-5-16-5z\"></path>\n",
              "<path d=\"M16 17c-8.837 0-16-2.239-16-5v6c0 2.761 7.163 5 16 5s16-2.239 16-5v-6c0 2.761-7.163 5-16 5z\"></path>\n",
              "<path d=\"M16 26c-8.837 0-16-2.239-16-5v6c0 2.761 7.163 5 16 5s16-2.239 16-5v-6c0 2.761-7.163 5-16 5z\"></path>\n",
              "</symbol>\n",
              "<symbol id=\"icon-file-text2\" viewBox=\"0 0 32 32\">\n",
              "<path d=\"M28.681 7.159c-0.694-0.947-1.662-2.053-2.724-3.116s-2.169-2.030-3.116-2.724c-1.612-1.182-2.393-1.319-2.841-1.319h-15.5c-1.378 0-2.5 1.121-2.5 2.5v27c0 1.378 1.122 2.5 2.5 2.5h23c1.378 0 2.5-1.122 2.5-2.5v-19.5c0-0.448-0.137-1.23-1.319-2.841zM24.543 5.457c0.959 0.959 1.712 1.825 2.268 2.543h-4.811v-4.811c0.718 0.556 1.584 1.309 2.543 2.268zM28 29.5c0 0.271-0.229 0.5-0.5 0.5h-23c-0.271 0-0.5-0.229-0.5-0.5v-27c0-0.271 0.229-0.5 0.5-0.5 0 0 15.499-0 15.5 0v7c0 0.552 0.448 1 1 1h7v19.5z\"></path>\n",
              "<path d=\"M23 26h-14c-0.552 0-1-0.448-1-1s0.448-1 1-1h14c0.552 0 1 0.448 1 1s-0.448 1-1 1z\"></path>\n",
              "<path d=\"M23 22h-14c-0.552 0-1-0.448-1-1s0.448-1 1-1h14c0.552 0 1 0.448 1 1s-0.448 1-1 1z\"></path>\n",
              "<path d=\"M23 18h-14c-0.552 0-1-0.448-1-1s0.448-1 1-1h14c0.552 0 1 0.448 1 1s-0.448 1-1 1z\"></path>\n",
              "</symbol>\n",
              "</defs>\n",
              "</svg>\n",
              "<style>/* CSS stylesheet for displaying xarray objects in jupyterlab.\n",
              " *\n",
              " */\n",
              "\n",
              ":root {\n",
              "  --xr-font-color0: var(--jp-content-font-color0, rgba(0, 0, 0, 1));\n",
              "  --xr-font-color2: var(--jp-content-font-color2, rgba(0, 0, 0, 0.54));\n",
              "  --xr-font-color3: var(--jp-content-font-color3, rgba(0, 0, 0, 0.38));\n",
              "  --xr-border-color: var(--jp-border-color2, #e0e0e0);\n",
              "  --xr-disabled-color: var(--jp-layout-color3, #bdbdbd);\n",
              "  --xr-background-color: var(--jp-layout-color0, white);\n",
              "  --xr-background-color-row-even: var(--jp-layout-color1, white);\n",
              "  --xr-background-color-row-odd: var(--jp-layout-color2, #eeeeee);\n",
              "}\n",
              "\n",
              "html[theme=dark],\n",
              "body.vscode-dark {\n",
              "  --xr-font-color0: rgba(255, 255, 255, 1);\n",
              "  --xr-font-color2: rgba(255, 255, 255, 0.54);\n",
              "  --xr-font-color3: rgba(255, 255, 255, 0.38);\n",
              "  --xr-border-color: #1F1F1F;\n",
              "  --xr-disabled-color: #515151;\n",
              "  --xr-background-color: #111111;\n",
              "  --xr-background-color-row-even: #111111;\n",
              "  --xr-background-color-row-odd: #313131;\n",
              "}\n",
              "\n",
              ".xr-wrap {\n",
              "  display: block;\n",
              "  min-width: 300px;\n",
              "  max-width: 700px;\n",
              "}\n",
              "\n",
              ".xr-text-repr-fallback {\n",
              "  /* fallback to plain text repr when CSS is not injected (untrusted notebook) */\n",
              "  display: none;\n",
              "}\n",
              "\n",
              ".xr-header {\n",
              "  padding-top: 6px;\n",
              "  padding-bottom: 6px;\n",
              "  margin-bottom: 4px;\n",
              "  border-bottom: solid 1px var(--xr-border-color);\n",
              "}\n",
              "\n",
              ".xr-header > div,\n",
              ".xr-header > ul {\n",
              "  display: inline;\n",
              "  margin-top: 0;\n",
              "  margin-bottom: 0;\n",
              "}\n",
              "\n",
              ".xr-obj-type,\n",
              ".xr-array-name {\n",
              "  margin-left: 2px;\n",
              "  margin-right: 10px;\n",
              "}\n",
              "\n",
              ".xr-obj-type {\n",
              "  color: var(--xr-font-color2);\n",
              "}\n",
              "\n",
              ".xr-sections {\n",
              "  padding-left: 0 !important;\n",
              "  display: grid;\n",
              "  grid-template-columns: 150px auto auto 1fr 20px 20px;\n",
              "}\n",
              "\n",
              ".xr-section-item {\n",
              "  display: contents;\n",
              "}\n",
              "\n",
              ".xr-section-item input {\n",
              "  display: none;\n",
              "}\n",
              "\n",
              ".xr-section-item input + label {\n",
              "  color: var(--xr-disabled-color);\n",
              "}\n",
              "\n",
              ".xr-section-item input:enabled + label {\n",
              "  cursor: pointer;\n",
              "  color: var(--xr-font-color2);\n",
              "}\n",
              "\n",
              ".xr-section-item input:enabled + label:hover {\n",
              "  color: var(--xr-font-color0);\n",
              "}\n",
              "\n",
              ".xr-section-summary {\n",
              "  grid-column: 1;\n",
              "  color: var(--xr-font-color2);\n",
              "  font-weight: 500;\n",
              "}\n",
              "\n",
              ".xr-section-summary > span {\n",
              "  display: inline-block;\n",
              "  padding-left: 0.5em;\n",
              "}\n",
              "\n",
              ".xr-section-summary-in:disabled + label {\n",
              "  color: var(--xr-font-color2);\n",
              "}\n",
              "\n",
              ".xr-section-summary-in + label:before {\n",
              "  display: inline-block;\n",
              "  content: '►';\n",
              "  font-size: 11px;\n",
              "  width: 15px;\n",
              "  text-align: center;\n",
              "}\n",
              "\n",
              ".xr-section-summary-in:disabled + label:before {\n",
              "  color: var(--xr-disabled-color);\n",
              "}\n",
              "\n",
              ".xr-section-summary-in:checked + label:before {\n",
              "  content: '▼';\n",
              "}\n",
              "\n",
              ".xr-section-summary-in:checked + label > span {\n",
              "  display: none;\n",
              "}\n",
              "\n",
              ".xr-section-summary,\n",
              ".xr-section-inline-details {\n",
              "  padding-top: 4px;\n",
              "  padding-bottom: 4px;\n",
              "}\n",
              "\n",
              ".xr-section-inline-details {\n",
              "  grid-column: 2 / -1;\n",
              "}\n",
              "\n",
              ".xr-section-details {\n",
              "  display: none;\n",
              "  grid-column: 1 / -1;\n",
              "  margin-bottom: 5px;\n",
              "}\n",
              "\n",
              ".xr-section-summary-in:checked ~ .xr-section-details {\n",
              "  display: contents;\n",
              "}\n",
              "\n",
              ".xr-array-wrap {\n",
              "  grid-column: 1 / -1;\n",
              "  display: grid;\n",
              "  grid-template-columns: 20px auto;\n",
              "}\n",
              "\n",
              ".xr-array-wrap > label {\n",
              "  grid-column: 1;\n",
              "  vertical-align: top;\n",
              "}\n",
              "\n",
              ".xr-preview {\n",
              "  color: var(--xr-font-color3);\n",
              "}\n",
              "\n",
              ".xr-array-preview,\n",
              ".xr-array-data {\n",
              "  padding: 0 5px !important;\n",
              "  grid-column: 2;\n",
              "}\n",
              "\n",
              ".xr-array-data,\n",
              ".xr-array-in:checked ~ .xr-array-preview {\n",
              "  display: none;\n",
              "}\n",
              "\n",
              ".xr-array-in:checked ~ .xr-array-data,\n",
              ".xr-array-preview {\n",
              "  display: inline-block;\n",
              "}\n",
              "\n",
              ".xr-dim-list {\n",
              "  display: inline-block !important;\n",
              "  list-style: none;\n",
              "  padding: 0 !important;\n",
              "  margin: 0;\n",
              "}\n",
              "\n",
              ".xr-dim-list li {\n",
              "  display: inline-block;\n",
              "  padding: 0;\n",
              "  margin: 0;\n",
              "}\n",
              "\n",
              ".xr-dim-list:before {\n",
              "  content: '(';\n",
              "}\n",
              "\n",
              ".xr-dim-list:after {\n",
              "  content: ')';\n",
              "}\n",
              "\n",
              ".xr-dim-list li:not(:last-child):after {\n",
              "  content: ',';\n",
              "  padding-right: 5px;\n",
              "}\n",
              "\n",
              ".xr-has-index {\n",
              "  font-weight: bold;\n",
              "}\n",
              "\n",
              ".xr-var-list,\n",
              ".xr-var-item {\n",
              "  display: contents;\n",
              "}\n",
              "\n",
              ".xr-var-item > div,\n",
              ".xr-var-item label,\n",
              ".xr-var-item > .xr-var-name span {\n",
              "  background-color: var(--xr-background-color-row-even);\n",
              "  margin-bottom: 0;\n",
              "}\n",
              "\n",
              ".xr-var-item > .xr-var-name:hover span {\n",
              "  padding-right: 5px;\n",
              "}\n",
              "\n",
              ".xr-var-list > li:nth-child(odd) > div,\n",
              ".xr-var-list > li:nth-child(odd) > label,\n",
              ".xr-var-list > li:nth-child(odd) > .xr-var-name span {\n",
              "  background-color: var(--xr-background-color-row-odd);\n",
              "}\n",
              "\n",
              ".xr-var-name {\n",
              "  grid-column: 1;\n",
              "}\n",
              "\n",
              ".xr-var-dims {\n",
              "  grid-column: 2;\n",
              "}\n",
              "\n",
              ".xr-var-dtype {\n",
              "  grid-column: 3;\n",
              "  text-align: right;\n",
              "  color: var(--xr-font-color2);\n",
              "}\n",
              "\n",
              ".xr-var-preview {\n",
              "  grid-column: 4;\n",
              "}\n",
              "\n",
              ".xr-var-name,\n",
              ".xr-var-dims,\n",
              ".xr-var-dtype,\n",
              ".xr-preview,\n",
              ".xr-attrs dt {\n",
              "  white-space: nowrap;\n",
              "  overflow: hidden;\n",
              "  text-overflow: ellipsis;\n",
              "  padding-right: 10px;\n",
              "}\n",
              "\n",
              ".xr-var-name:hover,\n",
              ".xr-var-dims:hover,\n",
              ".xr-var-dtype:hover,\n",
              ".xr-attrs dt:hover {\n",
              "  overflow: visible;\n",
              "  width: auto;\n",
              "  z-index: 1;\n",
              "}\n",
              "\n",
              ".xr-var-attrs,\n",
              ".xr-var-data {\n",
              "  display: none;\n",
              "  background-color: var(--xr-background-color) !important;\n",
              "  padding-bottom: 5px !important;\n",
              "}\n",
              "\n",
              ".xr-var-attrs-in:checked ~ .xr-var-attrs,\n",
              ".xr-var-data-in:checked ~ .xr-var-data {\n",
              "  display: block;\n",
              "}\n",
              "\n",
              ".xr-var-data > table {\n",
              "  float: right;\n",
              "}\n",
              "\n",
              ".xr-var-name span,\n",
              ".xr-var-data,\n",
              ".xr-attrs {\n",
              "  padding-left: 25px !important;\n",
              "}\n",
              "\n",
              ".xr-attrs,\n",
              ".xr-var-attrs,\n",
              ".xr-var-data {\n",
              "  grid-column: 1 / -1;\n",
              "}\n",
              "\n",
              "dl.xr-attrs {\n",
              "  padding: 0;\n",
              "  margin: 0;\n",
              "  display: grid;\n",
              "  grid-template-columns: 125px auto;\n",
              "}\n",
              "\n",
              ".xr-attrs dt,\n",
              ".xr-attrs dd {\n",
              "  padding: 0;\n",
              "  margin: 0;\n",
              "  float: left;\n",
              "  padding-right: 10px;\n",
              "  width: auto;\n",
              "}\n",
              "\n",
              ".xr-attrs dt {\n",
              "  font-weight: normal;\n",
              "  grid-column: 1;\n",
              "}\n",
              "\n",
              ".xr-attrs dt:hover span {\n",
              "  display: inline-block;\n",
              "  background: var(--xr-background-color);\n",
              "  padding-right: 10px;\n",
              "}\n",
              "\n",
              ".xr-attrs dd {\n",
              "  grid-column: 2;\n",
              "  white-space: pre-wrap;\n",
              "  word-break: break-all;\n",
              "}\n",
              "\n",
              ".xr-icon-database,\n",
              ".xr-icon-file-text2 {\n",
              "  display: inline-block;\n",
              "  vertical-align: middle;\n",
              "  width: 1em;\n",
              "  height: 1.5em !important;\n",
              "  stroke-width: 0;\n",
              "  stroke: currentColor;\n",
              "  fill: currentColor;\n",
              "}\n",
              "</style><pre class='xr-text-repr-fallback'>&lt;xarray.Dataset&gt;\n",
              "Dimensions:          (chain: 4, draw: 7000)\n",
              "Coordinates:\n",
              "  * chain            (chain) int64 0 1 2 3\n",
              "  * draw             (draw) int64 0 1 2 3 4 5 ... 6994 6995 6996 6997 6998 6999\n",
              "Data variables:\n",
              "    acceptance_rate  (chain, draw) float64 0.9997 0.9986 0.9999 ... 0.9999 1.0\n",
              "    step_size        (chain, draw) float64 0.2068 0.2068 ... 0.1541 0.1541\n",
              "    tree_depth       (chain, draw) int64 1 2 2 2 1 4 3 3 1 ... 3 2 4 3 3 4 3 5 3\n",
              "    n_steps          (chain, draw) int64 1 5 3 7 3 15 15 ... 19 15 15 15 15 31 9\n",
              "    diverging        (chain, draw) bool False False False ... False False False\n",
              "    energy           (chain, draw) float64 300.7 301.0 300.5 ... 299.6 299.6\n",
              "    lp               (chain, draw) float64 -300.7 -300.4 ... -299.6 -299.5\n",
              "Attributes:\n",
              "    created_at:                 2021-12-27T15:25:03.852119\n",
              "    arviz_version:              0.11.4\n",
              "    inference_library:          pystan\n",
              "    inference_library_version:  2.19.1.1\n",
              "    args:                       [{&quot;random_seed&quot;: &quot;1&quot;, &quot;chain_id&quot;: 0, &quot;init&quot;: ...\n",
              "    inits:                      [[0.88079694518864, 1.999998735263893], [0.40...\n",
              "    step_size:                  [0.20678, 0.291604, 0.338458, 0.154055]\n",
              "    metric:                     [&#x27;diag_e&#x27;, &#x27;diag_e&#x27;, &#x27;diag_e&#x27;, &#x27;diag_e&#x27;]\n",
              "    inv_metric:                 [[0.00931087], [0.00891747], [0.00913642], [0...\n",
              "    adaptation_info:            [&#x27;# Adaptation terminated\\n# Step size = 0.20...\n",
              "    stan_code:                  \\ndata {\\n    real&lt;lower=0&gt; a;\\n    real&lt;lowe...</pre><div class='xr-wrap' hidden><div class='xr-header'><div class='xr-obj-type'>xarray.Dataset</div></div><ul class='xr-sections'><li class='xr-section-item'><input id='section-575b3599-caf4-4ab1-829d-83c72918adfe' class='xr-section-summary-in' type='checkbox' disabled ><label for='section-575b3599-caf4-4ab1-829d-83c72918adfe' class='xr-section-summary'  title='Expand/collapse section'>Dimensions:</label><div class='xr-section-inline-details'><ul class='xr-dim-list'><li><span class='xr-has-index'>chain</span>: 4</li><li><span class='xr-has-index'>draw</span>: 7000</li></ul></div><div class='xr-section-details'></div></li><li class='xr-section-item'><input id='section-b9f7f0ce-83d9-46f9-8209-2b2b944b0976' class='xr-section-summary-in' type='checkbox'  checked><label for='section-b9f7f0ce-83d9-46f9-8209-2b2b944b0976' class='xr-section-summary' >Coordinates: <span>(2)</span></label><div class='xr-section-inline-details'></div><div class='xr-section-details'><ul class='xr-var-list'><li class='xr-var-item'><div class='xr-var-name'><span class='xr-has-index'>chain</span></div><div class='xr-var-dims'>(chain)</div><div class='xr-var-dtype'>int64</div><div class='xr-var-preview xr-preview'>0 1 2 3</div><input id='attrs-ccc391c0-c2a4-4c9a-a93c-3659cd2a871c' class='xr-var-attrs-in' type='checkbox' disabled><label for='attrs-ccc391c0-c2a4-4c9a-a93c-3659cd2a871c' title='Show/Hide attributes'><svg class='icon xr-icon-file-text2'><use xlink:href='#icon-file-text2'></use></svg></label><input id='data-eafbf209-e298-4e7e-8bb6-83a4f6b1f8ef' class='xr-var-data-in' type='checkbox'><label for='data-eafbf209-e298-4e7e-8bb6-83a4f6b1f8ef' title='Show/Hide data repr'><svg class='icon xr-icon-database'><use xlink:href='#icon-database'></use></svg></label><div class='xr-var-attrs'><dl class='xr-attrs'></dl></div><div class='xr-var-data'><pre>array([0, 1, 2, 3])</pre></div></li><li class='xr-var-item'><div class='xr-var-name'><span class='xr-has-index'>draw</span></div><div class='xr-var-dims'>(draw)</div><div class='xr-var-dtype'>int64</div><div class='xr-var-preview xr-preview'>0 1 2 3 4 ... 6996 6997 6998 6999</div><input id='attrs-20862641-bc0c-479c-b9f5-2570bf76fad8' class='xr-var-attrs-in' type='checkbox' disabled><label for='attrs-20862641-bc0c-479c-b9f5-2570bf76fad8' title='Show/Hide attributes'><svg class='icon xr-icon-file-text2'><use xlink:href='#icon-file-text2'></use></svg></label><input id='data-a6b32860-13f0-4eed-b930-7e19c97ea42b' class='xr-var-data-in' type='checkbox'><label for='data-a6b32860-13f0-4eed-b930-7e19c97ea42b' title='Show/Hide data repr'><svg class='icon xr-icon-database'><use xlink:href='#icon-database'></use></svg></label><div class='xr-var-attrs'><dl class='xr-attrs'></dl></div><div class='xr-var-data'><pre>array([   0,    1,    2, ..., 6997, 6998, 6999])</pre></div></li></ul></div></li><li class='xr-section-item'><input id='section-da52c4b5-0137-4619-a5bf-7d3f8d786566' class='xr-section-summary-in' type='checkbox'  checked><label for='section-da52c4b5-0137-4619-a5bf-7d3f8d786566' class='xr-section-summary' >Data variables: <span>(7)</span></label><div class='xr-section-inline-details'></div><div class='xr-section-details'><ul class='xr-var-list'><li class='xr-var-item'><div class='xr-var-name'><span>acceptance_rate</span></div><div class='xr-var-dims'>(chain, draw)</div><div class='xr-var-dtype'>float64</div><div class='xr-var-preview xr-preview'>0.9997 0.9986 0.9999 ... 0.9999 1.0</div><input id='attrs-58a04ff7-2e94-4663-99f7-e6b7e438715a' class='xr-var-attrs-in' type='checkbox' disabled><label for='attrs-58a04ff7-2e94-4663-99f7-e6b7e438715a' title='Show/Hide attributes'><svg class='icon xr-icon-file-text2'><use xlink:href='#icon-file-text2'></use></svg></label><input id='data-2f1361cc-44d8-44b5-8005-4aa5adb2ed7b' class='xr-var-data-in' type='checkbox'><label for='data-2f1361cc-44d8-44b5-8005-4aa5adb2ed7b' title='Show/Hide data repr'><svg class='icon xr-icon-database'><use xlink:href='#icon-database'></use></svg></label><div class='xr-var-attrs'><dl class='xr-attrs'></dl></div><div class='xr-var-data'><pre>array([[0.99974621, 0.99857005, 0.9999294 , ..., 0.99986037, 0.99758936,\n",
              "        0.98693981],\n",
              "       [0.99969097, 0.9934633 , 0.99022997, ..., 0.99299314, 0.999978  ,\n",
              "        0.98886756],\n",
              "       [0.99602302, 0.98796957, 0.99995796, ..., 0.98052365, 0.99701241,\n",
              "        0.96923175],\n",
              "       [0.99966147, 0.99934212, 0.99999443, ..., 0.99953527, 0.99993386,\n",
              "        0.99999789]])</pre></div></li><li class='xr-var-item'><div class='xr-var-name'><span>step_size</span></div><div class='xr-var-dims'>(chain, draw)</div><div class='xr-var-dtype'>float64</div><div class='xr-var-preview xr-preview'>0.2068 0.2068 ... 0.1541 0.1541</div><input id='attrs-30cc068c-624a-497e-affb-69ff7656904d' class='xr-var-attrs-in' type='checkbox' disabled><label for='attrs-30cc068c-624a-497e-affb-69ff7656904d' title='Show/Hide attributes'><svg class='icon xr-icon-file-text2'><use xlink:href='#icon-file-text2'></use></svg></label><input id='data-56519578-7a91-4b09-a035-e51304902777' class='xr-var-data-in' type='checkbox'><label for='data-56519578-7a91-4b09-a035-e51304902777' title='Show/Hide data repr'><svg class='icon xr-icon-database'><use xlink:href='#icon-database'></use></svg></label><div class='xr-var-attrs'><dl class='xr-attrs'></dl></div><div class='xr-var-data'><pre>array([[0.20678021, 0.20678021, 0.20678021, ..., 0.20678021, 0.20678021,\n",
              "        0.20678021],\n",
              "       [0.29160411, 0.29160411, 0.29160411, ..., 0.29160411, 0.29160411,\n",
              "        0.29160411],\n",
              "       [0.33845762, 0.33845762, 0.33845762, ..., 0.33845762, 0.33845762,\n",
              "        0.33845762],\n",
              "       [0.15405515, 0.15405515, 0.15405515, ..., 0.15405515, 0.15405515,\n",
              "        0.15405515]])</pre></div></li><li class='xr-var-item'><div class='xr-var-name'><span>tree_depth</span></div><div class='xr-var-dims'>(chain, draw)</div><div class='xr-var-dtype'>int64</div><div class='xr-var-preview xr-preview'>1 2 2 2 1 4 3 3 ... 2 4 3 3 4 3 5 3</div><input id='attrs-cf3f607a-f651-415b-b4b9-4282ec206248' class='xr-var-attrs-in' type='checkbox' disabled><label for='attrs-cf3f607a-f651-415b-b4b9-4282ec206248' title='Show/Hide attributes'><svg class='icon xr-icon-file-text2'><use xlink:href='#icon-file-text2'></use></svg></label><input id='data-ae035aa0-0409-4d7b-b202-4d7320cea047' class='xr-var-data-in' type='checkbox'><label for='data-ae035aa0-0409-4d7b-b202-4d7320cea047' title='Show/Hide data repr'><svg class='icon xr-icon-database'><use xlink:href='#icon-database'></use></svg></label><div class='xr-var-attrs'><dl class='xr-attrs'></dl></div><div class='xr-var-data'><pre>array([[1, 2, 2, ..., 1, 3, 2],\n",
              "       [3, 4, 1, ..., 4, 4, 3],\n",
              "       [2, 3, 2, ..., 2, 2, 2],\n",
              "       [4, 3, 2, ..., 3, 5, 3]])</pre></div></li><li class='xr-var-item'><div class='xr-var-name'><span>n_steps</span></div><div class='xr-var-dims'>(chain, draw)</div><div class='xr-var-dtype'>int64</div><div class='xr-var-preview xr-preview'>1 5 3 7 3 15 ... 15 15 15 15 31 9</div><input id='attrs-b06ca3a1-6b79-45c9-b9fc-e97cfad38b4e' class='xr-var-attrs-in' type='checkbox' disabled><label for='attrs-b06ca3a1-6b79-45c9-b9fc-e97cfad38b4e' title='Show/Hide attributes'><svg class='icon xr-icon-file-text2'><use xlink:href='#icon-file-text2'></use></svg></label><input id='data-80ad1179-e217-4563-b63b-99c6a900e5ca' class='xr-var-data-in' type='checkbox'><label for='data-80ad1179-e217-4563-b63b-99c6a900e5ca' title='Show/Hide data repr'><svg class='icon xr-icon-database'><use xlink:href='#icon-database'></use></svg></label><div class='xr-var-attrs'><dl class='xr-attrs'></dl></div><div class='xr-var-data'><pre>array([[ 1,  5,  3, ...,  1,  9,  7],\n",
              "       [ 7, 15,  3, ..., 15, 15,  9],\n",
              "       [ 5,  9,  3, ...,  7,  3,  5],\n",
              "       [19, 15,  5, ..., 15, 31,  9]])</pre></div></li><li class='xr-var-item'><div class='xr-var-name'><span>diverging</span></div><div class='xr-var-dims'>(chain, draw)</div><div class='xr-var-dtype'>bool</div><div class='xr-var-preview xr-preview'>False False False ... False False</div><input id='attrs-3f9f3eb4-5334-4417-8893-c6d32aef9478' class='xr-var-attrs-in' type='checkbox' disabled><label for='attrs-3f9f3eb4-5334-4417-8893-c6d32aef9478' title='Show/Hide attributes'><svg class='icon xr-icon-file-text2'><use xlink:href='#icon-file-text2'></use></svg></label><input id='data-6cc40769-cc6f-46de-b953-13c5851f82dc' class='xr-var-data-in' type='checkbox'><label for='data-6cc40769-cc6f-46de-b953-13c5851f82dc' title='Show/Hide data repr'><svg class='icon xr-icon-database'><use xlink:href='#icon-database'></use></svg></label><div class='xr-var-attrs'><dl class='xr-attrs'></dl></div><div class='xr-var-data'><pre>array([[False, False, False, ..., False, False, False],\n",
              "       [False, False, False, ..., False, False, False],\n",
              "       [False, False, False, ..., False, False, False],\n",
              "       [False, False, False, ..., False, False, False]])</pre></div></li><li class='xr-var-item'><div class='xr-var-name'><span>energy</span></div><div class='xr-var-dims'>(chain, draw)</div><div class='xr-var-dtype'>float64</div><div class='xr-var-preview xr-preview'>300.7 301.0 300.5 ... 299.6 299.6</div><input id='attrs-c69bd3f3-f64e-4583-bf9a-78d672c0fb46' class='xr-var-attrs-in' type='checkbox' disabled><label for='attrs-c69bd3f3-f64e-4583-bf9a-78d672c0fb46' title='Show/Hide attributes'><svg class='icon xr-icon-file-text2'><use xlink:href='#icon-file-text2'></use></svg></label><input id='data-30d38bf8-ede7-4695-bc09-97b0b23546b0' class='xr-var-data-in' type='checkbox'><label for='data-30d38bf8-ede7-4695-bc09-97b0b23546b0' title='Show/Hide data repr'><svg class='icon xr-icon-database'><use xlink:href='#icon-database'></use></svg></label><div class='xr-var-attrs'><dl class='xr-attrs'></dl></div><div class='xr-var-data'><pre>array([[300.69806907, 300.97297011, 300.4583888 , ..., 299.92771453,\n",
              "        300.44083494, 301.52750501],\n",
              "       [300.62392186, 300.78204903, 301.25769074, ..., 300.46772361,\n",
              "        299.62227143, 300.60634838],\n",
              "       [300.0750678 , 300.29165014, 299.59064749, ..., 301.36518165,\n",
              "        300.1994914 , 302.05294277],\n",
              "       [299.65251684, 299.78521178, 299.55669438, ..., 299.74781304,\n",
              "        299.64344659, 299.57283683]])</pre></div></li><li class='xr-var-item'><div class='xr-var-name'><span>lp</span></div><div class='xr-var-dims'>(chain, draw)</div><div class='xr-var-dtype'>float64</div><div class='xr-var-preview xr-preview'>-300.7 -300.4 ... -299.6 -299.5</div><input id='attrs-e19d12a2-101f-4770-b136-2eb646268146' class='xr-var-attrs-in' type='checkbox' disabled><label for='attrs-e19d12a2-101f-4770-b136-2eb646268146' title='Show/Hide attributes'><svg class='icon xr-icon-file-text2'><use xlink:href='#icon-file-text2'></use></svg></label><input id='data-36bafa70-e46e-4ee1-914f-28b93fe389b4' class='xr-var-data-in' type='checkbox'><label for='data-36bafa70-e46e-4ee1-914f-28b93fe389b4' title='Show/Hide data repr'><svg class='icon xr-icon-database'><use xlink:href='#icon-database'></use></svg></label><div class='xr-var-attrs'><dl class='xr-attrs'></dl></div><div class='xr-var-data'><pre>array([[-300.69567286, -300.43603112, -300.40459784, ..., -299.92754099,\n",
              "        -299.61835878, -300.20216204],\n",
              "       [-299.76492845, -300.69368868, -301.08683371, ..., -299.61355448,\n",
              "        -299.53948904, -299.86687901],\n",
              "       [-299.54472316, -299.58615529, -299.58446858, ..., -300.03179996,\n",
              "        -300.18867469, -300.99407883],\n",
              "       [-299.54167085, -299.55490256, -299.55293893, ..., -299.59199328,\n",
              "        -299.57121926, -299.54457836]])</pre></div></li></ul></div></li><li class='xr-section-item'><input id='section-45cea24b-a04f-49cd-9718-d2d728be43b2' class='xr-section-summary-in' type='checkbox'  ><label for='section-45cea24b-a04f-49cd-9718-d2d728be43b2' class='xr-section-summary' >Attributes: <span>(11)</span></label><div class='xr-section-inline-details'></div><div class='xr-section-details'><dl class='xr-attrs'><dt><span>created_at :</span></dt><dd>2021-12-27T15:25:03.852119</dd><dt><span>arviz_version :</span></dt><dd>0.11.4</dd><dt><span>inference_library :</span></dt><dd>pystan</dd><dt><span>inference_library_version :</span></dt><dd>2.19.1.1</dd><dt><span>args :</span></dt><dd>[{&quot;random_seed&quot;: &quot;1&quot;, &quot;chain_id&quot;: 0, &quot;init&quot;: &quot;random&quot;, &quot;init_radius&quot;: 2.0, &quot;enable_random_init&quot;: false, &quot;append_samples&quot;: false, &quot;method&quot;: &quot;SAMPLING&quot;, &quot;iter&quot;: 10000, &quot;warmup&quot;: 3000, &quot;thin&quot;: 1, &quot;refresh&quot;: 1000, &quot;test_grad&quot;: false, &quot;sampler_t&quot;: &quot;NUTS&quot;, &quot;control&quot;: {&quot;adapt_engaged&quot;: true, &quot;adapt_gamma&quot;: 0.05, &quot;adapt_delta&quot;: 0.9999, &quot;adapt_kappa&quot;: 0.75, &quot;adapt_init_buffer&quot;: 75, &quot;adapt_term_buffer&quot;: 50, &quot;adapt_window&quot;: 25, &quot;adapt_t0&quot;: 10.0, &quot;stepsize&quot;: 1.0, &quot;stepsize_jitter&quot;: 0.0}}, {&quot;random_seed&quot;: &quot;1&quot;, &quot;chain_id&quot;: 1, &quot;init&quot;: &quot;random&quot;, &quot;init_radius&quot;: 2.0, &quot;enable_random_init&quot;: false, &quot;append_samples&quot;: false, &quot;method&quot;: &quot;SAMPLING&quot;, &quot;iter&quot;: 10000, &quot;warmup&quot;: 3000, &quot;thin&quot;: 1, &quot;refresh&quot;: 1000, &quot;test_grad&quot;: false, &quot;sampler_t&quot;: &quot;NUTS&quot;, &quot;control&quot;: {&quot;adapt_engaged&quot;: true, &quot;adapt_gamma&quot;: 0.05, &quot;adapt_delta&quot;: 0.9999, &quot;adapt_kappa&quot;: 0.75, &quot;adapt_init_buffer&quot;: 75, &quot;adapt_term_buffer&quot;: 50, &quot;adapt_window&quot;: 25, &quot;adapt_t0&quot;: 10.0, &quot;stepsize&quot;: 1.0, &quot;stepsize_jitter&quot;: 0.0}}, {&quot;random_seed&quot;: &quot;1&quot;, &quot;chain_id&quot;: 2, &quot;init&quot;: &quot;random&quot;, &quot;init_radius&quot;: 2.0, &quot;enable_random_init&quot;: false, &quot;append_samples&quot;: false, &quot;method&quot;: &quot;SAMPLING&quot;, &quot;iter&quot;: 10000, &quot;warmup&quot;: 3000, &quot;thin&quot;: 1, &quot;refresh&quot;: 1000, &quot;test_grad&quot;: false, &quot;sampler_t&quot;: &quot;NUTS&quot;, &quot;control&quot;: {&quot;adapt_engaged&quot;: true, &quot;adapt_gamma&quot;: 0.05, &quot;adapt_delta&quot;: 0.9999, &quot;adapt_kappa&quot;: 0.75, &quot;adapt_init_buffer&quot;: 75, &quot;adapt_term_buffer&quot;: 50, &quot;adapt_window&quot;: 25, &quot;adapt_t0&quot;: 10.0, &quot;stepsize&quot;: 1.0, &quot;stepsize_jitter&quot;: 0.0}}, {&quot;random_seed&quot;: &quot;1&quot;, &quot;chain_id&quot;: 3, &quot;init&quot;: &quot;random&quot;, &quot;init_radius&quot;: 2.0, &quot;enable_random_init&quot;: false, &quot;append_samples&quot;: false, &quot;method&quot;: &quot;SAMPLING&quot;, &quot;iter&quot;: 10000, &quot;warmup&quot;: 3000, &quot;thin&quot;: 1, &quot;refresh&quot;: 1000, &quot;test_grad&quot;: false, &quot;sampler_t&quot;: &quot;NUTS&quot;, &quot;control&quot;: {&quot;adapt_engaged&quot;: true, &quot;adapt_gamma&quot;: 0.05, &quot;adapt_delta&quot;: 0.9999, &quot;adapt_kappa&quot;: 0.75, &quot;adapt_init_buffer&quot;: 75, &quot;adapt_term_buffer&quot;: 50, &quot;adapt_window&quot;: 25, &quot;adapt_t0&quot;: 10.0, &quot;stepsize&quot;: 1.0, &quot;stepsize_jitter&quot;: 0.0}}]</dd><dt><span>inits :</span></dt><dd>[[0.88079694518864, 1.999998735263893], [0.40497844933732896, -0.3847637703128553], [0.14282259848260914, -1.792041610048888], [0.238095286091908, -1.1631505452240563]]</dd><dt><span>step_size :</span></dt><dd>[0.20678, 0.291604, 0.338458, 0.154055]</dd><dt><span>metric :</span></dt><dd>[&#x27;diag_e&#x27;, &#x27;diag_e&#x27;, &#x27;diag_e&#x27;, &#x27;diag_e&#x27;]</dd><dt><span>inv_metric :</span></dt><dd>[[0.00931087], [0.00891747], [0.00913642], [0.00967121]]</dd><dt><span>adaptation_info :</span></dt><dd>[&#x27;# Adaptation terminated\\n# Step size = 0.20678\\n# Diagonal elements of inverse mass matrix:\\n# 0.00931087\\n&#x27;, &#x27;# Adaptation terminated\\n# Step size = 0.291604\\n# Diagonal elements of inverse mass matrix:\\n# 0.00891747\\n&#x27;, &#x27;# Adaptation terminated\\n# Step size = 0.338458\\n# Diagonal elements of inverse mass matrix:\\n# 0.00913642\\n&#x27;, &#x27;# Adaptation terminated\\n# Step size = 0.154055\\n# Diagonal elements of inverse mass matrix:\\n# 0.00967121\\n&#x27;]</dd><dt><span>stan_code :</span></dt><dd>\n",
              "data {\n",
              "    real&lt;lower=0&gt; a;\n",
              "    real&lt;lower=0&gt; b;\n",
              "    int&lt;lower=0&gt; n;  \n",
              "    int&lt;lower=0&gt; y; \n",
              "}\n",
              "\n",
              "parameters {\n",
              "    real&lt;lower=0, upper=1&gt; p;\n",
              "}\n",
              "\n",
              "transformed parameters {\n",
              "  real theta;\n",
              "  theta=logit(p);\n",
              "}\n",
              "\n",
              "model {\n",
              "      y ~ binomial(n, p);\n",
              "      p ~ beta(a, b);\n",
              "}\n",
              "</dd></dl></div></li></ul></div></div><br></div>\n",
              "                      </ul>\n",
              "                  </div>\n",
              "            </li>\n",
              "            \n",
              "              </ul>\n",
              "            </div>\n",
              "            <style> /* CSS stylesheet for displaying InferenceData objects in jupyterlab.\n",
              " *\n",
              " */\n",
              "\n",
              ":root {\n",
              "  --xr-font-color0: var(--jp-content-font-color0, rgba(0, 0, 0, 1));\n",
              "  --xr-font-color2: var(--jp-content-font-color2, rgba(0, 0, 0, 0.54));\n",
              "  --xr-font-color3: var(--jp-content-font-color3, rgba(0, 0, 0, 0.38));\n",
              "  --xr-border-color: var(--jp-border-color2, #e0e0e0);\n",
              "  --xr-disabled-color: var(--jp-layout-color3, #bdbdbd);\n",
              "  --xr-background-color: var(--jp-layout-color0, white);\n",
              "  --xr-background-color-row-even: var(--jp-layout-color1, white);\n",
              "  --xr-background-color-row-odd: var(--jp-layout-color2, #eeeeee);\n",
              "}\n",
              "\n",
              "html[theme=dark],\n",
              "body.vscode-dark {\n",
              "  --xr-font-color0: rgba(255, 255, 255, 1);\n",
              "  --xr-font-color2: rgba(255, 255, 255, 0.54);\n",
              "  --xr-font-color3: rgba(255, 255, 255, 0.38);\n",
              "  --xr-border-color: #1F1F1F;\n",
              "  --xr-disabled-color: #515151;\n",
              "  --xr-background-color: #111111;\n",
              "  --xr-background-color-row-even: #111111;\n",
              "  --xr-background-color-row-odd: #313131;\n",
              "}\n",
              "\n",
              ".xr-wrap {\n",
              "  display: block;\n",
              "  min-width: 300px;\n",
              "  max-width: 700px;\n",
              "}\n",
              "\n",
              ".xr-text-repr-fallback {\n",
              "  /* fallback to plain text repr when CSS is not injected (untrusted notebook) */\n",
              "  display: none;\n",
              "}\n",
              "\n",
              ".xr-header {\n",
              "  padding-top: 6px;\n",
              "  padding-bottom: 6px;\n",
              "  margin-bottom: 4px;\n",
              "  border-bottom: solid 1px var(--xr-border-color);\n",
              "}\n",
              "\n",
              ".xr-header > div,\n",
              ".xr-header > ul {\n",
              "  display: inline;\n",
              "  margin-top: 0;\n",
              "  margin-bottom: 0;\n",
              "}\n",
              "\n",
              ".xr-obj-type,\n",
              ".xr-array-name {\n",
              "  margin-left: 2px;\n",
              "  margin-right: 10px;\n",
              "}\n",
              "\n",
              ".xr-obj-type {\n",
              "  color: var(--xr-font-color2);\n",
              "}\n",
              "\n",
              ".xr-sections {\n",
              "  padding-left: 0 !important;\n",
              "  display: grid;\n",
              "  grid-template-columns: 150px auto auto 1fr 20px 20px;\n",
              "}\n",
              "\n",
              ".xr-sections.group-sections {\n",
              "  grid-template-columns: auto;\n",
              "}\n",
              "\n",
              ".xr-section-item {\n",
              "  display: contents;\n",
              "}\n",
              "\n",
              ".xr-section-item input {\n",
              "  display: none;\n",
              "}\n",
              "\n",
              ".xr-section-item input + label {\n",
              "  color: var(--xr-disabled-color);\n",
              "}\n",
              "\n",
              ".xr-section-item input:enabled + label {\n",
              "  cursor: pointer;\n",
              "  color: var(--xr-font-color2);\n",
              "}\n",
              "\n",
              ".xr-section-item input:enabled + label:hover {\n",
              "  color: var(--xr-font-color0);\n",
              "}\n",
              "\n",
              ".xr-section-summary {\n",
              "  grid-column: 1;\n",
              "  color: var(--xr-font-color2);\n",
              "  font-weight: 500;\n",
              "}\n",
              "\n",
              ".xr-section-summary > span {\n",
              "  display: inline-block;\n",
              "  padding-left: 0.5em;\n",
              "}\n",
              "\n",
              ".xr-section-summary-in:disabled + label {\n",
              "  color: var(--xr-font-color2);\n",
              "}\n",
              "\n",
              ".xr-section-summary-in + label:before {\n",
              "  display: inline-block;\n",
              "  content: '►';\n",
              "  font-size: 11px;\n",
              "  width: 15px;\n",
              "  text-align: center;\n",
              "}\n",
              "\n",
              ".xr-section-summary-in:disabled + label:before {\n",
              "  color: var(--xr-disabled-color);\n",
              "}\n",
              "\n",
              ".xr-section-summary-in:checked + label:before {\n",
              "  content: '▼';\n",
              "}\n",
              "\n",
              ".xr-section-summary-in:checked + label > span {\n",
              "  display: none;\n",
              "}\n",
              "\n",
              ".xr-section-summary,\n",
              ".xr-section-inline-details {\n",
              "  padding-top: 4px;\n",
              "  padding-bottom: 4px;\n",
              "}\n",
              "\n",
              ".xr-section-inline-details {\n",
              "  grid-column: 2 / -1;\n",
              "}\n",
              "\n",
              ".xr-section-details {\n",
              "  display: none;\n",
              "  grid-column: 1 / -1;\n",
              "  margin-bottom: 5px;\n",
              "}\n",
              "\n",
              ".xr-section-summary-in:checked ~ .xr-section-details {\n",
              "  display: contents;\n",
              "}\n",
              "\n",
              ".xr-array-wrap {\n",
              "  grid-column: 1 / -1;\n",
              "  display: grid;\n",
              "  grid-template-columns: 20px auto;\n",
              "}\n",
              "\n",
              ".xr-array-wrap > label {\n",
              "  grid-column: 1;\n",
              "  vertical-align: top;\n",
              "}\n",
              "\n",
              ".xr-preview {\n",
              "  color: var(--xr-font-color3);\n",
              "}\n",
              "\n",
              ".xr-array-preview,\n",
              ".xr-array-data {\n",
              "  padding: 0 5px !important;\n",
              "  grid-column: 2;\n",
              "}\n",
              "\n",
              ".xr-array-data,\n",
              ".xr-array-in:checked ~ .xr-array-preview {\n",
              "  display: none;\n",
              "}\n",
              "\n",
              ".xr-array-in:checked ~ .xr-array-data,\n",
              ".xr-array-preview {\n",
              "  display: inline-block;\n",
              "}\n",
              "\n",
              ".xr-dim-list {\n",
              "  display: inline-block !important;\n",
              "  list-style: none;\n",
              "  padding: 0 !important;\n",
              "  margin: 0;\n",
              "}\n",
              "\n",
              ".xr-dim-list li {\n",
              "  display: inline-block;\n",
              "  padding: 0;\n",
              "  margin: 0;\n",
              "}\n",
              "\n",
              ".xr-dim-list:before {\n",
              "  content: '(';\n",
              "}\n",
              "\n",
              ".xr-dim-list:after {\n",
              "  content: ')';\n",
              "}\n",
              "\n",
              ".xr-dim-list li:not(:last-child):after {\n",
              "  content: ',';\n",
              "  padding-right: 5px;\n",
              "}\n",
              "\n",
              ".xr-has-index {\n",
              "  font-weight: bold;\n",
              "}\n",
              "\n",
              ".xr-var-list,\n",
              ".xr-var-item {\n",
              "  display: contents;\n",
              "}\n",
              "\n",
              ".xr-var-item > div,\n",
              ".xr-var-item label,\n",
              ".xr-var-item > .xr-var-name span {\n",
              "  background-color: var(--xr-background-color-row-even);\n",
              "  margin-bottom: 0;\n",
              "}\n",
              "\n",
              ".xr-var-item > .xr-var-name:hover span {\n",
              "  padding-right: 5px;\n",
              "}\n",
              "\n",
              ".xr-var-list > li:nth-child(odd) > div,\n",
              ".xr-var-list > li:nth-child(odd) > label,\n",
              ".xr-var-list > li:nth-child(odd) > .xr-var-name span {\n",
              "  background-color: var(--xr-background-color-row-odd);\n",
              "}\n",
              "\n",
              ".xr-var-name {\n",
              "  grid-column: 1;\n",
              "}\n",
              "\n",
              ".xr-var-dims {\n",
              "  grid-column: 2;\n",
              "}\n",
              "\n",
              ".xr-var-dtype {\n",
              "  grid-column: 3;\n",
              "  text-align: right;\n",
              "  color: var(--xr-font-color2);\n",
              "}\n",
              "\n",
              ".xr-var-preview {\n",
              "  grid-column: 4;\n",
              "}\n",
              "\n",
              ".xr-var-name,\n",
              ".xr-var-dims,\n",
              ".xr-var-dtype,\n",
              ".xr-preview,\n",
              ".xr-attrs dt {\n",
              "  white-space: nowrap;\n",
              "  overflow: hidden;\n",
              "  text-overflow: ellipsis;\n",
              "  padding-right: 10px;\n",
              "}\n",
              "\n",
              ".xr-var-name:hover,\n",
              ".xr-var-dims:hover,\n",
              ".xr-var-dtype:hover,\n",
              ".xr-attrs dt:hover {\n",
              "  overflow: visible;\n",
              "  width: auto;\n",
              "  z-index: 1;\n",
              "}\n",
              "\n",
              ".xr-var-attrs,\n",
              ".xr-var-data {\n",
              "  display: none;\n",
              "  background-color: var(--xr-background-color) !important;\n",
              "  padding-bottom: 5px !important;\n",
              "}\n",
              "\n",
              ".xr-var-attrs-in:checked ~ .xr-var-attrs,\n",
              ".xr-var-data-in:checked ~ .xr-var-data {\n",
              "  display: block;\n",
              "}\n",
              "\n",
              ".xr-var-data > table {\n",
              "  float: right;\n",
              "}\n",
              "\n",
              ".xr-var-name span,\n",
              ".xr-var-data,\n",
              ".xr-attrs {\n",
              "  padding-left: 25px !important;\n",
              "}\n",
              "\n",
              ".xr-attrs,\n",
              ".xr-var-attrs,\n",
              ".xr-var-data {\n",
              "  grid-column: 1 / -1;\n",
              "}\n",
              "\n",
              "dl.xr-attrs {\n",
              "  padding: 0;\n",
              "  margin: 0;\n",
              "  display: grid;\n",
              "  grid-template-columns: 125px auto;\n",
              "}\n",
              "\n",
              ".xr-attrs dt, dd {\n",
              "  padding: 0;\n",
              "  margin: 0;\n",
              "  float: left;\n",
              "  padding-right: 10px;\n",
              "  width: auto;\n",
              "}\n",
              "\n",
              ".xr-attrs dt {\n",
              "  font-weight: normal;\n",
              "  grid-column: 1;\n",
              "}\n",
              "\n",
              ".xr-attrs dt:hover span {\n",
              "  display: inline-block;\n",
              "  background: var(--xr-background-color);\n",
              "  padding-right: 10px;\n",
              "}\n",
              "\n",
              ".xr-attrs dd {\n",
              "  grid-column: 2;\n",
              "  white-space: pre-wrap;\n",
              "  word-break: break-all;\n",
              "}\n",
              "\n",
              ".xr-icon-database,\n",
              ".xr-icon-file-text2 {\n",
              "  display: inline-block;\n",
              "  vertical-align: middle;\n",
              "  width: 1em;\n",
              "  height: 1.5em !important;\n",
              "  stroke-width: 0;\n",
              "  stroke: currentColor;\n",
              "  fill: currentColor;\n",
              "}\n",
              ".xr-wrap{width:700px!important;} </style>"
            ],
            "text/plain": [
              "Inference data with groups:\n",
              "\t> posterior\n",
              "\t> sample_stats"
            ]
          },
          "metadata": {},
          "execution_count": 14
        }
      ]
    },
    {
      "cell_type": "code",
      "source": [
        "import matplotlib.pyplot as pylt\n",
        "\n",
        "az.style.use(\"arviz-darkgrid\")\n",
        "\n",
        "# centered_data = az.load_arviz_data(\"centered_eight\")\n",
        "# non_centered_data = az.load_arviz_data(\"non_centered_eight\")\n",
        "axes = az.plot_forest([hrt_data_op], model_names=[\"fit_model1\"],var_names=['theta'],combined=True,\n",
        "                      quartiles=False,hdi_prob=0.95,figsize=(20, 3),markersize=15)\n",
        "axes[0].set_title(\"Estimated proportion\")\n",
        "\n",
        "plt.show()"
      ],
      "metadata": {
        "id": "lDer2IRAX5TK",
        "colab": {
          "base_uri": "https://localhost:8080/",
          "height": 236
        },
        "outputId": "664ff47f-a5a8-4bff-824b-4145131d24d0"
      },
      "execution_count": null,
      "outputs": [
        {
          "output_type": "stream",
          "name": "stderr",
          "text": [
            "INFO:numba.core.transforms:finding looplift candidates\n"
          ]
        },
        {
          "output_type": "display_data",
          "data": {
            "image/png": "[encoded data removed]",
            "text/plain": [
              "<Figure size 2000x300 with 1 Axes>"
            ]
          },
          "metadata": {}
        }
      ]
    },
    {
      "cell_type": "markdown",
      "source": [
        "# <font color=\"darkorange\">Pystan Summary - Information about Model and Metrics"
      ],
      "metadata": {
        "id": "2S7VXE9E7hNU"
      }
    },
    {
      "cell_type": "code",
      "source": [
        "fit_model1_summary=fit_model1.stansummary(pars=[\"p\",\"theta\"], probs=(0.025, 0.25, 0.5, 0.75, 0.975), digits_summary=4)\n",
        "print(fit_model1_summary)"
      ],
      "metadata": {
        "id": "PovFWghz28If"
      },
      "execution_count": null,
      "outputs": []
    },
    {
      "cell_type": "markdown",
      "source": [
        "# <font color=\"darkorange\"> Condensed Summary Report"
      ],
      "metadata": {
        "id": "u8DMIhzs8cvT"
      }
    },
    {
      "cell_type": "code",
      "metadata": {
        "id": "XIvXtZPer6e-",
        "colab": {
          "base_uri": "https://localhost:8080/",
          "height": 112
        },
        "outputId": "c9e75d14-2c9c-4520-a34d-110c34c9b9e9"
      },
      "source": [
        "summ_mod1=az.summary(fit_model1,round_to=3,hdi_prob=0.95)\n",
        "summ_mod1"
      ],
      "execution_count": null,
      "outputs": [
        {
          "output_type": "execute_result",
          "data": {
            "text/html": [
              "\n",
              "  <div id=\"df-cb40a9a5-0879-46dc-8f8f-f46a253b2879\">\n",
              "    <div class=\"colab-df-container\">\n",
              "      <div>\n",
              "<style scoped>\n",
              "    .dataframe tbody tr th:only-of-type {\n",
              "        vertical-align: middle;\n",
              "    }\n",
              "\n",
              "    .dataframe tbody tr th {\n",
              "        vertical-align: top;\n",
              "    }\n",
              "\n",
              "    .dataframe thead th {\n",
              "        text-align: right;\n",
              "    }\n",
              "</style>\n",
              "<table border=\"1\" class=\"dataframe\">\n",
              "  <thead>\n",
              "    <tr style=\"text-align: right;\">\n",
              "      <th></th>\n",
              "      <th>mean</th>\n",
              "      <th>sd</th>\n",
              "      <th>hdi_2.5%</th>\n",
              "      <th>hdi_97.5%</th>\n",
              "      <th>mcse_mean</th>\n",
              "      <th>mcse_sd</th>\n",
              "      <th>ess_bulk</th>\n",
              "      <th>ess_tail</th>\n",
              "      <th>r_hat</th>\n",
              "    </tr>\n",
              "  </thead>\n",
              "  <tbody>\n",
              "    <tr>\n",
              "      <th>p</th>\n",
              "      <td>0.347</td>\n",
              "      <td>0.022</td>\n",
              "      <td>0.304</td>\n",
              "      <td>0.389</td>\n",
              "      <td>0.000</td>\n",
              "      <td>0.000</td>\n",
              "      <td>7249.863</td>\n",
              "      <td>7066.032</td>\n",
              "      <td>1.001</td>\n",
              "    </tr>\n",
              "    <tr>\n",
              "      <th>theta</th>\n",
              "      <td>-0.636</td>\n",
              "      <td>0.097</td>\n",
              "      <td>-0.830</td>\n",
              "      <td>-0.450</td>\n",
              "      <td>0.001</td>\n",
              "      <td>0.001</td>\n",
              "      <td>7249.863</td>\n",
              "      <td>7066.032</td>\n",
              "      <td>1.001</td>\n",
              "    </tr>\n",
              "  </tbody>\n",
              "</table>\n",
              "</div>\n",
              "      <button class=\"colab-df-convert\" onclick=\"convertToInteractive('df-cb40a9a5-0879-46dc-8f8f-f46a253b2879')\"\n",
              "              title=\"Convert this dataframe to an interactive table.\"\n",
              "              style=\"display:none;\">\n",
              "        \n",
              "  <svg xmlns=\"http://www.w3.org/2000/svg\" height=\"24px\"viewBox=\"0 0 24 24\"\n",
              "       width=\"24px\">\n",
              "    <path d=\"M0 0h24v24H0V0z\" fill=\"none\"/>\n",
              "    <path d=\"M18.56 5.44l.94 2.06.94-2.06 2.06-.94-2.06-.94-.94-2.06-.94 2.06-2.06.94zm-11 1L8.5 8.5l.94-2.06 2.06-.94-2.06-.94L8.5 2.5l-.94 2.06-2.06.94zm10 10l.94 2.06.94-2.06 2.06-.94-2.06-.94-.94-2.06-.94 2.06-2.06.94z\"/><path d=\"M17.41 7.96l-1.37-1.37c-.4-.4-.92-.59-1.43-.59-.52 0-1.04.2-1.43.59L10.3 9.45l-7.72 7.72c-.78.78-.78 2.05 0 2.83L4 21.41c.39.39.9.59 1.41.59.51 0 1.02-.2 1.41-.59l7.78-7.78 2.81-2.81c.8-.78.8-2.07 0-2.86zM5.41 20L4 18.59l7.72-7.72 1.47 1.35L5.41 20z\"/>\n",
              "  </svg>\n",
              "      </button>\n",
              "      \n",
              "  <style>\n",
              "    .colab-df-container {\n",
              "      display:flex;\n",
              "      flex-wrap:wrap;\n",
              "      gap: 12px;\n",
              "    }\n",
              "\n",
              "    .colab-df-convert {\n",
              "      background-color: #E8F0FE;\n",
              "      border: none;\n",
              "      border-radius: 50%;\n",
              "      cursor: pointer;\n",
              "      display: none;\n",
              "      fill: #1967D2;\n",
              "      height: 32px;\n",
              "      padding: 0 0 0 0;\n",
              "      width: 32px;\n",
              "    }\n",
              "\n",
              "    .colab-df-convert:hover {\n",
              "      background-color: #E2EBFA;\n",
              "      box-shadow: 0px 1px 2px rgba(60, 64, 67, 0.3), 0px 1px 3px 1px rgba(60, 64, 67, 0.15);\n",
              "      fill: #174EA6;\n",
              "    }\n",
              "\n",
              "    [theme=dark] .colab-df-convert {\n",
              "      background-color: #3B4455;\n",
              "      fill: #D2E3FC;\n",
              "    }\n",
              "\n",
              "    [theme=dark] .colab-df-convert:hover {\n",
              "      background-color: #434B5C;\n",
              "      box-shadow: 0px 1px 3px 1px rgba(0, 0, 0, 0.15);\n",
              "      filter: drop-shadow(0px 1px 2px rgba(0, 0, 0, 0.3));\n",
              "      fill: #FFFFFF;\n",
              "    }\n",
              "  </style>\n",
              "\n",
              "      <script>\n",
              "        const buttonEl =\n",
              "          document.querySelector('#df-cb40a9a5-0879-46dc-8f8f-f46a253b2879 button.colab-df-convert');\n",
              "        buttonEl.style.display =\n",
              "          google.colab.kernel.accessAllowed ? 'block' : 'none';\n",
              "\n",
              "        async function convertToInteractive(key) {\n",
              "          const element = document.querySelector('#df-cb40a9a5-0879-46dc-8f8f-f46a253b2879');\n",
              "          const dataTable =\n",
              "            await google.colab.kernel.invokeFunction('convertToInteractive',\n",
              "                                                     [key], {});\n",
              "          if (!dataTable) return;\n",
              "\n",
              "          const docLinkHtml = 'Like what you see? Visit the ' +\n",
              "            '<a target=\"_blank\" href=https://colab.research.google.com/notebooks/data_table.ipynb>data table notebook</a>'\n",
              "            + ' to learn more about interactive tables.';\n",
              "          element.innerHTML = '';\n",
              "          dataTable['output_type'] = 'display_data';\n",
              "          await google.colab.output.renderOutput(dataTable, element);\n",
              "          const docLink = document.createElement('div');\n",
              "          docLink.innerHTML = docLinkHtml;\n",
              "          element.appendChild(docLink);\n",
              "        }\n",
              "      </script>\n",
              "    </div>\n",
              "  </div>\n",
              "  "
            ],
            "text/plain": [
              "        mean     sd  hdi_2.5%  hdi_97.5%  ...  mcse_sd  ess_bulk  ess_tail  r_hat\n",
              "p      0.347  0.022     0.304      0.389  ...    0.000  7249.863  7066.032  1.001\n",
              "theta -0.636  0.097    -0.830     -0.450  ...    0.001  7249.863  7066.032  1.001\n",
              "\n",
              "[2 rows x 9 columns]"
            ]
          },
          "metadata": {},
          "execution_count": 23
        }
      ]
    },
    {
      "cell_type": "markdown",
      "source": [
        "# <font color=\"darkgreen\">Inverse Transformation\n",
        "\n",
        "In this model logit transform has been used to find the log of odds for success.\n",
        "\n",
        "Appropriate Inverse transformation function can be used to find the probability from logit\n",
        "\n",
        "## logit from probability (p)\n",
        "\n",
        "$$\\mathrm{y=logit}(p) = \\log(\\frac{p}{1-p})$$\n",
        "\n",
        "## Inverse logit - expit(y)\n",
        "\n",
        "$$\\mathrm{p=expit}(y) = \\frac{e^p}{1+e^p}=\\frac{1}{1+e^{-p}}$$"
      ],
      "metadata": {
        "id": "eHtWwl1y8woq"
      }
    },
    {
      "cell_type": "code",
      "source": [
        "theta_op=summ_mod1.iloc[1,[0,2,3]]\n",
        "scipy.special.expit(theta_op)"
      ],
      "metadata": {
        "id": "5PLndhAc5vvs"
      },
      "execution_count": null,
      "outputs": []
    },
    {
      "cell_type": "markdown",
      "source": [
        "#<font color=\"darkorange\"> MCMC convergence Diagnostics - Plots"
      ],
      "metadata": {
        "id": "l10XnuELznht"
      }
    },
    {
      "cell_type": "code",
      "metadata": {
        "id": "lbiFtqGB692X"
      },
      "source": [
        "az.plot_trace(fit_model1, compact=False,legend=True)\n",
        "plt.show()"
      ],
      "execution_count": null,
      "outputs": []
    },
    {
      "cell_type": "markdown",
      "source": [
        "# <font color=\"darkorange\">Histogram, Density plot from the posterior1 for the QoI"
      ],
      "metadata": {
        "id": "eTqlxKuvyq0H"
      }
    },
    {
      "cell_type": "code",
      "source": [
        "# QoI \"p\"\n",
        "az.plot_dist(fit_model1['p'],quantiles=[.25, .5, .75],kind=\"hist\",figsize=(20, 6))\n",
        "plt.show()"
      ],
      "metadata": {
        "id": "5_Oc6_bMxKvz"
      },
      "execution_count": null,
      "outputs": []
    },
    {
      "cell_type": "code",
      "metadata": {
        "id": "3jF8SaK0vgNF"
      },
      "source": [
        "#QoI \"theta=logit(p)\"\n",
        "az.plot_dist(fit_model1['theta'],quantiles=[0.25, 0.5, 0.75],kind=\"kde\",figsize=(20, 6))\n",
        "plt.show()"
      ],
      "execution_count": null,
      "outputs": []
    },
    {
      "cell_type": "markdown",
      "source": [
        "# <font color=\"darkgreen\">Posterior Probabilities\n",
        "\n",
        "1. Obtain the generated samples at each iteration\n",
        "\n",
        "  - Use pystan function *extract*\n",
        "\n",
        "2. Compute the required probabilites as a ratio of favourable points (desired condtion) to the total number of samples"
      ],
      "metadata": {
        "id": "n0AWIaAHRQW9"
      }
    },
    {
      "cell_type": "code",
      "source": [
        "zz=pd.DataFrame(fit_model1.extract())"
      ],
      "metadata": {
        "id": "KaT_GQFxEFpa"
      },
      "execution_count": null,
      "outputs": []
    },
    {
      "cell_type": "code",
      "source": [
        "pr1=np.count_nonzero(zz[\"p\"]> 0.3, axis=0)/len(zz)\n",
        "\n",
        "pr2=np.count_nonzero(zz[\"p\"]< 0.345, axis=0)/len(zz)\n",
        "\n",
        "pr3=np.count_nonzero((zz[\"p\"]>0.3) & (zz[\"p\"] < 0.345))/len(zz)\n",
        "\n",
        "print(round(pr1,4),round(pr2,4),round(pr3,4))"
      ],
      "metadata": {
        "id": "BH8_3Y7xR_wH"
      },
      "execution_count": null,
      "outputs": []
    },
    {
      "cell_type": "markdown",
      "source": [
        "# <font color=\"darkblue\"> Model 2. Binomial - Beta Model\n",
        "\n",
        "## Prior is a Normal (Gaussian) distribution truncated to the range (0,1)\n",
        "\n",
        "Stan format for a Normal distribution in a finite interval (L, U)\n",
        "\n",
        "$$\\mathrm{Normal}(\\mu, \\sigma) T[L,U]$$"
      ],
      "metadata": {
        "id": "GV3iME__v35I"
      }
    },
    {
      "cell_type": "code",
      "metadata": {
        "id": "s_uD_9F9atPf",
        "colab": {
          "base_uri": "https://localhost:8080/"
        },
        "outputId": "4d409c0e-ba1a-421e-906a-01a1321f14ad"
      },
      "source": [
        "# Binomial model with Halfnormal prior\n",
        "hrt_code2 = \"\"\"\n",
        "data {\n",
        "    real<lower=0> a;\n",
        "    real<lower=0> b;\n",
        "    int<lower=0> n;\n",
        "    int<lower=0> y;\n",
        "}\n",
        "\n",
        "parameters {\n",
        "    real<lower=0, upper=1> p;\n",
        "}\n",
        "model {\n",
        "    y ~ binomial(n, p);\n",
        "    p ~ normal(a, b)T[0,1];\n",
        "}\n",
        "\n",
        "\"\"\"\n",
        "# posterior\n",
        "posterior2 = pystan.StanModel(model_code=hrt_code2)"
      ],
      "execution_count": null,
      "outputs": [
        {
          "output_type": "stream",
          "name": "stderr",
          "text": [
            "INFO:pystan:COMPILING THE C++ CODE FOR MODEL anon_model_29b76410d843c7652b2c7394eaf66013 NOW.\n"
          ]
        }
      ]
    },
    {
      "cell_type": "markdown",
      "source": [
        "# <font color=\"darkgreen\">Truncated Normal parameters\n",
        "\n",
        "$\\mu = a$ and $\\sigma =b$\n",
        "\n",
        "$a = 0.5$ and  $b = 1$"
      ],
      "metadata": {
        "id": "kwhh5IcB0bzu"
      }
    },
    {
      "cell_type": "code",
      "metadata": {
        "id": "7Njg0Cbg0XS7",
        "colab": {
          "base_uri": "https://localhost:8080/"
        },
        "outputId": "6f60bbba-abdf-44e8-edb4-de2086c5a0e0"
      },
      "source": [
        "hrt_data_T = {\n",
        "             'n': len(hrt_da),\n",
        "             'y': len(hrt_da.loc[hrt_da['chd'] == 'Yes']),\n",
        "             'a':0.5,\n",
        "             'b':1,\n",
        "            }\n",
        "print(hrt_data_T)"
      ],
      "execution_count": null,
      "outputs": [
        {
          "output_type": "stream",
          "name": "stdout",
          "text": [
            "{'n': 462, 'y': 160, 'a': 0.5, 'b': 1}\n"
          ]
        }
      ]
    },
    {
      "cell_type": "code",
      "source": [
        "fit_model2= posterior2.sampling(data=hrt_data_T,\n",
        "                  iter=10000,\n",
        "                  chains=4,\n",
        "                  seed=1,\n",
        "                  warmup=3000,\n",
        "                  thin=1,\n",
        "                  control={\"max_treedepth\":15,\"adapt_delta\" : 0.9999})"
      ],
      "metadata": {
        "id": "mZARt958zIIH"
      },
      "execution_count": null,
      "outputs": []
    },
    {
      "cell_type": "code",
      "metadata": {
        "id": "5QsrMi45ykwg",
        "colab": {
          "base_uri": "https://localhost:8080/",
          "height": 81
        },
        "outputId": "62efdea3-a33a-44f5-83a8-cc9c7e321057"
      },
      "source": [
        "summ_mod2=az.summary(fit_model2,round_to=3,hdi_prob=0.95)\n",
        "summ_mod2"
      ],
      "execution_count": null,
      "outputs": [
        {
          "output_type": "execute_result",
          "data": {
            "text/html": [
              "\n",
              "  <div id=\"df-9504f38d-72a9-4020-9d2d-8f5628c8bae8\">\n",
              "    <div class=\"colab-df-container\">\n",
              "      <div>\n",
              "<style scoped>\n",
              "    .dataframe tbody tr th:only-of-type {\n",
              "        vertical-align: middle;\n",
              "    }\n",
              "\n",
              "    .dataframe tbody tr th {\n",
              "        vertical-align: top;\n",
              "    }\n",
              "\n",
              "    .dataframe thead th {\n",
              "        text-align: right;\n",
              "    }\n",
              "</style>\n",
              "<table border=\"1\" class=\"dataframe\">\n",
              "  <thead>\n",
              "    <tr style=\"text-align: right;\">\n",
              "      <th></th>\n",
              "      <th>mean</th>\n",
              "      <th>sd</th>\n",
              "      <th>hdi_2.5%</th>\n",
              "      <th>hdi_97.5%</th>\n",
              "      <th>mcse_mean</th>\n",
              "      <th>mcse_sd</th>\n",
              "      <th>ess_bulk</th>\n",
              "      <th>ess_tail</th>\n",
              "      <th>r_hat</th>\n",
              "    </tr>\n",
              "  </thead>\n",
              "  <tbody>\n",
              "    <tr>\n",
              "      <th>p</th>\n",
              "      <td>0.347</td>\n",
              "      <td>0.022</td>\n",
              "      <td>0.303</td>\n",
              "      <td>0.389</td>\n",
              "      <td>0.0</td>\n",
              "      <td>0.0</td>\n",
              "      <td>7524.42</td>\n",
              "      <td>7155.76</td>\n",
              "      <td>1.001</td>\n",
              "    </tr>\n",
              "  </tbody>\n",
              "</table>\n",
              "</div>\n",
              "      <button class=\"colab-df-convert\" onclick=\"convertToInteractive('df-9504f38d-72a9-4020-9d2d-8f5628c8bae8')\"\n",
              "              title=\"Convert this dataframe to an interactive table.\"\n",
              "              style=\"display:none;\">\n",
              "        \n",
              "  <svg xmlns=\"http://www.w3.org/2000/svg\" height=\"24px\"viewBox=\"0 0 24 24\"\n",
              "       width=\"24px\">\n",
              "    <path d=\"M0 0h24v24H0V0z\" fill=\"none\"/>\n",
              "    <path d=\"M18.56 5.44l.94 2.06.94-2.06 2.06-.94-2.06-.94-.94-2.06-.94 2.06-2.06.94zm-11 1L8.5 8.5l.94-2.06 2.06-.94-2.06-.94L8.5 2.5l-.94 2.06-2.06.94zm10 10l.94 2.06.94-2.06 2.06-.94-2.06-.94-.94-2.06-.94 2.06-2.06.94z\"/><path d=\"M17.41 7.96l-1.37-1.37c-.4-.4-.92-.59-1.43-.59-.52 0-1.04.2-1.43.59L10.3 9.45l-7.72 7.72c-.78.78-.78 2.05 0 2.83L4 21.41c.39.39.9.59 1.41.59.51 0 1.02-.2 1.41-.59l7.78-7.78 2.81-2.81c.8-.78.8-2.07 0-2.86zM5.41 20L4 18.59l7.72-7.72 1.47 1.35L5.41 20z\"/>\n",
              "  </svg>\n",
              "      </button>\n",
              "      \n",
              "  <style>\n",
              "    .colab-df-container {\n",
              "      display:flex;\n",
              "      flex-wrap:wrap;\n",
              "      gap: 12px;\n",
              "    }\n",
              "\n",
              "    .colab-df-convert {\n",
              "      background-color: #E8F0FE;\n",
              "      border: none;\n",
              "      border-radius: 50%;\n",
              "      cursor: pointer;\n",
              "      display: none;\n",
              "      fill: #1967D2;\n",
              "      height: 32px;\n",
              "      padding: 0 0 0 0;\n",
              "      width: 32px;\n",
              "    }\n",
              "\n",
              "    .colab-df-convert:hover {\n",
              "      background-color: #E2EBFA;\n",
              "      box-shadow: 0px 1px 2px rgba(60, 64, 67, 0.3), 0px 1px 3px 1px rgba(60, 64, 67, 0.15);\n",
              "      fill: #174EA6;\n",
              "    }\n",
              "\n",
              "    [theme=dark] .colab-df-convert {\n",
              "      background-color: #3B4455;\n",
              "      fill: #D2E3FC;\n",
              "    }\n",
              "\n",
              "    [theme=dark] .colab-df-convert:hover {\n",
              "      background-color: #434B5C;\n",
              "      box-shadow: 0px 1px 3px 1px rgba(0, 0, 0, 0.15);\n",
              "      filter: drop-shadow(0px 1px 2px rgba(0, 0, 0, 0.3));\n",
              "      fill: #FFFFFF;\n",
              "    }\n",
              "  </style>\n",
              "\n",
              "      <script>\n",
              "        const buttonEl =\n",
              "          document.querySelector('#df-9504f38d-72a9-4020-9d2d-8f5628c8bae8 button.colab-df-convert');\n",
              "        buttonEl.style.display =\n",
              "          google.colab.kernel.accessAllowed ? 'block' : 'none';\n",
              "\n",
              "        async function convertToInteractive(key) {\n",
              "          const element = document.querySelector('#df-9504f38d-72a9-4020-9d2d-8f5628c8bae8');\n",
              "          const dataTable =\n",
              "            await google.colab.kernel.invokeFunction('convertToInteractive',\n",
              "                                                     [key], {});\n",
              "          if (!dataTable) return;\n",
              "\n",
              "          const docLinkHtml = 'Like what you see? Visit the ' +\n",
              "            '<a target=\"_blank\" href=https://colab.research.google.com/notebooks/data_table.ipynb>data table notebook</a>'\n",
              "            + ' to learn more about interactive tables.';\n",
              "          element.innerHTML = '';\n",
              "          dataTable['output_type'] = 'display_data';\n",
              "          await google.colab.output.renderOutput(dataTable, element);\n",
              "          const docLink = document.createElement('div');\n",
              "          docLink.innerHTML = docLinkHtml;\n",
              "          element.appendChild(docLink);\n",
              "        }\n",
              "      </script>\n",
              "    </div>\n",
              "  </div>\n",
              "  "
            ],
            "text/plain": [
              "    mean     sd  hdi_2.5%  hdi_97.5%  ...  mcse_sd  ess_bulk  ess_tail  r_hat\n",
              "p  0.347  0.022     0.303      0.389  ...      0.0   7524.42   7155.76  1.001\n",
              "\n",
              "[1 rows x 9 columns]"
            ]
          },
          "metadata": {},
          "execution_count": 16
        }
      ]
    },
    {
      "cell_type": "code",
      "metadata": {
        "id": "QvauhF0d2kgj"
      },
      "source": [
        "az.plot_trace(fit_model2,compact=False, legend=True)\n",
        "plt.show()"
      ],
      "execution_count": null,
      "outputs": []
    },
    {
      "cell_type": "code",
      "source": [
        "# QoI \"p\"\n",
        "az.plot_dist(fit_model2['p'],quantiles=[.25, .5, .75],kind=\"hist\",figsize=(20, 6))\n",
        "plt.show()"
      ],
      "metadata": {
        "id": "HRC73Dlq2aQv"
      },
      "execution_count": null,
      "outputs": []
    },
    {
      "cell_type": "markdown",
      "source": [
        "# <font color=\"darkblue\"> Model 3. Binomial - Beta Model\n",
        "\n",
        "## Same as Model 1, but logit (p) is estimated from the generated quantities but not as a parameter (transformed)\n"
      ],
      "metadata": {
        "id": "CCUbOakRCu8l"
      }
    },
    {
      "cell_type": "code",
      "metadata": {
        "colab": {
          "base_uri": "https://localhost:8080/"
        },
        "id": "3KV-dT5TALv7",
        "outputId": "0eeb08b1-f482-40bb-abc7-4f5ed70d1241"
      },
      "source": [
        "hrt_code3 = \"\"\"\n",
        "data {\n",
        "    real<lower=0> a;\n",
        "    real<lower=0> b;\n",
        "    int<lower=0> n;\n",
        "    int<lower=0> y;\n",
        "}\n",
        "\n",
        "parameters {\n",
        "    real<lower=0, upper=1> p;\n",
        "}\n",
        "\n",
        "model {\n",
        "      y ~ binomial(n, p);\n",
        "      p ~ beta(a, b);\n",
        "}\n",
        "\n",
        "generated quantities{\n",
        "  real theta;\n",
        "  theta=logit(p);\n",
        "}\n",
        "\"\"\"\n",
        "# posterior\n",
        "posterior3 = pystan.StanModel(model_code=hrt_code3)"
      ],
      "execution_count": null,
      "outputs": [
        {
          "output_type": "stream",
          "name": "stderr",
          "text": [
            "INFO:pystan:COMPILING THE C++ CODE FOR MODEL anon_model_6a391ea69b3022ab64c0f4a542467972 NOW.\n"
          ]
        }
      ]
    },
    {
      "cell_type": "code",
      "source": [
        "fit_model3= posterior3.sampling(data=hrt_data,\n",
        "                  iter=10000,\n",
        "                  chains=4,\n",
        "                  seed=1,\n",
        "                  warmup=3000,\n",
        "                  thin=1,\n",
        "                  control={\"max_treedepth\":15,\"adapt_delta\" : 0.9999})"
      ],
      "metadata": {
        "id": "oYnBRv_cA6gL"
      },
      "execution_count": null,
      "outputs": []
    },
    {
      "cell_type": "code",
      "metadata": {
        "id": "_MDroVZnBOFY"
      },
      "source": [
        "summ_mod3=az.summary(fit_model3,round_to=3,hdi_prob=0.95)\n",
        "summ_mod3"
      ],
      "execution_count": null,
      "outputs": []
    },
    {
      "cell_type": "code",
      "metadata": {
        "id": "zgqnNoyQBOFZ"
      },
      "source": [
        "az.plot_trace(fit_model2,compact=False, legend=True)\n",
        "plt.show()"
      ],
      "execution_count": null,
      "outputs": []
    },
    {
      "cell_type": "code",
      "source": [
        "# QoI \"p\"\n",
        "az.plot_dist(fit_model2['p'],quantiles=[.25, .5, .75],kind=\"hist\",figsize=(20, 6))\n",
        "plt.show()"
      ],
      "metadata": {
        "id": "wdczEmQgBOFa"
      },
      "execution_count": null,
      "outputs": []
    },
    {
      "cell_type": "markdown",
      "source": [
        "# Binomial Regression without predictor\n",
        "\n"
      ],
      "metadata": {
        "id": "N7UzRsRNcXcr"
      }
    },
    {
      "cell_type": "code",
      "source": [
        "hrt_fit_code0 = \"\"\"\n",
        "data {\n",
        "    real<lower=0> a;\n",
        "    real<lower=0> b;\n",
        "    int<lower=0> k;\n",
        "\n",
        "    int y[k];\n",
        "}\n",
        "\n",
        "parameters {\n",
        "  real b0;\n",
        " }\n",
        "\n",
        "model {\n",
        "     y ~ bernoulli_logit(b0);\n",
        "     b0 ~ normal(a, b);\n",
        "}\n",
        "\"\"\"\n",
        "\n",
        "\n",
        "# Posterior\n",
        "posterior0 = pystan.StanModel(model_code=hrt_fit_code0)\n"
      ],
      "metadata": {
        "id": "f37TasULKj3y",
        "colab": {
          "base_uri": "https://localhost:8080/"
        },
        "outputId": "a0503c25-9126-419b-f65f-3f33c48d1416"
      },
      "execution_count": null,
      "outputs": [
        {
          "output_type": "stream",
          "name": "stderr",
          "text": [
            "INFO:pystan:COMPILING THE C++ CODE FOR MODEL anon_model_3927b8f5c85f6b45d8fbd9f759a9506f NOW.\n"
          ]
        }
      ]
    },
    {
      "cell_type": "code",
      "metadata": {
        "id": "-bJSKF62LUW_"
      },
      "source": [
        "# Input - data and values for prior parameters a and b\n",
        "\n",
        "n=len(hrt_da)\n",
        "y1=hrt_da['chd_c']\n",
        "#y2=print((y1.to_numpy()))\n",
        "hrt_data0 = {'k':n,\n",
        "             'y':y1,\n",
        "             'a':0,\n",
        "             'b':1,\n",
        "             }\n"
      ],
      "execution_count": null,
      "outputs": []
    },
    {
      "cell_type": "code",
      "metadata": {
        "id": "iBlmQGabg_Ou"
      },
      "source": [
        "hrt_fit0= posterior0.sampling(data=hrt_data0,\n",
        "                  iter=10000,\n",
        "                  chains=4,\n",
        "                  seed=1,\n",
        "                  warmup=3000,\n",
        "                  thin=1,\n",
        "                  control={\"max_treedepth\":15,\"adapt_delta\" : 0.9999})\n",
        "\n",
        "print(hrt_fit0.stansummary(pars=[\"b0\"], probs=(0.025, 0.25, 0.5, 0.75, 0.975), digits_summary=4))"
      ],
      "execution_count": null,
      "outputs": []
    },
    {
      "cell_type": "code",
      "metadata": {
        "id": "SSOBYBh-a_Rh"
      },
      "source": [
        "summ_fit0=az.summary(hrt_fit0,round_to=3,hdi_prob=0.95)\n",
        "summ_fit0"
      ],
      "execution_count": null,
      "outputs": []
    },
    {
      "cell_type": "code",
      "metadata": {
        "id": "Gu7sdFhYgOcj"
      },
      "source": [
        "az.plot_trace(hrt_fit0,compact=False, legend=True)\n",
        "plt.show()"
      ],
      "execution_count": null,
      "outputs": []
    },
    {
      "cell_type": "code",
      "source": [
        "# QoI \"p\"\n",
        "az.plot_dist(hrt_fit0['b0'],quantiles=[.25, .5, .75],kind=\"hist\",figsize=(20, 6))\n",
        "plt.show()"
      ],
      "metadata": {
        "id": "HhcIgDf_gOcx"
      },
      "execution_count": null,
      "outputs": []
    },
    {
      "cell_type": "markdown",
      "source": [
        "# Probit Link"
      ],
      "metadata": {
        "id": "q_kQa9ISecJW"
      }
    },
    {
      "cell_type": "code",
      "source": [
        "hrt_fit_code00 = \"\"\"\n",
        "data {\n",
        "    real<lower=0> a;\n",
        "    real<lower=0> b;\n",
        "    int<lower=0> k;\n",
        "\n",
        "    int y[k];\n",
        "}\n",
        "\n",
        "parameters {\n",
        "  real b0;\n",
        " }\n",
        "\n",
        "model {\n",
        "     y ~ bernoulli(Phi(b0));\n",
        "     b0 ~ normal(a, b);\n",
        "}\n",
        "\"\"\"\n",
        "\n",
        "\n",
        "# Posterior\n",
        "posterior00 = pystan.StanModel(model_code=hrt_fit_code00)\n"
      ],
      "metadata": {
        "id": "LZZQw9LieHkR"
      },
      "execution_count": null,
      "outputs": []
    },
    {
      "cell_type": "code",
      "metadata": {
        "id": "ox68cpW6eHkT"
      },
      "source": [
        "# Input - data and values for prior parameters a and b\n",
        "\n",
        "n=len(hrt_da)\n",
        "y1=hrt_da['chd_c']\n",
        "#y2=print((y1.to_numpy()))\n",
        "hrt_data0 = {'k':n,\n",
        "             'y':y1,\n",
        "             'a':0,\n",
        "             'b':1,\n",
        "             }\n"
      ],
      "execution_count": null,
      "outputs": []
    },
    {
      "cell_type": "code",
      "metadata": {
        "id": "Npc7vnLUeHkU"
      },
      "source": [
        "hrt_fit00= posterior00.sampling(data=hrt_data0,\n",
        "                  iter=10000,\n",
        "                  chains=4,\n",
        "                  seed=1,\n",
        "                  warmup=3000,\n",
        "                  thin=1,\n",
        "                  control={\"max_treedepth\":15,\"adapt_delta\" : 0.9999})"
      ],
      "execution_count": null,
      "outputs": []
    },
    {
      "cell_type": "code",
      "metadata": {
        "id": "Rt1r7CuWeHkU"
      },
      "source": [
        "summ_fit00=az.summary(hrt_fit00,round_to=3,hdi_prob=0.95)\n",
        "summ_fit00"
      ],
      "execution_count": null,
      "outputs": []
    },
    {
      "cell_type": "code",
      "metadata": {
        "id": "QzwSAbbZghkC"
      },
      "source": [
        "az.plot_trace(hrt_fit00,compact=False, legend=True)\n",
        "plt.show()"
      ],
      "execution_count": null,
      "outputs": []
    },
    {
      "cell_type": "code",
      "source": [
        "# QoI \"p\"\n",
        "az.plot_dist(hrt_fit00['b0'],quantiles=[.25, .5, .75],kind=\"hist\",figsize=(20, 6))\n",
        "plt.show()"
      ],
      "metadata": {
        "id": "1nCts5qnghkU"
      },
      "execution_count": null,
      "outputs": []
    },
    {
      "cell_type": "markdown",
      "source": [
        "# Binary Logit Model with One Binary Predictor"
      ],
      "metadata": {
        "id": "Pm2O_gLhlSMa"
      }
    },
    {
      "cell_type": "code",
      "source": [
        "hrt_fit_code1 = \"\"\"\n",
        "data {\n",
        "int<lower=0> N;\n",
        "int<lower=0,upper=1> y[N];\n",
        "vector[N] ldl;\n",
        "}\n",
        "\n",
        "parameters {\n",
        "real b0;\n",
        "real b1;\n",
        "}\n",
        "model {\n",
        "y ~ bernoulli_logit(b0 + b1 * ldl);\n",
        "\n",
        "b0 ~ normal(0,100);\n",
        "b1 ~ normal(0,100);\n",
        "}\n",
        "\"\"\"\n",
        "\n",
        "\n",
        "# Posterior\n",
        "posterior_fit1 = pystan.StanModel(model_code=hrt_fit_code1)\n"
      ],
      "metadata": {
        "id": "UhiosW-JlQFg",
        "colab": {
          "base_uri": "https://localhost:8080/",
          "height": 206
        },
        "outputId": "d08e5773-a6cb-47ae-fba1-6cc90cbc0d6a"
      },
      "execution_count": null,
      "outputs": [
        {
          "output_type": "error",
          "ename": "NameError",
          "evalue": "ignored",
          "traceback": [
            "\u001b[0;31m---------------------------------------------------------------------------\u001b[0m",
            "\u001b[0;31mNameError\u001b[0m                                 Traceback (most recent call last)",
            "\u001b[0;32m<ipython-input-1-906f502c14c6>\u001b[0m in \u001b[0;36m<module>\u001b[0;34m()\u001b[0m\n\u001b[1;32m     20\u001b[0m \u001b[0;34m\u001b[0m\u001b[0m\n\u001b[1;32m     21\u001b[0m \u001b[0;31m# Posterior\u001b[0m\u001b[0;34m\u001b[0m\u001b[0;34m\u001b[0m\u001b[0;34m\u001b[0m\u001b[0m\n\u001b[0;32m---> 22\u001b[0;31m \u001b[0mposterior_fit1\u001b[0m \u001b[0;34m=\u001b[0m \u001b[0mpystan\u001b[0m\u001b[0;34m.\u001b[0m\u001b[0mStanModel\u001b[0m\u001b[0;34m(\u001b[0m\u001b[0mmodel_code\u001b[0m\u001b[0;34m=\u001b[0m\u001b[0mhrt_fit_code1\u001b[0m\u001b[0;34m)\u001b[0m\u001b[0;34m\u001b[0m\u001b[0;34m\u001b[0m\u001b[0m\n\u001b[0m",
            "\u001b[0;31mNameError\u001b[0m: name 'pystan' is not defined"
          ]
        }
      ]
    },
    {
      "cell_type": "code",
      "source": [
        "hrt_da=hrt_da.assign(famhist_c=lambda x:x['famhist'].apply(lambda y: 1 if y==\"Present\" else 0))\n",
        "hrt_da['famhist_c'] = hrt_da['famhist_c'].astype('category')"
      ],
      "metadata": {
        "id": "-OrxLr4zaPJX"
      },
      "execution_count": null,
      "outputs": []
    },
    {
      "cell_type": "code",
      "metadata": {
        "id": "ddHGn1ahlQFu"
      },
      "source": [
        "# Input - data and values for prior parameters a and b\n",
        "\n",
        "n=len(hrt_da)\n",
        "y1=hrt_da['chd_c']\n",
        "x1=hrt_da['famhist_c']\n",
        "#y2=print((y1.to_numpy()))\n",
        "hrt_data1 = {'N':n,\n",
        "             'y':y1,\n",
        "             'ldl':x1,\n",
        "            }\n",
        "hrt_data1"
      ],
      "execution_count": null,
      "outputs": []
    },
    {
      "cell_type": "code",
      "source": [],
      "metadata": {
        "id": "DgADzK1OlgKX"
      },
      "execution_count": null,
      "outputs": []
    },
    {
      "cell_type": "code",
      "metadata": {
        "id": "6HhhjsLYlQFu"
      },
      "source": [
        "hrt_fit1= posterior_fit1.sampling(data=hrt_data1,\n",
        "                  iter=10000,\n",
        "                  chains=4,\n",
        "                  seed=1,\n",
        "                  warmup=3000,\n",
        "                  thin=1,\n",
        "                  control={\"max_treedepth\":15,\"adapt_delta\" : 0.9999})\n",
        "\n",
        "# print(hrt_fit1.stansummary(pars=[\"b0\"], probs=(0.025, 0.25, 0.5, 0.75, 0.975), digits_summary=4))"
      ],
      "execution_count": null,
      "outputs": []
    },
    {
      "cell_type": "code",
      "source": [
        "hrt_fit1_op=az.from_pystan(posterior=hrt_fit1)\n",
        "hrt_fit1_op"
      ],
      "metadata": {
        "id": "2yH65oH0l9xo"
      },
      "execution_count": null,
      "outputs": []
    },
    {
      "cell_type": "code",
      "source": [
        "import matplotlib.pyplot as pylt\n",
        "az.style.use(\"arviz-darkgrid\")\n",
        "axes= az.plot_forest([hrt_fit1_op], var_names=['b0','b1'],combined=True,\n",
        "                      quartiles=False,hdi_prob=0.95,figsize=(20, 5),markersize=15)\n",
        "pylt.vlines(0,ymin=0, ymax=8,color=\"black\", linestyle=\"--\")\n",
        "\n",
        "axes[0].set_title(\"Estimated proportion\")\n",
        "pylt.show()"
      ],
      "metadata": {
        "id": "gPoXtgMEl9x4"
      },
      "execution_count": null,
      "outputs": []
    },
    {
      "cell_type": "code",
      "metadata": {
        "id": "m1w4A-knlQFv"
      },
      "source": [
        "summ_fit1=az.summary(hrt_fit1,round_to=3,hdi_prob=0.95)\n",
        "summ_fit1"
      ],
      "execution_count": null,
      "outputs": []
    },
    {
      "cell_type": "code",
      "metadata": {
        "id": "KXNoo5AelQFv"
      },
      "source": [
        "az.plot_trace(hrt_fit1,compact=False, legend=True)\n",
        "plt.show()"
      ],
      "execution_count": null,
      "outputs": []
    },
    {
      "cell_type": "code",
      "source": [
        "az.plot_posterior(hrt_fit1,\n",
        "            var_names=['b0', 'b1'],\n",
        "            transform=scipy.special.expit,\n",
        "            hdi_prob=0.95,\n",
        "            kind=\"hist\")\n",
        "plt.show()"
      ],
      "metadata": {
        "id": "yStjavvquOOx"
      },
      "execution_count": null,
      "outputs": []
    }
  ]
}