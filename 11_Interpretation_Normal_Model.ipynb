{
  "nbformat": 4,
  "nbformat_minor": 0,
  "metadata": {
    "colab": {
      "provenance": [],
      "include_colab_link": true
    },
    "kernelspec": {
      "name": "python3",
      "display_name": "Python 3"
    },
    "language_info": {
      "name": "python"
    }
  },
  "cells": [
    {
      "cell_type": "markdown",
      "metadata": {
        "id": "view-in-github",
        "colab_type": "text"
      },
      "source": [
        "<a href=\"https://colab.research.google.com/github/DrSubbiah/1.Bayesian-Inference/blob/master/11_Interpretation_Normal_Model.ipynb\" target=\"_parent\"><img src=\"https://colab.research.google.com/assets/colab-badge.svg\" alt=\"Open In Colab\"/></a>"
      ]
    },
    {
      "cell_type": "markdown",
      "source": [
        "# <font color=\"darkblue\">Numeric / Metric Data Model\n",
        "\n",
        "- Model building from Null model to a possible parsimonious model\n",
        "\n",
        "- Response variable is numeric and Normal model is assumed\n",
        "\n",
        "- Data set: **bweight**\n",
        "\n",
        "## <font color=\"darkgreen\">Variables and their meaning</font>\n",
        "\n",
        "1. id:\t      identity number\n",
        "\n",
        "1. matage:\t  maternal age (years)\n",
        "\n",
        "1. ht:\t      hypertension (1=yes,\t0=no)\n",
        "\n",
        "1. gestwks:\t  gestational age (weeks)\n",
        "\n",
        "1. sex:\t      sex of the baby\n",
        "\n",
        "1. bweight:\t  birthweight(g)\n",
        "\n",
        "1. matagegp:  maternal age into four groups (<30, 30-34, 35-39, 40+)\n",
        "\n",
        "1. gestcat:\t  gestwks into two groups (<37, >=37)\n",
        "\n",
        "## <font color=\"darkgreen\">Observations\n",
        "\n",
        "- *matage* is numerical whereas *matagegp* categorical\n",
        "\n",
        "- *gestwks* is numerical and *gestcat* is categorical\n",
        "\n",
        "- *ht, sex* are dichotomous\n",
        "\n",
        "## <font color=\"darkgreen\">Practical Significance\n",
        "\n",
        "- <font color=\"red\">cited only for the impact of the problem and to indicate the data impact and white box modeling. No authenticity or accuracy of the results or anaysis methods are endorsed or recommended</font>\n",
        "\n",
        "[Practical 1](https://pubmed.ncbi.nlm.nih.gov/32866126/)\n",
        "\n",
        "[Practical 2](https://pubmed.ncbi.nlm.nih.gov/28767987/)\n",
        "\n",
        "[Global Nutrition Targets 2025](https://www.google.com/url?sa=t&rct=j&q=&esrc=s&source=web&cd=&cad=rja&uact=8&ved=2ahUKEwjSy9mFjfb0AhUHILcAHcswBesQFnoECAsQAQ&url=https%3A%2F%2Fapps.who.int%2Firis%2Frest%2Fbitstreams%2F665595%2Fretrieve&usg=AOvVaw1ZHSLlF_5nhL30e2oxEFbx)\n",
        "\n",
        "[Indian 1](https://pubmed.ncbi.nlm.nih.gov/33432318/)\n",
        "\n",
        "[Indian 2](https://epag.springeropen.com/articles/10.1186/s43054-020-00040-0)\n",
        "\n",
        "[Indian 3](https://www.sciencedirect.com/science/article/pii/S221339842030230X)\n",
        "\n",
        "[Indian 4](https://journals.plos.org/plosone/article?id=10.1371/journal.pone.0244562)\n",
        "\n",
        "## <font color=\"darkgreen\"> Possible Questions Driving Analysis\n",
        "\n",
        "- Behaviour of the variables\n",
        "\n",
        "- Gender difference\n",
        "\n",
        "- Cause of Maternal Age\n",
        "\n",
        "- Gestational week association\n",
        "\n",
        "- Effect of Hypertension"
      ],
      "metadata": {
        "id": "XlUc5i8MuNiz"
      }
    },
    {
      "cell_type": "code",
      "metadata": {
        "id": "UDzJwyIZdo5d"
      },
      "source": [
        "import numpy as np\n",
        "import pandas as pd\n",
        "import statistics as stat\n",
        "import scipy\n",
        "import pystan"
      ],
      "execution_count": null,
      "outputs": []
    },
    {
      "cell_type": "code",
      "source": [
        "#For plots\n",
        "import arviz as az\n",
        "import matplotlib.pyplot as plt"
      ],
      "metadata": {
        "id": "GZVS5yLEzsho"
      },
      "execution_count": null,
      "outputs": []
    },
    {
      "cell_type": "markdown",
      "source": [
        "#<font color=\"darkblue\"> Loading Data"
      ],
      "metadata": {
        "id": "oTAaS7BCvrOK"
      }
    },
    {
      "cell_type": "code",
      "source": [
        "from google.colab import drive\n",
        "drive.mount('/content/drive')"
      ],
      "metadata": {
        "id": "r2OBfEcUrmIf",
        "colab": {
          "base_uri": "https://localhost:8080/"
        },
        "outputId": "ba56a2ca-8cc7-454b-c668-73140a9eb1f2"
      },
      "execution_count": null,
      "outputs": [
        {
          "output_type": "stream",
          "name": "stdout",
          "text": [
            "Drive already mounted at /content/drive; to attempt to forcibly remount, call drive.mount(\"/content/drive\", force_remount=True).\n"
          ]
        }
      ]
    },
    {
      "cell_type": "code",
      "source": [
        "path = \"/content/drive/MyDrive/Data Sets/BirthWt.csv\"\n",
        "brtwt_da = pd.read_csv(path)"
      ],
      "metadata": {
        "id": "aAMvPAg5osYd"
      },
      "execution_count": null,
      "outputs": []
    },
    {
      "cell_type": "code",
      "source": [
        "brtwt_da.info()"
      ],
      "metadata": {
        "id": "xHioRCj_qRic"
      },
      "execution_count": null,
      "outputs": []
    },
    {
      "cell_type": "code",
      "source": [
        "print(brtwt_da.dtypes)"
      ],
      "metadata": {
        "id": "zg-pFsGIshry"
      },
      "execution_count": null,
      "outputs": []
    },
    {
      "cell_type": "code",
      "source": [
        "print(np.mean(brtwt_da['bweight']),np.std(brtwt_da['bweight']))"
      ],
      "metadata": {
        "id": "IZiewibWaYCr",
        "colab": {
          "base_uri": "https://localhost:8080/"
        },
        "outputId": "49d6e0ce-d87f-4710-dfe4-ca1550aec89d"
      },
      "execution_count": null,
      "outputs": [
        {
          "output_type": "stream",
          "name": "stdout",
          "text": [
            "3129.13728549142 652.2732622220477\n"
          ]
        }
      ]
    },
    {
      "cell_type": "markdown",
      "source": [
        "# <font color=\"darkblue\">Role of Constant only Model (Normal / Linear)\n",
        "\n",
        "- Estimates the sample mean of the response variable\n",
        "\n",
        "- Estimated the sample SD of the response variable\n",
        "\n",
        "- Estimated value is independent of the predictors included in the data\n",
        "\n",
        "- This is unconditional mean $E[Y]$"
      ],
      "metadata": {
        "id": "3h0yzWXdeTxe"
      }
    },
    {
      "cell_type": "markdown",
      "source": [
        "# <font color=\"darkblue\"> Model 1. Normal Model without Predictor\n",
        "\n",
        "## Response Variable: *bweight*"
      ],
      "metadata": {
        "id": "-3kCwo4iuV6Y"
      }
    },
    {
      "cell_type": "markdown",
      "source": [
        "# STAN Code"
      ],
      "metadata": {
        "id": "7jNTxE5pVP3i"
      }
    },
    {
      "cell_type": "code",
      "metadata": {
        "id": "7biE-f55jhxB",
        "colab": {
          "base_uri": "https://localhost:8080/"
        },
        "outputId": "fb69a8ad-ba7a-42c2-bac2-760b09a38874"
      },
      "source": [
        "brtwt_code1 = \"\"\"\n",
        "data {\n",
        "    real a;\n",
        "    real<lower=0> b;\n",
        "    real<lower=0> g1;\n",
        "    real<lower=0> g2;\n",
        "    int<lower=0> n;\n",
        "    real y[n];\n",
        "}\n",
        "\n",
        "parameters {\n",
        "    real mu;\n",
        "     real<lower=0> sig;\n",
        "}\n",
        "\n",
        "transformed parameters {\n",
        "  real<lower=0> tau;\n",
        "  tau=(1/sig)^2;\n",
        "}\n",
        "\n",
        "model {\n",
        "      y ~ normal(mu, sig);\n",
        "      mu ~ normal(a, b);\n",
        "      tau ~ gamma(g1,g2);\n",
        "}\n",
        "\"\"\"\n",
        "# posterior\n",
        "posterior1 = pystan.StanModel(model_code=brtwt_code1)"
      ],
      "execution_count": null,
      "outputs": [
        {
          "output_type": "stream",
          "name": "stderr",
          "text": [
            "INFO:pystan:COMPILING THE C++ CODE FOR MODEL anon_model_7724acc493ed1d41d8cb912abca05633 NOW.\n"
          ]
        }
      ]
    },
    {
      "cell_type": "markdown",
      "source": [
        "# Input - data and values for prior parameters"
      ],
      "metadata": {
        "id": "uRCsTxSwe5N0"
      }
    },
    {
      "cell_type": "code",
      "metadata": {
        "id": "M1pt1pa2hzfB"
      },
      "source": [
        "brtwt_data = {\n",
        "             'n': len(brtwt_da),\n",
        "             'y': brtwt_da['bweight'],\n",
        "             'a':3000,\n",
        "             'b':10,\n",
        "             'g1':3,\n",
        "             'g2':1,\n",
        "            }\n",
        "print(brtwt_data)"
      ],
      "execution_count": null,
      "outputs": []
    },
    {
      "cell_type": "markdown",
      "source": [
        "#Model Fitting - Sampling"
      ],
      "metadata": {
        "id": "hgGftfaJVTt8"
      }
    },
    {
      "cell_type": "code",
      "source": [
        "fit_model1= posterior1.sampling(data=brtwt_data,\n",
        "                  iter=10000,\n",
        "                  chains=4,\n",
        "                  seed=1,\n",
        "                  warmup=3000,\n",
        "                  thin=1,\n",
        "                  control={\"max_treedepth\":15,\"adapt_delta\" : 0.9999})"
      ],
      "metadata": {
        "id": "o17TSGH8HjJ3"
      },
      "execution_count": null,
      "outputs": []
    },
    {
      "cell_type": "markdown",
      "source": [
        "# <font color=\"darkorange\"> Condensed Summary Report"
      ],
      "metadata": {
        "id": "u8DMIhzs8cvT"
      }
    },
    {
      "cell_type": "code",
      "metadata": {
        "id": "XIvXtZPer6e-",
        "colab": {
          "base_uri": "https://localhost:8080/",
          "height": 144
        },
        "outputId": "b1e34ddc-3df9-4bea-9f94-9a7758d2837f"
      },
      "source": [
        "summ_mod1=az.summary(fit_model1,round_to=3,hdi_prob=0.95)\n",
        "summ_mod1"
      ],
      "execution_count": null,
      "outputs": [
        {
          "output_type": "execute_result",
          "data": {
            "text/html": [
              "\n",
              "  <div id=\"df-f56cb3b2-1081-4713-aa91-3376c22aae02\">\n",
              "    <div class=\"colab-df-container\">\n",
              "      <div>\n",
              "<style scoped>\n",
              "    .dataframe tbody tr th:only-of-type {\n",
              "        vertical-align: middle;\n",
              "    }\n",
              "\n",
              "    .dataframe tbody tr th {\n",
              "        vertical-align: top;\n",
              "    }\n",
              "\n",
              "    .dataframe thead th {\n",
              "        text-align: right;\n",
              "    }\n",
              "</style>\n",
              "<table border=\"1\" class=\"dataframe\">\n",
              "  <thead>\n",
              "    <tr style=\"text-align: right;\">\n",
              "      <th></th>\n",
              "      <th>mean</th>\n",
              "      <th>sd</th>\n",
              "      <th>hdi_2.5%</th>\n",
              "      <th>hdi_97.5%</th>\n",
              "      <th>mcse_mean</th>\n",
              "      <th>mcse_sd</th>\n",
              "      <th>ess_bulk</th>\n",
              "      <th>ess_tail</th>\n",
              "      <th>r_hat</th>\n",
              "    </tr>\n",
              "  </thead>\n",
              "  <tbody>\n",
              "    <tr>\n",
              "      <th>mu</th>\n",
              "      <td>3016.576</td>\n",
              "      <td>9.324</td>\n",
              "      <td>2998.758</td>\n",
              "      <td>3035.099</td>\n",
              "      <td>0.076</td>\n",
              "      <td>0.054</td>\n",
              "      <td>14962.766</td>\n",
              "      <td>13704.054</td>\n",
              "      <td>1.0</td>\n",
              "    </tr>\n",
              "    <tr>\n",
              "      <th>sig</th>\n",
              "      <td>661.426</td>\n",
              "      <td>18.560</td>\n",
              "      <td>624.901</td>\n",
              "      <td>696.917</td>\n",
              "      <td>0.148</td>\n",
              "      <td>0.105</td>\n",
              "      <td>15790.633</td>\n",
              "      <td>14083.477</td>\n",
              "      <td>1.0</td>\n",
              "    </tr>\n",
              "    <tr>\n",
              "      <th>tau</th>\n",
              "      <td>0.000</td>\n",
              "      <td>0.000</td>\n",
              "      <td>0.000</td>\n",
              "      <td>0.000</td>\n",
              "      <td>0.000</td>\n",
              "      <td>0.000</td>\n",
              "      <td>15790.633</td>\n",
              "      <td>14083.477</td>\n",
              "      <td>1.0</td>\n",
              "    </tr>\n",
              "  </tbody>\n",
              "</table>\n",
              "</div>\n",
              "      <button class=\"colab-df-convert\" onclick=\"convertToInteractive('df-f56cb3b2-1081-4713-aa91-3376c22aae02')\"\n",
              "              title=\"Convert this dataframe to an interactive table.\"\n",
              "              style=\"display:none;\">\n",
              "        \n",
              "  <svg xmlns=\"http://www.w3.org/2000/svg\" height=\"24px\"viewBox=\"0 0 24 24\"\n",
              "       width=\"24px\">\n",
              "    <path d=\"M0 0h24v24H0V0z\" fill=\"none\"/>\n",
              "    <path d=\"M18.56 5.44l.94 2.06.94-2.06 2.06-.94-2.06-.94-.94-2.06-.94 2.06-2.06.94zm-11 1L8.5 8.5l.94-2.06 2.06-.94-2.06-.94L8.5 2.5l-.94 2.06-2.06.94zm10 10l.94 2.06.94-2.06 2.06-.94-2.06-.94-.94-2.06-.94 2.06-2.06.94z\"/><path d=\"M17.41 7.96l-1.37-1.37c-.4-.4-.92-.59-1.43-.59-.52 0-1.04.2-1.43.59L10.3 9.45l-7.72 7.72c-.78.78-.78 2.05 0 2.83L4 21.41c.39.39.9.59 1.41.59.51 0 1.02-.2 1.41-.59l7.78-7.78 2.81-2.81c.8-.78.8-2.07 0-2.86zM5.41 20L4 18.59l7.72-7.72 1.47 1.35L5.41 20z\"/>\n",
              "  </svg>\n",
              "      </button>\n",
              "      \n",
              "  <style>\n",
              "    .colab-df-container {\n",
              "      display:flex;\n",
              "      flex-wrap:wrap;\n",
              "      gap: 12px;\n",
              "    }\n",
              "\n",
              "    .colab-df-convert {\n",
              "      background-color: #E8F0FE;\n",
              "      border: none;\n",
              "      border-radius: 50%;\n",
              "      cursor: pointer;\n",
              "      display: none;\n",
              "      fill: #1967D2;\n",
              "      height: 32px;\n",
              "      padding: 0 0 0 0;\n",
              "      width: 32px;\n",
              "    }\n",
              "\n",
              "    .colab-df-convert:hover {\n",
              "      background-color: #E2EBFA;\n",
              "      box-shadow: 0px 1px 2px rgba(60, 64, 67, 0.3), 0px 1px 3px 1px rgba(60, 64, 67, 0.15);\n",
              "      fill: #174EA6;\n",
              "    }\n",
              "\n",
              "    [theme=dark] .colab-df-convert {\n",
              "      background-color: #3B4455;\n",
              "      fill: #D2E3FC;\n",
              "    }\n",
              "\n",
              "    [theme=dark] .colab-df-convert:hover {\n",
              "      background-color: #434B5C;\n",
              "      box-shadow: 0px 1px 3px 1px rgba(0, 0, 0, 0.15);\n",
              "      filter: drop-shadow(0px 1px 2px rgba(0, 0, 0, 0.3));\n",
              "      fill: #FFFFFF;\n",
              "    }\n",
              "  </style>\n",
              "\n",
              "      <script>\n",
              "        const buttonEl =\n",
              "          document.querySelector('#df-f56cb3b2-1081-4713-aa91-3376c22aae02 button.colab-df-convert');\n",
              "        buttonEl.style.display =\n",
              "          google.colab.kernel.accessAllowed ? 'block' : 'none';\n",
              "\n",
              "        async function convertToInteractive(key) {\n",
              "          const element = document.querySelector('#df-f56cb3b2-1081-4713-aa91-3376c22aae02');\n",
              "          const dataTable =\n",
              "            await google.colab.kernel.invokeFunction('convertToInteractive',\n",
              "                                                     [key], {});\n",
              "          if (!dataTable) return;\n",
              "\n",
              "          const docLinkHtml = 'Like what you see? Visit the ' +\n",
              "            '<a target=\"_blank\" href=https://colab.research.google.com/notebooks/data_table.ipynb>data table notebook</a>'\n",
              "            + ' to learn more about interactive tables.';\n",
              "          element.innerHTML = '';\n",
              "          dataTable['output_type'] = 'display_data';\n",
              "          await google.colab.output.renderOutput(dataTable, element);\n",
              "          const docLink = document.createElement('div');\n",
              "          docLink.innerHTML = docLinkHtml;\n",
              "          element.appendChild(docLink);\n",
              "        }\n",
              "      </script>\n",
              "    </div>\n",
              "  </div>\n",
              "  "
            ],
            "text/plain": [
              "         mean      sd  hdi_2.5%  ...   ess_bulk   ess_tail  r_hat\n",
              "mu   3016.576   9.324  2998.758  ...  14962.766  13704.054    1.0\n",
              "sig   661.426  18.560   624.901  ...  15790.633  14083.477    1.0\n",
              "tau     0.000   0.000     0.000  ...  15790.633  14083.477    1.0\n",
              "\n",
              "[3 rows x 9 columns]"
            ]
          },
          "metadata": {},
          "execution_count": 17
        }
      ]
    },
    {
      "cell_type": "markdown",
      "source": [
        "# <font color=\"darkorange\">More From Posterior Draws\n",
        "\n",
        "Bayesian methods provide a scope to estimate probabilities associated with the QoI\n",
        "\n",
        "For example, in the birth weight example,if the interest is to know the probability of birth weight vary between 2500 and 2999 grams (in other words, less than 3000g)\n",
        "\n",
        "That is\n",
        "\n",
        "1. $Pr[2500 < (\\theta|X) < 2999]$\n",
        "\n",
        "1. $Pr[(\\theta|X) < 3000]$\n",
        "\n",
        "\n",
        "Samples collected from the MCMC chains can be used to estimate the above (and similar) quantities\n",
        "\n"
      ],
      "metadata": {
        "id": "Zqi82wXtJtGb"
      }
    },
    {
      "cell_type": "code",
      "source": [
        "# Samples are extracted\n",
        "sample_extr=fit_model1.extract(pars=[\"mu\",\"sig\"], permuted = True)#, inc_warmup = FALSE,  include = TRUE)\n",
        "sample_extr=pd.DataFrame(sample_extr)\n",
        "sample_extr"
      ],
      "metadata": {
        "id": "70J0xWcKjMP8",
        "colab": {
          "base_uri": "https://localhost:8080/",
          "height": 424
        },
        "outputId": "b3ed8e9f-dc61-4dcc-eed3-b6fa19a2200a"
      },
      "execution_count": null,
      "outputs": [
        {
          "output_type": "execute_result",
          "data": {
            "text/html": [
              "\n",
              "  <div id=\"df-0fdb80f9-bfee-4179-bf99-f7a375de6a7a\">\n",
              "    <div class=\"colab-df-container\">\n",
              "      <div>\n",
              "<style scoped>\n",
              "    .dataframe tbody tr th:only-of-type {\n",
              "        vertical-align: middle;\n",
              "    }\n",
              "\n",
              "    .dataframe tbody tr th {\n",
              "        vertical-align: top;\n",
              "    }\n",
              "\n",
              "    .dataframe thead th {\n",
              "        text-align: right;\n",
              "    }\n",
              "</style>\n",
              "<table border=\"1\" class=\"dataframe\">\n",
              "  <thead>\n",
              "    <tr style=\"text-align: right;\">\n",
              "      <th></th>\n",
              "      <th>mu</th>\n",
              "      <th>sig</th>\n",
              "    </tr>\n",
              "  </thead>\n",
              "  <tbody>\n",
              "    <tr>\n",
              "      <th>0</th>\n",
              "      <td>3021.554892</td>\n",
              "      <td>651.759261</td>\n",
              "    </tr>\n",
              "    <tr>\n",
              "      <th>1</th>\n",
              "      <td>3017.116178</td>\n",
              "      <td>645.353492</td>\n",
              "    </tr>\n",
              "    <tr>\n",
              "      <th>2</th>\n",
              "      <td>3006.295682</td>\n",
              "      <td>646.262231</td>\n",
              "    </tr>\n",
              "    <tr>\n",
              "      <th>3</th>\n",
              "      <td>3009.509222</td>\n",
              "      <td>658.226200</td>\n",
              "    </tr>\n",
              "    <tr>\n",
              "      <th>4</th>\n",
              "      <td>3034.910322</td>\n",
              "      <td>677.983490</td>\n",
              "    </tr>\n",
              "    <tr>\n",
              "      <th>...</th>\n",
              "      <td>...</td>\n",
              "      <td>...</td>\n",
              "    </tr>\n",
              "    <tr>\n",
              "      <th>27995</th>\n",
              "      <td>3015.341281</td>\n",
              "      <td>654.168391</td>\n",
              "    </tr>\n",
              "    <tr>\n",
              "      <th>27996</th>\n",
              "      <td>3003.863133</td>\n",
              "      <td>635.465051</td>\n",
              "    </tr>\n",
              "    <tr>\n",
              "      <th>27997</th>\n",
              "      <td>3035.567182</td>\n",
              "      <td>681.273987</td>\n",
              "    </tr>\n",
              "    <tr>\n",
              "      <th>27998</th>\n",
              "      <td>3025.677064</td>\n",
              "      <td>661.957567</td>\n",
              "    </tr>\n",
              "    <tr>\n",
              "      <th>27999</th>\n",
              "      <td>3022.944512</td>\n",
              "      <td>674.878570</td>\n",
              "    </tr>\n",
              "  </tbody>\n",
              "</table>\n",
              "<p>28000 rows × 2 columns</p>\n",
              "</div>\n",
              "      <button class=\"colab-df-convert\" onclick=\"convertToInteractive('df-0fdb80f9-bfee-4179-bf99-f7a375de6a7a')\"\n",
              "              title=\"Convert this dataframe to an interactive table.\"\n",
              "              style=\"display:none;\">\n",
              "        \n",
              "  <svg xmlns=\"http://www.w3.org/2000/svg\" height=\"24px\"viewBox=\"0 0 24 24\"\n",
              "       width=\"24px\">\n",
              "    <path d=\"M0 0h24v24H0V0z\" fill=\"none\"/>\n",
              "    <path d=\"M18.56 5.44l.94 2.06.94-2.06 2.06-.94-2.06-.94-.94-2.06-.94 2.06-2.06.94zm-11 1L8.5 8.5l.94-2.06 2.06-.94-2.06-.94L8.5 2.5l-.94 2.06-2.06.94zm10 10l.94 2.06.94-2.06 2.06-.94-2.06-.94-.94-2.06-.94 2.06-2.06.94z\"/><path d=\"M17.41 7.96l-1.37-1.37c-.4-.4-.92-.59-1.43-.59-.52 0-1.04.2-1.43.59L10.3 9.45l-7.72 7.72c-.78.78-.78 2.05 0 2.83L4 21.41c.39.39.9.59 1.41.59.51 0 1.02-.2 1.41-.59l7.78-7.78 2.81-2.81c.8-.78.8-2.07 0-2.86zM5.41 20L4 18.59l7.72-7.72 1.47 1.35L5.41 20z\"/>\n",
              "  </svg>\n",
              "      </button>\n",
              "      \n",
              "  <style>\n",
              "    .colab-df-container {\n",
              "      display:flex;\n",
              "      flex-wrap:wrap;\n",
              "      gap: 12px;\n",
              "    }\n",
              "\n",
              "    .colab-df-convert {\n",
              "      background-color: #E8F0FE;\n",
              "      border: none;\n",
              "      border-radius: 50%;\n",
              "      cursor: pointer;\n",
              "      display: none;\n",
              "      fill: #1967D2;\n",
              "      height: 32px;\n",
              "      padding: 0 0 0 0;\n",
              "      width: 32px;\n",
              "    }\n",
              "\n",
              "    .colab-df-convert:hover {\n",
              "      background-color: #E2EBFA;\n",
              "      box-shadow: 0px 1px 2px rgba(60, 64, 67, 0.3), 0px 1px 3px 1px rgba(60, 64, 67, 0.15);\n",
              "      fill: #174EA6;\n",
              "    }\n",
              "\n",
              "    [theme=dark] .colab-df-convert {\n",
              "      background-color: #3B4455;\n",
              "      fill: #D2E3FC;\n",
              "    }\n",
              "\n",
              "    [theme=dark] .colab-df-convert:hover {\n",
              "      background-color: #434B5C;\n",
              "      box-shadow: 0px 1px 3px 1px rgba(0, 0, 0, 0.15);\n",
              "      filter: drop-shadow(0px 1px 2px rgba(0, 0, 0, 0.3));\n",
              "      fill: #FFFFFF;\n",
              "    }\n",
              "  </style>\n",
              "\n",
              "      <script>\n",
              "        const buttonEl =\n",
              "          document.querySelector('#df-0fdb80f9-bfee-4179-bf99-f7a375de6a7a button.colab-df-convert');\n",
              "        buttonEl.style.display =\n",
              "          google.colab.kernel.accessAllowed ? 'block' : 'none';\n",
              "\n",
              "        async function convertToInteractive(key) {\n",
              "          const element = document.querySelector('#df-0fdb80f9-bfee-4179-bf99-f7a375de6a7a');\n",
              "          const dataTable =\n",
              "            await google.colab.kernel.invokeFunction('convertToInteractive',\n",
              "                                                     [key], {});\n",
              "          if (!dataTable) return;\n",
              "\n",
              "          const docLinkHtml = 'Like what you see? Visit the ' +\n",
              "            '<a target=\"_blank\" href=https://colab.research.google.com/notebooks/data_table.ipynb>data table notebook</a>'\n",
              "            + ' to learn more about interactive tables.';\n",
              "          element.innerHTML = '';\n",
              "          dataTable['output_type'] = 'display_data';\n",
              "          await google.colab.output.renderOutput(dataTable, element);\n",
              "          const docLink = document.createElement('div');\n",
              "          docLink.innerHTML = docLinkHtml;\n",
              "          element.appendChild(docLink);\n",
              "        }\n",
              "      </script>\n",
              "    </div>\n",
              "  </div>\n",
              "  "
            ],
            "text/plain": [
              "                mu         sig\n",
              "0      3021.554892  651.759261\n",
              "1      3017.116178  645.353492\n",
              "2      3006.295682  646.262231\n",
              "3      3009.509222  658.226200\n",
              "4      3034.910322  677.983490\n",
              "...            ...         ...\n",
              "27995  3015.341281  654.168391\n",
              "27996  3003.863133  635.465051\n",
              "27997  3035.567182  681.273987\n",
              "27998  3025.677064  661.957567\n",
              "27999  3022.944512  674.878570\n",
              "\n",
              "[28000 rows x 2 columns]"
            ]
          },
          "metadata": {},
          "execution_count": 19
        }
      ]
    },
    {
      "cell_type": "code",
      "source": [
        "#Finding mean from the extracted samples\n",
        "np.mean(sample_extr['mu'])"
      ],
      "metadata": {
        "id": "d9sZFYCGq_9q",
        "colab": {
          "base_uri": "https://localhost:8080/"
        },
        "outputId": "aea16ac0-525a-4fea-9e7d-c7611853426f"
      },
      "execution_count": null,
      "outputs": [
        {
          "output_type": "execute_result",
          "data": {
            "text/plain": [
              "3016.576090315453"
            ]
          },
          "metadata": {},
          "execution_count": 20
        }
      ]
    },
    {
      "cell_type": "code",
      "source": [
        "L=2500\n",
        "\n",
        "U=2999\n",
        "\n",
        "rand_gen_mu=sample_extr['mu']\n",
        "\n",
        "prob_est=np.count_nonzero((rand_gen_mu>L) & (rand_gen_mu < U))\n",
        "\n",
        "round(prob_est/len(sample_extr),4)\n",
        "\n",
        "#np.count_nonzero(rand_gen_mu < U)/len(sample_extr)"
      ],
      "metadata": {
        "id": "Z4TxwVThsAdR",
        "colab": {
          "base_uri": "https://localhost:8080/"
        },
        "outputId": "f4c7295e-2353-4ee1-e0fe-9ac65050d789"
      },
      "execution_count": null,
      "outputs": [
        {
          "output_type": "stream",
          "name": "stderr",
          "text": [
            "INFO:numexpr.utils:NumExpr defaulting to 2 threads.\n"
          ]
        },
        {
          "output_type": "execute_result",
          "data": {
            "text/plain": [
              "0.0283"
            ]
          },
          "metadata": {},
          "execution_count": 21
        }
      ]
    },
    {
      "cell_type": "markdown",
      "source": [
        "# <font color=\"darkblue\"> Model 2. Normal Model with One Predictor\n",
        "\n",
        "## Mathematical model\n",
        "\n",
        "$$Y\\sim\\mathrm{Normal}(\\mu,\\sigma^2)$$\n",
        "\n",
        "$$\\mu=b_0+b_1X_1$$\n",
        "\n",
        "$$b_0\\sim\\mathrm{Normal}(a_i,b_i)$$\n",
        "\n",
        "$$b_1\\sim\\mathrm{Normal}(a_{p1},b_{p1})$$\n",
        "\n",
        "$$\\sigma^2\\sim\\mathrm{Inverse Gamma(g_1,g_2)}$$\n",
        "\n",
        "## <font color=\"Green\"> More about the symbols\n",
        "\n",
        "**Data: Observed information**\n",
        "\n",
        "- $Y:$  Response variable\n",
        "\n",
        "- $X:$ Predictor variable\n",
        "\n",
        "**Parameters: Model Estimates**\n",
        "\n",
        "- $\\mu:$ Population mean, QoI\n",
        "\n",
        "- $\\sigma^2:$ Population variance, QoI (partially)\n",
        "\n",
        "  - Reparameterized $\\tau^2 = \\frac{1}{\\sigma^2}$, precision\n",
        "\n",
        "**Data: Values supplied by the modeler**\n",
        "\n",
        "- $a:$ Mean parameters of priors on regression weights\n",
        "\n",
        "- $b:$ Variance parameters of priors on regression weights\n",
        "\n",
        "  - Suffix indicates the respective weights (intercept or predictor)\n",
        "\n",
        "  - In STAN, Normal distribution has standard deviation as the argument (input), not variance. Symbols in the code are meant in that way and constants are supplied accordingly\n",
        "\n",
        "- $g:$ Parameters of Gamma prior on $\\tau^2 = \\frac{1}{\\sigma^2}$\n",
        "\n",
        "\n",
        "<font color=\"red\">**The problem of interest is to estimate $E[Y|X]$**"
      ],
      "metadata": {
        "id": "Pm2O_gLhlSMa"
      }
    },
    {
      "cell_type": "code",
      "source": [
        "brtwt_code2 = \"\"\"\n",
        "data {\n",
        "    real a_i;\n",
        "    real<lower=0> b_i;\n",
        "    real a_p1;\n",
        "    real<lower=0> b_p1;\n",
        "    real<lower=0> g1;\n",
        "    real<lower=0> g2;\n",
        "    int<lower=0> n;\n",
        "    real y[n];\n",
        "    vector[n] x;\n",
        "}\n",
        "\n",
        "parameters {\n",
        "    real b0;\n",
        "    real b1;\n",
        "    real<lower=0> sig;\n",
        "}\n",
        "\n",
        "transformed parameters {\n",
        "  vector[n] mu;\n",
        "  real<lower=0> tau;\n",
        "\n",
        "  mu=b0+b1*x;\n",
        "  tau=(1/sig)^2;\n",
        "}\n",
        "\n",
        "model {\n",
        "      y ~ normal(mu, sig);\n",
        "      b0 ~ normal(a_i, b_i);\n",
        "      b1 ~ normal(a_p1, b_p1);\n",
        "      tau ~ gamma(g1,g2);\n",
        "}\n",
        "\"\"\"\n",
        "# posterior\n",
        "posterior2 = pystan.StanModel(model_code=brtwt_code2)"
      ],
      "metadata": {
        "id": "UhiosW-JlQFg"
      },
      "execution_count": null,
      "outputs": []
    },
    {
      "cell_type": "code",
      "metadata": {
        "id": "E9OPfvOTX07m"
      },
      "source": [
        "brtwt_data2 = {\n",
        "             'n': len(brtwt_da),\n",
        "             'x': brtwt_da['gestwks'],\n",
        "             'y': brtwt_da['bweight'],\n",
        "             'a_i':0,\n",
        "             'b_i':10,\n",
        "             'a_p1':3000,\n",
        "             'b_p1':10,\n",
        "             'g1':3,\n",
        "             'g2':1,\n",
        "            }\n",
        "print(brtwt_data2)"
      ],
      "execution_count": null,
      "outputs": []
    },
    {
      "cell_type": "code",
      "source": [
        "fit_model2= posterior2.sampling(data=brtwt_data2,\n",
        "                  iter=10000,\n",
        "                  chains=4,\n",
        "                  seed=1,\n",
        "                  warmup=3000,\n",
        "                  thin=1,\n",
        "                  control={\"max_treedepth\":15,\"adapt_delta\" : 0.9999})"
      ],
      "metadata": {
        "id": "o0_bTMhHX07w"
      },
      "execution_count": null,
      "outputs": []
    },
    {
      "cell_type": "code",
      "metadata": {
        "id": "FlYoflZFX07y"
      },
      "source": [
        "az.plot_trace(fit_model2,var_names=['~mu'], compact=False,legend=True)\n",
        "plt.show()"
      ],
      "execution_count": null,
      "outputs": []
    },
    {
      "cell_type": "code",
      "source": [
        "# QoI \"b0\"\n",
        "az.plot_dist(fit_model2['b0'],quantiles=[.25, .5, .75],kind=\"hist\",figsize=(20, 6))\n",
        "plt.show()"
      ],
      "metadata": {
        "id": "YkETJ9U3X07z"
      },
      "execution_count": null,
      "outputs": []
    },
    {
      "cell_type": "code",
      "metadata": {
        "id": "StGUOMufX07z"
      },
      "source": [
        "#QoI \"theta=b1\"\n",
        "az.plot_dist(fit_model2['b1'],quantiles=[0.25, 0.5, 0.75],kind=\"kde\",figsize=(20, 6))\n",
        "plt.show()"
      ],
      "execution_count": null,
      "outputs": []
    },
    {
      "cell_type": "markdown",
      "source": [
        "# <font color=\"darkorange\"> Condensed Summary Report"
      ],
      "metadata": {
        "id": "bOe_8NPVKhxR"
      }
    },
    {
      "cell_type": "code",
      "metadata": {
        "id": "nlTYEiqFX07x",
        "colab": {
          "base_uri": "https://localhost:8080/",
          "height": 144
        },
        "outputId": "1692857a-acde-4492-8a7f-635a83b5446b"
      },
      "source": [
        "summ_mod2=az.summary(fit_model2,var_names=['~mu','~tau'],round_to=3,hdi_prob=0.95)\n",
        "summ_mod2"
      ],
      "execution_count": null,
      "outputs": [
        {
          "output_type": "execute_result",
          "data": {
            "text/html": [
              "\n",
              "  <div id=\"df-b358084e-1407-499a-89bc-7e58deae3cb3\">\n",
              "    <div class=\"colab-df-container\">\n",
              "      <div>\n",
              "<style scoped>\n",
              "    .dataframe tbody tr th:only-of-type {\n",
              "        vertical-align: middle;\n",
              "    }\n",
              "\n",
              "    .dataframe tbody tr th {\n",
              "        vertical-align: top;\n",
              "    }\n",
              "\n",
              "    .dataframe thead th {\n",
              "        text-align: right;\n",
              "    }\n",
              "</style>\n",
              "<table border=\"1\" class=\"dataframe\">\n",
              "  <thead>\n",
              "    <tr style=\"text-align: right;\">\n",
              "      <th></th>\n",
              "      <th>mean</th>\n",
              "      <th>sd</th>\n",
              "      <th>hdi_2.5%</th>\n",
              "      <th>hdi_97.5%</th>\n",
              "      <th>mcse_mean</th>\n",
              "      <th>mcse_sd</th>\n",
              "      <th>ess_bulk</th>\n",
              "      <th>ess_tail</th>\n",
              "      <th>r_hat</th>\n",
              "    </tr>\n",
              "  </thead>\n",
              "  <tbody>\n",
              "    <tr>\n",
              "      <th>b0</th>\n",
              "      <td>-0.598</td>\n",
              "      <td>10.036</td>\n",
              "      <td>-19.650</td>\n",
              "      <td>19.201</td>\n",
              "      <td>0.07</td>\n",
              "      <td>0.064</td>\n",
              "      <td>20788.920</td>\n",
              "      <td>17589.840</td>\n",
              "      <td>1.001</td>\n",
              "    </tr>\n",
              "    <tr>\n",
              "      <th>b1</th>\n",
              "      <td>2977.883</td>\n",
              "      <td>10.013</td>\n",
              "      <td>2958.776</td>\n",
              "      <td>2998.167</td>\n",
              "      <td>0.07</td>\n",
              "      <td>0.049</td>\n",
              "      <td>20476.369</td>\n",
              "      <td>17436.925</td>\n",
              "      <td>1.000</td>\n",
              "    </tr>\n",
              "    <tr>\n",
              "      <th>sig</th>\n",
              "      <td>112078.153</td>\n",
              "      <td>3125.144</td>\n",
              "      <td>106059.883</td>\n",
              "      <td>118247.357</td>\n",
              "      <td>21.55</td>\n",
              "      <td>15.262</td>\n",
              "      <td>21089.202</td>\n",
              "      <td>17541.072</td>\n",
              "      <td>1.000</td>\n",
              "    </tr>\n",
              "  </tbody>\n",
              "</table>\n",
              "</div>\n",
              "      <button class=\"colab-df-convert\" onclick=\"convertToInteractive('df-b358084e-1407-499a-89bc-7e58deae3cb3')\"\n",
              "              title=\"Convert this dataframe to an interactive table.\"\n",
              "              style=\"display:none;\">\n",
              "        \n",
              "  <svg xmlns=\"http://www.w3.org/2000/svg\" height=\"24px\"viewBox=\"0 0 24 24\"\n",
              "       width=\"24px\">\n",
              "    <path d=\"M0 0h24v24H0V0z\" fill=\"none\"/>\n",
              "    <path d=\"M18.56 5.44l.94 2.06.94-2.06 2.06-.94-2.06-.94-.94-2.06-.94 2.06-2.06.94zm-11 1L8.5 8.5l.94-2.06 2.06-.94-2.06-.94L8.5 2.5l-.94 2.06-2.06.94zm10 10l.94 2.06.94-2.06 2.06-.94-2.06-.94-.94-2.06-.94 2.06-2.06.94z\"/><path d=\"M17.41 7.96l-1.37-1.37c-.4-.4-.92-.59-1.43-.59-.52 0-1.04.2-1.43.59L10.3 9.45l-7.72 7.72c-.78.78-.78 2.05 0 2.83L4 21.41c.39.39.9.59 1.41.59.51 0 1.02-.2 1.41-.59l7.78-7.78 2.81-2.81c.8-.78.8-2.07 0-2.86zM5.41 20L4 18.59l7.72-7.72 1.47 1.35L5.41 20z\"/>\n",
              "  </svg>\n",
              "      </button>\n",
              "      \n",
              "  <style>\n",
              "    .colab-df-container {\n",
              "      display:flex;\n",
              "      flex-wrap:wrap;\n",
              "      gap: 12px;\n",
              "    }\n",
              "\n",
              "    .colab-df-convert {\n",
              "      background-color: #E8F0FE;\n",
              "      border: none;\n",
              "      border-radius: 50%;\n",
              "      cursor: pointer;\n",
              "      display: none;\n",
              "      fill: #1967D2;\n",
              "      height: 32px;\n",
              "      padding: 0 0 0 0;\n",
              "      width: 32px;\n",
              "    }\n",
              "\n",
              "    .colab-df-convert:hover {\n",
              "      background-color: #E2EBFA;\n",
              "      box-shadow: 0px 1px 2px rgba(60, 64, 67, 0.3), 0px 1px 3px 1px rgba(60, 64, 67, 0.15);\n",
              "      fill: #174EA6;\n",
              "    }\n",
              "\n",
              "    [theme=dark] .colab-df-convert {\n",
              "      background-color: #3B4455;\n",
              "      fill: #D2E3FC;\n",
              "    }\n",
              "\n",
              "    [theme=dark] .colab-df-convert:hover {\n",
              "      background-color: #434B5C;\n",
              "      box-shadow: 0px 1px 3px 1px rgba(0, 0, 0, 0.15);\n",
              "      filter: drop-shadow(0px 1px 2px rgba(0, 0, 0, 0.3));\n",
              "      fill: #FFFFFF;\n",
              "    }\n",
              "  </style>\n",
              "\n",
              "      <script>\n",
              "        const buttonEl =\n",
              "          document.querySelector('#df-b358084e-1407-499a-89bc-7e58deae3cb3 button.colab-df-convert');\n",
              "        buttonEl.style.display =\n",
              "          google.colab.kernel.accessAllowed ? 'block' : 'none';\n",
              "\n",
              "        async function convertToInteractive(key) {\n",
              "          const element = document.querySelector('#df-b358084e-1407-499a-89bc-7e58deae3cb3');\n",
              "          const dataTable =\n",
              "            await google.colab.kernel.invokeFunction('convertToInteractive',\n",
              "                                                     [key], {});\n",
              "          if (!dataTable) return;\n",
              "\n",
              "          const docLinkHtml = 'Like what you see? Visit the ' +\n",
              "            '<a target=\"_blank\" href=https://colab.research.google.com/notebooks/data_table.ipynb>data table notebook</a>'\n",
              "            + ' to learn more about interactive tables.';\n",
              "          element.innerHTML = '';\n",
              "          dataTable['output_type'] = 'display_data';\n",
              "          await google.colab.output.renderOutput(dataTable, element);\n",
              "          const docLink = document.createElement('div');\n",
              "          docLink.innerHTML = docLinkHtml;\n",
              "          element.appendChild(docLink);\n",
              "        }\n",
              "      </script>\n",
              "    </div>\n",
              "  </div>\n",
              "  "
            ],
            "text/plain": [
              "           mean        sd    hdi_2.5%  ...   ess_bulk   ess_tail  r_hat\n",
              "b0       -0.598    10.036     -19.650  ...  20788.920  17589.840  1.001\n",
              "b1     2977.883    10.013    2958.776  ...  20476.369  17436.925  1.000\n",
              "sig  112078.153  3125.144  106059.883  ...  21089.202  17541.072  1.000\n",
              "\n",
              "[3 rows x 9 columns]"
            ]
          },
          "metadata": {},
          "execution_count": 29
        }
      ]
    },
    {
      "cell_type": "markdown",
      "source": [
        "# <font color=\"darkblue\"> Meaning of Estimated Parameters\n",
        "\n",
        "\n",
        "## <font color=\"darkred\">Model equation is </font>\n",
        "\n",
        "bweight = -0.598 + 2977.883 * gestwk\n",
        "\n",
        "## <font color=\"darkred\">Interpretation</font>\n",
        "\n",
        "<font color=\"darkgreen\">Coefficient of \"gestwk\":\n",
        "\n",
        "one week increase in gestwk will increase the mean \"bweight\" by 2977.883 g\n",
        "\n",
        "<font color=\"blue\">Plus sign indicates increment</font>\n",
        "\n",
        "<font color=\"darkgreen\">Constant / Intercept:</font>\n",
        "\n",
        "Initial week of gestation or when no gestation bweight is -0.598"
      ],
      "metadata": {
        "id": "QlLGHkuqRlCF"
      }
    },
    {
      "cell_type": "markdown",
      "source": [
        "# <font color=\"darkblue\"> Possible Impracticality in Estimated Parameters\n",
        "\n",
        "Above estimates seem very impractical to consider\n",
        "\n",
        "More than one remedies or alternative modeling scope\n",
        "\n",
        "- Change prior for $b_0$ and $b_1$\n",
        "\n",
        "- Scale the numeric variable *gestwk* so that meaning of intercept would be more meaningful"
      ],
      "metadata": {
        "id": "8cXnSDPbVYPs"
      }
    },
    {
      "cell_type": "markdown",
      "source": [
        "# Prior for Intercept is $\\mathrm{Normal}(0,1)$ (why)\n",
        "\n",
        "# Prior for predictor *gestwk* is $\\mathrm{Normal}(100,10)$ (why)"
      ],
      "metadata": {
        "id": "BVckd3Un_rxg"
      }
    },
    {
      "cell_type": "code",
      "metadata": {
        "id": "7_B6g1AlUWVO"
      },
      "source": [
        "brtwt_data2A = {\n",
        "             'n': len(brtwt_da),\n",
        "             'x': brtwt_da['gestwks'],\n",
        "             'y': brtwt_da['bweight'],\n",
        "             'a_i':0,\n",
        "             'b_i':1,\n",
        "             'a_p1':100,\n",
        "             'b_p1':10,\n",
        "             'g1':3,\n",
        "             'g2':1,\n",
        "            }\n",
        "print(brtwt_data2A)"
      ],
      "execution_count": null,
      "outputs": []
    },
    {
      "cell_type": "code",
      "source": [
        "fit_model2A= posterior2.sampling(data=brtwt_data2A,\n",
        "                  iter=10000,\n",
        "                  chains=4,\n",
        "                  seed=1,\n",
        "                  warmup=3000,\n",
        "                  thin=1,\n",
        "                  control={\"max_treedepth\":15,\"adapt_delta\" : 0.9999})"
      ],
      "metadata": {
        "id": "zoIFygrRUxlE"
      },
      "execution_count": null,
      "outputs": []
    },
    {
      "cell_type": "code",
      "metadata": {
        "colab": {
          "base_uri": "https://localhost:8080/",
          "height": 144
        },
        "outputId": "8e0e9ff3-d9c8-44e1-fded-7888004bd0fa",
        "id": "5XzUefDuVJz2"
      },
      "source": [
        "summ_mod2A=az.summary(fit_model2A,var_names=['~mu','~tau'],round_to=3,hdi_prob=0.95)\n",
        "summ_mod2A"
      ],
      "execution_count": null,
      "outputs": [
        {
          "output_type": "execute_result",
          "data": {
            "text/html": [
              "\n",
              "  <div id=\"df-18237c22-b4c7-4b14-9581-5882c3001325\">\n",
              "    <div class=\"colab-df-container\">\n",
              "      <div>\n",
              "<style scoped>\n",
              "    .dataframe tbody tr th:only-of-type {\n",
              "        vertical-align: middle;\n",
              "    }\n",
              "\n",
              "    .dataframe tbody tr th {\n",
              "        vertical-align: top;\n",
              "    }\n",
              "\n",
              "    .dataframe thead th {\n",
              "        text-align: right;\n",
              "    }\n",
              "</style>\n",
              "<table border=\"1\" class=\"dataframe\">\n",
              "  <thead>\n",
              "    <tr style=\"text-align: right;\">\n",
              "      <th></th>\n",
              "      <th>mean</th>\n",
              "      <th>sd</th>\n",
              "      <th>hdi_2.5%</th>\n",
              "      <th>hdi_97.5%</th>\n",
              "      <th>mcse_mean</th>\n",
              "      <th>mcse_sd</th>\n",
              "      <th>ess_bulk</th>\n",
              "      <th>ess_tail</th>\n",
              "      <th>r_hat</th>\n",
              "    </tr>\n",
              "  </thead>\n",
              "  <tbody>\n",
              "    <tr>\n",
              "      <th>b0</th>\n",
              "      <td>-0.044</td>\n",
              "      <td>1.006</td>\n",
              "      <td>-2.046</td>\n",
              "      <td>1.886</td>\n",
              "      <td>0.007</td>\n",
              "      <td>0.007</td>\n",
              "      <td>22395.997</td>\n",
              "      <td>16209.208</td>\n",
              "      <td>1.001</td>\n",
              "    </tr>\n",
              "    <tr>\n",
              "      <th>b1</th>\n",
              "      <td>81.389</td>\n",
              "      <td>0.537</td>\n",
              "      <td>80.350</td>\n",
              "      <td>82.461</td>\n",
              "      <td>0.004</td>\n",
              "      <td>0.003</td>\n",
              "      <td>22461.804</td>\n",
              "      <td>17468.930</td>\n",
              "      <td>1.000</td>\n",
              "    </tr>\n",
              "    <tr>\n",
              "      <th>sig</th>\n",
              "      <td>528.405</td>\n",
              "      <td>14.696</td>\n",
              "      <td>500.425</td>\n",
              "      <td>557.737</td>\n",
              "      <td>0.101</td>\n",
              "      <td>0.072</td>\n",
              "      <td>21127.258</td>\n",
              "      <td>16336.094</td>\n",
              "      <td>1.000</td>\n",
              "    </tr>\n",
              "  </tbody>\n",
              "</table>\n",
              "</div>\n",
              "      <button class=\"colab-df-convert\" onclick=\"convertToInteractive('df-18237c22-b4c7-4b14-9581-5882c3001325')\"\n",
              "              title=\"Convert this dataframe to an interactive table.\"\n",
              "              style=\"display:none;\">\n",
              "        \n",
              "  <svg xmlns=\"http://www.w3.org/2000/svg\" height=\"24px\"viewBox=\"0 0 24 24\"\n",
              "       width=\"24px\">\n",
              "    <path d=\"M0 0h24v24H0V0z\" fill=\"none\"/>\n",
              "    <path d=\"M18.56 5.44l.94 2.06.94-2.06 2.06-.94-2.06-.94-.94-2.06-.94 2.06-2.06.94zm-11 1L8.5 8.5l.94-2.06 2.06-.94-2.06-.94L8.5 2.5l-.94 2.06-2.06.94zm10 10l.94 2.06.94-2.06 2.06-.94-2.06-.94-.94-2.06-.94 2.06-2.06.94z\"/><path d=\"M17.41 7.96l-1.37-1.37c-.4-.4-.92-.59-1.43-.59-.52 0-1.04.2-1.43.59L10.3 9.45l-7.72 7.72c-.78.78-.78 2.05 0 2.83L4 21.41c.39.39.9.59 1.41.59.51 0 1.02-.2 1.41-.59l7.78-7.78 2.81-2.81c.8-.78.8-2.07 0-2.86zM5.41 20L4 18.59l7.72-7.72 1.47 1.35L5.41 20z\"/>\n",
              "  </svg>\n",
              "      </button>\n",
              "      \n",
              "  <style>\n",
              "    .colab-df-container {\n",
              "      display:flex;\n",
              "      flex-wrap:wrap;\n",
              "      gap: 12px;\n",
              "    }\n",
              "\n",
              "    .colab-df-convert {\n",
              "      background-color: #E8F0FE;\n",
              "      border: none;\n",
              "      border-radius: 50%;\n",
              "      cursor: pointer;\n",
              "      display: none;\n",
              "      fill: #1967D2;\n",
              "      height: 32px;\n",
              "      padding: 0 0 0 0;\n",
              "      width: 32px;\n",
              "    }\n",
              "\n",
              "    .colab-df-convert:hover {\n",
              "      background-color: #E2EBFA;\n",
              "      box-shadow: 0px 1px 2px rgba(60, 64, 67, 0.3), 0px 1px 3px 1px rgba(60, 64, 67, 0.15);\n",
              "      fill: #174EA6;\n",
              "    }\n",
              "\n",
              "    [theme=dark] .colab-df-convert {\n",
              "      background-color: #3B4455;\n",
              "      fill: #D2E3FC;\n",
              "    }\n",
              "\n",
              "    [theme=dark] .colab-df-convert:hover {\n",
              "      background-color: #434B5C;\n",
              "      box-shadow: 0px 1px 3px 1px rgba(0, 0, 0, 0.15);\n",
              "      filter: drop-shadow(0px 1px 2px rgba(0, 0, 0, 0.3));\n",
              "      fill: #FFFFFF;\n",
              "    }\n",
              "  </style>\n",
              "\n",
              "      <script>\n",
              "        const buttonEl =\n",
              "          document.querySelector('#df-18237c22-b4c7-4b14-9581-5882c3001325 button.colab-df-convert');\n",
              "        buttonEl.style.display =\n",
              "          google.colab.kernel.accessAllowed ? 'block' : 'none';\n",
              "\n",
              "        async function convertToInteractive(key) {\n",
              "          const element = document.querySelector('#df-18237c22-b4c7-4b14-9581-5882c3001325');\n",
              "          const dataTable =\n",
              "            await google.colab.kernel.invokeFunction('convertToInteractive',\n",
              "                                                     [key], {});\n",
              "          if (!dataTable) return;\n",
              "\n",
              "          const docLinkHtml = 'Like what you see? Visit the ' +\n",
              "            '<a target=\"_blank\" href=https://colab.research.google.com/notebooks/data_table.ipynb>data table notebook</a>'\n",
              "            + ' to learn more about interactive tables.';\n",
              "          element.innerHTML = '';\n",
              "          dataTable['output_type'] = 'display_data';\n",
              "          await google.colab.output.renderOutput(dataTable, element);\n",
              "          const docLink = document.createElement('div');\n",
              "          docLink.innerHTML = docLinkHtml;\n",
              "          element.appendChild(docLink);\n",
              "        }\n",
              "      </script>\n",
              "    </div>\n",
              "  </div>\n",
              "  "
            ],
            "text/plain": [
              "        mean      sd  hdi_2.5%  hdi_97.5%  ...  mcse_sd   ess_bulk   ess_tail  r_hat\n",
              "b0    -0.044   1.006    -2.046      1.886  ...    0.007  22395.997  16209.208  1.001\n",
              "b1    81.389   0.537    80.350     82.461  ...    0.003  22461.804  17468.930  1.000\n",
              "sig  528.405  14.696   500.425    557.737  ...    0.072  21127.258  16336.094  1.000\n",
              "\n",
              "[3 rows x 9 columns]"
            ]
          },
          "metadata": {},
          "execution_count": 28
        }
      ]
    },
    {
      "cell_type": "markdown",
      "source": [
        "# <font color=\"darkblue\"> Centering a Numeric Predictor\n",
        "\n",
        "In the case of a numeric predictor, it is usually preferred to scale or center the predictor that has some advantage in modeling process\n",
        "\n",
        "Centering a variable is helpful in interpreting the estimated weights ($\\beta s$) in a more reasonable way.\n",
        "\n",
        "Another advantage is in some cases, initial vlaue (at zero) may not be a plausible value\n",
        "\n",
        "In the Birth Weight example, birth weight in the initial time of gestation could be less or not a meaningful one; so, it may not be appropriate to interpret the constant in the model in the usual way of response value when all predictors are assumed to be at same value (mostly zero) or kept constant\n",
        "\n",
        "The centering process is explained in the following description for a numeric predictor $X$\n",
        "\n",
        "- Consider the sample mean $\\bar X$ of $X$\n",
        "\n",
        "- Let $X_{centered}=X-\\bar{X}$\n",
        "\n",
        "- Use the new variable $X_{centered}$ in the model\n",
        "\n",
        "- Resultant model equation is $$\\hat{E[Y|X]}=\\hat{\\beta_0}+\\hat{\\beta_1}X_{centered}$$ $$=\\hat{\\beta_0}+\\hat{\\beta_1}(X-\\bar X)$$\n",
        "\n",
        "- Hence, interpretation of $\\beta_0$ is now based on retaining $X$ as constant at $\\bar X$\n",
        "\n"
      ],
      "metadata": {
        "id": "G5WnWEZFldAN"
      }
    },
    {
      "cell_type": "markdown",
      "source": [
        "# <font color=\"darkblue\"> Numeric variable Centered"
      ],
      "metadata": {
        "id": "ANFzVQGio2I7"
      }
    },
    {
      "cell_type": "code",
      "metadata": {
        "id": "inYi8bklYkfx"
      },
      "source": [
        "brtwt_data2B = {\n",
        "             'n': len(brtwt_da),\n",
        "             'x': brtwt_da['gestwks']-np.mean(brtwt_da['gestwks']),\n",
        "             'y': brtwt_da['bweight'],\n",
        "             'a_i':0,\n",
        "             'b_i':1,\n",
        "             'a_p1':30,\n",
        "             'b_p1':10,\n",
        "             'g1':3,\n",
        "             'g2':1,\n",
        "            }\n",
        "print(brtwt_data2B)"
      ],
      "execution_count": null,
      "outputs": []
    },
    {
      "cell_type": "code",
      "source": [
        "fit_model2B= posterior2.sampling(data=brtwt_data2B,\n",
        "                  iter=10000,\n",
        "                  chains=4,\n",
        "                  seed=1,\n",
        "                  warmup=3000,\n",
        "                  thin=1,\n",
        "                  control={\"max_treedepth\":15,\"adapt_delta\" : 0.9999})"
      ],
      "metadata": {
        "id": "UBAVlgXTH9Qf"
      },
      "execution_count": null,
      "outputs": []
    },
    {
      "cell_type": "code",
      "metadata": {
        "id": "S9V01I1GJ4Cm"
      },
      "source": [
        "summ_mod2B=az.summary(fit_model2B,var_names=['~mu','~tau'],round_to=3,hdi_prob=0.95)\n",
        "summ_mod2B"
      ],
      "execution_count": null,
      "outputs": []
    },
    {
      "cell_type": "markdown",
      "source": [
        "# <font color=\"darkblue\"> Normal Model with one Binary predictor\n",
        "\n",
        "In this data set, *sex* is a binary variable\n"
      ],
      "metadata": {
        "id": "6zNGgwwSfIDL"
      }
    },
    {
      "cell_type": "code",
      "source": [
        "brtwt_da=brtwt_da.assign(sex_c=lambda x:x['sex'].apply(lambda y: 1 if y==\"male\" else 0))\n",
        "brtwt_da['sex_c'] = brtwt_da['sex_c'].astype('category')"
      ],
      "metadata": {
        "id": "-OrxLr4zaPJX"
      },
      "execution_count": null,
      "outputs": []
    },
    {
      "cell_type": "code",
      "source": [
        "brtwt_code3 = \"\"\"\n",
        "data {\n",
        "    real a_i;\n",
        "    real<lower=0> b_i;\n",
        "    real a_p1;\n",
        "    real<lower=0> b_p1;\n",
        "    real<lower=0> g1;\n",
        "    real<lower=0> g2;\n",
        "    int<lower=0> n;\n",
        "    real y[n];\n",
        "    vector[n] x;\n",
        "}\n",
        "\n",
        "parameters {\n",
        "    real b0;\n",
        "    real b1;\n",
        "    real<lower=0> sig;\n",
        "}\n",
        "\n",
        "transformed parameters {\n",
        "  vector[n] mu;\n",
        "  real<lower=0> tau;\n",
        "  mu=b0+b1*x;\n",
        "  tau=(1/sig)^2;\n",
        "}\n",
        "\n",
        "model {\n",
        "      y ~ normal(mu, sig);\n",
        "      b0 ~ normal(a_i, b_i);\n",
        "      b1 ~ normal(a_p1, b_p1);\n",
        "      tau ~ gamma(g1,g2);\n",
        "}\n",
        "\"\"\"\n",
        "# posterior\n",
        "posterior3 = pystan.StanModel(model_code=brtwt_code3)"
      ],
      "metadata": {
        "colab": {
          "base_uri": "https://localhost:8080/"
        },
        "outputId": "4fe08a84-53e8-4092-839d-3e6469489e60",
        "id": "TNk6lKgNfIDL"
      },
      "execution_count": null,
      "outputs": [
        {
          "output_type": "stream",
          "name": "stderr",
          "text": [
            "INFO:pystan:COMPILING THE C++ CODE FOR MODEL anon_model_26ecf12753bb02faa64b0009a4a8e8ff NOW.\n"
          ]
        }
      ]
    },
    {
      "cell_type": "markdown",
      "source": [
        "# <font color=\"darkblue\"> A word about prior setting\n",
        "\n",
        "- Intercept (constant, $b_0$) is the mean response value for the base or reference level\n",
        "\n",
        "- Weight associated with the binary predictor is the difference in the mean of response between two levels"
      ],
      "metadata": {
        "id": "idJnUMjx1wKp"
      }
    },
    {
      "cell_type": "code",
      "metadata": {
        "id": "xUkc8zTOfIDM"
      },
      "source": [
        "brtwt_data3 = {\n",
        "             'n': len(brtwt_da),\n",
        "             'x': brtwt_da['sex_c'],\n",
        "             'y': brtwt_da['bweight'],\n",
        "             'a_i':3000,\n",
        "             'b_i':10,\n",
        "             'a_p1':100,\n",
        "             'b_p1':10,\n",
        "             'g1':3,\n",
        "             'g2':1,\n",
        "            }\n",
        "print(brtwt_data3)"
      ],
      "execution_count": null,
      "outputs": []
    },
    {
      "cell_type": "code",
      "source": [
        "fit_model3= posterior3.sampling(data=brtwt_data3,\n",
        "                  iter=10000,\n",
        "                  chains=4,\n",
        "                  seed=1,\n",
        "                  warmup=3000,\n",
        "                  thin=1,\n",
        "                  control={\"max_treedepth\":15,\"adapt_delta\" : 0.9999})"
      ],
      "metadata": {
        "id": "K2BIbdyFfIDM"
      },
      "execution_count": null,
      "outputs": []
    },
    {
      "cell_type": "code",
      "metadata": {
        "id": "ceK5GebffIDN"
      },
      "source": [
        "summ_mod3=az.summary(fit_model3,var_names=['~mu','~tau'],round_to=3,hdi_prob=0.95)\n",
        "summ_mod3"
      ],
      "execution_count": null,
      "outputs": []
    },
    {
      "cell_type": "markdown",
      "source": [
        "# <font color=\"darkblue\">Inference From the Model\n",
        "\n",
        "##Categorical (Binary) Predictors\n",
        "\n",
        "**Model equation is **\n",
        "\n",
        "bweight = 3009.887 + 107.418\t* sexmale\n",
        "\n",
        "Female is base (reference) level\n",
        "\n",
        "**More Observations about the estimated values**\n",
        "\n",
        "Mean bweight of female group: 3009.887\n",
        "\n",
        "Mean bweight of male group: 3009.887 + 107.418 = 3117.305\n",
        "\n",
        "<font color=\"darkgreen\">In other words, estimated weight associated with *sex* denoted the difference in *bweight* of male compared to female\n",
        "\n",
        "Difference:  3117.305 - 3009.887 = 107.418\n",
        "\n",
        "$b_1$ measures the difference in mean of the response variable (bweight) between the two levels of categorical predictor\n",
        "\n",
        "<font color=\"darkred\"> The constant (intercept) $b_0$ is the response value of the response (bweight)\n"
      ],
      "metadata": {
        "id": "Y2VHkPKfWzAc"
      }
    },
    {
      "cell_type": "code",
      "source": [
        "#Average bweight grouped by sex from the Sample\n",
        "\n",
        "op1=brtwt_da.groupby('sex_c').agg({'bweight': ['mean']})\n",
        "\n",
        "op2=brtwt_da.groupby('sex').agg({'bweight': ['mean']})\n",
        "\n",
        "print(op1,op2)"
      ],
      "metadata": {
        "id": "9g73aerzfIAi"
      },
      "execution_count": null,
      "outputs": []
    },
    {
      "cell_type": "code",
      "source": [
        "#Four Age groups\n",
        "\n",
        "brtwt_da.agg({'matagegp': ['max','min']})\n",
        "\n",
        "# op2=brtwt_da.groupby('sex').agg({'bweight': ['mean']})\n",
        "\n",
        "# print(op1,op2)"
      ],
      "metadata": {
        "colab": {
          "base_uri": "https://localhost:8080/",
          "height": 112
        },
        "id": "Cg0BDAqsAwOG",
        "outputId": "fbb73e56-83e6-4a25-ca52-d33c50b77a3e"
      },
      "execution_count": null,
      "outputs": [
        {
          "output_type": "execute_result",
          "data": {
            "text/html": [
              "\n",
              "  <div id=\"df-605d2ca8-75ed-49da-8811-ec1a6a0085aa\">\n",
              "    <div class=\"colab-df-container\">\n",
              "      <div>\n",
              "<style scoped>\n",
              "    .dataframe tbody tr th:only-of-type {\n",
              "        vertical-align: middle;\n",
              "    }\n",
              "\n",
              "    .dataframe tbody tr th {\n",
              "        vertical-align: top;\n",
              "    }\n",
              "\n",
              "    .dataframe thead th {\n",
              "        text-align: right;\n",
              "    }\n",
              "</style>\n",
              "<table border=\"1\" class=\"dataframe\">\n",
              "  <thead>\n",
              "    <tr style=\"text-align: right;\">\n",
              "      <th></th>\n",
              "      <th>gestcat</th>\n",
              "    </tr>\n",
              "  </thead>\n",
              "  <tbody>\n",
              "    <tr>\n",
              "      <th>max</th>\n",
              "      <td>2</td>\n",
              "    </tr>\n",
              "    <tr>\n",
              "      <th>min</th>\n",
              "      <td>1</td>\n",
              "    </tr>\n",
              "  </tbody>\n",
              "</table>\n",
              "</div>\n",
              "      <button class=\"colab-df-convert\" onclick=\"convertToInteractive('df-605d2ca8-75ed-49da-8811-ec1a6a0085aa')\"\n",
              "              title=\"Convert this dataframe to an interactive table.\"\n",
              "              style=\"display:none;\">\n",
              "        \n",
              "  <svg xmlns=\"http://www.w3.org/2000/svg\" height=\"24px\"viewBox=\"0 0 24 24\"\n",
              "       width=\"24px\">\n",
              "    <path d=\"M0 0h24v24H0V0z\" fill=\"none\"/>\n",
              "    <path d=\"M18.56 5.44l.94 2.06.94-2.06 2.06-.94-2.06-.94-.94-2.06-.94 2.06-2.06.94zm-11 1L8.5 8.5l.94-2.06 2.06-.94-2.06-.94L8.5 2.5l-.94 2.06-2.06.94zm10 10l.94 2.06.94-2.06 2.06-.94-2.06-.94-.94-2.06-.94 2.06-2.06.94z\"/><path d=\"M17.41 7.96l-1.37-1.37c-.4-.4-.92-.59-1.43-.59-.52 0-1.04.2-1.43.59L10.3 9.45l-7.72 7.72c-.78.78-.78 2.05 0 2.83L4 21.41c.39.39.9.59 1.41.59.51 0 1.02-.2 1.41-.59l7.78-7.78 2.81-2.81c.8-.78.8-2.07 0-2.86zM5.41 20L4 18.59l7.72-7.72 1.47 1.35L5.41 20z\"/>\n",
              "  </svg>\n",
              "      </button>\n",
              "      \n",
              "  <style>\n",
              "    .colab-df-container {\n",
              "      display:flex;\n",
              "      flex-wrap:wrap;\n",
              "      gap: 12px;\n",
              "    }\n",
              "\n",
              "    .colab-df-convert {\n",
              "      background-color: #E8F0FE;\n",
              "      border: none;\n",
              "      border-radius: 50%;\n",
              "      cursor: pointer;\n",
              "      display: none;\n",
              "      fill: #1967D2;\n",
              "      height: 32px;\n",
              "      padding: 0 0 0 0;\n",
              "      width: 32px;\n",
              "    }\n",
              "\n",
              "    .colab-df-convert:hover {\n",
              "      background-color: #E2EBFA;\n",
              "      box-shadow: 0px 1px 2px rgba(60, 64, 67, 0.3), 0px 1px 3px 1px rgba(60, 64, 67, 0.15);\n",
              "      fill: #174EA6;\n",
              "    }\n",
              "\n",
              "    [theme=dark] .colab-df-convert {\n",
              "      background-color: #3B4455;\n",
              "      fill: #D2E3FC;\n",
              "    }\n",
              "\n",
              "    [theme=dark] .colab-df-convert:hover {\n",
              "      background-color: #434B5C;\n",
              "      box-shadow: 0px 1px 3px 1px rgba(0, 0, 0, 0.15);\n",
              "      filter: drop-shadow(0px 1px 2px rgba(0, 0, 0, 0.3));\n",
              "      fill: #FFFFFF;\n",
              "    }\n",
              "  </style>\n",
              "\n",
              "      <script>\n",
              "        const buttonEl =\n",
              "          document.querySelector('#df-605d2ca8-75ed-49da-8811-ec1a6a0085aa button.colab-df-convert');\n",
              "        buttonEl.style.display =\n",
              "          google.colab.kernel.accessAllowed ? 'block' : 'none';\n",
              "\n",
              "        async function convertToInteractive(key) {\n",
              "          const element = document.querySelector('#df-605d2ca8-75ed-49da-8811-ec1a6a0085aa');\n",
              "          const dataTable =\n",
              "            await google.colab.kernel.invokeFunction('convertToInteractive',\n",
              "                                                     [key], {});\n",
              "          if (!dataTable) return;\n",
              "\n",
              "          const docLinkHtml = 'Like what you see? Visit the ' +\n",
              "            '<a target=\"_blank\" href=https://colab.research.google.com/notebooks/data_table.ipynb>data table notebook</a>'\n",
              "            + ' to learn more about interactive tables.';\n",
              "          element.innerHTML = '';\n",
              "          dataTable['output_type'] = 'display_data';\n",
              "          await google.colab.output.renderOutput(dataTable, element);\n",
              "          const docLink = document.createElement('div');\n",
              "          docLink.innerHTML = docLinkHtml;\n",
              "          element.appendChild(docLink);\n",
              "        }\n",
              "      </script>\n",
              "    </div>\n",
              "  </div>\n",
              "  "
            ],
            "text/plain": [
              "     gestcat\n",
              "max        2\n",
              "min        1"
            ]
          },
          "metadata": {},
          "execution_count": 20
        }
      ]
    },
    {
      "cell_type": "code",
      "source": [
        "brtwt_da['matagegp'] = brtwt_da['matagegp'].astype('category')\n",
        "brtwt_da.groupby('matagegp').agg({'bweight': ['mean']})"
      ],
      "metadata": {
        "id": "GJJjsRDvn3RX",
        "colab": {
          "base_uri": "https://localhost:8080/",
          "height": 237
        },
        "outputId": "8edbf8a6-c7ed-4e69-baa6-c6a8cc8b5943"
      },
      "execution_count": null,
      "outputs": [
        {
          "output_type": "execute_result",
          "data": {
            "text/html": [
              "\n",
              "  <div id=\"df-d7159c1f-d907-4718-a4e2-9793f4d3afed\">\n",
              "    <div class=\"colab-df-container\">\n",
              "      <div>\n",
              "<style scoped>\n",
              "    .dataframe tbody tr th:only-of-type {\n",
              "        vertical-align: middle;\n",
              "    }\n",
              "\n",
              "    .dataframe tbody tr th {\n",
              "        vertical-align: top;\n",
              "    }\n",
              "\n",
              "    .dataframe thead tr th {\n",
              "        text-align: left;\n",
              "    }\n",
              "\n",
              "    .dataframe thead tr:last-of-type th {\n",
              "        text-align: right;\n",
              "    }\n",
              "</style>\n",
              "<table border=\"1\" class=\"dataframe\">\n",
              "  <thead>\n",
              "    <tr>\n",
              "      <th></th>\n",
              "      <th>bweight</th>\n",
              "    </tr>\n",
              "    <tr>\n",
              "      <th></th>\n",
              "      <th>mean</th>\n",
              "    </tr>\n",
              "    <tr>\n",
              "      <th>matagegp</th>\n",
              "      <th></th>\n",
              "    </tr>\n",
              "  </thead>\n",
              "  <tbody>\n",
              "    <tr>\n",
              "      <th>1</th>\n",
              "      <td>3102.326087</td>\n",
              "    </tr>\n",
              "    <tr>\n",
              "      <th>2</th>\n",
              "      <td>3137.745020</td>\n",
              "    </tr>\n",
              "    <tr>\n",
              "      <th>3</th>\n",
              "      <td>3132.883721</td>\n",
              "    </tr>\n",
              "    <tr>\n",
              "      <th>4</th>\n",
              "      <td>3112.625000</td>\n",
              "    </tr>\n",
              "  </tbody>\n",
              "</table>\n",
              "</div>\n",
              "      <button class=\"colab-df-convert\" onclick=\"convertToInteractive('df-d7159c1f-d907-4718-a4e2-9793f4d3afed')\"\n",
              "              title=\"Convert this dataframe to an interactive table.\"\n",
              "              style=\"display:none;\">\n",
              "        \n",
              "  <svg xmlns=\"http://www.w3.org/2000/svg\" height=\"24px\"viewBox=\"0 0 24 24\"\n",
              "       width=\"24px\">\n",
              "    <path d=\"M0 0h24v24H0V0z\" fill=\"none\"/>\n",
              "    <path d=\"M18.56 5.44l.94 2.06.94-2.06 2.06-.94-2.06-.94-.94-2.06-.94 2.06-2.06.94zm-11 1L8.5 8.5l.94-2.06 2.06-.94-2.06-.94L8.5 2.5l-.94 2.06-2.06.94zm10 10l.94 2.06.94-2.06 2.06-.94-2.06-.94-.94-2.06-.94 2.06-2.06.94z\"/><path d=\"M17.41 7.96l-1.37-1.37c-.4-.4-.92-.59-1.43-.59-.52 0-1.04.2-1.43.59L10.3 9.45l-7.72 7.72c-.78.78-.78 2.05 0 2.83L4 21.41c.39.39.9.59 1.41.59.51 0 1.02-.2 1.41-.59l7.78-7.78 2.81-2.81c.8-.78.8-2.07 0-2.86zM5.41 20L4 18.59l7.72-7.72 1.47 1.35L5.41 20z\"/>\n",
              "  </svg>\n",
              "      </button>\n",
              "      \n",
              "  <style>\n",
              "    .colab-df-container {\n",
              "      display:flex;\n",
              "      flex-wrap:wrap;\n",
              "      gap: 12px;\n",
              "    }\n",
              "\n",
              "    .colab-df-convert {\n",
              "      background-color: #E8F0FE;\n",
              "      border: none;\n",
              "      border-radius: 50%;\n",
              "      cursor: pointer;\n",
              "      display: none;\n",
              "      fill: #1967D2;\n",
              "      height: 32px;\n",
              "      padding: 0 0 0 0;\n",
              "      width: 32px;\n",
              "    }\n",
              "\n",
              "    .colab-df-convert:hover {\n",
              "      background-color: #E2EBFA;\n",
              "      box-shadow: 0px 1px 2px rgba(60, 64, 67, 0.3), 0px 1px 3px 1px rgba(60, 64, 67, 0.15);\n",
              "      fill: #174EA6;\n",
              "    }\n",
              "\n",
              "    [theme=dark] .colab-df-convert {\n",
              "      background-color: #3B4455;\n",
              "      fill: #D2E3FC;\n",
              "    }\n",
              "\n",
              "    [theme=dark] .colab-df-convert:hover {\n",
              "      background-color: #434B5C;\n",
              "      box-shadow: 0px 1px 3px 1px rgba(0, 0, 0, 0.15);\n",
              "      filter: drop-shadow(0px 1px 2px rgba(0, 0, 0, 0.3));\n",
              "      fill: #FFFFFF;\n",
              "    }\n",
              "  </style>\n",
              "\n",
              "      <script>\n",
              "        const buttonEl =\n",
              "          document.querySelector('#df-d7159c1f-d907-4718-a4e2-9793f4d3afed button.colab-df-convert');\n",
              "        buttonEl.style.display =\n",
              "          google.colab.kernel.accessAllowed ? 'block' : 'none';\n",
              "\n",
              "        async function convertToInteractive(key) {\n",
              "          const element = document.querySelector('#df-d7159c1f-d907-4718-a4e2-9793f4d3afed');\n",
              "          const dataTable =\n",
              "            await google.colab.kernel.invokeFunction('convertToInteractive',\n",
              "                                                     [key], {});\n",
              "          if (!dataTable) return;\n",
              "\n",
              "          const docLinkHtml = 'Like what you see? Visit the ' +\n",
              "            '<a target=\"_blank\" href=https://colab.research.google.com/notebooks/data_table.ipynb>data table notebook</a>'\n",
              "            + ' to learn more about interactive tables.';\n",
              "          element.innerHTML = '';\n",
              "          dataTable['output_type'] = 'display_data';\n",
              "          await google.colab.output.renderOutput(dataTable, element);\n",
              "          const docLink = document.createElement('div');\n",
              "          docLink.innerHTML = docLinkHtml;\n",
              "          element.appendChild(docLink);\n",
              "        }\n",
              "      </script>\n",
              "    </div>\n",
              "  </div>\n",
              "  "
            ],
            "text/plain": [
              "              bweight\n",
              "                 mean\n",
              "matagegp             \n",
              "1         3102.326087\n",
              "2         3137.745020\n",
              "3         3132.883721\n",
              "4         3112.625000"
            ]
          },
          "metadata": {},
          "execution_count": 44
        }
      ]
    },
    {
      "cell_type": "code",
      "source": [
        "brtwt_da=pd.get_dummies(brtwt_da, columns=['matagegp'], prefix = ['matag'])\n",
        "brtwt_da"
      ],
      "metadata": {
        "id": "MfXaVAu_IZXU"
      },
      "execution_count": null,
      "outputs": []
    },
    {
      "cell_type": "code",
      "source": [
        "brtwt_code4 = \"\"\"\n",
        "data {\n",
        "    real a_i;\n",
        "    real<lower=0> b_i;\n",
        "    real a_p1;\n",
        "    real<lower=0> b_p1;\n",
        "    real a_p2;\n",
        "    real<lower=0> b_p2;\n",
        "    real a_p3;\n",
        "    real<lower=0> b_p3;\n",
        "    real<lower=0> g1;\n",
        "    real<lower=0> g2;\n",
        "    int<lower=0> n;\n",
        "    real y[n];\n",
        "    vector[n] x1;\n",
        "    vector[n] x2;\n",
        "    vector[n] x3;\n",
        "}\n",
        "\n",
        "parameters {\n",
        "    real b0;\n",
        "    real b1;\n",
        "    real b2;\n",
        "    real b3;\n",
        "    real<lower=0> sig;\n",
        "}\n",
        "\n",
        "transformed parameters {\n",
        "  vector[n] mu;\n",
        "  real<lower=0> tau;\n",
        "  mu=b0+b1*x1+b2*x2+b3*x3;\n",
        "  tau=(1/sig)^2;\n",
        "}\n",
        "\n",
        "model {\n",
        "      y ~ normal(mu, sig);\n",
        "      b0 ~ normal(a_i, b_i);\n",
        "      b1 ~ normal(a_p1, b_p1);\n",
        "      b2 ~ normal(a_p2, b_p2);\n",
        "      b3 ~ normal(a_p3, b_p3);\n",
        "      tau ~ gamma(g1,g2);\n",
        "}\n",
        "\"\"\"\n",
        "# posterior\n",
        "posterior4 = pystan.StanModel(model_code=brtwt_code4)"
      ],
      "metadata": {
        "colab": {
          "base_uri": "https://localhost:8080/"
        },
        "outputId": "c88501b5-6a1f-4f60-e743-b126d354b007",
        "id": "rCYWBM_lTraa"
      },
      "execution_count": null,
      "outputs": [
        {
          "output_type": "stream",
          "name": "stderr",
          "text": [
            "INFO:pystan:COMPILING THE C++ CODE FOR MODEL anon_model_f853e5096ade87630b35883aa61e7823 NOW.\n"
          ]
        }
      ]
    },
    {
      "cell_type": "code",
      "metadata": {
        "id": "xuHK0-1CU-q7"
      },
      "source": [
        "brtwt_data4 = {\n",
        "             'n': len(brtwt_da),\n",
        "             'x1': brtwt_da['matag_2'],\n",
        "             'x2': brtwt_da['matag_3'],\n",
        "             'x3': brtwt_da['matag_4'],\n",
        "             'y': brtwt_da['bweight'],\n",
        "             'a_i':3000,\n",
        "             'b_i':20,\n",
        "             'a_p1':100,\n",
        "             'b_p1':10,\n",
        "             'a_p2':100,\n",
        "             'b_p2':10,\n",
        "             'a_p3':100,\n",
        "             'b_p3':10,\n",
        "             'g1':3,\n",
        "             'g2':1,\n",
        "            }\n",
        "print(brtwt_data4)"
      ],
      "execution_count": null,
      "outputs": []
    },
    {
      "cell_type": "code",
      "source": [
        "fit_model4= posterior4.sampling(data=brtwt_data4,\n",
        "                  iter=10000,\n",
        "                  chains=4,\n",
        "                  seed=1,\n",
        "                  warmup=3000,\n",
        "                  thin=1,\n",
        "                  control={\"max_treedepth\":15,\"adapt_delta\" : 0.9999})"
      ],
      "metadata": {
        "id": "3dQ2zjAmU-rA"
      },
      "execution_count": null,
      "outputs": []
    },
    {
      "cell_type": "code",
      "metadata": {
        "id": "nKQ24ycJU-rA"
      },
      "source": [
        "summ_mod4=az.summary(fit_model4,var_names=['~mu','~tau'],round_to=3,hdi_prob=0.95)\n",
        "summ_mod4"
      ],
      "execution_count": null,
      "outputs": []
    },
    {
      "cell_type": "code",
      "metadata": {
        "id": "TZDRUAttl_Fw"
      },
      "source": [
        "az.plot_trace(fit_model4,var_names=['~mu'], compact=False,legend=True)\n",
        "plt.show()"
      ],
      "execution_count": null,
      "outputs": []
    },
    {
      "cell_type": "markdown",
      "source": [
        "# <font color=\"darkblue\"> Another Model</font>\n",
        "\n",
        "All predictors are included\n",
        "\n",
        "<font color=\"darkgreen\">Recall\n",
        "\n",
        "1. id\t      identity number\n",
        "1. matage\t  maternal age (years)\n",
        "1. ht\t      hypertension (1=yes,\t0=no)\n",
        "1. gestwks\t  gestational age (weeks)\n",
        "1. sex\t      sex of the baby\n",
        "1. bweight\t  birthweight(g)\n",
        "1. matagegp  maternal age into four groups (<30, 30-34, 35-39, 40+)\n",
        "1. gestcat\t  gestwks into two groups (<37, >=37)\n",
        "\n",
        "- Either *matage* (numerical) or *matagegp* (categorical) can be used\n",
        "\n",
        "- Either *gestwks* (numerical) or *gestcat* (categorical) can be used\n",
        "\n",
        "- *ht, sex* are dichotomous\n",
        "\n",
        "- Build a model with all the predictors with the above observations\n",
        "\n",
        "$$\\mathrm{bweight}=\\beta_0+\\beta_1*matage+\\beta_2*ht+\\beta_3*gestwks+\\beta_4sex$$\n",
        "\n",
        "- Treat the categorical variables before modeling"
      ],
      "metadata": {
        "id": "CjSksxM4Nrvb"
      }
    },
    {
      "cell_type": "markdown",
      "source": [
        "# <font color=\"darkorange\">Treatment of Categorical variables\n",
        "\n",
        "In the model *ht* and *sex* are dichotomous\n",
        "\n"
      ],
      "metadata": {
        "id": "7R9HpMH8R3vJ"
      }
    },
    {
      "cell_type": "code",
      "source": [
        "brtwt_da['ht'] = brtwt_da['ht'].astype('category')\n",
        "brtwt_da['sex'] = brtwt_da['sex'].astype('category')"
      ],
      "metadata": {
        "id": "Q13hUEMcSRa-"
      },
      "execution_count": null,
      "outputs": []
    },
    {
      "cell_type": "code",
      "source": [
        "brtwt_da.boxplot(column = 'bweight',by = 'sex')\n",
        "plt.show()"
      ],
      "metadata": {
        "id": "Vgxs9y5Rpd0w"
      },
      "execution_count": null,
      "outputs": []
    },
    {
      "cell_type": "code",
      "source": [
        "brtwt_da=pd.get_dummies(brtwt_da, columns=['sex'], prefix = ['sex'])\n",
        "brtwt_da=pd.get_dummies(brtwt_da, columns=['ht'], prefix = ['ht'])"
      ],
      "metadata": {
        "id": "Yiz4Afu6ScK3"
      },
      "execution_count": null,
      "outputs": []
    },
    {
      "cell_type": "code",
      "source": [
        "brtwt_da.head()"
      ],
      "metadata": {
        "colab": {
          "base_uri": "https://localhost:8080/",
          "height": 206
        },
        "id": "oe8Uvd5jUSvX",
        "outputId": "0b00b88e-4c78-41aa-b2fb-8d673e8bc369"
      },
      "execution_count": null,
      "outputs": [
        {
          "output_type": "execute_result",
          "data": {
            "text/html": [
              "\n",
              "  <div id=\"df-59336583-6fd3-4504-8b52-a5a2a5ccdc6f\">\n",
              "    <div class=\"colab-df-container\">\n",
              "      <div>\n",
              "<style scoped>\n",
              "    .dataframe tbody tr th:only-of-type {\n",
              "        vertical-align: middle;\n",
              "    }\n",
              "\n",
              "    .dataframe tbody tr th {\n",
              "        vertical-align: top;\n",
              "    }\n",
              "\n",
              "    .dataframe thead th {\n",
              "        text-align: right;\n",
              "    }\n",
              "</style>\n",
              "<table border=\"1\" class=\"dataframe\">\n",
              "  <thead>\n",
              "    <tr style=\"text-align: right;\">\n",
              "      <th></th>\n",
              "      <th>id</th>\n",
              "      <th>matage</th>\n",
              "      <th>gestwks</th>\n",
              "      <th>bweight</th>\n",
              "      <th>matagegp</th>\n",
              "      <th>gestcat</th>\n",
              "      <th>sex_female</th>\n",
              "      <th>sex_male</th>\n",
              "      <th>ht_no</th>\n",
              "      <th>ht_yes</th>\n",
              "    </tr>\n",
              "  </thead>\n",
              "  <tbody>\n",
              "    <tr>\n",
              "      <th>0</th>\n",
              "      <td>1</td>\n",
              "      <td>33</td>\n",
              "      <td>37.740002</td>\n",
              "      <td>2410</td>\n",
              "      <td>2</td>\n",
              "      <td>2</td>\n",
              "      <td>1</td>\n",
              "      <td>0</td>\n",
              "      <td>1</td>\n",
              "      <td>0</td>\n",
              "    </tr>\n",
              "    <tr>\n",
              "      <th>1</th>\n",
              "      <td>2</td>\n",
              "      <td>34</td>\n",
              "      <td>39.150002</td>\n",
              "      <td>2977</td>\n",
              "      <td>2</td>\n",
              "      <td>2</td>\n",
              "      <td>1</td>\n",
              "      <td>0</td>\n",
              "      <td>1</td>\n",
              "      <td>0</td>\n",
              "    </tr>\n",
              "    <tr>\n",
              "      <th>2</th>\n",
              "      <td>3</td>\n",
              "      <td>34</td>\n",
              "      <td>35.720001</td>\n",
              "      <td>2100</td>\n",
              "      <td>2</td>\n",
              "      <td>1</td>\n",
              "      <td>1</td>\n",
              "      <td>0</td>\n",
              "      <td>1</td>\n",
              "      <td>0</td>\n",
              "    </tr>\n",
              "    <tr>\n",
              "      <th>3</th>\n",
              "      <td>4</td>\n",
              "      <td>30</td>\n",
              "      <td>39.290001</td>\n",
              "      <td>3270</td>\n",
              "      <td>2</td>\n",
              "      <td>2</td>\n",
              "      <td>0</td>\n",
              "      <td>1</td>\n",
              "      <td>1</td>\n",
              "      <td>0</td>\n",
              "    </tr>\n",
              "    <tr>\n",
              "      <th>4</th>\n",
              "      <td>5</td>\n",
              "      <td>35</td>\n",
              "      <td>38.380001</td>\n",
              "      <td>2620</td>\n",
              "      <td>3</td>\n",
              "      <td>2</td>\n",
              "      <td>1</td>\n",
              "      <td>0</td>\n",
              "      <td>1</td>\n",
              "      <td>0</td>\n",
              "    </tr>\n",
              "  </tbody>\n",
              "</table>\n",
              "</div>\n",
              "      <button class=\"colab-df-convert\" onclick=\"convertToInteractive('df-59336583-6fd3-4504-8b52-a5a2a5ccdc6f')\"\n",
              "              title=\"Convert this dataframe to an interactive table.\"\n",
              "              style=\"display:none;\">\n",
              "        \n",
              "  <svg xmlns=\"http://www.w3.org/2000/svg\" height=\"24px\"viewBox=\"0 0 24 24\"\n",
              "       width=\"24px\">\n",
              "    <path d=\"M0 0h24v24H0V0z\" fill=\"none\"/>\n",
              "    <path d=\"M18.56 5.44l.94 2.06.94-2.06 2.06-.94-2.06-.94-.94-2.06-.94 2.06-2.06.94zm-11 1L8.5 8.5l.94-2.06 2.06-.94-2.06-.94L8.5 2.5l-.94 2.06-2.06.94zm10 10l.94 2.06.94-2.06 2.06-.94-2.06-.94-.94-2.06-.94 2.06-2.06.94z\"/><path d=\"M17.41 7.96l-1.37-1.37c-.4-.4-.92-.59-1.43-.59-.52 0-1.04.2-1.43.59L10.3 9.45l-7.72 7.72c-.78.78-.78 2.05 0 2.83L4 21.41c.39.39.9.59 1.41.59.51 0 1.02-.2 1.41-.59l7.78-7.78 2.81-2.81c.8-.78.8-2.07 0-2.86zM5.41 20L4 18.59l7.72-7.72 1.47 1.35L5.41 20z\"/>\n",
              "  </svg>\n",
              "      </button>\n",
              "      \n",
              "  <style>\n",
              "    .colab-df-container {\n",
              "      display:flex;\n",
              "      flex-wrap:wrap;\n",
              "      gap: 12px;\n",
              "    }\n",
              "\n",
              "    .colab-df-convert {\n",
              "      background-color: #E8F0FE;\n",
              "      border: none;\n",
              "      border-radius: 50%;\n",
              "      cursor: pointer;\n",
              "      display: none;\n",
              "      fill: #1967D2;\n",
              "      height: 32px;\n",
              "      padding: 0 0 0 0;\n",
              "      width: 32px;\n",
              "    }\n",
              "\n",
              "    .colab-df-convert:hover {\n",
              "      background-color: #E2EBFA;\n",
              "      box-shadow: 0px 1px 2px rgba(60, 64, 67, 0.3), 0px 1px 3px 1px rgba(60, 64, 67, 0.15);\n",
              "      fill: #174EA6;\n",
              "    }\n",
              "\n",
              "    [theme=dark] .colab-df-convert {\n",
              "      background-color: #3B4455;\n",
              "      fill: #D2E3FC;\n",
              "    }\n",
              "\n",
              "    [theme=dark] .colab-df-convert:hover {\n",
              "      background-color: #434B5C;\n",
              "      box-shadow: 0px 1px 3px 1px rgba(0, 0, 0, 0.15);\n",
              "      filter: drop-shadow(0px 1px 2px rgba(0, 0, 0, 0.3));\n",
              "      fill: #FFFFFF;\n",
              "    }\n",
              "  </style>\n",
              "\n",
              "      <script>\n",
              "        const buttonEl =\n",
              "          document.querySelector('#df-59336583-6fd3-4504-8b52-a5a2a5ccdc6f button.colab-df-convert');\n",
              "        buttonEl.style.display =\n",
              "          google.colab.kernel.accessAllowed ? 'block' : 'none';\n",
              "\n",
              "        async function convertToInteractive(key) {\n",
              "          const element = document.querySelector('#df-59336583-6fd3-4504-8b52-a5a2a5ccdc6f');\n",
              "          const dataTable =\n",
              "            await google.colab.kernel.invokeFunction('convertToInteractive',\n",
              "                                                     [key], {});\n",
              "          if (!dataTable) return;\n",
              "\n",
              "          const docLinkHtml = 'Like what you see? Visit the ' +\n",
              "            '<a target=\"_blank\" href=https://colab.research.google.com/notebooks/data_table.ipynb>data table notebook</a>'\n",
              "            + ' to learn more about interactive tables.';\n",
              "          element.innerHTML = '';\n",
              "          dataTable['output_type'] = 'display_data';\n",
              "          await google.colab.output.renderOutput(dataTable, element);\n",
              "          const docLink = document.createElement('div');\n",
              "          docLink.innerHTML = docLinkHtml;\n",
              "          element.appendChild(docLink);\n",
              "        }\n",
              "      </script>\n",
              "    </div>\n",
              "  </div>\n",
              "  "
            ],
            "text/plain": [
              "   id  matage    gestwks  bweight  ...  sex_female  sex_male  ht_no  ht_yes\n",
              "0   1      33  37.740002     2410  ...           1         0      1       0\n",
              "1   2      34  39.150002     2977  ...           1         0      1       0\n",
              "2   3      34  35.720001     2100  ...           1         0      1       0\n",
              "3   4      30  39.290001     3270  ...           0         1      1       0\n",
              "4   5      35  38.380001     2620  ...           1         0      1       0\n",
              "\n",
              "[5 rows x 10 columns]"
            ]
          },
          "metadata": {},
          "execution_count": 11
        }
      ]
    },
    {
      "cell_type": "code",
      "source": [
        "brtwt_code5 = \"\"\"\n",
        "data {\n",
        "    real a_i;\n",
        "    real<lower=0> b_i;\n",
        "    real a_p1;\n",
        "    real<lower=0> b_p1;\n",
        "    real a_p2;\n",
        "    real<lower=0> b_p2;\n",
        "    real a_p3;\n",
        "    real<lower=0> b_p3;\n",
        "    real a_p4;\n",
        "    real<lower=0> b_p4;\n",
        "    real<lower=0> g1;\n",
        "    real<lower=0> g2;\n",
        "    int<lower=0> n;\n",
        "    real y[n];\n",
        "    vector[n] x1;\n",
        "    vector[n] x2;\n",
        "    vector[n] x3;\n",
        "    vector[n] x4;\n",
        "}\n",
        "\n",
        "parameters {\n",
        "    real b0;\n",
        "    real b1;\n",
        "    real b2;\n",
        "    real b3;\n",
        "    real b4;\n",
        "    real<lower=0> sig;\n",
        "}\n",
        "\n",
        "transformed parameters {\n",
        "  vector[n] mu;\n",
        "  real<lower=0> tau;\n",
        "  mu=b0+b1*x1+b2*x2+b3*x3+b4*x4;\n",
        "  tau=(1/sig)^2;\n",
        "}\n",
        "\n",
        "model {\n",
        "      y ~ normal(mu, sig);\n",
        "      b0 ~ normal(a_i, b_i);\n",
        "      b1 ~ normal(a_p1, b_p1);\n",
        "      b2 ~ normal(a_p2, b_p2);\n",
        "      b3 ~ normal(a_p3, b_p3);\n",
        "      b4 ~ normal(a_p4, b_p4);\n",
        "      tau ~ gamma(g1,g2);\n",
        "}\n",
        "\"\"\"\n",
        "# posterior\n",
        "posterior5 = pystan.StanModel(model_code=brtwt_code5)"
      ],
      "metadata": {
        "colab": {
          "base_uri": "https://localhost:8080/"
        },
        "outputId": "a647d81d-6027-402b-e0fb-26211fd7c42b",
        "id": "kXNPo9P7TMkD"
      },
      "execution_count": null,
      "outputs": [
        {
          "output_type": "stream",
          "name": "stderr",
          "text": [
            "INFO:pystan:COMPILING THE C++ CODE FOR MODEL anon_model_220abeb358130518201de4cb8461ccc2 NOW.\n"
          ]
        }
      ]
    },
    {
      "cell_type": "code",
      "metadata": {
        "id": "Qb1A-KJnUGLf"
      },
      "source": [
        "brtwt_data5 = {\n",
        "             'n': len(brtwt_da),\n",
        "             'x1': brtwt_da['matage'],\n",
        "             'x2': brtwt_da['ht_yes'],\n",
        "             'x3': brtwt_da['gestwks'],\n",
        "             'x4': brtwt_da['sex_male'],\n",
        "             'y': brtwt_da['bweight'],\n",
        "             'a_i':3000,\n",
        "             'b_i':20,\n",
        "             'a_p1':100,\n",
        "             'b_p1':10,\n",
        "             'a_p2':100,\n",
        "             'b_p2':10,\n",
        "             'a_p3':100,\n",
        "             'b_p3':10,\n",
        "             'a_p4':100,\n",
        "             'b_p4':10,\n",
        "             'g1':3,\n",
        "             'g2':1,\n",
        "            }\n",
        "print(brtwt_data5)"
      ],
      "execution_count": null,
      "outputs": []
    },
    {
      "cell_type": "code",
      "source": [
        "fit_model5= posterior5.sampling(data=brtwt_data5,\n",
        "                  iter=10000,\n",
        "                  chains=4,\n",
        "                  seed=1,\n",
        "                  warmup=3000,\n",
        "                  thin=1,\n",
        "                  control={\"max_treedepth\":15,\"adapt_delta\" : 0.9999})"
      ],
      "metadata": {
        "id": "2rpfzFFfWeZq"
      },
      "execution_count": null,
      "outputs": []
    },
    {
      "cell_type": "code",
      "metadata": {
        "colab": {
          "base_uri": "https://localhost:8080/",
          "height": 237
        },
        "id": "9kSKMFG0Z50v",
        "outputId": "4c6188a6-2fc5-4bb6-87f4-5363f632e6b1"
      },
      "source": [
        "summ_mod5=az.summary(fit_model5,var_names=['~mu','~tau'],round_to=3,hdi_prob=0.95)\n",
        "summ_mod5"
      ],
      "execution_count": null,
      "outputs": [
        {
          "output_type": "execute_result",
          "data": {
            "text/html": [
              "\n",
              "  <div id=\"df-b3e67c16-e3b6-4f5f-919f-44398b3a2f68\">\n",
              "    <div class=\"colab-df-container\">\n",
              "      <div>\n",
              "<style scoped>\n",
              "    .dataframe tbody tr th:only-of-type {\n",
              "        vertical-align: middle;\n",
              "    }\n",
              "\n",
              "    .dataframe tbody tr th {\n",
              "        vertical-align: top;\n",
              "    }\n",
              "\n",
              "    .dataframe thead th {\n",
              "        text-align: right;\n",
              "    }\n",
              "</style>\n",
              "<table border=\"1\" class=\"dataframe\">\n",
              "  <thead>\n",
              "    <tr style=\"text-align: right;\">\n",
              "      <th></th>\n",
              "      <th>mean</th>\n",
              "      <th>sd</th>\n",
              "      <th>hdi_2.5%</th>\n",
              "      <th>hdi_97.5%</th>\n",
              "      <th>mcse_mean</th>\n",
              "      <th>mcse_sd</th>\n",
              "      <th>ess_bulk</th>\n",
              "      <th>ess_tail</th>\n",
              "      <th>r_hat</th>\n",
              "    </tr>\n",
              "  </thead>\n",
              "  <tbody>\n",
              "    <tr>\n",
              "      <th>b0</th>\n",
              "      <td>2975.568</td>\n",
              "      <td>20.019</td>\n",
              "      <td>2936.017</td>\n",
              "      <td>3014.253</td>\n",
              "      <td>0.129</td>\n",
              "      <td>0.092</td>\n",
              "      <td>23915.740</td>\n",
              "      <td>18532.908</td>\n",
              "      <td>1.0</td>\n",
              "    </tr>\n",
              "    <tr>\n",
              "      <th>b1</th>\n",
              "      <td>-27.257</td>\n",
              "      <td>4.560</td>\n",
              "      <td>-36.518</td>\n",
              "      <td>-18.601</td>\n",
              "      <td>0.039</td>\n",
              "      <td>0.028</td>\n",
              "      <td>13550.637</td>\n",
              "      <td>15351.864</td>\n",
              "      <td>1.0</td>\n",
              "    </tr>\n",
              "    <tr>\n",
              "      <th>b2</th>\n",
              "      <td>88.792</td>\n",
              "      <td>9.837</td>\n",
              "      <td>69.500</td>\n",
              "      <td>108.029</td>\n",
              "      <td>0.062</td>\n",
              "      <td>0.044</td>\n",
              "      <td>25159.205</td>\n",
              "      <td>20036.615</td>\n",
              "      <td>1.0</td>\n",
              "    </tr>\n",
              "    <tr>\n",
              "      <th>b3</th>\n",
              "      <td>27.222</td>\n",
              "      <td>4.054</td>\n",
              "      <td>19.210</td>\n",
              "      <td>35.078</td>\n",
              "      <td>0.035</td>\n",
              "      <td>0.025</td>\n",
              "      <td>13650.003</td>\n",
              "      <td>15041.404</td>\n",
              "      <td>1.0</td>\n",
              "    </tr>\n",
              "    <tr>\n",
              "      <th>b4</th>\n",
              "      <td>100.048</td>\n",
              "      <td>9.784</td>\n",
              "      <td>81.428</td>\n",
              "      <td>119.840</td>\n",
              "      <td>0.062</td>\n",
              "      <td>0.044</td>\n",
              "      <td>25304.573</td>\n",
              "      <td>18835.627</td>\n",
              "      <td>1.0</td>\n",
              "    </tr>\n",
              "    <tr>\n",
              "      <th>sig</th>\n",
              "      <td>624.062</td>\n",
              "      <td>17.664</td>\n",
              "      <td>589.071</td>\n",
              "      <td>658.161</td>\n",
              "      <td>0.116</td>\n",
              "      <td>0.082</td>\n",
              "      <td>23466.353</td>\n",
              "      <td>17259.956</td>\n",
              "      <td>1.0</td>\n",
              "    </tr>\n",
              "  </tbody>\n",
              "</table>\n",
              "</div>\n",
              "      <button class=\"colab-df-convert\" onclick=\"convertToInteractive('df-b3e67c16-e3b6-4f5f-919f-44398b3a2f68')\"\n",
              "              title=\"Convert this dataframe to an interactive table.\"\n",
              "              style=\"display:none;\">\n",
              "        \n",
              "  <svg xmlns=\"http://www.w3.org/2000/svg\" height=\"24px\"viewBox=\"0 0 24 24\"\n",
              "       width=\"24px\">\n",
              "    <path d=\"M0 0h24v24H0V0z\" fill=\"none\"/>\n",
              "    <path d=\"M18.56 5.44l.94 2.06.94-2.06 2.06-.94-2.06-.94-.94-2.06-.94 2.06-2.06.94zm-11 1L8.5 8.5l.94-2.06 2.06-.94-2.06-.94L8.5 2.5l-.94 2.06-2.06.94zm10 10l.94 2.06.94-2.06 2.06-.94-2.06-.94-.94-2.06-.94 2.06-2.06.94z\"/><path d=\"M17.41 7.96l-1.37-1.37c-.4-.4-.92-.59-1.43-.59-.52 0-1.04.2-1.43.59L10.3 9.45l-7.72 7.72c-.78.78-.78 2.05 0 2.83L4 21.41c.39.39.9.59 1.41.59.51 0 1.02-.2 1.41-.59l7.78-7.78 2.81-2.81c.8-.78.8-2.07 0-2.86zM5.41 20L4 18.59l7.72-7.72 1.47 1.35L5.41 20z\"/>\n",
              "  </svg>\n",
              "      </button>\n",
              "      \n",
              "  <style>\n",
              "    .colab-df-container {\n",
              "      display:flex;\n",
              "      flex-wrap:wrap;\n",
              "      gap: 12px;\n",
              "    }\n",
              "\n",
              "    .colab-df-convert {\n",
              "      background-color: #E8F0FE;\n",
              "      border: none;\n",
              "      border-radius: 50%;\n",
              "      cursor: pointer;\n",
              "      display: none;\n",
              "      fill: #1967D2;\n",
              "      height: 32px;\n",
              "      padding: 0 0 0 0;\n",
              "      width: 32px;\n",
              "    }\n",
              "\n",
              "    .colab-df-convert:hover {\n",
              "      background-color: #E2EBFA;\n",
              "      box-shadow: 0px 1px 2px rgba(60, 64, 67, 0.3), 0px 1px 3px 1px rgba(60, 64, 67, 0.15);\n",
              "      fill: #174EA6;\n",
              "    }\n",
              "\n",
              "    [theme=dark] .colab-df-convert {\n",
              "      background-color: #3B4455;\n",
              "      fill: #D2E3FC;\n",
              "    }\n",
              "\n",
              "    [theme=dark] .colab-df-convert:hover {\n",
              "      background-color: #434B5C;\n",
              "      box-shadow: 0px 1px 3px 1px rgba(0, 0, 0, 0.15);\n",
              "      filter: drop-shadow(0px 1px 2px rgba(0, 0, 0, 0.3));\n",
              "      fill: #FFFFFF;\n",
              "    }\n",
              "  </style>\n",
              "\n",
              "      <script>\n",
              "        const buttonEl =\n",
              "          document.querySelector('#df-b3e67c16-e3b6-4f5f-919f-44398b3a2f68 button.colab-df-convert');\n",
              "        buttonEl.style.display =\n",
              "          google.colab.kernel.accessAllowed ? 'block' : 'none';\n",
              "\n",
              "        async function convertToInteractive(key) {\n",
              "          const element = document.querySelector('#df-b3e67c16-e3b6-4f5f-919f-44398b3a2f68');\n",
              "          const dataTable =\n",
              "            await google.colab.kernel.invokeFunction('convertToInteractive',\n",
              "                                                     [key], {});\n",
              "          if (!dataTable) return;\n",
              "\n",
              "          const docLinkHtml = 'Like what you see? Visit the ' +\n",
              "            '<a target=\"_blank\" href=https://colab.research.google.com/notebooks/data_table.ipynb>data table notebook</a>'\n",
              "            + ' to learn more about interactive tables.';\n",
              "          element.innerHTML = '';\n",
              "          dataTable['output_type'] = 'display_data';\n",
              "          await google.colab.output.renderOutput(dataTable, element);\n",
              "          const docLink = document.createElement('div');\n",
              "          docLink.innerHTML = docLinkHtml;\n",
              "          element.appendChild(docLink);\n",
              "        }\n",
              "      </script>\n",
              "    </div>\n",
              "  </div>\n",
              "  "
            ],
            "text/plain": [
              "         mean      sd  hdi_2.5%  ...   ess_bulk   ess_tail  r_hat\n",
              "b0   2975.568  20.019  2936.017  ...  23915.740  18532.908    1.0\n",
              "b1    -27.257   4.560   -36.518  ...  13550.637  15351.864    1.0\n",
              "b2     88.792   9.837    69.500  ...  25159.205  20036.615    1.0\n",
              "b3     27.222   4.054    19.210  ...  13650.003  15041.404    1.0\n",
              "b4    100.048   9.784    81.428  ...  25304.573  18835.627    1.0\n",
              "sig   624.062  17.664   589.071  ...  23466.353  17259.956    1.0\n",
              "\n",
              "[6 rows x 9 columns]"
            ]
          },
          "metadata": {},
          "execution_count": 19
        }
      ]
    },
    {
      "cell_type": "code",
      "metadata": {
        "id": "z88iBjqAZ502"
      },
      "source": [
        "az.plot_trace(fit_model4,var_names=['~mu'], compact=False,legend=True)\n",
        "plt.show()"
      ],
      "execution_count": null,
      "outputs": []
    },
    {
      "cell_type": "markdown",
      "source": [
        "#<font color=\"darkblue\"> Final Thoughts - Normal Model\n",
        "\n",
        "1. The QoI is a numeric then we would prefer to model with Normal distribution\n",
        "\n",
        "1. A linear model can be explored with Normal priors for weights associated with predictors\n",
        "\n",
        "1. A Gamma prior can be considered for precision associated with error model\n",
        "\n",
        "1. **Outcome Analysis**\n",
        "\n",
        "  1. Intercept / Constant: Mean of response when there is no predictor (Null model) or mean of response variable accounting constant values for the predictors\n",
        "\n",
        "  1. Weights associated with Predictors\n",
        "\n",
        "    - If the predictor is numeric, then corresponding $\\beta$ estimates the rate of change in mean of response with the change in the predictor.\n",
        "\n",
        "    - If the predictor is a dichotomous, $\\beta$ estimates the difference in the mean response between base and other level\n",
        "\n",
        "    - If the predictor is a polychotomous, $\\beta$ estimates the difference in the mean response between base and other level\n",
        "\n",
        "1. Bayesian Advantage\n",
        "\n",
        "  - Posterior probabilities would help to assess the characteristics of $\\beta$ related to a predictor\n",
        "\n",
        "  - The probability  $Pr[-ϵ<\\beta<ϵ]$ $(ϵ>0$ and $ϵ→0,$ a small positive number$)$ measures closeness of $\\beta$ to zero. If this is negligible, it weighs the need and relevance of the corresponding predictor\n",
        "\n",
        "  - User friendly Interepretability of weights and its uncertainty in terms of posterior probabiliteis"
      ],
      "metadata": {
        "id": "yu0-RLbqHDYi"
      }
    }
  ]
}