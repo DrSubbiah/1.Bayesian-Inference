{
  "nbformat": 4,
  "nbformat_minor": 0,
  "metadata": {
    "colab": {
      "provenance": [],
      "authorship_tag": "ABX9TyNb7shWpxW3R11EzyesIYQ7",
      "include_colab_link": true
    },
    "kernelspec": {
      "name": "python3",
      "display_name": "Python 3"
    },
    "language_info": {
      "name": "python"
    }
  },
  "cells": [
    {
      "cell_type": "markdown",
      "metadata": {
        "id": "view-in-github",
        "colab_type": "text"
      },
      "source": [
        "<a href=\"https://colab.research.google.com/github/DrSubbiah/1.Bayesian-Inference/blob/master/Untitled0.ipynb\" target=\"_parent\"><img src=\"https://colab.research.google.com/assets/colab-badge.svg\" alt=\"Open In Colab\"/></a>"
      ]
    },
    {
      "cell_type": "code",
      "execution_count": null,
      "metadata": {
        "id": "MmRqOkGAjnpV"
      },
      "outputs": [],
      "source": []
    },
    {
      "cell_type": "markdown",
      "source": [
        "# <font color = \"blue\"> Mathematics Symbol\n",
        "\n",
        "$\\mu = \\frac{\\sigma_i^2}{ 1+ \\nu^2} $\n",
        "\n",
        ";eofkes;ldkfldskfdvd:SV'dSLV';DLV\":DLSV';dLV';dlV;'DL\n",
        ";vdskvj\"DLSV\"\n",
        "\n",
        "1. gkjfd/lajf;lagfks;d\n",
        "\n",
        "1. ;kvjfdlkvjdf;lj\n",
        "\n",
        "* fkds;lkd;ajfrlkjg;\n",
        "\n",
        "* oiurti;oweuognbvke;\n"
      ],
      "metadata": {
        "id": "pIT8f7AGkHgq"
      }
    }
  ]
}